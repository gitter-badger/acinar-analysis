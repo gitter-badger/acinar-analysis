{
 "cells": [
  {
   "cell_type": "markdown",
   "metadata": {},
   "source": [
    "# Get dataset size"
   ]
  },
  {
   "cell_type": "code",
   "execution_count": 222,
   "metadata": {
    "collapsed": true
   },
   "outputs": [],
   "source": [
    "import platform\n",
    "import glob\n",
    "import os\n",
    "import pandas"
   ]
  },
  {
   "cell_type": "code",
   "execution_count": 223,
   "metadata": {
    "collapsed": true
   },
   "outputs": [],
   "source": [
    "def get_git_hash():\n",
    "    \"\"\"\n",
    "    Get the current git hash from the repository.\n",
    "    Based on http://stackoverflow.com/a/949391/323100 and\n",
    "    http://stackoverflow.com/a/18283905/323100\n",
    "    \"\"\"\n",
    "    from subprocess import Popen, PIPE\n",
    "    import os\n",
    "    gitprocess = Popen(['git', '--git-dir', os.path.join(os.getcwd(), '.git'),\n",
    "                        'rev-parse', '--short', '--verify', 'HEAD'],\n",
    "                       stdout=PIPE)\n",
    "    (output, _) = gitprocess.communicate()\n",
    "    return output.strip().decode(\"utf-8\")"
   ]
  },
  {
   "cell_type": "code",
   "execution_count": 224,
   "metadata": {},
   "outputs": [
    {
     "name": "stdout",
     "output_type": "stream",
     "text": [
      "We are working with version 3d9f4fe of the analyis notebook\n"
     ]
    }
   ],
   "source": [
    "the_current_git_hash = get_git_hash()\n",
    "print('We are working with version %s of the analyis notebook'\n",
    "      % the_current_git_hash)"
   ]
  },
  {
   "cell_type": "markdown",
   "metadata": {},
   "source": [
    "Now we load the 'Count' data from Eveline."
   ]
  },
  {
   "cell_type": "code",
   "execution_count": 226,
   "metadata": {},
   "outputs": [
    {
     "name": "stdout",
     "output_type": "stream",
     "text": [
      "We are loading all the data from /home/habi/nas_gruppe_schittny/doc/David\n"
     ]
    }
   ],
   "source": [
    "# Different locations if running either on Linux or Windows\n",
    "if 'debian' in platform.dist():\n",
    "    drive = os.path.join(os.sep, 'home', 'habi', 'nas_gruppe_schittny')\n",
    "else:\n",
    "    drive = os.path.join('\\\\\\\\nas.ana.unibe.ch\\\\', 'gruppe_schittny', 'Data')\n",
    "# Load the data from this folder\n",
    "RootPath = os.path.join(drive, 'doc', 'David')\n",
    "print('We are loading all the data from %s' % RootPath)"
   ]
  },
  {
   "cell_type": "code",
   "execution_count": 227,
   "metadata": {
    "collapsed": true
   },
   "outputs": [],
   "source": [
    "# Get a list of *all* excel files that Eveline exported from the STEPanizer\n",
    "# Based on https://stackoverflow.com/a/14798263\n",
    "StepanizerFiles = sorted(glob.glob(os.path.join(RootPath, 'Eveline', '**/*.xls'), recursive=True))"
   ]
  },
  {
   "cell_type": "code",
   "execution_count": 228,
   "metadata": {},
   "outputs": [
    {
     "name": "stdout",
     "output_type": "stream",
     "text": [
      "Eveline counted the alveoli in 291 acini\n"
     ]
    }
   ],
   "source": [
    "print('Eveline counted the alveoli in %s acini' % len(StepanizerFiles))"
   ]
  },
  {
   "cell_type": "code",
   "execution_count": 246,
   "metadata": {
    "collapsed": true
   },
   "outputs": [],
   "source": [
    "Animals = [os.path.basename(f).split('_R108C')[1].split('mrg-')[0][:3] for f in StepanizerFiles]  # all animals\n",
    "Animals = sorted(list(set(Animals)))  # unique ones: https://stackoverflow.com/a/27305828/323100"
   ]
  },
  {
   "cell_type": "code",
   "execution_count": 247,
   "metadata": {},
   "outputs": [
    {
     "name": "stdout",
     "output_type": "stream",
     "text": [
      "Eveline assessed these animals\n",
      "- 04A\n",
      "- 04B\n",
      "- 04C\n",
      "- 10A\n",
      "- 10B\n",
      "- 10C\n",
      "- 21B\n",
      "- 21D\n",
      "- 21E\n",
      "- 60B\n",
      "- 60C\n",
      "- 60D\n",
      "- 60E\n"
     ]
    }
   ],
   "source": [
    "print('Eveline assessed these animals')\n",
    "for anml in Animals:\n",
    "    print('-', anml)"
   ]
  },
  {
   "cell_type": "markdown",
   "metadata": {},
   "source": [
    "Look for the reconstructions on `anatera4`, where we still have all the original files."
   ]
  },
  {
   "cell_type": "code",
   "execution_count": 248,
   "metadata": {},
   "outputs": [
    {
     "name": "stdout",
     "output_type": "stream",
     "text": [
      "We are loading all the data from /run/user/1000/gvfs/smb-share:server=anatera4,share=share/SLS\n"
     ]
    }
   ],
   "source": [
    "# Different locations if running either on Linux or Windows\n",
    "if 'debian' in platform.dist():\n",
    "    drive = '/run/user/1000/gvfs/smb-share:server=anatera4,share='\n",
    "else:\n",
    "    drive = '\\\\\\\\anatera4\\\\'\n",
    "# Load the data from this folder\n",
    "terastation = drive + os.path.join('share', 'SLS')\n",
    "print('We are loading all the data from %s' % terastation)"
   ]
  },
  {
   "cell_type": "code",
   "execution_count": 249,
   "metadata": {},
   "outputs": [],
   "source": [
    "# Read the data from other notebook\n",
    "VolumesFromDisk = pandas.read_pickle('VolumesFromDisk.pkl')"
   ]
  },
  {
   "cell_type": "code",
   "execution_count": 250,
   "metadata": {},
   "outputs": [],
   "source": [
    "# Get the unique sample directories in one step (see https://stackoverflow.com/a/26032781/323100)\n",
    "SampleDirectories = {os.path.dirname(i) for i in VolumesFromDisk.Location_Volume.unique()}"
   ]
  },
  {
   "cell_type": "code",
   "execution_count": 251,
   "metadata": {},
   "outputs": [],
   "source": [
    "# Get the unique beamtime folders in one step\n",
    "BeamtimeDirectories = {os.path.dirname(i) for i in SampleDirectories}"
   ]
  },
  {
   "cell_type": "code",
   "execution_count": 121,
   "metadata": {},
   "outputs": [],
   "source": [
    "# Get *all* sample folders\n",
    "SampleFolders=[]\n",
    "for i in BeamtimeDirectories:\n",
    "    for root, directories, files in os.walk(i):\n",
    "        for directory in sorted(directories):\n",
    "            for animal in Animals:\n",
    "                if str('C' + animal) in directory:\n",
    "                    SampleFolders.append(os.path.join(root, directory))"
   ]
  },
  {
   "cell_type": "code",
   "execution_count": 189,
   "metadata": {},
   "outputs": [],
   "source": [
    "DataDetails = pandas.DataFrame()\n",
    "DataDetails['Location'] = SampleFolders\n",
    "DataDetails['Sample'] = [os.path.basename(s) for s in SampleFolders]"
   ]
  },
  {
   "cell_type": "code",
   "execution_count": 191,
   "metadata": {
    "collapsed": true
   },
   "outputs": [],
   "source": [
    "DataDetails['Reconstructions'] = [glob.glob(os.path.join(l, '*rec*bit*', '*.tif')) for l in DataDetails['Location']]"
   ]
  },
  {
   "cell_type": "code",
   "execution_count": 192,
   "metadata": {
    "collapsed": true
   },
   "outputs": [],
   "source": [
    "DataDetails['Sizes'] = [[os.stat(rec).st_size for rec in recs] for recs in DataDetails['Reconstructions']]"
   ]
  },
  {
   "cell_type": "code",
   "execution_count": 200,
   "metadata": {},
   "outputs": [],
   "source": [
    "DataDetails['TotalSize'] = [sum(sizes) for sizes in DataDetails['Sizes']]"
   ]
  },
  {
   "cell_type": "code",
   "execution_count": 252,
   "metadata": {},
   "outputs": [
    {
     "data": {
      "text/html": [
       "<div>\n",
       "<style>\n",
       "    .dataframe thead tr:only-child th {\n",
       "        text-align: right;\n",
       "    }\n",
       "\n",
       "    .dataframe thead th {\n",
       "        text-align: left;\n",
       "    }\n",
       "\n",
       "    .dataframe tbody tr th {\n",
       "        vertical-align: top;\n",
       "    }\n",
       "</style>\n",
       "<table border=\"1\" class=\"dataframe\">\n",
       "  <thead>\n",
       "    <tr style=\"text-align: right;\">\n",
       "      <th></th>\n",
       "      <th>Location</th>\n",
       "      <th>Sample</th>\n",
       "      <th>Reconstructions</th>\n",
       "      <th>Sizes</th>\n",
       "      <th>TotalSize</th>\n",
       "    </tr>\n",
       "  </thead>\n",
       "  <tbody>\n",
       "    <tr>\n",
       "      <th>0</th>\n",
       "      <td>/run/user/1000/gvfs/smb-share:server=anatera4,...</td>\n",
       "      <td>R108C04Ab-mrg</td>\n",
       "      <td>[/run/user/1000/gvfs/smb-share:server=anatera4...</td>\n",
       "      <td>[8620294, 8620294, 8620294, 8620294, 8620294, ...</td>\n",
       "      <td>8827181056</td>\n",
       "    </tr>\n",
       "    <tr>\n",
       "      <th>1</th>\n",
       "      <td>/run/user/1000/gvfs/smb-share:server=anatera4,...</td>\n",
       "      <td>R108C04At-mrg</td>\n",
       "      <td>[/run/user/1000/gvfs/smb-share:server=anatera4...</td>\n",
       "      <td>[8620294, 8620294, 8620294, 8620294, 8620294, ...</td>\n",
       "      <td>8827181056</td>\n",
       "    </tr>\n",
       "    <tr>\n",
       "      <th>2</th>\n",
       "      <td>/run/user/1000/gvfs/smb-share:server=anatera4,...</td>\n",
       "      <td>R108C04Bb-mrg</td>\n",
       "      <td>[/run/user/1000/gvfs/smb-share:server=anatera4...</td>\n",
       "      <td>[8596822, 8596822, 8596822, 8596822, 8596822, ...</td>\n",
       "      <td>8803145728</td>\n",
       "    </tr>\n",
       "    <tr>\n",
       "      <th>3</th>\n",
       "      <td>/run/user/1000/gvfs/smb-share:server=anatera4,...</td>\n",
       "      <td>R108C04Bt-mrg</td>\n",
       "      <td>[/run/user/1000/gvfs/smb-share:server=anatera4...</td>\n",
       "      <td>[8596822, 8596822, 8596822, 8596822, 8596822, ...</td>\n",
       "      <td>8803145728</td>\n",
       "    </tr>\n",
       "    <tr>\n",
       "      <th>4</th>\n",
       "      <td>/run/user/1000/gvfs/smb-share:server=anatera4,...</td>\n",
       "      <td>R108C04Cb-mrg</td>\n",
       "      <td>[/run/user/1000/gvfs/smb-share:server=anatera4...</td>\n",
       "      <td>[8608554, 8608554, 8608554, 8608554, 8608554, ...</td>\n",
       "      <td>8815159296</td>\n",
       "    </tr>\n",
       "  </tbody>\n",
       "</table>\n",
       "</div>"
      ],
      "text/plain": [
       "                                            Location         Sample  \\\n",
       "0  /run/user/1000/gvfs/smb-share:server=anatera4,...  R108C04Ab-mrg   \n",
       "1  /run/user/1000/gvfs/smb-share:server=anatera4,...  R108C04At-mrg   \n",
       "2  /run/user/1000/gvfs/smb-share:server=anatera4,...  R108C04Bb-mrg   \n",
       "3  /run/user/1000/gvfs/smb-share:server=anatera4,...  R108C04Bt-mrg   \n",
       "4  /run/user/1000/gvfs/smb-share:server=anatera4,...  R108C04Cb-mrg   \n",
       "\n",
       "                                     Reconstructions  \\\n",
       "0  [/run/user/1000/gvfs/smb-share:server=anatera4...   \n",
       "1  [/run/user/1000/gvfs/smb-share:server=anatera4...   \n",
       "2  [/run/user/1000/gvfs/smb-share:server=anatera4...   \n",
       "3  [/run/user/1000/gvfs/smb-share:server=anatera4...   \n",
       "4  [/run/user/1000/gvfs/smb-share:server=anatera4...   \n",
       "\n",
       "                                               Sizes   TotalSize  \n",
       "0  [8620294, 8620294, 8620294, 8620294, 8620294, ...  8827181056  \n",
       "1  [8620294, 8620294, 8620294, 8620294, 8620294, ...  8827181056  \n",
       "2  [8596822, 8596822, 8596822, 8596822, 8596822, ...  8803145728  \n",
       "3  [8596822, 8596822, 8596822, 8596822, 8596822, ...  8803145728  \n",
       "4  [8608554, 8608554, 8608554, 8608554, 8608554, ...  8815159296  "
      ]
     },
     "execution_count": 252,
     "metadata": {},
     "output_type": "execute_result"
    }
   ],
   "source": [
    "DataDetails.head()"
   ]
  },
  {
   "cell_type": "code",
   "execution_count": 253,
   "metadata": {},
   "outputs": [
    {
     "name": "stdout",
     "output_type": "stream",
     "text": [
      "Totally, all reconstructions are 407.52 GB in size\n"
     ]
    }
   ],
   "source": [
    "print('Totally, all reconstructions are', round(1e-9 * float(DataDetails.TotalSize.sum()), 2), 'GB in size')"
   ]
  },
  {
   "cell_type": "code",
   "execution_count": null,
   "metadata": {
    "collapsed": true
   },
   "outputs": [],
   "source": []
  }
 ],
 "metadata": {
  "anaconda-cloud": {},
  "kernelspec": {
   "display_name": "Python 3",
   "language": "python",
   "name": "python3"
  },
  "language_info": {
   "codemirror_mode": {
    "name": "ipython",
    "version": 3
   },
   "file_extension": ".py",
   "mimetype": "text/x-python",
   "name": "python",
   "nbconvert_exporter": "python",
   "pygments_lexer": "ipython3",
   "version": "3.6.1"
  }
 },
 "nbformat": 4,
 "nbformat_minor": 1
}
