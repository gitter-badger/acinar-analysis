{
 "cells": [
  {
   "cell_type": "markdown",
   "metadata": {},
   "source": [
    "# Disector volumes\n",
    "Read the newly counted disector volumes"
   ]
  },
  {
   "cell_type": "code",
   "execution_count": 1,
   "metadata": {
    "collapsed": true
   },
   "outputs": [],
   "source": [
    "#Load the data and set up notebook\n",
    "import platform\n",
    "import glob\n",
    "import os\n",
    "import pandas\n",
    "import matplotlib.pyplot as plt\n",
    "%matplotlib inline\n",
    "import seaborn"
   ]
  },
  {
   "cell_type": "code",
   "execution_count": 2,
   "metadata": {
    "collapsed": true
   },
   "outputs": [],
   "source": [
    "plt.rc('image', cmap='gray', interpolation='nearest')  # Display all images in b&w\n",
    "plt.rcParams['figure.figsize'] = (16, 9)  # Size up figures a bit\n",
    "plt.rcParams['savefig.transparent'] = True  # Save figures with transparent background"
   ]
  },
  {
   "cell_type": "code",
   "execution_count": 3,
   "metadata": {},
   "outputs": [
    {
     "name": "stdout",
     "output_type": "stream",
     "text": [
      "We are loading all the data from /media/habi/Fast_SSD/Acini\n"
     ]
    }
   ],
   "source": [
    "# We copied everything from nas_schittny and the terastation to 'fast SSD'.\n",
    "# Load the data from there\n",
    "if 'debian' in platform.dist():\n",
    "    drive = '/media/habi/Fast_SSD/'\n",
    "else:\n",
    "    drive = '\\\\\\\\anatera4\\\\'\n",
    "# Load the data from this folder\n",
    "RootPath = drive + os.path.join('Acini')\n",
    "print('We are loading all the data from %s' % RootPath)"
   ]
  },
  {
   "cell_type": "code",
   "execution_count": 4,
   "metadata": {
    "collapsed": true
   },
   "outputs": [],
   "source": [
    "# Get a list of all the STEPanizer export files from Eveline\n",
    "# Based on https://stackoverflow.com/a/14798263\n",
    "StepanizerFiles_Eveline = sorted(glob.glob(os.path.join(RootPath, '**/*201[1234567]*.xls'), recursive=True))"
   ]
  },
  {
   "cell_type": "code",
   "execution_count": 5,
   "metadata": {},
   "outputs": [
    {
     "name": "stdout",
     "output_type": "stream",
     "text": [
      "Eveline counted the alveoli in 287 acini\n"
     ]
    }
   ],
   "source": [
    "print('Eveline counted the alveoli in %s acini' % len(StepanizerFiles_Eveline))"
   ]
  },
  {
   "cell_type": "code",
   "execution_count": 6,
   "metadata": {},
   "outputs": [],
   "source": [
    "Eveline = pandas.DataFrame({'Location': StepanizerFiles_Eveline})\n",
    "Eveline['Filename'] = [os.path.basename(f) for f in StepanizerFiles_Eveline]\n",
    "Eveline['Beamtime'] = [os.path.dirname(f).split('Acini')[1].split(os.sep)[1] for f in StepanizerFiles_Eveline]\n",
    "Eveline['Sample'] = [os.path.basename(f).split('-acinus')[0][1:] for f in StepanizerFiles_Eveline]\n",
    "Eveline['Animal'] = [os.path.basename(f).split('_R108C')[1].split('mrg-')[0][:3] for f in StepanizerFiles_Eveline]\n",
    "Eveline['Day'] = [int(os.path.basename(f).split('_R108C')[1].split('mrg-')[0][:2]) for f in StepanizerFiles_Eveline]\n",
    "Eveline['Acinus'] = [int(os.path.basename(f).split('acinus')[1].split('_')[0]) for f in StepanizerFiles_Eveline]"
   ]
  },
  {
   "cell_type": "code",
   "execution_count": 7,
   "metadata": {
    "collapsed": true
   },
   "outputs": [],
   "source": [
    "# Get a list of *all* the excel files I counted are from the STEPanizer\n",
    "# Differing to the ones from Eveline, we only have '2018' in the file name...\n",
    "StepanizerFiles_David = sorted(glob.glob(os.path.join(RootPath, '**/*2018*.xls'), recursive=True))"
   ]
  },
  {
   "cell_type": "code",
   "execution_count": 8,
   "metadata": {},
   "outputs": [
    {
     "name": "stdout",
     "output_type": "stream",
     "text": [
      "David assessed the disector volume in 142 acini\n"
     ]
    }
   ],
   "source": [
    "print('David assessed the disector volume in %s acini' % len(StepanizerFiles_David))"
   ]
  },
  {
   "cell_type": "code",
   "execution_count": 9,
   "metadata": {
    "collapsed": true
   },
   "outputs": [],
   "source": [
    "David = pandas.DataFrame({'Location': StepanizerFiles_David})\n",
    "David['Filename'] = [os.path.basename(f) for f in StepanizerFiles_David]\n",
    "David['Beamtime'] = [os.path.dirname(f).split('Acini')[1].split(os.sep)[1] for f in StepanizerFiles_David]\n",
    "David['Sample'] = [os.path.basename(f).split('-acinus')[0][1:] for f in StepanizerFiles_David]\n",
    "David['Animal'] = [os.path.basename(f).split('_R108C')[1].split('mrg-')[0][:3] for f in StepanizerFiles_David]\n",
    "David['Day'] = [int(os.path.basename(f).split('_R108C')[1].split('mrg-')[0][:2]) for f in StepanizerFiles_David]\n",
    "David['Acinus'] = [int(os.path.basename(f).split('acinus')[1].split('_')[0]) for f in StepanizerFiles_David]"
   ]
  },
  {
   "cell_type": "code",
   "execution_count": 10,
   "metadata": {},
   "outputs": [
    {
     "data": {
      "text/html": [
       "<div>\n",
       "<style>\n",
       "    .dataframe thead tr:only-child th {\n",
       "        text-align: right;\n",
       "    }\n",
       "\n",
       "    .dataframe thead th {\n",
       "        text-align: left;\n",
       "    }\n",
       "\n",
       "    .dataframe tbody tr th {\n",
       "        vertical-align: top;\n",
       "    }\n",
       "</style>\n",
       "<table border=\"1\" class=\"dataframe\">\n",
       "  <thead>\n",
       "    <tr style=\"text-align: right;\">\n",
       "      <th></th>\n",
       "      <th></th>\n",
       "      <th>count</th>\n",
       "      <th>mean</th>\n",
       "      <th>std</th>\n",
       "      <th>min</th>\n",
       "      <th>25%</th>\n",
       "      <th>50%</th>\n",
       "      <th>75%</th>\n",
       "      <th>max</th>\n",
       "    </tr>\n",
       "    <tr>\n",
       "      <th>Day</th>\n",
       "      <th>Animal</th>\n",
       "      <th></th>\n",
       "      <th></th>\n",
       "      <th></th>\n",
       "      <th></th>\n",
       "      <th></th>\n",
       "      <th></th>\n",
       "      <th></th>\n",
       "      <th></th>\n",
       "    </tr>\n",
       "  </thead>\n",
       "  <tbody>\n",
       "    <tr>\n",
       "      <th rowspan=\"3\" valign=\"top\">4</th>\n",
       "      <th>04A</th>\n",
       "      <td>21.0</td>\n",
       "      <td>47.666667</td>\n",
       "      <td>24.081805</td>\n",
       "      <td>11.0</td>\n",
       "      <td>26.00</td>\n",
       "      <td>47.0</td>\n",
       "      <td>74.00</td>\n",
       "      <td>83.0</td>\n",
       "    </tr>\n",
       "    <tr>\n",
       "      <th>04B</th>\n",
       "      <td>13.0</td>\n",
       "      <td>24.461538</td>\n",
       "      <td>11.573068</td>\n",
       "      <td>3.0</td>\n",
       "      <td>16.00</td>\n",
       "      <td>26.0</td>\n",
       "      <td>34.00</td>\n",
       "      <td>40.0</td>\n",
       "    </tr>\n",
       "    <tr>\n",
       "      <th>04C</th>\n",
       "      <td>25.0</td>\n",
       "      <td>29.160000</td>\n",
       "      <td>19.787791</td>\n",
       "      <td>0.0</td>\n",
       "      <td>12.00</td>\n",
       "      <td>26.0</td>\n",
       "      <td>47.00</td>\n",
       "      <td>63.0</td>\n",
       "    </tr>\n",
       "    <tr>\n",
       "      <th rowspan=\"3\" valign=\"top\">10</th>\n",
       "      <th>10A</th>\n",
       "      <td>15.0</td>\n",
       "      <td>27.866667</td>\n",
       "      <td>16.043987</td>\n",
       "      <td>9.0</td>\n",
       "      <td>15.00</td>\n",
       "      <td>22.0</td>\n",
       "      <td>43.50</td>\n",
       "      <td>53.0</td>\n",
       "    </tr>\n",
       "    <tr>\n",
       "      <th>10B</th>\n",
       "      <td>8.0</td>\n",
       "      <td>23.000000</td>\n",
       "      <td>14.735768</td>\n",
       "      <td>4.0</td>\n",
       "      <td>12.25</td>\n",
       "      <td>22.5</td>\n",
       "      <td>33.75</td>\n",
       "      <td>43.0</td>\n",
       "    </tr>\n",
       "    <tr>\n",
       "      <th>10C</th>\n",
       "      <td>10.0</td>\n",
       "      <td>46.600000</td>\n",
       "      <td>27.309746</td>\n",
       "      <td>1.0</td>\n",
       "      <td>27.50</td>\n",
       "      <td>53.5</td>\n",
       "      <td>64.00</td>\n",
       "      <td>86.0</td>\n",
       "    </tr>\n",
       "    <tr>\n",
       "      <th rowspan=\"3\" valign=\"top\">21</th>\n",
       "      <th>21B</th>\n",
       "      <td>9.0</td>\n",
       "      <td>22.666667</td>\n",
       "      <td>16.881943</td>\n",
       "      <td>2.0</td>\n",
       "      <td>11.00</td>\n",
       "      <td>17.0</td>\n",
       "      <td>42.00</td>\n",
       "      <td>46.0</td>\n",
       "    </tr>\n",
       "    <tr>\n",
       "      <th>21D</th>\n",
       "      <td>10.0</td>\n",
       "      <td>40.800000</td>\n",
       "      <td>31.981939</td>\n",
       "      <td>1.0</td>\n",
       "      <td>17.25</td>\n",
       "      <td>32.5</td>\n",
       "      <td>65.50</td>\n",
       "      <td>91.0</td>\n",
       "    </tr>\n",
       "    <tr>\n",
       "      <th>21E</th>\n",
       "      <td>4.0</td>\n",
       "      <td>41.750000</td>\n",
       "      <td>17.745892</td>\n",
       "      <td>16.0</td>\n",
       "      <td>37.75</td>\n",
       "      <td>47.5</td>\n",
       "      <td>51.50</td>\n",
       "      <td>56.0</td>\n",
       "    </tr>\n",
       "    <tr>\n",
       "      <th rowspan=\"4\" valign=\"top\">60</th>\n",
       "      <th>60B</th>\n",
       "      <td>11.0</td>\n",
       "      <td>16.181818</td>\n",
       "      <td>11.223352</td>\n",
       "      <td>0.0</td>\n",
       "      <td>7.00</td>\n",
       "      <td>20.0</td>\n",
       "      <td>24.50</td>\n",
       "      <td>30.0</td>\n",
       "    </tr>\n",
       "    <tr>\n",
       "      <th>60C</th>\n",
       "      <td>10.0</td>\n",
       "      <td>12.100000</td>\n",
       "      <td>7.950542</td>\n",
       "      <td>0.0</td>\n",
       "      <td>5.25</td>\n",
       "      <td>14.0</td>\n",
       "      <td>16.75</td>\n",
       "      <td>24.0</td>\n",
       "    </tr>\n",
       "    <tr>\n",
       "      <th>60D</th>\n",
       "      <td>4.0</td>\n",
       "      <td>15.000000</td>\n",
       "      <td>8.640988</td>\n",
       "      <td>3.0</td>\n",
       "      <td>12.00</td>\n",
       "      <td>17.0</td>\n",
       "      <td>20.00</td>\n",
       "      <td>23.0</td>\n",
       "    </tr>\n",
       "    <tr>\n",
       "      <th>60E</th>\n",
       "      <td>2.0</td>\n",
       "      <td>9.500000</td>\n",
       "      <td>2.121320</td>\n",
       "      <td>8.0</td>\n",
       "      <td>8.75</td>\n",
       "      <td>9.5</td>\n",
       "      <td>10.25</td>\n",
       "      <td>11.0</td>\n",
       "    </tr>\n",
       "  </tbody>\n",
       "</table>\n",
       "</div>"
      ],
      "text/plain": [
       "            count       mean        std   min    25%   50%    75%   max\n",
       "Day Animal                                                             \n",
       "4   04A      21.0  47.666667  24.081805  11.0  26.00  47.0  74.00  83.0\n",
       "    04B      13.0  24.461538  11.573068   3.0  16.00  26.0  34.00  40.0\n",
       "    04C      25.0  29.160000  19.787791   0.0  12.00  26.0  47.00  63.0\n",
       "10  10A      15.0  27.866667  16.043987   9.0  15.00  22.0  43.50  53.0\n",
       "    10B       8.0  23.000000  14.735768   4.0  12.25  22.5  33.75  43.0\n",
       "    10C      10.0  46.600000  27.309746   1.0  27.50  53.5  64.00  86.0\n",
       "21  21B       9.0  22.666667  16.881943   2.0  11.00  17.0  42.00  46.0\n",
       "    21D      10.0  40.800000  31.981939   1.0  17.25  32.5  65.50  91.0\n",
       "    21E       4.0  41.750000  17.745892  16.0  37.75  47.5  51.50  56.0\n",
       "60  60B      11.0  16.181818  11.223352   0.0   7.00  20.0  24.50  30.0\n",
       "    60C      10.0  12.100000   7.950542   0.0   5.25  14.0  16.75  24.0\n",
       "    60D       4.0  15.000000   8.640988   3.0  12.00  17.0  20.00  23.0\n",
       "    60E       2.0   9.500000   2.121320   8.0   8.75   9.5  10.25  11.0"
      ]
     },
     "execution_count": 10,
     "metadata": {},
     "output_type": "execute_result"
    }
   ],
   "source": [
    "David.groupby(by=['Day', 'Animal'])['Acinus'].describe()"
   ]
  },
  {
   "cell_type": "code",
   "execution_count": 11,
   "metadata": {},
   "outputs": [
    {
     "name": "stdout",
     "output_type": "stream",
     "text": [
      "We still need to assess the disector volume in 146 acini...\n"
     ]
    }
   ],
   "source": [
    "# Merge 'Eveline' and 'David' so we know what is still to do\n",
    "# Based on https://stackoverflow.com/a/33350050/323100\n",
    "StillToDo = pandas.merge(Eveline, David,\n",
    "                         on=['Animal', 'Acinus', 'Day', 'Beamtime', 'Sample'],\n",
    "                         how='outer', suffixes=['_Eveline', '_David'],\n",
    "                         indicator=True)\n",
    "StillToDo = StillToDo[StillToDo._merge != 'both']\n",
    "print('We still need to assess the disector volume in %s acini...' % len(StillToDo))"
   ]
  },
  {
   "cell_type": "code",
   "execution_count": 12,
   "metadata": {},
   "outputs": [
    {
     "name": "stdout",
     "output_type": "stream",
     "text": [
      "We have the data of 142 acini...\n"
     ]
    }
   ],
   "source": [
    "# Merge 'Eveline' and 'David' so have the one we already did\n",
    "# Based on https://stackoverflow.com/a/33350050/323100\n",
    "Done = pandas.merge(Eveline, David,\n",
    "                         on=['Animal', 'Acinus', 'Day', 'Beamtime', 'Sample'],\n",
    "                         how='inner', suffixes=['_Eveline', '_David'],\n",
    "                         indicator=True)\n",
    "print('We have the data of %s acini...' % len(Done))"
   ]
  },
  {
   "cell_type": "code",
   "execution_count": 13,
   "metadata": {
    "collapsed": true
   },
   "outputs": [],
   "source": [
    "# Get last image file\n",
    "StillToDo['LastFile'] = [os.path.basename(sorted(glob.glob(os.path.join(os.path.dirname(location),\n",
    "                                                                         '*_??_b.jpg')))[-1]) for\n",
    "                          location in StillToDo.Location_Eveline]"
   ]
  },
  {
   "cell_type": "code",
   "execution_count": 14,
   "metadata": {},
   "outputs": [],
   "source": [
    "# See if we have more than 99 images...\n",
    "StillToDo['LastImage'] = [[int(os.path.basename(i).split('_')[-2]) for i in glob.glob(os.path.join(os.path.dirname(location),\n",
    "                                          '*.jpg'))] for\n",
    "                          location in StillToDo.Location_Eveline]\n",
    "StillToDo['LastImage'] = [max(li) for li in StillToDo['LastImage']]"
   ]
  },
  {
   "cell_type": "code",
   "execution_count": 15,
   "metadata": {
    "scrolled": true
   },
   "outputs": [
    {
     "name": "stdout",
     "output_type": "stream",
     "text": [
      "From the 146 acini still to count, here are some, randomly selected\n"
     ]
    },
    {
     "data": {
      "text/html": [
       "<div>\n",
       "<style>\n",
       "    .dataframe thead tr:only-child th {\n",
       "        text-align: right;\n",
       "    }\n",
       "\n",
       "    .dataframe thead th {\n",
       "        text-align: left;\n",
       "    }\n",
       "\n",
       "    .dataframe tbody tr th {\n",
       "        vertical-align: top;\n",
       "    }\n",
       "</style>\n",
       "<table border=\"1\" class=\"dataframe\">\n",
       "  <thead>\n",
       "    <tr style=\"text-align: right;\">\n",
       "      <th></th>\n",
       "      <th>Beamtime</th>\n",
       "      <th>Sample</th>\n",
       "      <th>Acinus</th>\n",
       "      <th>LastImage</th>\n",
       "      <th>LastFile</th>\n",
       "    </tr>\n",
       "  </thead>\n",
       "  <tbody>\n",
       "    <tr>\n",
       "      <th>2</th>\n",
       "      <td>2009f</td>\n",
       "      <td>R108C60Dt-mrg</td>\n",
       "      <td>7</td>\n",
       "      <td>120</td>\n",
       "      <td>R108C60Dt-mrg-acinus07_99_b.jpg</td>\n",
       "    </tr>\n",
       "    <tr>\n",
       "      <th>78</th>\n",
       "      <td>2010a</td>\n",
       "      <td>R108C04Bt-mrg</td>\n",
       "      <td>25</td>\n",
       "      <td>37</td>\n",
       "      <td>R108C04Bt-mrg-acinus25_37_b.jpg</td>\n",
       "    </tr>\n",
       "    <tr>\n",
       "      <th>281</th>\n",
       "      <td>2010c_tape</td>\n",
       "      <td>R108C60B_B1_mrg</td>\n",
       "      <td>24</td>\n",
       "      <td>93</td>\n",
       "      <td>R108C60B_B1_mrg-acinus24_93_b.jpg</td>\n",
       "    </tr>\n",
       "    <tr>\n",
       "      <th>17</th>\n",
       "      <td>2009f</td>\n",
       "      <td>R108C60Et-mrg</td>\n",
       "      <td>13</td>\n",
       "      <td>87</td>\n",
       "      <td>R108C60Et-mrg-acinus13_87_b.jpg</td>\n",
       "    </tr>\n",
       "    <tr>\n",
       "      <th>106</th>\n",
       "      <td>2010a</td>\n",
       "      <td>R108C04Ct-mrg</td>\n",
       "      <td>15</td>\n",
       "      <td>39</td>\n",
       "      <td>R108C04Ct-mrg-acinus15_39_b.jpg</td>\n",
       "    </tr>\n",
       "  </tbody>\n",
       "</table>\n",
       "</div>"
      ],
      "text/plain": [
       "       Beamtime           Sample  Acinus  LastImage  \\\n",
       "2         2009f    R108C60Dt-mrg       7        120   \n",
       "78        2010a    R108C04Bt-mrg      25         37   \n",
       "281  2010c_tape  R108C60B_B1_mrg      24         93   \n",
       "17        2009f    R108C60Et-mrg      13         87   \n",
       "106       2010a    R108C04Ct-mrg      15         39   \n",
       "\n",
       "                              LastFile  \n",
       "2      R108C60Dt-mrg-acinus07_99_b.jpg  \n",
       "78     R108C04Bt-mrg-acinus25_37_b.jpg  \n",
       "281  R108C60B_B1_mrg-acinus24_93_b.jpg  \n",
       "17     R108C60Et-mrg-acinus13_87_b.jpg  \n",
       "106    R108C04Ct-mrg-acinus15_39_b.jpg  "
      ]
     },
     "execution_count": 15,
     "metadata": {},
     "output_type": "execute_result"
    }
   ],
   "source": [
    "# Print the 'Still to do' counts in random order.\n",
    "# Use this order to assess the disector volume\n",
    "print('From the %s acini still to count, here are some, randomly selected' % len(StillToDo))\n",
    "StillToDo.sample(n=5)[['Beamtime', 'Sample', 'Acinus', 'LastImage', 'LastFile']]"
   ]
  },
  {
   "cell_type": "code",
   "execution_count": null,
   "metadata": {
    "collapsed": true
   },
   "outputs": [],
   "source": []
  }
 ],
 "metadata": {
  "anaconda-cloud": {},
  "kernelspec": {
   "display_name": "Python 3",
   "language": "python",
   "name": "python3"
  },
  "language_info": {
   "codemirror_mode": {
    "name": "ipython",
    "version": 3
   },
   "file_extension": ".py",
   "mimetype": "text/x-python",
   "name": "python",
   "nbconvert_exporter": "python",
   "pygments_lexer": "ipython3",
   "version": "3.6.1"
  }
 },
 "nbformat": 4,
 "nbformat_minor": 1
}
