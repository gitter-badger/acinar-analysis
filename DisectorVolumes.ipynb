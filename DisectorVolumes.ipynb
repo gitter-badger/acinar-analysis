{
 "cells": [
  {
   "cell_type": "markdown",
   "metadata": {
    "deletable": true,
    "editable": true
   },
   "source": [
    "# Disector volumes\n",
    "Read the newly counted disector volumes"
   ]
  },
  {
   "cell_type": "code",
   "execution_count": 1,
   "metadata": {
    "collapsed": true,
    "deletable": true,
    "editable": true
   },
   "outputs": [],
   "source": [
    "#Load the data and set up notebook\n",
    "import platform\n",
    "import glob\n",
    "import os\n",
    "import pandas\n",
    "import matplotlib.pyplot as plt\n",
    "%matplotlib inline\n",
    "import seaborn"
   ]
  },
  {
   "cell_type": "code",
   "execution_count": 2,
   "metadata": {
    "collapsed": true,
    "deletable": true,
    "editable": true
   },
   "outputs": [],
   "source": [
    "plt.rc('image', cmap='gray', interpolation='nearest')  # Display all images in b&w\n",
    "plt.rcParams['figure.figsize'] = (16, 9)  # Size up figures a bit\n",
    "plt.rcParams['savefig.transparent'] = True  # Save figures with transparent background"
   ]
  },
  {
   "cell_type": "code",
   "execution_count": 3,
   "metadata": {
    "collapsed": false,
    "deletable": true,
    "editable": true
   },
   "outputs": [
    {
     "name": "stdout",
     "output_type": "stream",
     "text": [
      "We are loading all the data from /media/habi/Fast_SSD/Acini\n"
     ]
    }
   ],
   "source": [
    "# We copied everything from nas_schittny and the terastation to 'fast SSD'.\n",
    "# Load the data from there\n",
    "if 'debian' in platform.dist():\n",
    "    drive = '/media/habi/Fast_SSD/'\n",
    "else:\n",
    "    drive = 'F:\\\\'\n",
    "# Load the data from this folder\n",
    "RootPath = drive + os.path.join('Acini')\n",
    "print('We are loading all the data from %s' % RootPath)"
   ]
  },
  {
   "cell_type": "code",
   "execution_count": 4,
   "metadata": {
    "collapsed": true,
    "deletable": true,
    "editable": true
   },
   "outputs": [],
   "source": [
    "# Get a list of all the STEPanizer export files from Eveline\n",
    "# Based on https://stackoverflow.com/a/14798263\n",
    "StepanizerFiles_Eveline = sorted(glob.glob(os.path.join(RootPath, '**/*201[1234567]*.xls'), recursive=True))"
   ]
  },
  {
   "cell_type": "code",
   "execution_count": 5,
   "metadata": {
    "collapsed": false,
    "deletable": true,
    "editable": true
   },
   "outputs": [
    {
     "name": "stdout",
     "output_type": "stream",
     "text": [
      "Eveline counted the alveoli in 287 acini\n"
     ]
    }
   ],
   "source": [
    "print('Eveline counted the alveoli in %s acini' % len(StepanizerFiles_Eveline))"
   ]
  },
  {
   "cell_type": "code",
   "execution_count": 6,
   "metadata": {
    "collapsed": true,
    "deletable": true,
    "editable": true
   },
   "outputs": [],
   "source": [
    "Eveline = pandas.DataFrame({'Location': StepanizerFiles_Eveline})\n",
    "Eveline['Filename'] = [os.path.basename(f) for f in StepanizerFiles_Eveline]\n",
    "Eveline['Beamtime'] = [os.path.dirname(f).split('Acini')[1].split(os.sep)[1] for f in StepanizerFiles_Eveline]\n",
    "Eveline['Sample'] = [os.path.basename(f).split('-acinus')[0][1:] for f in StepanizerFiles_Eveline]\n",
    "Eveline['Animal'] = [os.path.basename(f).split('_R108C')[1].split('mrg-')[0][:3] for f in StepanizerFiles_Eveline]\n",
    "Eveline['Day'] = [int(os.path.basename(f).split('_R108C')[1].split('mrg-')[0][:2]) for f in StepanizerFiles_Eveline]\n",
    "Eveline['Acinus'] = [int(os.path.basename(f).split('acinus')[1].split('_')[0]) for f in StepanizerFiles_Eveline]"
   ]
  },
  {
   "cell_type": "code",
   "execution_count": 7,
   "metadata": {
    "collapsed": true,
    "deletable": true,
    "editable": true
   },
   "outputs": [],
   "source": [
    "# Get a list of *all* the excel files I counted are from the STEPanizer\n",
    "# Differing to the ones from Eveline, we only have '2018' in the file name...\n",
    "StepanizerFiles_David = sorted(glob.glob(os.path.join(RootPath, '**/*2018*.xls'), recursive=True))"
   ]
  },
  {
   "cell_type": "code",
   "execution_count": 8,
   "metadata": {
    "collapsed": false,
    "deletable": true,
    "editable": true
   },
   "outputs": [
    {
     "name": "stdout",
     "output_type": "stream",
     "text": [
      "David assessed the disector volume in 287 acini\n"
     ]
    }
   ],
   "source": [
    "print('David assessed the disector volume in %s acini' % len(StepanizerFiles_David))"
   ]
  },
  {
   "cell_type": "code",
   "execution_count": 9,
   "metadata": {
    "collapsed": true,
    "deletable": true,
    "editable": true
   },
   "outputs": [],
   "source": [
    "David = pandas.DataFrame({'Location': StepanizerFiles_David})\n",
    "David['Filename'] = [os.path.basename(f) for f in StepanizerFiles_David]\n",
    "David['Beamtime'] = [os.path.dirname(f).split('Acini')[1].split(os.sep)[1] for f in StepanizerFiles_David]\n",
    "David['Sample'] = [os.path.basename(f).split('-acinus')[0][1:] for f in StepanizerFiles_David]\n",
    "David['Animal'] = [os.path.basename(f).split('_R108C')[1].split('mrg-')[0][:3] for f in StepanizerFiles_David]\n",
    "David['Day'] = [int(os.path.basename(f).split('_R108C')[1].split('mrg-')[0][:2]) for f in StepanizerFiles_David]\n",
    "David['Acinus'] = [int(os.path.basename(f).split('acinus')[1].split('_')[0]) for f in StepanizerFiles_David]"
   ]
  },
  {
   "cell_type": "code",
   "execution_count": 10,
   "metadata": {
    "collapsed": false,
    "deletable": true,
    "editable": true
   },
   "outputs": [
    {
     "data": {
      "text/html": [
       "<div>\n",
       "<style>\n",
       "    .dataframe thead tr:only-child th {\n",
       "        text-align: right;\n",
       "    }\n",
       "\n",
       "    .dataframe thead th {\n",
       "        text-align: left;\n",
       "    }\n",
       "\n",
       "    .dataframe tbody tr th {\n",
       "        vertical-align: top;\n",
       "    }\n",
       "</style>\n",
       "<table border=\"1\" class=\"dataframe\">\n",
       "  <thead>\n",
       "    <tr style=\"text-align: right;\">\n",
       "      <th></th>\n",
       "      <th></th>\n",
       "      <th>count</th>\n",
       "      <th>mean</th>\n",
       "      <th>std</th>\n",
       "      <th>min</th>\n",
       "      <th>25%</th>\n",
       "      <th>50%</th>\n",
       "      <th>75%</th>\n",
       "      <th>max</th>\n",
       "    </tr>\n",
       "    <tr>\n",
       "      <th>Day</th>\n",
       "      <th>Animal</th>\n",
       "      <th></th>\n",
       "      <th></th>\n",
       "      <th></th>\n",
       "      <th></th>\n",
       "      <th></th>\n",
       "      <th></th>\n",
       "      <th></th>\n",
       "      <th></th>\n",
       "    </tr>\n",
       "  </thead>\n",
       "  <tbody>\n",
       "    <tr>\n",
       "      <th rowspan=\"3\" valign=\"top\">4</th>\n",
       "      <th>04A</th>\n",
       "      <td>50.0</td>\n",
       "      <td>54.240000</td>\n",
       "      <td>22.463176</td>\n",
       "      <td>11.0</td>\n",
       "      <td>36.50</td>\n",
       "      <td>56.5</td>\n",
       "      <td>74.75</td>\n",
       "      <td>88.0</td>\n",
       "    </tr>\n",
       "    <tr>\n",
       "      <th>04B</th>\n",
       "      <td>23.0</td>\n",
       "      <td>26.913043</td>\n",
       "      <td>10.413772</td>\n",
       "      <td>3.0</td>\n",
       "      <td>18.50</td>\n",
       "      <td>29.0</td>\n",
       "      <td>35.50</td>\n",
       "      <td>41.0</td>\n",
       "    </tr>\n",
       "    <tr>\n",
       "      <th>04C</th>\n",
       "      <td>51.0</td>\n",
       "      <td>29.372549</td>\n",
       "      <td>18.909216</td>\n",
       "      <td>0.0</td>\n",
       "      <td>13.50</td>\n",
       "      <td>27.0</td>\n",
       "      <td>45.50</td>\n",
       "      <td>63.0</td>\n",
       "    </tr>\n",
       "    <tr>\n",
       "      <th rowspan=\"3\" valign=\"top\">10</th>\n",
       "      <th>10A</th>\n",
       "      <td>27.0</td>\n",
       "      <td>26.703704</td>\n",
       "      <td>14.940433</td>\n",
       "      <td>2.0</td>\n",
       "      <td>13.50</td>\n",
       "      <td>25.0</td>\n",
       "      <td>39.00</td>\n",
       "      <td>53.0</td>\n",
       "    </tr>\n",
       "    <tr>\n",
       "      <th>10B</th>\n",
       "      <td>14.0</td>\n",
       "      <td>22.285714</td>\n",
       "      <td>12.862758</td>\n",
       "      <td>4.0</td>\n",
       "      <td>12.50</td>\n",
       "      <td>20.0</td>\n",
       "      <td>31.25</td>\n",
       "      <td>43.0</td>\n",
       "    </tr>\n",
       "    <tr>\n",
       "      <th>10C</th>\n",
       "      <td>17.0</td>\n",
       "      <td>40.647059</td>\n",
       "      <td>26.636303</td>\n",
       "      <td>1.0</td>\n",
       "      <td>20.00</td>\n",
       "      <td>38.0</td>\n",
       "      <td>61.00</td>\n",
       "      <td>86.0</td>\n",
       "    </tr>\n",
       "    <tr>\n",
       "      <th rowspan=\"3\" valign=\"top\">21</th>\n",
       "      <th>21B</th>\n",
       "      <td>14.0</td>\n",
       "      <td>27.214286</td>\n",
       "      <td>17.742511</td>\n",
       "      <td>2.0</td>\n",
       "      <td>11.75</td>\n",
       "      <td>28.5</td>\n",
       "      <td>41.25</td>\n",
       "      <td>54.0</td>\n",
       "    </tr>\n",
       "    <tr>\n",
       "      <th>21D</th>\n",
       "      <td>17.0</td>\n",
       "      <td>46.764706</td>\n",
       "      <td>30.173518</td>\n",
       "      <td>1.0</td>\n",
       "      <td>21.00</td>\n",
       "      <td>49.0</td>\n",
       "      <td>68.00</td>\n",
       "      <td>98.0</td>\n",
       "    </tr>\n",
       "    <tr>\n",
       "      <th>21E</th>\n",
       "      <td>11.0</td>\n",
       "      <td>27.545455</td>\n",
       "      <td>18.468154</td>\n",
       "      <td>1.0</td>\n",
       "      <td>13.00</td>\n",
       "      <td>27.0</td>\n",
       "      <td>41.50</td>\n",
       "      <td>56.0</td>\n",
       "    </tr>\n",
       "    <tr>\n",
       "      <th rowspan=\"4\" valign=\"top\">60</th>\n",
       "      <th>60B</th>\n",
       "      <td>24.0</td>\n",
       "      <td>15.500000</td>\n",
       "      <td>10.121007</td>\n",
       "      <td>0.0</td>\n",
       "      <td>7.50</td>\n",
       "      <td>14.5</td>\n",
       "      <td>24.50</td>\n",
       "      <td>31.0</td>\n",
       "    </tr>\n",
       "    <tr>\n",
       "      <th>60C</th>\n",
       "      <td>20.0</td>\n",
       "      <td>11.850000</td>\n",
       "      <td>7.442941</td>\n",
       "      <td>0.0</td>\n",
       "      <td>5.75</td>\n",
       "      <td>12.5</td>\n",
       "      <td>17.25</td>\n",
       "      <td>24.0</td>\n",
       "    </tr>\n",
       "    <tr>\n",
       "      <th>60D</th>\n",
       "      <td>10.0</td>\n",
       "      <td>13.400000</td>\n",
       "      <td>7.988881</td>\n",
       "      <td>3.0</td>\n",
       "      <td>7.50</td>\n",
       "      <td>12.5</td>\n",
       "      <td>18.75</td>\n",
       "      <td>26.0</td>\n",
       "    </tr>\n",
       "    <tr>\n",
       "      <th>60E</th>\n",
       "      <td>9.0</td>\n",
       "      <td>8.444444</td>\n",
       "      <td>4.333333</td>\n",
       "      <td>2.0</td>\n",
       "      <td>6.00</td>\n",
       "      <td>8.0</td>\n",
       "      <td>12.00</td>\n",
       "      <td>14.0</td>\n",
       "    </tr>\n",
       "  </tbody>\n",
       "</table>\n",
       "</div>"
      ],
      "text/plain": [
       "            count       mean        std   min    25%   50%    75%   max\n",
       "Day Animal                                                             \n",
       "4   04A      50.0  54.240000  22.463176  11.0  36.50  56.5  74.75  88.0\n",
       "    04B      23.0  26.913043  10.413772   3.0  18.50  29.0  35.50  41.0\n",
       "    04C      51.0  29.372549  18.909216   0.0  13.50  27.0  45.50  63.0\n",
       "10  10A      27.0  26.703704  14.940433   2.0  13.50  25.0  39.00  53.0\n",
       "    10B      14.0  22.285714  12.862758   4.0  12.50  20.0  31.25  43.0\n",
       "    10C      17.0  40.647059  26.636303   1.0  20.00  38.0  61.00  86.0\n",
       "21  21B      14.0  27.214286  17.742511   2.0  11.75  28.5  41.25  54.0\n",
       "    21D      17.0  46.764706  30.173518   1.0  21.00  49.0  68.00  98.0\n",
       "    21E      11.0  27.545455  18.468154   1.0  13.00  27.0  41.50  56.0\n",
       "60  60B      24.0  15.500000  10.121007   0.0   7.50  14.5  24.50  31.0\n",
       "    60C      20.0  11.850000   7.442941   0.0   5.75  12.5  17.25  24.0\n",
       "    60D      10.0  13.400000   7.988881   3.0   7.50  12.5  18.75  26.0\n",
       "    60E       9.0   8.444444   4.333333   2.0   6.00   8.0  12.00  14.0"
      ]
     },
     "execution_count": 10,
     "metadata": {},
     "output_type": "execute_result"
    }
   ],
   "source": [
    "David.groupby(by=['Day', 'Animal'])['Acinus'].describe()"
   ]
  },
  {
   "cell_type": "code",
   "execution_count": 11,
   "metadata": {
    "collapsed": false,
    "deletable": true,
    "editable": true
   },
   "outputs": [
    {
     "name": "stdout",
     "output_type": "stream",
     "text": [
      "We still need to assess the disector volume in 0 acini...\n"
     ]
    }
   ],
   "source": [
    "# Merge 'Eveline' and 'David' so we know what is still to do\n",
    "# Based on https://stackoverflow.com/a/33350050/323100\n",
    "StillToDo = pandas.merge(Eveline, David,\n",
    "                         on=['Animal', 'Acinus', 'Day', 'Beamtime', 'Sample'],\n",
    "                         how='outer', suffixes=['_Eveline', '_David'],\n",
    "                         indicator=True)\n",
    "StillToDo = StillToDo[StillToDo._merge != 'both']\n",
    "print('We still need to assess the disector volume in %s acini...' % len(StillToDo))"
   ]
  },
  {
   "cell_type": "code",
   "execution_count": 12,
   "metadata": {
    "collapsed": false,
    "deletable": true,
    "editable": true
   },
   "outputs": [
    {
     "name": "stdout",
     "output_type": "stream",
     "text": [
      "We have the data of 287 acini...\n"
     ]
    }
   ],
   "source": [
    "# Merge 'Eveline' and 'David' so have the one we already did\n",
    "# Based on https://stackoverflow.com/a/33350050/323100\n",
    "Done = pandas.merge(Eveline, David,\n",
    "                         on=['Animal', 'Acinus', 'Day', 'Beamtime', 'Sample'],\n",
    "                         how='inner', suffixes=['_Eveline', '_David'],\n",
    "                         indicator=True)\n",
    "print('We have the data of %s acini...' % len(Done))"
   ]
  },
  {
   "cell_type": "code",
   "execution_count": 13,
   "metadata": {
    "collapsed": true,
    "deletable": true,
    "editable": true
   },
   "outputs": [],
   "source": [
    "# Get last image file\n",
    "StillToDo['LastFile'] = [os.path.basename(sorted(glob.glob(os.path.join(os.path.dirname(location),\n",
    "                                                                         '*_??_b.jpg')))[-1]) for\n",
    "                          location in StillToDo.Location_Eveline]"
   ]
  },
  {
   "cell_type": "code",
   "execution_count": 14,
   "metadata": {
    "collapsed": true,
    "deletable": true,
    "editable": true
   },
   "outputs": [],
   "source": [
    "# See if we have more than 99 images...\n",
    "StillToDo['LastImage'] = [[int(os.path.basename(i).split('_')[-2]) for i in glob.glob(os.path.join(os.path.dirname(location),\n",
    "                                          '*.jpg'))] for\n",
    "                          location in StillToDo.Location_Eveline]\n",
    "StillToDo['LastImage'] = [max(li) for li in StillToDo['LastImage']]"
   ]
  },
  {
   "cell_type": "code",
   "execution_count": 15,
   "metadata": {
    "collapsed": false,
    "deletable": true,
    "editable": true,
    "scrolled": false
   },
   "outputs": [
    {
     "name": "stdout",
     "output_type": "stream",
     "text": [
      "From the 0 acini still to count, here are some, randomly selected\n",
      "We are all done!\n"
     ]
    }
   ],
   "source": [
    "# Print the 'Still to do' counts in random order.\n",
    "# Use this order to assess the disector volume\n",
    "print('From the %s acini still to count, here are some, randomly selected' % len(StillToDo))\n",
    "try:\n",
    "    StillToDo.sample(n=len(StillToDo))[['Beamtime', 'Sample', 'Acinus', 'LastImage', 'LastFile']]\n",
    "except ValueError:\n",
    "    print('We are all done!')"
   ]
  },
  {
   "cell_type": "code",
   "execution_count": null,
   "metadata": {},
   "outputs": [],
   "source": []
  }
 ],
 "metadata": {
  "anaconda-cloud": {},
  "kernelspec": {
   "display_name": "Python 3",
   "language": "python",
   "name": "python3"
  },
  "language_info": {
   "codemirror_mode": {
    "name": "ipython",
    "version": 3
   },
   "file_extension": ".py",
   "mimetype": "text/x-python",
   "name": "python",
   "nbconvert_exporter": "python",
   "pygments_lexer": "ipython3",
   "version": "3.6.6"
  }
 },
 "nbformat": 4,
 "nbformat_minor": 2
}
