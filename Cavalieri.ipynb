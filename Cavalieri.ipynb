{
 "cells": [
  {
   "cell_type": "markdown",
   "metadata": {
    "deletable": true,
    "editable": true
   },
   "source": [
    "# Cavalieri estimation of disector volumes\n",
    "This [Jupyter](http://jupyter.com) notebook was used to see which sample we still have to do the Cavalieri estimation for the end result of the [publication on the acinar complexity](https://www.authorea.com/274247/47HwqAxume3L2xkLOsg_SQ)."
   ]
  },
  {
   "cell_type": "code",
   "execution_count": 1,
   "metadata": {
    "collapsed": true,
    "deletable": true,
    "editable": true
   },
   "outputs": [],
   "source": [
    "#Load the data and set up notebook\n",
    "import platform\n",
    "import glob\n",
    "import os\n",
    "import pandas"
   ]
  },
  {
   "cell_type": "code",
   "execution_count": 2,
   "metadata": {
    "collapsed": false,
    "deletable": true,
    "editable": true
   },
   "outputs": [
    {
     "name": "stdout",
     "output_type": "stream",
     "text": [
      "We are loading all the data from /media/habi/Fast_SSD/Acini\n"
     ]
    }
   ],
   "source": [
    "# We copied everything from nas_schittny and the terastation to 'fast SSD'.\n",
    "# Load the data from there\n",
    "if 'debian' in platform.dist():\n",
    "    drive = '/media/habi/Fast_SSD/'\n",
    "else:\n",
    "    drive = 'F:\\\\'\n",
    "# Load the data from this folder\n",
    "RootPath = drive + os.path.join('Acini')\n",
    "print('We are loading all the data from %s' % RootPath)"
   ]
  },
  {
   "cell_type": "code",
   "execution_count": 3,
   "metadata": {
    "collapsed": true,
    "deletable": true,
    "editable": true
   },
   "outputs": [],
   "source": [
    "# Get a list of all the STEPanizer export files from Eveline\n",
    "# Based on https://stackoverflow.com/a/14798263\n",
    "StepanizerFiles_Eveline = sorted(glob.glob(os.path.join(RootPath, '**/*201[1234567]*.xls'), recursive=True))"
   ]
  },
  {
   "cell_type": "code",
   "execution_count": 4,
   "metadata": {
    "collapsed": false,
    "deletable": true,
    "editable": true
   },
   "outputs": [
    {
     "name": "stdout",
     "output_type": "stream",
     "text": [
      "Eveline counted the alveoli in 287 acini\n"
     ]
    }
   ],
   "source": [
    "print('Eveline counted the alveoli in %s acini' % len(StepanizerFiles_Eveline))"
   ]
  },
  {
   "cell_type": "code",
   "execution_count": 5,
   "metadata": {
    "collapsed": true,
    "deletable": true,
    "editable": true
   },
   "outputs": [],
   "source": [
    "Eveline = pandas.DataFrame({'Location': StepanizerFiles_Eveline})\n",
    "Eveline['Filename'] = [os.path.basename(f) for f in StepanizerFiles_Eveline]\n",
    "Eveline['Beamtime'] = [os.path.dirname(f).split('Acini')[1].split(os.sep)[1] for f in StepanizerFiles_Eveline]\n",
    "Eveline['Sample'] = [os.path.basename(f).split('-acinus')[0][1:] for f in StepanizerFiles_Eveline]\n",
    "Eveline['Animal'] = [os.path.basename(f).split('_R108C')[1].split('mrg-')[0][:3] for f in StepanizerFiles_Eveline]\n",
    "Eveline['Day'] = [int(os.path.basename(f).split('_R108C')[1].split('mrg-')[0][:2]) for f in StepanizerFiles_Eveline]\n",
    "Eveline['Acinus'] = [int(os.path.basename(f).split('acinus')[1].split('_')[0]) for f in StepanizerFiles_Eveline]"
   ]
  },
  {
   "cell_type": "code",
   "execution_count": 6,
   "metadata": {
    "collapsed": true,
    "deletable": true,
    "editable": true
   },
   "outputs": [],
   "source": [
    "# Get a list of *all* the excel files I counted are from the STEPanizer\n",
    "# Differing to the ones from Eveline, we only have '2018' in the file name...\n",
    "StepanizerFiles_David = sorted(glob.glob(os.path.join(RootPath, '**/*2018*.xls'), recursive=True))"
   ]
  },
  {
   "cell_type": "code",
   "execution_count": 7,
   "metadata": {
    "collapsed": false,
    "deletable": true,
    "editable": true
   },
   "outputs": [
    {
     "name": "stdout",
     "output_type": "stream",
     "text": [
      "David assessed the disector volume in 287 acini\n"
     ]
    }
   ],
   "source": [
    "print('David assessed the disector volume in %s acini' % len(StepanizerFiles_David))"
   ]
  },
  {
   "cell_type": "code",
   "execution_count": 8,
   "metadata": {
    "collapsed": true,
    "deletable": true,
    "editable": true
   },
   "outputs": [],
   "source": [
    "David = pandas.DataFrame({'Location': StepanizerFiles_David})\n",
    "David['Filename'] = [os.path.basename(f) for f in StepanizerFiles_David]\n",
    "David['Beamtime'] = [os.path.dirname(f).split('Acini')[1].split(os.sep)[1] for f in StepanizerFiles_David]\n",
    "David['Sample'] = [os.path.basename(f).split('-acinus')[0][1:] for f in StepanizerFiles_David]\n",
    "David['Animal'] = [os.path.basename(f).split('_R108C')[1].split('mrg-')[0][:3] for f in StepanizerFiles_David]\n",
    "David['Day'] = [int(os.path.basename(f).split('_R108C')[1].split('mrg-')[0][:2]) for f in StepanizerFiles_David]\n",
    "David['Acinus'] = [int(os.path.basename(f).split('acinus')[1].split('_')[0]) for f in StepanizerFiles_David]"
   ]
  },
  {
   "cell_type": "code",
   "execution_count": 9,
   "metadata": {
    "collapsed": false,
    "deletable": true,
    "editable": true
   },
   "outputs": [
    {
     "name": "stdout",
     "output_type": "stream",
     "text": [
      "We still need to assess the disector volume in 0 acini...\n"
     ]
    }
   ],
   "source": [
    "# Merge 'Eveline' and 'David' so we know what is still to do\n",
    "# Based on https://stackoverflow.com/a/33350050/323100\n",
    "StillToDo = pandas.merge(Eveline, David,\n",
    "                         on=['Animal', 'Acinus', 'Day', 'Beamtime', 'Sample'],\n",
    "                         how='outer', suffixes=['_Eveline', '_David'],\n",
    "                         indicator=True)\n",
    "StillToDo = StillToDo[StillToDo._merge != 'both']\n",
    "print('We still need to assess the disector volume in %s acini...' % len(StillToDo))"
   ]
  },
  {
   "cell_type": "code",
   "execution_count": 10,
   "metadata": {
    "collapsed": false,
    "deletable": true,
    "editable": true
   },
   "outputs": [
    {
     "name": "stdout",
     "output_type": "stream",
     "text": [
      "We have the data of 287 acini...\n"
     ]
    }
   ],
   "source": [
    "# Merge 'Eveline' and 'David' so have the one we already did\n",
    "# Based on https://stackoverflow.com/a/33350050/323100\n",
    "Done = pandas.merge(Eveline, David,\n",
    "                         on=['Animal', 'Acinus', 'Day', 'Beamtime', 'Sample'],\n",
    "                         how='inner', suffixes=['_Eveline', '_David'],\n",
    "                         indicator=True)\n",
    "print('We have the data of %s acini...' % len(Done))"
   ]
  },
  {
   "cell_type": "code",
   "execution_count": 11,
   "metadata": {
    "collapsed": true,
    "deletable": true,
    "editable": true
   },
   "outputs": [],
   "source": [
    "# Get last image file\n",
    "StillToDo['LastFile'] = [os.path.basename(sorted(glob.glob(os.path.join(os.path.dirname(location),\n",
    "                                                                         '*_??_b.jpg')))[-1]) for\n",
    "                          location in StillToDo.Location_Eveline]"
   ]
  },
  {
   "cell_type": "code",
   "execution_count": 12,
   "metadata": {
    "collapsed": true,
    "deletable": true,
    "editable": true
   },
   "outputs": [],
   "source": [
    "# See if we have more than 99 images...\n",
    "StillToDo['LastImage'] = [[int(os.path.basename(i).split('_')[-2]) for i in glob.glob(os.path.join(os.path.dirname(location),\n",
    "                                          '*.jpg'))] for\n",
    "                          location in StillToDo.Location_Eveline]\n",
    "StillToDo['LastImage'] = [max(li) for li in StillToDo['LastImage']]"
   ]
  },
  {
   "cell_type": "code",
   "execution_count": 13,
   "metadata": {
    "collapsed": false,
    "deletable": true,
    "editable": true,
    "scrolled": false
   },
   "outputs": [
    {
     "name": "stdout",
     "output_type": "stream",
     "text": [
      "From the 0 acini still to count, here are some, randomly selected\n",
      "We are all done!\n"
     ]
    }
   ],
   "source": [
    "# Print the 'Still to do' counts in random order.\n",
    "# Use this order to assess the disector volume\n",
    "print('From the %s acini still to count, here are some, randomly selected' % len(StillToDo))\n",
    "try:\n",
    "    StillToDo.sample(n=len(StillToDo))[['Beamtime', 'Sample', 'Acinus', 'LastImage', 'LastFile']]\n",
    "except ValueError:\n",
    "    print('We are all done!')"
   ]
  },
  {
   "cell_type": "code",
   "execution_count": null,
   "metadata": {},
   "outputs": [],
   "source": []
  }
 ],
 "metadata": {
  "anaconda-cloud": {},
  "kernelspec": {
   "display_name": "Python 3",
   "language": "python",
   "name": "python3"
  },
  "language_info": {
   "codemirror_mode": {
    "name": "ipython",
    "version": 3
   },
   "file_extension": ".py",
   "mimetype": "text/x-python",
   "name": "python",
   "nbconvert_exporter": "python",
   "pygments_lexer": "ipython3",
   "version": "3.6.6"
  }
 },
 "nbformat": 4,
 "nbformat_minor": 2
}
