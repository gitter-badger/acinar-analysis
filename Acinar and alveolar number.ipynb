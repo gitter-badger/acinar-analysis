{
 "cells": [
  {
   "cell_type": "markdown",
   "metadata": {},
   "source": [
    "# Alveoli and acinar size\n",
    "This document is used to plot the acinar volumes and stereological counts for the alveolar manuscript."
   ]
  },
  {
   "cell_type": "code",
   "execution_count": 1,
   "metadata": {
    "collapsed": true
   },
   "outputs": [],
   "source": [
    "# Assess coding style, based on https://stackoverflow.com/a/47204361/323100\n",
    "\n",
    "# %load_ext pycodestyle_magic\n",
    "# and then put '%%pycodestyle' in the cells\n",
    "\n",
    "# Or do it like so from the Terminal:\n",
    "# jupyter nbconvert Acinar\\ and\\ alveolar\\ number.ipynb --to script  && pycodestyle *.py --ignore=E501,E402,W391 --show-source"
   ]
  },
  {
   "cell_type": "markdown",
   "metadata": {},
   "source": [
    "First, we set up the notebook."
   ]
  },
  {
   "cell_type": "code",
   "execution_count": 2,
   "metadata": {
    "collapsed": true
   },
   "outputs": [],
   "source": [
    "# Load the data and set up notebook\n",
    "import matplotlib.pyplot as plt\n",
    "%matplotlib inline\n",
    "import platform\n",
    "import glob\n",
    "import os\n",
    "import pandas\n",
    "import seaborn\n",
    "import timeit\n",
    "import numpy"
   ]
  },
  {
   "cell_type": "code",
   "execution_count": 3,
   "metadata": {
    "collapsed": true
   },
   "outputs": [],
   "source": [
    "def get_git_hash():\n",
    "    \"\"\"\n",
    "    Get the current git hash from the repository.\n",
    "    Based on http://stackoverflow.com/a/949391/323100 and\n",
    "    http://stackoverflow.com/a/18283905/323100\n",
    "    \"\"\"\n",
    "    from subprocess import Popen, PIPE\n",
    "    import os\n",
    "    gitprocess = Popen(['git', '--git-dir', os.path.join(os.getcwd(), '.git'),\n",
    "                        'rev-parse', '--short', '--verify', 'HEAD'],\n",
    "                       stdout=PIPE)\n",
    "    (output, _) = gitprocess.communicate()\n",
    "    return output.strip().decode(\"utf-8\")"
   ]
  },
  {
   "cell_type": "code",
   "execution_count": 4,
   "metadata": {},
   "outputs": [
    {
     "name": "stdout",
     "output_type": "stream",
     "text": [
      "We are working with version 81b22a9 of the analyis notebook\n"
     ]
    }
   ],
   "source": [
    "the_current_git_hash = get_git_hash()\n",
    "print('We are working with version %s of the analyis notebook'\n",
    "      % the_current_git_hash)"
   ]
  },
  {
   "cell_type": "code",
   "execution_count": 5,
   "metadata": {
    "collapsed": true
   },
   "outputs": [],
   "source": [
    "# Display defaults\n",
    "plt.rc('image', cmap='gray', interpolation='nearest')  # Display all images in b&w\n",
    "plt.rcParams['figure.figsize'] = (16, 9)  # Size up figures a bit\n",
    "plt.rcParams['savefig.transparent'] = True  # Save figures with transparent background"
   ]
  },
  {
   "cell_type": "code",
   "execution_count": 6,
   "metadata": {
    "collapsed": true
   },
   "outputs": [],
   "source": [
    "# Make us an output folder (including the git hash, so we (potentially) have different versions of the images)\n",
    "imgdir = os.path.join('img', the_current_git_hash)\n",
    "os.makedirs(imgdir, exist_ok=True)"
   ]
  },
  {
   "cell_type": "markdown",
   "metadata": {},
   "source": [
    "Now we load the 'Count' data from Eveline."
   ]
  },
  {
   "cell_type": "code",
   "execution_count": 7,
   "metadata": {
    "collapsed": true
   },
   "outputs": [],
   "source": [
    "# # Different locations if running either on Linux or Windows\n",
    "# if 'debian' in platform.dist():\n",
    "#     drive = os.path.join(os.sep, 'home', 'habi', 'nas_gruppe_schittny')\n",
    "# else:\n",
    "#     drive = os.path.join('\\\\\\\\nas.ana.unibe.ch\\\\', 'gruppe_schittny', 'Data')\n",
    "# # Load the data from this folder\n",
    "# RootPath = os.path.join(drive, 'doc', 'David')\n",
    "# print('We are loading all the data from %s' % RootPath)"
   ]
  },
  {
   "cell_type": "code",
   "execution_count": 8,
   "metadata": {},
   "outputs": [
    {
     "name": "stdout",
     "output_type": "stream",
     "text": [
      "We are loading all the data from /media/habi/Fast_SSD/Acini\n"
     ]
    }
   ],
   "source": [
    "# We copied everything from nas_schittny and the terastation to 'fast SSD'.\n",
    "# Load the data from there\n",
    "if 'debian' in platform.dist():\n",
    "    drive = '/media/habi/Fast_SSD/'\n",
    "else:\n",
    "    drive = 'F:/'\n",
    "# Load the data from this folder\n",
    "RootPath = drive + os.path.join('Acini')\n",
    "print('We are loading all the data from %s' % RootPath)"
   ]
  },
  {
   "cell_type": "code",
   "execution_count": 9,
   "metadata": {
    "collapsed": true
   },
   "outputs": [],
   "source": [
    "# Get a list of *all* excel files that Eveline exported from the STEPanizer\n",
    "# Based on https://stackoverflow.com/a/14798263\n",
    "StepanizerFiles_Eveline = sorted(glob.glob(os.path.join(RootPath, '**/*201[1234567]*.xls'), recursive=True))"
   ]
  },
  {
   "cell_type": "code",
   "execution_count": 10,
   "metadata": {},
   "outputs": [
    {
     "name": "stdout",
     "output_type": "stream",
     "text": [
      "Eveline counted the alveoli in 287 acini\n"
     ]
    }
   ],
   "source": [
    "print('Eveline counted the alveoli in %s acini' % len(StepanizerFiles_Eveline))"
   ]
  },
  {
   "cell_type": "code",
   "execution_count": 11,
   "metadata": {
    "collapsed": true
   },
   "outputs": [],
   "source": [
    "# # Grab relevant data from filenames\n",
    "# for f in StepanizerFiles_Eveline:\n",
    "#     print('Animal', os.path.basename(f).split('_R108C')[1].split('mrg-')[0][:3])\n",
    "#     print('Day', os.path.basename(f).split('_R108C')[1].split('mrg-')[0][:2])\n",
    "#     print('Acinus', os.path.basename(f).split('acinus')[1].split('_')[0])"
   ]
  },
  {
   "cell_type": "code",
   "execution_count": 12,
   "metadata": {
    "collapsed": true
   },
   "outputs": [],
   "source": [
    "# Generate dataframe to save Evelines assessment\n",
    "Eveline = pandas.DataFrame({'Location': StepanizerFiles_Eveline})\n",
    "Eveline['Filename'] = [os.path.basename(f) for f in StepanizerFiles_Eveline]\n",
    "Eveline['Beamtime'] = [os.path.dirname(f).split('Acini')[1].split(os.sep)[1] for f in StepanizerFiles_Eveline]\n",
    "Eveline['Sample'] = [os.path.basename(f).split('-acinus')[0][1:] for f in StepanizerFiles_Eveline]\n",
    "Eveline['Animal'] = [os.path.basename(f).split('_R108C')[1].split('mrg-')[0][:3] for f in StepanizerFiles_Eveline]\n",
    "Eveline['Day'] = [int(os.path.basename(f).split('_R108C')[1].split('mrg-')[0][:2]) for f in StepanizerFiles_Eveline]\n",
    "Eveline['Acinus'] = [int(os.path.basename(f).split('acinus')[1].split('_')[0]) for f in StepanizerFiles_Eveline]\n",
    "Eveline['Counts'] = [int(pandas.read_csv(f, nrows=13, delimiter='\\t')['Total'][10]) for f in StepanizerFiles_Eveline]\n",
    "# Since we seem to have different tab-count in the files, we just read one single cell, explicitly...\n",
    "Eveline['Pixelsize'] = [float(pandas.read_csv(f, delimiter='\\t', encoding='latin',\n",
    "                                              skiprows=16, header=None, usecols=[0, 1], nrows=1)[1][0])\n",
    "                        for f in StepanizerFiles_Eveline]\n",
    "# Count the images in their respective folders\n",
    "Eveline['Number of images'] = [[int(os.path.basename(i).split('_')[-2]) for\n",
    "                                i in glob.glob(os.path.join(os.path.dirname(location),\n",
    "                                                            '*.jpg'))] for\n",
    "                               location in Eveline.Location]\n",
    "Eveline['Number of images'] = [max(li) for li in Eveline['Number of images']]"
   ]
  },
  {
   "cell_type": "code",
   "execution_count": 13,
   "metadata": {},
   "outputs": [
    {
     "data": {
      "text/html": [
       "<div>\n",
       "<style>\n",
       "    .dataframe thead tr:only-child th {\n",
       "        text-align: right;\n",
       "    }\n",
       "\n",
       "    .dataframe thead th {\n",
       "        text-align: left;\n",
       "    }\n",
       "\n",
       "    .dataframe tbody tr th {\n",
       "        vertical-align: top;\n",
       "    }\n",
       "</style>\n",
       "<table border=\"1\" class=\"dataframe\">\n",
       "  <thead>\n",
       "    <tr style=\"text-align: right;\">\n",
       "      <th></th>\n",
       "      <th></th>\n",
       "      <th>count</th>\n",
       "      <th>mean</th>\n",
       "      <th>std</th>\n",
       "      <th>min</th>\n",
       "      <th>25%</th>\n",
       "      <th>50%</th>\n",
       "      <th>75%</th>\n",
       "      <th>max</th>\n",
       "    </tr>\n",
       "    <tr>\n",
       "      <th>Day</th>\n",
       "      <th>Animal</th>\n",
       "      <th></th>\n",
       "      <th></th>\n",
       "      <th></th>\n",
       "      <th></th>\n",
       "      <th></th>\n",
       "      <th></th>\n",
       "      <th></th>\n",
       "      <th></th>\n",
       "    </tr>\n",
       "  </thead>\n",
       "  <tbody>\n",
       "    <tr>\n",
       "      <th rowspan=\"3\" valign=\"top\">4</th>\n",
       "      <th>04A</th>\n",
       "      <td>50.0</td>\n",
       "      <td>27.040000</td>\n",
       "      <td>23.687558</td>\n",
       "      <td>4.0</td>\n",
       "      <td>11.25</td>\n",
       "      <td>17.5</td>\n",
       "      <td>35.00</td>\n",
       "      <td>111.0</td>\n",
       "    </tr>\n",
       "    <tr>\n",
       "      <th>04B</th>\n",
       "      <td>23.0</td>\n",
       "      <td>65.043478</td>\n",
       "      <td>43.849410</td>\n",
       "      <td>15.0</td>\n",
       "      <td>34.50</td>\n",
       "      <td>53.0</td>\n",
       "      <td>80.00</td>\n",
       "      <td>171.0</td>\n",
       "    </tr>\n",
       "    <tr>\n",
       "      <th>04C</th>\n",
       "      <td>51.0</td>\n",
       "      <td>60.509804</td>\n",
       "      <td>45.424387</td>\n",
       "      <td>10.0</td>\n",
       "      <td>29.50</td>\n",
       "      <td>52.0</td>\n",
       "      <td>77.00</td>\n",
       "      <td>249.0</td>\n",
       "    </tr>\n",
       "    <tr>\n",
       "      <th rowspan=\"3\" valign=\"top\">10</th>\n",
       "      <th>10A</th>\n",
       "      <td>27.0</td>\n",
       "      <td>77.851852</td>\n",
       "      <td>56.305283</td>\n",
       "      <td>18.0</td>\n",
       "      <td>28.50</td>\n",
       "      <td>69.0</td>\n",
       "      <td>122.00</td>\n",
       "      <td>245.0</td>\n",
       "    </tr>\n",
       "    <tr>\n",
       "      <th>10B</th>\n",
       "      <td>14.0</td>\n",
       "      <td>84.571429</td>\n",
       "      <td>65.752115</td>\n",
       "      <td>23.0</td>\n",
       "      <td>37.50</td>\n",
       "      <td>52.0</td>\n",
       "      <td>135.25</td>\n",
       "      <td>199.0</td>\n",
       "    </tr>\n",
       "    <tr>\n",
       "      <th>10C</th>\n",
       "      <td>17.0</td>\n",
       "      <td>108.764706</td>\n",
       "      <td>125.449955</td>\n",
       "      <td>15.0</td>\n",
       "      <td>46.00</td>\n",
       "      <td>73.0</td>\n",
       "      <td>105.00</td>\n",
       "      <td>505.0</td>\n",
       "    </tr>\n",
       "    <tr>\n",
       "      <th rowspan=\"3\" valign=\"top\">21</th>\n",
       "      <th>21B</th>\n",
       "      <td>14.0</td>\n",
       "      <td>208.142857</td>\n",
       "      <td>197.709133</td>\n",
       "      <td>35.0</td>\n",
       "      <td>72.00</td>\n",
       "      <td>160.5</td>\n",
       "      <td>237.00</td>\n",
       "      <td>781.0</td>\n",
       "    </tr>\n",
       "    <tr>\n",
       "      <th>21D</th>\n",
       "      <td>17.0</td>\n",
       "      <td>196.000000</td>\n",
       "      <td>128.564672</td>\n",
       "      <td>50.0</td>\n",
       "      <td>97.00</td>\n",
       "      <td>167.0</td>\n",
       "      <td>271.00</td>\n",
       "      <td>493.0</td>\n",
       "    </tr>\n",
       "    <tr>\n",
       "      <th>21E</th>\n",
       "      <td>11.0</td>\n",
       "      <td>323.090909</td>\n",
       "      <td>145.936599</td>\n",
       "      <td>108.0</td>\n",
       "      <td>218.00</td>\n",
       "      <td>298.0</td>\n",
       "      <td>434.50</td>\n",
       "      <td>572.0</td>\n",
       "    </tr>\n",
       "    <tr>\n",
       "      <th rowspan=\"4\" valign=\"top\">60</th>\n",
       "      <th>60B</th>\n",
       "      <td>24.0</td>\n",
       "      <td>350.875000</td>\n",
       "      <td>115.473058</td>\n",
       "      <td>161.0</td>\n",
       "      <td>253.25</td>\n",
       "      <td>364.0</td>\n",
       "      <td>424.50</td>\n",
       "      <td>648.0</td>\n",
       "    </tr>\n",
       "    <tr>\n",
       "      <th>60C</th>\n",
       "      <td>20.0</td>\n",
       "      <td>103.800000</td>\n",
       "      <td>60.113577</td>\n",
       "      <td>30.0</td>\n",
       "      <td>68.00</td>\n",
       "      <td>86.0</td>\n",
       "      <td>127.00</td>\n",
       "      <td>270.0</td>\n",
       "    </tr>\n",
       "    <tr>\n",
       "      <th>60D</th>\n",
       "      <td>10.0</td>\n",
       "      <td>363.700000</td>\n",
       "      <td>99.473112</td>\n",
       "      <td>222.0</td>\n",
       "      <td>299.25</td>\n",
       "      <td>368.5</td>\n",
       "      <td>390.00</td>\n",
       "      <td>591.0</td>\n",
       "    </tr>\n",
       "    <tr>\n",
       "      <th>60E</th>\n",
       "      <td>9.0</td>\n",
       "      <td>395.777778</td>\n",
       "      <td>134.458895</td>\n",
       "      <td>136.0</td>\n",
       "      <td>368.00</td>\n",
       "      <td>370.0</td>\n",
       "      <td>472.00</td>\n",
       "      <td>602.0</td>\n",
       "    </tr>\n",
       "  </tbody>\n",
       "</table>\n",
       "</div>"
      ],
      "text/plain": [
       "            count        mean         std    min     25%    50%     75%    max\n",
       "Day Animal                                                                    \n",
       "4   04A      50.0   27.040000   23.687558    4.0   11.25   17.5   35.00  111.0\n",
       "    04B      23.0   65.043478   43.849410   15.0   34.50   53.0   80.00  171.0\n",
       "    04C      51.0   60.509804   45.424387   10.0   29.50   52.0   77.00  249.0\n",
       "10  10A      27.0   77.851852   56.305283   18.0   28.50   69.0  122.00  245.0\n",
       "    10B      14.0   84.571429   65.752115   23.0   37.50   52.0  135.25  199.0\n",
       "    10C      17.0  108.764706  125.449955   15.0   46.00   73.0  105.00  505.0\n",
       "21  21B      14.0  208.142857  197.709133   35.0   72.00  160.5  237.00  781.0\n",
       "    21D      17.0  196.000000  128.564672   50.0   97.00  167.0  271.00  493.0\n",
       "    21E      11.0  323.090909  145.936599  108.0  218.00  298.0  434.50  572.0\n",
       "60  60B      24.0  350.875000  115.473058  161.0  253.25  364.0  424.50  648.0\n",
       "    60C      20.0  103.800000   60.113577   30.0   68.00   86.0  127.00  270.0\n",
       "    60D      10.0  363.700000   99.473112  222.0  299.25  368.5  390.00  591.0\n",
       "    60E       9.0  395.777778  134.458895  136.0  368.00  370.0  472.00  602.0"
      ]
     },
     "execution_count": 13,
     "metadata": {},
     "output_type": "execute_result"
    }
   ],
   "source": [
    "Eveline.groupby(by=['Day', 'Animal'])['Counts'].describe()"
   ]
  },
  {
   "cell_type": "code",
   "execution_count": 14,
   "metadata": {},
   "outputs": [],
   "source": [
    "# Eveline.loc[(Eveline.Animal == '60D') & (Eveline.Acinus == 3)].head()"
   ]
  },
  {
   "cell_type": "code",
   "execution_count": 15,
   "metadata": {},
   "outputs": [],
   "source": [
    "# Eveline.loc[(Eveline.Animal == '60D') & (Eveline.Acinus == 4)].head()"
   ]
  },
  {
   "cell_type": "code",
   "execution_count": 16,
   "metadata": {
    "collapsed": true
   },
   "outputs": [],
   "source": [
    "# For D60, Eveline counted only half of the images, we thus double the 'counts'\n",
    "Eveline.loc[Eveline.Animal == '60B', 'Counts'] = 2 * Eveline['Counts']\n",
    "# For Animal 60C she counted *every* image, we thus don't double there!\n",
    "Eveline.loc[Eveline.Animal == '60D', 'Counts'] = 2 * Eveline['Counts']\n",
    "Eveline.loc[Eveline.Animal == '60E', 'Counts'] = 2 * Eveline['Counts']\n",
    "# For two acini (acinus 3 for 60D and acinus 12 for 60E) Eveline counted every image\n",
    "Eveline.loc[(Eveline.Animal == '60D') & (Eveline.Acinus == 3), 'Counts'] = 0.5 * Eveline['Counts']\n",
    "Eveline.loc[(Eveline.Animal == '60E') & (Eveline.Acinus == 12), 'Counts'] = 0.5 * Eveline['Counts']\n",
    "# The 'number of images' (read below) stays the same, since Eveline just skipped the images in STEPanizer!"
   ]
  },
  {
   "cell_type": "code",
   "execution_count": 17,
   "metadata": {},
   "outputs": [],
   "source": [
    "# Eveline.loc[(Eveline.Animal == '60D') & (Eveline.Acinus == 4)].head()"
   ]
  },
  {
   "cell_type": "code",
   "execution_count": 18,
   "metadata": {},
   "outputs": [],
   "source": [
    "# Eveline.loc[(Eveline.Animal == '60E')]"
   ]
  },
  {
   "cell_type": "code",
   "execution_count": 19,
   "metadata": {},
   "outputs": [
    {
     "data": {
      "text/html": [
       "<div>\n",
       "<style>\n",
       "    .dataframe thead tr:only-child th {\n",
       "        text-align: right;\n",
       "    }\n",
       "\n",
       "    .dataframe thead th {\n",
       "        text-align: left;\n",
       "    }\n",
       "\n",
       "    .dataframe tbody tr th {\n",
       "        vertical-align: top;\n",
       "    }\n",
       "</style>\n",
       "<table border=\"1\" class=\"dataframe\">\n",
       "  <thead>\n",
       "    <tr style=\"text-align: right;\">\n",
       "      <th></th>\n",
       "      <th></th>\n",
       "      <th>count</th>\n",
       "      <th>mean</th>\n",
       "      <th>std</th>\n",
       "      <th>min</th>\n",
       "      <th>25%</th>\n",
       "      <th>50%</th>\n",
       "      <th>75%</th>\n",
       "      <th>max</th>\n",
       "    </tr>\n",
       "    <tr>\n",
       "      <th>Day</th>\n",
       "      <th>Animal</th>\n",
       "      <th></th>\n",
       "      <th></th>\n",
       "      <th></th>\n",
       "      <th></th>\n",
       "      <th></th>\n",
       "      <th></th>\n",
       "      <th></th>\n",
       "      <th></th>\n",
       "    </tr>\n",
       "  </thead>\n",
       "  <tbody>\n",
       "    <tr>\n",
       "      <th rowspan=\"3\" valign=\"top\">4</th>\n",
       "      <th>04A</th>\n",
       "      <td>50.0</td>\n",
       "      <td>27.040000</td>\n",
       "      <td>23.687558</td>\n",
       "      <td>4.0</td>\n",
       "      <td>11.25</td>\n",
       "      <td>17.5</td>\n",
       "      <td>35.00</td>\n",
       "      <td>111.0</td>\n",
       "    </tr>\n",
       "    <tr>\n",
       "      <th>04B</th>\n",
       "      <td>23.0</td>\n",
       "      <td>65.043478</td>\n",
       "      <td>43.849410</td>\n",
       "      <td>15.0</td>\n",
       "      <td>34.50</td>\n",
       "      <td>53.0</td>\n",
       "      <td>80.00</td>\n",
       "      <td>171.0</td>\n",
       "    </tr>\n",
       "    <tr>\n",
       "      <th>04C</th>\n",
       "      <td>51.0</td>\n",
       "      <td>60.509804</td>\n",
       "      <td>45.424387</td>\n",
       "      <td>10.0</td>\n",
       "      <td>29.50</td>\n",
       "      <td>52.0</td>\n",
       "      <td>77.00</td>\n",
       "      <td>249.0</td>\n",
       "    </tr>\n",
       "    <tr>\n",
       "      <th rowspan=\"3\" valign=\"top\">10</th>\n",
       "      <th>10A</th>\n",
       "      <td>27.0</td>\n",
       "      <td>77.851852</td>\n",
       "      <td>56.305283</td>\n",
       "      <td>18.0</td>\n",
       "      <td>28.50</td>\n",
       "      <td>69.0</td>\n",
       "      <td>122.00</td>\n",
       "      <td>245.0</td>\n",
       "    </tr>\n",
       "    <tr>\n",
       "      <th>10B</th>\n",
       "      <td>14.0</td>\n",
       "      <td>84.571429</td>\n",
       "      <td>65.752115</td>\n",
       "      <td>23.0</td>\n",
       "      <td>37.50</td>\n",
       "      <td>52.0</td>\n",
       "      <td>135.25</td>\n",
       "      <td>199.0</td>\n",
       "    </tr>\n",
       "    <tr>\n",
       "      <th>10C</th>\n",
       "      <td>17.0</td>\n",
       "      <td>108.764706</td>\n",
       "      <td>125.449955</td>\n",
       "      <td>15.0</td>\n",
       "      <td>46.00</td>\n",
       "      <td>73.0</td>\n",
       "      <td>105.00</td>\n",
       "      <td>505.0</td>\n",
       "    </tr>\n",
       "    <tr>\n",
       "      <th rowspan=\"3\" valign=\"top\">21</th>\n",
       "      <th>21B</th>\n",
       "      <td>14.0</td>\n",
       "      <td>208.142857</td>\n",
       "      <td>197.709133</td>\n",
       "      <td>35.0</td>\n",
       "      <td>72.00</td>\n",
       "      <td>160.5</td>\n",
       "      <td>237.00</td>\n",
       "      <td>781.0</td>\n",
       "    </tr>\n",
       "    <tr>\n",
       "      <th>21D</th>\n",
       "      <td>17.0</td>\n",
       "      <td>196.000000</td>\n",
       "      <td>128.564672</td>\n",
       "      <td>50.0</td>\n",
       "      <td>97.00</td>\n",
       "      <td>167.0</td>\n",
       "      <td>271.00</td>\n",
       "      <td>493.0</td>\n",
       "    </tr>\n",
       "    <tr>\n",
       "      <th>21E</th>\n",
       "      <td>11.0</td>\n",
       "      <td>323.090909</td>\n",
       "      <td>145.936599</td>\n",
       "      <td>108.0</td>\n",
       "      <td>218.00</td>\n",
       "      <td>298.0</td>\n",
       "      <td>434.50</td>\n",
       "      <td>572.0</td>\n",
       "    </tr>\n",
       "    <tr>\n",
       "      <th rowspan=\"4\" valign=\"top\">60</th>\n",
       "      <th>60B</th>\n",
       "      <td>24.0</td>\n",
       "      <td>701.750000</td>\n",
       "      <td>230.946116</td>\n",
       "      <td>322.0</td>\n",
       "      <td>506.50</td>\n",
       "      <td>728.0</td>\n",
       "      <td>849.00</td>\n",
       "      <td>1296.0</td>\n",
       "    </tr>\n",
       "    <tr>\n",
       "      <th>60C</th>\n",
       "      <td>20.0</td>\n",
       "      <td>103.800000</td>\n",
       "      <td>60.113577</td>\n",
       "      <td>30.0</td>\n",
       "      <td>68.00</td>\n",
       "      <td>86.0</td>\n",
       "      <td>127.00</td>\n",
       "      <td>270.0</td>\n",
       "    </tr>\n",
       "    <tr>\n",
       "      <th>60D</th>\n",
       "      <td>10.0</td>\n",
       "      <td>668.300000</td>\n",
       "      <td>121.669909</td>\n",
       "      <td>444.0</td>\n",
       "      <td>569.25</td>\n",
       "      <td>722.0</td>\n",
       "      <td>747.00</td>\n",
       "      <td>810.0</td>\n",
       "    </tr>\n",
       "    <tr>\n",
       "      <th>60E</th>\n",
       "      <td>9.0</td>\n",
       "      <td>739.111111</td>\n",
       "      <td>281.215418</td>\n",
       "      <td>272.0</td>\n",
       "      <td>640.00</td>\n",
       "      <td>738.0</td>\n",
       "      <td>770.00</td>\n",
       "      <td>1204.0</td>\n",
       "    </tr>\n",
       "  </tbody>\n",
       "</table>\n",
       "</div>"
      ],
      "text/plain": [
       "            count        mean         std    min     25%    50%     75%  \\\n",
       "Day Animal                                                                \n",
       "4   04A      50.0   27.040000   23.687558    4.0   11.25   17.5   35.00   \n",
       "    04B      23.0   65.043478   43.849410   15.0   34.50   53.0   80.00   \n",
       "    04C      51.0   60.509804   45.424387   10.0   29.50   52.0   77.00   \n",
       "10  10A      27.0   77.851852   56.305283   18.0   28.50   69.0  122.00   \n",
       "    10B      14.0   84.571429   65.752115   23.0   37.50   52.0  135.25   \n",
       "    10C      17.0  108.764706  125.449955   15.0   46.00   73.0  105.00   \n",
       "21  21B      14.0  208.142857  197.709133   35.0   72.00  160.5  237.00   \n",
       "    21D      17.0  196.000000  128.564672   50.0   97.00  167.0  271.00   \n",
       "    21E      11.0  323.090909  145.936599  108.0  218.00  298.0  434.50   \n",
       "60  60B      24.0  701.750000  230.946116  322.0  506.50  728.0  849.00   \n",
       "    60C      20.0  103.800000   60.113577   30.0   68.00   86.0  127.00   \n",
       "    60D      10.0  668.300000  121.669909  444.0  569.25  722.0  747.00   \n",
       "    60E       9.0  739.111111  281.215418  272.0  640.00  738.0  770.00   \n",
       "\n",
       "               max  \n",
       "Day Animal          \n",
       "4   04A      111.0  \n",
       "    04B      171.0  \n",
       "    04C      249.0  \n",
       "10  10A      245.0  \n",
       "    10B      199.0  \n",
       "    10C      505.0  \n",
       "21  21B      781.0  \n",
       "    21D      493.0  \n",
       "    21E      572.0  \n",
       "60  60B     1296.0  \n",
       "    60C      270.0  \n",
       "    60D      810.0  \n",
       "    60E     1204.0  "
      ]
     },
     "execution_count": 19,
     "metadata": {},
     "output_type": "execute_result"
    }
   ],
   "source": [
    "Eveline.groupby(by=['Day', 'Animal'])['Counts'].describe()"
   ]
  },
  {
   "cell_type": "code",
   "execution_count": 20,
   "metadata": {
    "collapsed": true
   },
   "outputs": [
    {
     "name": "stdout",
     "output_type": "stream",
     "text": [
      "Details of day 4\n",
      "            count       mean        std   min    25%   50%   75%    max\n",
      "Day Animal                                                             \n",
      "4   04A      50.0  27.040000  23.687558   4.0  11.25  17.5  35.0  111.0\n",
      "    04B      23.0  65.043478  43.849410  15.0  34.50  53.0  80.0  171.0\n",
      "    04C      51.0  60.509804  45.424387  10.0  29.50  52.0  77.0  249.0\n",
      "--------------------------------------------------------------------------------\n",
      "Details of day 10\n",
      "            count        mean         std   min   25%   50%     75%    max\n",
      "Day Animal                                                                \n",
      "10  10A      27.0   77.851852   56.305283  18.0  28.5  69.0  122.00  245.0\n",
      "    10B      14.0   84.571429   65.752115  23.0  37.5  52.0  135.25  199.0\n",
      "    10C      17.0  108.764706  125.449955  15.0  46.0  73.0  105.00  505.0\n",
      "--------------------------------------------------------------------------------\n",
      "Details of day 21\n",
      "            count        mean         std    min    25%    50%    75%    max\n",
      "Day Animal                                                                  \n",
      "21  21B      14.0  208.142857  197.709133   35.0   72.0  160.5  237.0  781.0\n",
      "    21D      17.0  196.000000  128.564672   50.0   97.0  167.0  271.0  493.0\n",
      "    21E      11.0  323.090909  145.936599  108.0  218.0  298.0  434.5  572.0\n",
      "--------------------------------------------------------------------------------\n",
      "Details of day 60\n",
      "            count        mean         std    min     25%    50%    75%     max\n",
      "Day Animal                                                                    \n",
      "60  60B      24.0  701.750000  230.946116  322.0  506.50  728.0  849.0  1296.0\n",
      "    60C      20.0  103.800000   60.113577   30.0   68.00   86.0  127.0   270.0\n",
      "    60D      10.0  668.300000  121.669909  444.0  569.25  722.0  747.0   810.0\n",
      "    60E       9.0  739.111111  281.215418  272.0  640.00  738.0  770.0  1204.0\n",
      "--------------------------------------------------------------------------------\n"
     ]
    }
   ],
   "source": [
    "# Describe counts\n",
    "for d in sorted(Eveline.Day.unique()):\n",
    "    print('Details of day %s' % d)\n",
    "    print(Eveline.loc[Eveline.Day == d].groupby(by=['Day', 'Animal'])['Counts'].describe())\n",
    "    print(80 * '-')"
   ]
  },
  {
   "cell_type": "code",
   "execution_count": 21,
   "metadata": {},
   "outputs": [
    {
     "name": "stdout",
     "output_type": "stream",
     "text": [
      "The mean count (alveolar number) at day  4 is  47.85 (+-  41.28 STD)\n",
      "The mean count (alveolar number) at day 10 is  88.53 (+-  83.84 STD)\n",
      "The mean count (alveolar number) at day 21 is 233.33 (+- 164.30 STD)\n",
      "The mean count (alveolar number) at day 60 is 511.95 (+- 335.20 STD)\n"
     ]
    }
   ],
   "source": [
    "# What's the mean count for the days?\n",
    "for d in sorted(Eveline.Day.unique()):\n",
    "    print('The mean count (alveolar number) at day %02s is %6.2f (+- %6.2f STD)' % (d,\n",
    "                                                                                    Eveline.loc[Eveline.Day == d]['Counts'].mean(),\n",
    "                                                                                    Eveline.loc[Eveline.Day == d]['Counts'].std()))"
   ]
  },
  {
   "cell_type": "code",
   "execution_count": 22,
   "metadata": {
    "collapsed": true
   },
   "outputs": [],
   "source": [
    "# Get a list of *all* the excel files *I* counted are from the STEPanizer\n",
    "# Since we only counted in 2018, we can filter to this year in the file name.\n",
    "StepanizerFiles_David = sorted(glob.glob(os.path.join(RootPath, '**/*2018*.xls'), recursive=True))"
   ]
  },
  {
   "cell_type": "code",
   "execution_count": 23,
   "metadata": {},
   "outputs": [
    {
     "name": "stdout",
     "output_type": "stream",
     "text": [
      "David assessed the disector volume in 287 acini\n"
     ]
    }
   ],
   "source": [
    "print('David assessed the disector volume in %s acini' % len(StepanizerFiles_David))"
   ]
  },
  {
   "cell_type": "code",
   "execution_count": 24,
   "metadata": {
    "collapsed": true
   },
   "outputs": [],
   "source": [
    "# Copied verbatim from ReadVolumeSurfaceAndAlveaolarNumber.py\n",
    "DisectorThickness = 5    # slices\n",
    "TOMCATPixelSize = 1.48   # um\n",
    "ShrinkageFactor = 0.61   # Volume-Shrinkage-Factor = 61% with STD=5, calculated by Sébastien: Volume TOMCAT / Waterdisplacement"
   ]
  },
  {
   "cell_type": "code",
   "execution_count": 25,
   "metadata": {
    "collapsed": true
   },
   "outputs": [],
   "source": [
    "David = pandas.DataFrame({'Location': StepanizerFiles_David})\n",
    "David['Filename'] = [os.path.basename(f) for f in StepanizerFiles_David]\n",
    "David['Animal'] = [os.path.basename(f).split('_R108C')[1].split('mrg-')[0][:3] for f in StepanizerFiles_David]\n",
    "David['Day'] = [int(os.path.basename(f).split('_R108C')[1].split('mrg-')[0][:2]) for f in StepanizerFiles_David]\n",
    "David['Beamtime'] = [os.path.dirname(f).split('Acini')[1].split(os.sep)[1] for f in StepanizerFiles_David]\n",
    "David['Sample'] = [os.path.basename(f).split('-acinus')[0][1:] for f in StepanizerFiles_David]\n",
    "David['Acinus'] = [int(os.path.basename(f).split('acinus')[1].split('_')[0]) for f in StepanizerFiles_David]\n",
    "David['Counts'] = [int(pandas.read_csv(f, nrows=13,\n",
    "                                       delimiter='\\t')['Total'][10]) for f in StepanizerFiles_David]\n",
    "David['Pixelsize'] = [float(pandas.read_csv(f, skiprows=16, nrows=1, delimiter='\\t', encoding='latin',\n",
    "                                            header=None, usecols=[1])[1]) for f in StepanizerFiles_David]\n",
    "David['Area per point'] = [float(pandas.read_csv(f, delimiter='\\t', encoding='latin',\n",
    "                                                 skiprows=28, header=None, usecols=[0, 1],\n",
    "                                                 nrows=1)[1][0]) for f in StepanizerFiles_David]\n",
    "David['Acinusvolume'] = [cts * ap * 2 * DisectorThickness * TOMCATPixelSize / 1e9 for cts, ap in zip(David['Counts'],\n",
    "                                                                                                     David['Area per point'])]  # from um^3 to mm^3\n",
    "# Read the number of images from the xls-file instead of counting from disk\n",
    "# Might be good for error-checking...\n",
    "David['Number of images'] = [int(pandas.read_csv(f, delimiter='\\t', encoding='latin',\n",
    "                                                 skiprows=12, header=None, usecols=[0, 1, 2, 3],\n",
    "                                                 nrows=1)[2][0][2:])  # Stefan writes '->NumImg' into the cell, so we read only everything from string position 3 on...\n",
    "                             for f in StepanizerFiles_David]"
   ]
  },
  {
   "cell_type": "code",
   "execution_count": 26,
   "metadata": {},
   "outputs": [
    {
     "name": "stdout",
     "output_type": "stream",
     "text": [
      "2449.1438356164385\n"
     ]
    }
   ],
   "source": [
    "# Salm zu Barré (d21)\n",
    "NumAlveoli = 14.303 * 1e6\n",
    "NumAcini = 5840\n",
    "print(NumAlveoli / NumAcini)"
   ]
  },
  {
   "cell_type": "code",
   "execution_count": 27,
   "metadata": {},
   "outputs": [
    {
     "data": {
      "text/plain": [
       "6.0689440772140947e-10"
      ]
     },
     "execution_count": 27,
     "metadata": {},
     "output_type": "execute_result"
    }
   ],
   "source": [
    "David[David.Day == 21]['Acinusvolume'].mean() * 1e-12 * NumAcini"
   ]
  },
  {
   "cell_type": "code",
   "execution_count": 28,
   "metadata": {},
   "outputs": [
    {
     "name": "stdout",
     "output_type": "stream",
     "text": [
      "We have the data of 287 acini...\n",
      "We thus still need to count approximately 0 acini...\n"
     ]
    }
   ],
   "source": [
    "# Merge 'Eveline' and 'David' to evaluate the data\n",
    "# See the 'DisectorVolumes' notebook for which acini remain to count!\n",
    "# Based on https://stackoverflow.com/a/33350050/323100\n",
    "Done = pandas.merge(Eveline, David,\n",
    "                    on=['Animal', 'Acinus', 'Day', 'Beamtime', 'Sample'],\n",
    "                    how='inner', suffixes=['_Eveline', '_David'],\n",
    "                    indicator=True)\n",
    "print('We have the data of %s acini...' % len(Done))\n",
    "print('We thus still need to count approximately %s acini...' % (len(Eveline) - len(David)))"
   ]
  },
  {
   "cell_type": "code",
   "execution_count": 29,
   "metadata": {},
   "outputs": [
    {
     "data": {
      "text/html": [
       "<div>\n",
       "<style>\n",
       "    .dataframe thead tr:only-child th {\n",
       "        text-align: right;\n",
       "    }\n",
       "\n",
       "    .dataframe thead th {\n",
       "        text-align: left;\n",
       "    }\n",
       "\n",
       "    .dataframe tbody tr th {\n",
       "        vertical-align: top;\n",
       "    }\n",
       "</style>\n",
       "<table border=\"1\" class=\"dataframe\">\n",
       "  <thead>\n",
       "    <tr style=\"text-align: right;\">\n",
       "      <th></th>\n",
       "      <th>Location_Eveline</th>\n",
       "      <th>Filename_Eveline</th>\n",
       "      <th>Beamtime</th>\n",
       "      <th>Sample</th>\n",
       "      <th>Animal</th>\n",
       "      <th>Day</th>\n",
       "      <th>Acinus</th>\n",
       "      <th>Counts_Eveline</th>\n",
       "      <th>Pixelsize_Eveline</th>\n",
       "      <th>Number of images_Eveline</th>\n",
       "      <th>Location_David</th>\n",
       "      <th>Filename_David</th>\n",
       "      <th>Counts_David</th>\n",
       "      <th>Pixelsize_David</th>\n",
       "      <th>Area per point</th>\n",
       "      <th>Acinusvolume</th>\n",
       "      <th>Number of images_David</th>\n",
       "      <th>_merge</th>\n",
       "    </tr>\n",
       "  </thead>\n",
       "  <tbody>\n",
       "    <tr>\n",
       "      <th>0</th>\n",
       "      <td>/media/habi/Fast_SSD/Acini/2009f/mrg/R108C60Dt...</td>\n",
       "      <td>_R108C60Dt-mrg-acinus03_2012-06-11_11-49_resul...</td>\n",
       "      <td>2009f</td>\n",
       "      <td>R108C60Dt-mrg</td>\n",
       "      <td>60D</td>\n",
       "      <td>60</td>\n",
       "      <td>3</td>\n",
       "      <td>591.0</td>\n",
       "      <td>2.44</td>\n",
       "      <td>93</td>\n",
       "      <td>/media/habi/Fast_SSD/Acini/2009f/mrg/R108C60Dt...</td>\n",
       "      <td>_R108C60Dt-mrg-acinus03_2018-01-26_12-57_resul...</td>\n",
       "      <td>526</td>\n",
       "      <td>2.00</td>\n",
       "      <td>141125.44</td>\n",
       "      <td>1.098633</td>\n",
       "      <td>93</td>\n",
       "      <td>both</td>\n",
       "    </tr>\n",
       "    <tr>\n",
       "      <th>1</th>\n",
       "      <td>/media/habi/Fast_SSD/Acini/2009f/mrg/R108C60Dt...</td>\n",
       "      <td>_R108C60Dt-mrg-acinus04_2012-10-19_11-56_resul...</td>\n",
       "      <td>2009f</td>\n",
       "      <td>R108C60Dt-mrg</td>\n",
       "      <td>60D</td>\n",
       "      <td>60</td>\n",
       "      <td>4</td>\n",
       "      <td>750.0</td>\n",
       "      <td>2.17</td>\n",
       "      <td>132</td>\n",
       "      <td>/media/habi/Fast_SSD/Acini/2009f/mrg/R108C60Dt...</td>\n",
       "      <td>_R108C60Dt-mrg-acinus04_2018-02-26_16-09_resul...</td>\n",
       "      <td>816</td>\n",
       "      <td>1.92</td>\n",
       "      <td>130478.41</td>\n",
       "      <td>1.575762</td>\n",
       "      <td>132</td>\n",
       "      <td>both</td>\n",
       "    </tr>\n",
       "    <tr>\n",
       "      <th>2</th>\n",
       "      <td>/media/habi/Fast_SSD/Acini/2009f/mrg/R108C60Dt...</td>\n",
       "      <td>_R108C60Dt-mrg-acinus07_2012-08-14_15-33_resul...</td>\n",
       "      <td>2009f</td>\n",
       "      <td>R108C60Dt-mrg</td>\n",
       "      <td>60D</td>\n",
       "      <td>60</td>\n",
       "      <td>7</td>\n",
       "      <td>738.0</td>\n",
       "      <td>1.35</td>\n",
       "      <td>120</td>\n",
       "      <td>/media/habi/Fast_SSD/Acini/2009f/mrg/R108C60Dt...</td>\n",
       "      <td>_R108C60Dt-mrg-acinus07_2018-02-23_12-47_resul...</td>\n",
       "      <td>938</td>\n",
       "      <td>1.15</td>\n",
       "      <td>46612.98</td>\n",
       "      <td>0.647100</td>\n",
       "      <td>120</td>\n",
       "      <td>both</td>\n",
       "    </tr>\n",
       "    <tr>\n",
       "      <th>3</th>\n",
       "      <td>/media/habi/Fast_SSD/Acini/2009f/mrg/R108C60Dt...</td>\n",
       "      <td>_R108C60Dt-mrg-acinus09_2012-08-14_17-21_resul...</td>\n",
       "      <td>2009f</td>\n",
       "      <td>R108C60Dt-mrg</td>\n",
       "      <td>60D</td>\n",
       "      <td>60</td>\n",
       "      <td>9</td>\n",
       "      <td>554.0</td>\n",
       "      <td>1.49</td>\n",
       "      <td>124</td>\n",
       "      <td>/media/habi/Fast_SSD/Acini/2009f/mrg/R108C60Dt...</td>\n",
       "      <td>_R108C60Dt-mrg-acinus09_2018-02-27_15-16_resul...</td>\n",
       "      <td>953</td>\n",
       "      <td>1.25</td>\n",
       "      <td>55127.13</td>\n",
       "      <td>0.777535</td>\n",
       "      <td>124</td>\n",
       "      <td>both</td>\n",
       "    </tr>\n",
       "    <tr>\n",
       "      <th>4</th>\n",
       "      <td>/media/habi/Fast_SSD/Acini/2009f/mrg/R108C60Dt...</td>\n",
       "      <td>_R108C60Dt-mrg-acinus10_2012-08-20_16-23_resul...</td>\n",
       "      <td>2009f</td>\n",
       "      <td>R108C60Dt-mrg</td>\n",
       "      <td>60D</td>\n",
       "      <td>60</td>\n",
       "      <td>10</td>\n",
       "      <td>562.0</td>\n",
       "      <td>1.41</td>\n",
       "      <td>110</td>\n",
       "      <td>/media/habi/Fast_SSD/Acini/2009f/mrg/R108C60Dt...</td>\n",
       "      <td>_R108C60Dt-mrg-acinus10_2018-02-26_16-28_resul...</td>\n",
       "      <td>814</td>\n",
       "      <td>1.16</td>\n",
       "      <td>47703.30</td>\n",
       "      <td>0.574691</td>\n",
       "      <td>110</td>\n",
       "      <td>both</td>\n",
       "    </tr>\n",
       "  </tbody>\n",
       "</table>\n",
       "</div>"
      ],
      "text/plain": [
       "                                    Location_Eveline  \\\n",
       "0  /media/habi/Fast_SSD/Acini/2009f/mrg/R108C60Dt...   \n",
       "1  /media/habi/Fast_SSD/Acini/2009f/mrg/R108C60Dt...   \n",
       "2  /media/habi/Fast_SSD/Acini/2009f/mrg/R108C60Dt...   \n",
       "3  /media/habi/Fast_SSD/Acini/2009f/mrg/R108C60Dt...   \n",
       "4  /media/habi/Fast_SSD/Acini/2009f/mrg/R108C60Dt...   \n",
       "\n",
       "                                    Filename_Eveline Beamtime         Sample  \\\n",
       "0  _R108C60Dt-mrg-acinus03_2012-06-11_11-49_resul...    2009f  R108C60Dt-mrg   \n",
       "1  _R108C60Dt-mrg-acinus04_2012-10-19_11-56_resul...    2009f  R108C60Dt-mrg   \n",
       "2  _R108C60Dt-mrg-acinus07_2012-08-14_15-33_resul...    2009f  R108C60Dt-mrg   \n",
       "3  _R108C60Dt-mrg-acinus09_2012-08-14_17-21_resul...    2009f  R108C60Dt-mrg   \n",
       "4  _R108C60Dt-mrg-acinus10_2012-08-20_16-23_resul...    2009f  R108C60Dt-mrg   \n",
       "\n",
       "  Animal  Day  Acinus  Counts_Eveline  Pixelsize_Eveline  \\\n",
       "0    60D   60       3           591.0               2.44   \n",
       "1    60D   60       4           750.0               2.17   \n",
       "2    60D   60       7           738.0               1.35   \n",
       "3    60D   60       9           554.0               1.49   \n",
       "4    60D   60      10           562.0               1.41   \n",
       "\n",
       "   Number of images_Eveline  \\\n",
       "0                        93   \n",
       "1                       132   \n",
       "2                       120   \n",
       "3                       124   \n",
       "4                       110   \n",
       "\n",
       "                                      Location_David  \\\n",
       "0  /media/habi/Fast_SSD/Acini/2009f/mrg/R108C60Dt...   \n",
       "1  /media/habi/Fast_SSD/Acini/2009f/mrg/R108C60Dt...   \n",
       "2  /media/habi/Fast_SSD/Acini/2009f/mrg/R108C60Dt...   \n",
       "3  /media/habi/Fast_SSD/Acini/2009f/mrg/R108C60Dt...   \n",
       "4  /media/habi/Fast_SSD/Acini/2009f/mrg/R108C60Dt...   \n",
       "\n",
       "                                      Filename_David  Counts_David  \\\n",
       "0  _R108C60Dt-mrg-acinus03_2018-01-26_12-57_resul...           526   \n",
       "1  _R108C60Dt-mrg-acinus04_2018-02-26_16-09_resul...           816   \n",
       "2  _R108C60Dt-mrg-acinus07_2018-02-23_12-47_resul...           938   \n",
       "3  _R108C60Dt-mrg-acinus09_2018-02-27_15-16_resul...           953   \n",
       "4  _R108C60Dt-mrg-acinus10_2018-02-26_16-28_resul...           814   \n",
       "\n",
       "   Pixelsize_David  Area per point  Acinusvolume  Number of images_David  \\\n",
       "0             2.00       141125.44      1.098633                      93   \n",
       "1             1.92       130478.41      1.575762                     132   \n",
       "2             1.15        46612.98      0.647100                     120   \n",
       "3             1.25        55127.13      0.777535                     124   \n",
       "4             1.16        47703.30      0.574691                     110   \n",
       "\n",
       "  _merge  \n",
       "0   both  \n",
       "1   both  \n",
       "2   both  \n",
       "3   both  \n",
       "4   both  "
      ]
     },
     "execution_count": 29,
     "metadata": {},
     "output_type": "execute_result"
    }
   ],
   "source": [
    "Done.head()"
   ]
  },
  {
   "cell_type": "code",
   "execution_count": 30,
   "metadata": {},
   "outputs": [
    {
     "data": {
      "image/png": "[encoded data removed]",
      "text/plain": [
       "<matplotlib.figure.Figure at 0x7ff13f4b2ba8>"
      ]
     },
     "metadata": {},
     "output_type": "display_data"
    }
   ],
   "source": [
    "# Compare data\n",
    "plt.subplot(121)\n",
    "seaborn.stripplot(data=Done, x='Day', y='Pixelsize_Eveline', jitter=True)\n",
    "plt.ylim([0, 2.5])\n",
    "plt.title('Pixelsizes Eveline')\n",
    "plt.subplot(122)\n",
    "seaborn.stripplot(data=Done, x='Day', y='Pixelsize_David', jitter=True)\n",
    "plt.title('Pixelsizes David')\n",
    "plt.ylim([0, 2.5])\n",
    "plt.show()"
   ]
  },
  {
   "cell_type": "code",
   "execution_count": 31,
   "metadata": {
    "collapsed": true
   },
   "outputs": [],
   "source": [
    "# Set ourselves a palette, based on the individual unique sample names\n",
    "# The dictionary palette setting is based on the comments in https://stackoverflow.com/q/36554075/323100\n",
    "ourcolors = seaborn.color_palette('husl', len(pandas.unique(Eveline.Animal)))\n",
    "ourpalette = {animal: ourcolors[c] for c, animal in enumerate(pandas.unique(Eveline.Animal))}"
   ]
  },
  {
   "cell_type": "code",
   "execution_count": 32,
   "metadata": {
    "collapsed": true
   },
   "outputs": [],
   "source": [
    "# Set indivdual measurement color (in dataframe)\n",
    "Eveline['Color'] = [None] * len(Eveline)\n",
    "for c, animal in enumerate(Eveline.Animal):\n",
    "    for d, i in enumerate(pandas.unique(Eveline.Animal)):\n",
    "        if animal == i:\n",
    "            Eveline.set_value(c, 'Color', ourcolors[d])"
   ]
  },
  {
   "cell_type": "markdown",
   "metadata": {},
   "source": [
    "Load the volume data directly from `anatera4`, where I originally exported the DICOM files from MeVisLab (and where the data still is).\n",
    "After doing that, we save it to a dataframe on disk, since looking for all the DICOM files takes nearly an hour..."
   ]
  },
  {
   "cell_type": "code",
   "execution_count": 33,
   "metadata": {},
   "outputs": [
    {
     "name": "stdout",
     "output_type": "stream",
     "text": [
      "We are loading all the data from /run/user/1000/gvfs/smb-share:server=anatera4,share=share/SLS\n"
     ]
    }
   ],
   "source": [
    "# Different locations if running either on Linux or Windows\n",
    "if 'debian' in platform.dist():\n",
    "    drive = '/run/user/1000/gvfs/smb-share:server=anatera4,share='\n",
    "else:\n",
    "    drive = '\\\\\\\\anatera4\\\\'\n",
    "# Load the data from this folder\n",
    "terastation = drive + os.path.join('share', 'SLS')\n",
    "print('We are loading all the data from %s' % terastation)"
   ]
  },
  {
   "cell_type": "code",
   "execution_count": 34,
   "metadata": {
    "collapsed": true
   },
   "outputs": [],
   "source": [
    "# Filename to save the data, with included git hash for versioning purposes...\n",
    "OutputName_Volumes = 'VolumesFromDisk_' + get_git_hash() + '.pkl'"
   ]
  },
  {
   "cell_type": "code",
   "execution_count": 35,
   "metadata": {
    "collapsed": true
   },
   "outputs": [
    {
     "name": "stdout",
     "output_type": "stream",
     "text": [
      "We *need* to generate a new volume file, since we found none...\n"
     ]
    }
   ],
   "source": [
    "useoldvolumefile = True\n",
    "if useoldvolumefile:\n",
    "    try:\n",
    "        # Use the *newest* VolumesFromDisk file, even if it's from another git hash\n",
    "        OutputName_Volumes = max(glob.iglob('VolumesFromDisk*.pkl'), key=os.path.getctime)\n",
    "    except ValueError:\n",
    "        useoldvolumefile = False\n",
    "        print('We *need* to generate a new volume file, since we found none...')"
   ]
  },
  {
   "cell_type": "code",
   "execution_count": null,
   "metadata": {},
   "outputs": [
    {
     "name": "stdout",
     "output_type": "stream",
     "text": [
      "Hash (81b22a9) is equal to the name of the OutputName_Volumes file name (VolumesFromDisk_81b22a9.pkl)!\n"
     ]
    }
   ],
   "source": [
    "if get_git_hash() != os.path.splitext(OutputName_Volumes.split('_')[1])[0]:\n",
    "    print('Hash (%s) is not the same as OutputName_Volumes (%s)!' % (get_git_hash(), OutputName_Volumes))\n",
    "    print('We are using the old file: %s' % OutputName_Volumes)\n",
    "else:\n",
    "    print('Hash (%s) is equal to the name of the OutputName_Volumes file name (%s)!' % (get_git_hash(), OutputName_Volumes))"
   ]
  },
  {
   "cell_type": "code",
   "execution_count": null,
   "metadata": {},
   "outputs": [
    {
     "name": "stdout",
     "output_type": "stream",
     "text": [
      "We scan /run/user/1000/gvfs/smb-share:server=anatera4,share=share/SLS for \"R108*.dcm\" files\n"
     ]
    }
   ],
   "source": [
    "# Get a list of *all* DICOM files that I exported aeons ago\n",
    "# Based on https://stackoverflow.com/a/14798263\n",
    "# This takes between 30 and 60 minutes!!!\n",
    "# We thus only do it if we cannot read the dataframe with all the data that we save later on...\n",
    "if os.path.exists(OutputName_Volumes):\n",
    "    print('We load the data from %s' % OutputName_Volumes)\n",
    "else:\n",
    "    print('We scan %s for \"R108*.dcm\" files' % terastation)\n",
    "    tic = timeit.default_timer()\n",
    "    AcinarVolumeFiles = sorted(glob.glob(os.path.join(terastation, '**/R108*.dcm'), recursive=True))\n",
    "    toc = timeit.default_timer()\n",
    "    print('We found %s DICOM files in %s minutes' % (len(AcinarVolumeFiles),\n",
    "                                                     round(float((toc - tic) / 60.), 1)))"
   ]
  },
  {
   "cell_type": "code",
   "execution_count": null,
   "metadata": {
    "collapsed": true
   },
   "outputs": [],
   "source": [
    "# Collect the data into a dataframe\n",
    "if os.path.exists(OutputName_Volumes):\n",
    "    # We already did it once, so just load it...\n",
    "    VolumesFromDisk = pandas.read_pickle(OutputName_Volumes)\n",
    "else:\n",
    "    # Save the file locations into an empty dataframe\n",
    "    VolumesFromDisk = pandas.DataFrame({'Location_Volume': AcinarVolumeFiles})"
   ]
  },
  {
   "cell_type": "code",
   "execution_count": null,
   "metadata": {
    "collapsed": true
   },
   "outputs": [],
   "source": [
    "# # Grab relevant data from filenames (used to get the string matching right...)\n",
    "# for f in AcinarVolumeFiles:\n",
    "#     print(os.path.basename(f))\n",
    "#     print('Animal', os.path.basename(f).split('R108C')[1].split('mrg.')[0][:-2])\n",
    "#     print('Day', os.path.basename(f).split('R108C')[1].split('mrg')[0][:2])\n",
    "#     print('Acinus', os.path.basename(f).split('.acinus')[1].split('.volume')[0])\n",
    "#     print('Volume_MeVisLab', os.path.basename(f).split('.volume')[1].split('.pixelsize')[0])\n",
    "#     print('Scantime', os.path.dirname(f).split('SLS')[1].split(os.sep)[1])\n",
    "#     print(80*'-')"
   ]
  },
  {
   "cell_type": "code",
   "execution_count": null,
   "metadata": {
    "collapsed": true
   },
   "outputs": [],
   "source": [
    "# # Some names (see output of this cell) derive from the R108C$Day$$Animal$ scheme.\n",
    "# # We catch them with the intricate .split() in the cells below...\n",
    "# for i in VolumesFromDisk.File:\n",
    "#     if len(i.split('mrg')[0][len('R108C'):-2]) >3:\n",
    "#         tmp.append(i.split('mrg')[0][len('R108C'):-2])\n",
    "# for i in pandas.unique(tmp):\n",
    "#     print(i)"
   ]
  },
  {
   "cell_type": "code",
   "execution_count": null,
   "metadata": {
    "collapsed": true
   },
   "outputs": [],
   "source": [
    "if not os.path.exists(OutputName_Volumes):\n",
    "    VolumesFromDisk['Filename_Volume'] = [os.path.basename(f) for f in AcinarVolumeFiles]\n",
    "    VolumesFromDisk['Animal'] = [os.path.basename(f).split('mrg')[0][len('R108C'):len('R108C') + 3]\n",
    "                                 for f in AcinarVolumeFiles]\n",
    "    VolumesFromDisk['Beamtime'] = [os.path.dirname(f).split('SLS')[1].split(os.sep)[1]\n",
    "                                   for f in AcinarVolumeFiles]\n",
    "    VolumesFromDisk['Day'] = [int(os.path.basename(f).split('mrg')[0][len('R108C'):len('R108C') + 2])\n",
    "                              for f in AcinarVolumeFiles]\n",
    "    VolumesFromDisk['Acinus'] = [int(os.path.basename(f).split('.acinus')[1].split('.volume')[0])\n",
    "                                 for f in AcinarVolumeFiles]\n",
    "    # According to the MeVisLab files, the volume is saved to the file name in 'ul'.\n",
    "    # To get cm³ we divide by 1000\n",
    "    VolumesFromDisk['Volume_MeVisLab'] = [float(os.path.basename(f).split('.volume')[1].split('.pixelsize')[0]) / 1000\n",
    "                                          for f in AcinarVolumeFiles]  # cm³"
   ]
  },
  {
   "cell_type": "code",
   "execution_count": null,
   "metadata": {},
   "outputs": [],
   "source": [
    "# Drop Day 36\n",
    "# https://stackoverflow.com/a/27360130/323100\n",
    "VolumesFromDisk.drop(VolumesFromDisk[VolumesFromDisk['Day'] == 36].index, inplace=True)\n",
    "print('If we drop day 36, we now have %s acini' % len(VolumesFromDisk))"
   ]
  },
  {
   "cell_type": "code",
   "execution_count": null,
   "metadata": {},
   "outputs": [],
   "source": [
    "# Save the data and give some feedback.\n",
    "if not os.path.exists(OutputName_Volumes):\n",
    "    VolumesFromDisk.to_pickle(OutputName_Volumes)"
   ]
  },
  {
   "cell_type": "code",
   "execution_count": null,
   "metadata": {},
   "outputs": [],
   "source": [
    "VolumesFromDisk.groupby(by=['Day', 'Animal'])['Volume_MeVisLab'].describe()"
   ]
  },
  {
   "cell_type": "code",
   "execution_count": null,
   "metadata": {},
   "outputs": [],
   "source": [
    "print('MeVisLab Volumes\\n')\n",
    "# Give out alveolar volumes per day\n",
    "for day in sorted(Eveline.Day.unique()):\n",
    "    print('Day %02d' % day)\n",
    "    cts = numpy.mean(Eveline.loc[Eveline.Day == day]['Counts'])\n",
    "    print('Mean count from Eveline: %4.2f' % cts)\n",
    "    # Volume (natütterli mit Ductus und so...)\n",
    "    vol = numpy.mean(VolumesFromDisk.loc[VolumesFromDisk.Day == day]['Volume_MeVisLab']) * 1e12\n",
    "    print('Mean volume (MeVisLab): %4.3g ul' % vol)\n",
    "    # Mit Schrumpfung\n",
    "    print('Volume per counts / 0.6: %4.3g' % ((vol / cts) / 0.6))\n",
    "    # Volumen --> Radius\n",
    "    # v = 4/3 * pi * r^3\n",
    "    # r = ((3/4) * v / pi ) ^ 1/3\n",
    "    # r * 2 = diameter\n",
    "    print('Mean diameter of one alveolus: %4.2f um' % (2 * (numpy.cbrt(3 / 4 * vol / numpy.pi))))\n",
    "    print(80 * '-')\n",
    "# https://www.wolframalpha.com/input/?i=sphere+with+volume+of+2.11e%2B08+ul"
   ]
  },
  {
   "cell_type": "code",
   "execution_count": null,
   "metadata": {},
   "outputs": [],
   "source": [
    "print('Stepanizered Volumes\\n')\n",
    "# Give out alveolar volumes per day\n",
    "for day in sorted(Eveline.Day.unique()):\n",
    "    print('Day %02d' % day)\n",
    "    cts = numpy.mean(Eveline.loc[Eveline.Day == day]['Counts'])\n",
    "    print('Mean count from Eveline: %4.2f' % cts)\n",
    "    # Volume (natütterli mit Ductus und so...)\n",
    "    vol = numpy.mean(David.loc[David.Day == day]['Acinusvolume']) * 1e9\n",
    "    print('Mean volume (STEPanizer): %4.3g ul' % vol)\n",
    "    # Mit Schrumpfung\n",
    "    print('Volume per counts / 0.6: %4.3g' % ((vol / cts) / 0.6))\n",
    "    # Volumen --> Radius\n",
    "    # v = 4/3 * pi * r^3\n",
    "    # r = ((3/4) * v / pi ) ^ 1/3\n",
    "    # r * 2 = diameter\n",
    "    print('Mean diameter of one alveolus: %4.2f um' % (2 * (numpy.cbrt(3 / 4 * vol / numpy.pi))))\n",
    "    print(80 * '-')\n",
    "# https://www.wolframalpha.com/input/?i=sphere+with+volume+of+2.11e%2B08+ul"
   ]
  },
  {
   "cell_type": "code",
   "execution_count": null,
   "metadata": {
    "collapsed": true
   },
   "outputs": [],
   "source": [
    "# Update palette, since we might have more animals than what we had above in cell 19\n",
    "ourcolors = seaborn.color_palette('husl', len(pandas.unique(VolumesFromDisk.Animal)))\n",
    "ourpalette = {animal: ourcolors[c] for c, animal in enumerate(sorted(pandas.unique(VolumesFromDisk.Animal)))}"
   ]
  },
  {
   "cell_type": "code",
   "execution_count": null,
   "metadata": {},
   "outputs": [],
   "source": [
    "# seaborn.violinplot(data=Eveline, x='Day', y='Counts', cut=0, scale='count',\n",
    "#                    palette=seaborn.color_palette('husl', len(pandas.unique(Eveline.Day))),\n",
    "#                    inner='quartiles')\n",
    "# seaborn.stripplot(data=Eveline, x='Day', y='Counts', linewidth=1, jitter=True,\n",
    "#                   palette=seaborn.color_palette('husl', len(pandas.unique(Eveline.Day))),\n",
    "#                   edgecolor='k', alpha=0.309)\n",
    "# plt.title('Bridge counts')\n",
    "# plt.ylim(ymin=0)\n",
    "# plt.savefig(os.path.join(imgdir, 'counts_global.png'), bbox_inches='tight')\n",
    "# plt.show()"
   ]
  },
  {
   "cell_type": "code",
   "execution_count": null,
   "metadata": {},
   "outputs": [],
   "source": [
    "for c, d in enumerate(sorted(pandas.unique(Eveline.Day))):\n",
    "    plt.subplot(1, len(pandas.unique(Done.Day)), c + 1)\n",
    "    bxplt = seaborn.violinplot(data=Done.loc[Done.Day == d], x='Day', y='Counts_Eveline',\n",
    "                               hue='Animal',\n",
    "                               # Because the animals are preferentially sorted on the beamtime name, we have\n",
    "                               # to jump through the hoop below and sort the hues on the 'Animal' in addition\n",
    "                               # to what we did for Evelines counts where all the data is in *one* folder\n",
    "                               # Just comment the next line to see the difference (a correct plot, but ugly sort :)\n",
    "                               hue_order=sorted(pandas.unique(Done.loc[Done.Day == d]['Animal'])),\n",
    "                               palette=ourpalette, cut=0, inner='quartiles')\n",
    "    swrmplt = seaborn.stripplot(data=Done.loc[Done.Day == d], x='Day', y='Counts_Eveline', hue='Animal', jitter=True,\n",
    "                                hue_order=sorted(pandas.unique(Done.loc[Done.Day == d]['Animal'])),\n",
    "                                split=True, linewidth=1, palette=ourpalette, edgecolor='k', alpha=0.309)\n",
    "    handles, labels = plt.gca().get_legend_handles_labels()\n",
    "    plt.ylim([0, 1.1 * Done.Counts_Eveline.max()])\n",
    "    bxplt.legend(handles[:len(handles) // 2], labels[:len(labels) // 2])\n",
    "plt.suptitle('Evelines (Bridge/Q) counts, %s acini split per %s animals' % (len(Eveline),\n",
    "                                                                            len(pandas.unique(Eveline.Animal))))\n",
    "plt.savefig(os.path.join(imgdir, 'counts_day-eveline.png'), bbox_inches='tight')\n",
    "plt.show()"
   ]
  },
  {
   "cell_type": "code",
   "execution_count": null,
   "metadata": {},
   "outputs": [],
   "source": [
    "for c, d in enumerate(sorted(pandas.unique(Done.Day))):\n",
    "    plt.subplot(1, len(pandas.unique(Done.Day)), c + 1)\n",
    "    bxplt = seaborn.violinplot(data=Done.loc[Done.Day == d], x='Day', y='Counts_David',\n",
    "                               hue='Animal',\n",
    "                               hue_order=sorted(pandas.unique(Done.loc[Done.Day == d]['Animal'])),\n",
    "                               palette=ourpalette, cut=0, inner='quartiles')\n",
    "    swrmplt = seaborn.stripplot(data=Done.loc[Done.Day == d], x='Day', y='Counts_David', hue='Animal', jitter=True,\n",
    "                                hue_order=sorted(pandas.unique(Done.loc[Done.Day == d]['Animal'])),\n",
    "                                split=True, linewidth=1, palette=ourpalette, edgecolor='k', alpha=0.309)\n",
    "    handles, labels = plt.gca().get_legend_handles_labels()\n",
    "    plt.ylim([0, 1.1 * Done.Counts_David.max()])\n",
    "    bxplt.legend(handles[:len(handles) // 2], labels[:len(labels) // 2], loc='upper right')\n",
    "plt.suptitle('Davids (Testsystem/Disector/P) counts, %s acini split per %s animals' % (len(David),\n",
    "                                                                                       len(pandas.unique(David.Animal))))\n",
    "plt.savefig(os.path.join(imgdir, 'counts_day-david.png'), bbox_inches='tight')\n",
    "plt.show()"
   ]
  },
  {
   "cell_type": "code",
   "execution_count": null,
   "metadata": {},
   "outputs": [],
   "source": [
    "for c, d in enumerate(sorted(pandas.unique(VolumesFromDisk.Day))):\n",
    "    plt.subplot(1, len(pandas.unique(VolumesFromDisk.Day)), c + 1)\n",
    "    bxplt = seaborn.violinplot(data=VolumesFromDisk.loc[VolumesFromDisk.Day == d],\n",
    "                               x='Day', y='Volume_MeVisLab',\n",
    "                               hue='Animal',\n",
    "                               hue_order=sorted(pandas.unique(VolumesFromDisk.loc[VolumesFromDisk.Day == d]['Animal'])),\n",
    "                               palette=ourpalette, cut=0, inner='quartiles')\n",
    "    swrmplt = seaborn.stripplot(data=VolumesFromDisk.loc[VolumesFromDisk.Day == d],\n",
    "                                x='Day', y='Volume_MeVisLab',\n",
    "                                hue='Animal', jitter=True,\n",
    "                                hue_order=sorted(pandas.unique(VolumesFromDisk.loc[VolumesFromDisk.Day == d]['Animal'])),\n",
    "                                split=True, linewidth=1, palette=ourpalette, edgecolor='k', alpha=0.309)\n",
    "    handles, labels = plt.gca().get_legend_handles_labels()\n",
    "    plt.ylim([0, 1.1 * VolumesFromDisk.Volume_MeVisLab.max()])\n",
    "    bxplt.legend(handles[:len(handles) // 2], labels[:len(labels) // 2])\n",
    "plt.suptitle('Volumes from MeVisLab, %s acini split per %s animals' % (len(VolumesFromDisk),\n",
    "                                                                       len(pandas.unique(VolumesFromDisk.Animal))))\n",
    "plt.savefig(os.path.join(imgdir, 'volumes_day-disk.png'), bbox_inches='tight')\n",
    "plt.show()"
   ]
  },
  {
   "cell_type": "code",
   "execution_count": null,
   "metadata": {},
   "outputs": [],
   "source": [
    "for c, d in enumerate(sorted(pandas.unique(Done.Day))):\n",
    "    plt.subplot(1, len(pandas.unique(Done.Day)), c + 1)\n",
    "    bxplt = seaborn.violinplot(data=Done.loc[Done.Day == d], x='Day', y='Acinusvolume',\n",
    "                               hue='Animal',\n",
    "                               hue_order=sorted(pandas.unique(Done.loc[Done.Day == d]['Animal'])),\n",
    "                               palette=ourpalette, cut=0, inner='quartiles')\n",
    "    swrmplt = seaborn.stripplot(data=Done.loc[Done.Day == d], x='Day', y='Acinusvolume', hue='Animal', jitter=True,\n",
    "                                hue_order=sorted(pandas.unique(Done.loc[Done.Day == d]['Animal'])),\n",
    "                                split=True, linewidth=1, palette=ourpalette, edgecolor='k', alpha=0.309)\n",
    "    handles, labels = plt.gca().get_legend_handles_labels()\n",
    "    plt.ylim([0, 1.1 * Done.Acinusvolume.max()])\n",
    "    bxplt.legend(handles[:len(handles) // 2], labels[:len(labels) // 2], loc='upper right')\n",
    "plt.suptitle('Volumes from STEPanizer, %s acini split per %s animals' % (len(VolumesFromDisk),\n",
    "                                                                         len(pandas.unique(VolumesFromDisk.Animal))))\n",
    "plt.savefig(os.path.join(imgdir, 'volumes_day-disector.png'), bbox_inches='tight')\n",
    "plt.show()"
   ]
  },
  {
   "cell_type": "markdown",
   "metadata": {},
   "source": [
    "Now we merge the Eveline/David/Done and VolumesFromDisk dataframes"
   ]
  },
  {
   "cell_type": "code",
   "execution_count": null,
   "metadata": {
    "collapsed": true
   },
   "outputs": [],
   "source": [
    "# Filename to save the data, with included git hash for versioning purposes...\n",
    "OutputName_Merged = 'Merged_' + get_git_hash() + '.pkl'"
   ]
  },
  {
   "cell_type": "code",
   "execution_count": null,
   "metadata": {
    "collapsed": true
   },
   "outputs": [],
   "source": [
    "# Merge the dataframes: http://pandas.pydata.org/pandas-docs/stable/merging.html\n",
    "# This seems to discard all entries that are *not* found in both df's\n",
    "if os.path.exists(OutputName_Merged):\n",
    "    # We already did it once, so just load it...\n",
    "    Merged = pandas.read_pickle(OutputName_Merged)\n",
    "else:\n",
    "    Merged = pandas.merge(Done, VolumesFromDisk)"
   ]
  },
  {
   "cell_type": "code",
   "execution_count": null,
   "metadata": {},
   "outputs": [],
   "source": [
    "# Doublecheck merged file names (for some randomly selected items from the dataframe)\n",
    "# To make the checking a bit easier, we split the strings and only show the interesting bit\n",
    "for i in range(5):\n",
    "    number = numpy.random.randint(len(Merged))\n",
    "    print('Beamtime:', Merged.iloc[number]['Beamtime'])\n",
    "    print('From Volume: Animal', Merged.iloc[number].Filename_Volume.split('mrg.')[0],\n",
    "          '| Acinus', Merged.iloc[number].Filename_Volume.split('acinus')[1].split('.volume')[0],\n",
    "          '| Volume', Merged.iloc[number]['Volume_MeVisLab'])\n",
    "    print('From Done: Animal', Merged.iloc[number].Filename_Eveline.split('mrg-')[0][1:],\n",
    "          '| Acinus', Merged.iloc[number].Filename_Eveline.split('acinus')[1].split('_201')[0],\n",
    "          '| Counts', Merged.iloc[number]['Counts_Eveline'])\n",
    "    print(40 * '-')"
   ]
  },
  {
   "cell_type": "code",
   "execution_count": null,
   "metadata": {},
   "outputs": [],
   "source": [
    "# Did we count a different amount of images?\n",
    "Merged['ImageCountDifference'] = Merged['Number of images_David'] - Merged['Number of images_Eveline']"
   ]
  },
  {
   "cell_type": "code",
   "execution_count": null,
   "metadata": {},
   "outputs": [],
   "source": [
    "# See the difference\n",
    "Merged.loc[Merged['ImageCountDifference'] == max(Merged['ImageCountDifference'])]"
   ]
  },
  {
   "cell_type": "code",
   "execution_count": null,
   "metadata": {},
   "outputs": [],
   "source": [
    "Merged.head()"
   ]
  },
  {
   "cell_type": "code",
   "execution_count": null,
   "metadata": {
    "collapsed": true
   },
   "outputs": [],
   "source": [
    "if not os.path.exists(OutputName_Merged):\n",
    "    Merged['CpV'] = Merged['Counts_Eveline'] / Merged['Volume_MeVisLab']"
   ]
  },
  {
   "cell_type": "code",
   "execution_count": null,
   "metadata": {
    "scrolled": false
   },
   "outputs": [],
   "source": [
    "for c, d in enumerate(sorted(pandas.unique(Merged.Day))):\n",
    "    plt.subplot(1, len(pandas.unique(Merged.Day)), c + 1)\n",
    "    bxplt = seaborn.violinplot(data=Merged.loc[Merged.Day == d], x='Day', y='CpV',\n",
    "                               hue='Animal',\n",
    "                               hue_order=sorted(pandas.unique(Merged.loc[Merged.Day == d]['Animal'])),\n",
    "                                   palette=ourpalette, cut=0, inner='quartiles')\n",
    "    swrmplt = seaborn.stripplot(data=Merged.loc[Merged.Day == d], x='Day', y='CpV',\n",
    "                                hue='Animal', jitter=True,\n",
    "                                hue_order=sorted(pandas.unique(Merged.loc[Merged.Day == d]['Animal'])),\n",
    "                                split=True, linewidth=1, palette=ourpalette, edgecolor='k', alpha=0.309)\n",
    "    handles, labels = plt.gca().get_legend_handles_labels()\n",
    "    plt.ylim([0, 1.1 * Merged.CpV.max()])\n",
    "    bxplt.legend(handles[:len(handles) // 2], labels[:len(labels) // 2])\n",
    "plt.suptitle('Eveline-Counts per MeVisLab-Volume, based on %s assessed acini' % len(Merged))\n",
    "plt.savefig(os.path.join(imgdir, 'counts_per_volume_day_eveline-disk.png'), bbox_inches='tight')\n",
    "plt.show()"
   ]
  },
  {
   "cell_type": "code",
   "execution_count": null,
   "metadata": {
    "collapsed": true
   },
   "outputs": [],
   "source": [
    "if not os.path.exists(OutputName_Merged):\n",
    "    Merged['CpSV'] = Merged['Counts_Eveline'] / Merged['Acinusvolume']"
   ]
  },
  {
   "cell_type": "code",
   "execution_count": null,
   "metadata": {
    "scrolled": false
   },
   "outputs": [],
   "source": [
    "for c, d in enumerate(sorted(pandas.unique(Merged.Day))):\n",
    "    plt.subplot(1, len(pandas.unique(Merged.Day)), c + 1)\n",
    "    bxplt = seaborn.violinplot(data=Merged.loc[Merged.Day == d], x='Day', y='CpSV',\n",
    "                               hue='Animal',\n",
    "                               hue_order=sorted(pandas.unique(Merged.loc[Merged.Day == d]['Animal'])),\n",
    "                                   palette=ourpalette, cut=0, inner='quartiles')\n",
    "    swrmplt = seaborn.stripplot(data=Merged.loc[Merged.Day == d], x='Day', y='CpSV',\n",
    "                                hue='Animal', jitter=True,\n",
    "                                hue_order=sorted(pandas.unique(Merged.loc[Merged.Day == d]['Animal'])),\n",
    "                                split=True, linewidth=1, palette=ourpalette, edgecolor='k', alpha=0.309)\n",
    "    handles, labels = plt.gca().get_legend_handles_labels()\n",
    "    plt.ylim([0, 1.1 * Merged.CpSV.max()])\n",
    "    bxplt.legend(handles[:len(handles) // 2], labels[:len(labels) // 2])\n",
    "plt.suptitle('Eveline-Counts per Stepanizer-Volume, based on %s assessed acini' % len(Merged))\n",
    "plt.savefig(os.path.join(imgdir, 'counts_per_volume_day_eveline-stepanizer.png'), bbox_inches='tight')\n",
    "plt.show()"
   ]
  },
  {
   "cell_type": "code",
   "execution_count": null,
   "metadata": {
    "collapsed": true
   },
   "outputs": [],
   "source": [
    "# Salm zu Barré (d21)\n",
    "NumAlveoli = 14.303 * 1e6\n",
    "NumAcini = 5840\n",
    "NumAlveoli / NumAcini"
   ]
  },
  {
   "cell_type": "code",
   "execution_count": null,
   "metadata": {},
   "outputs": [],
   "source": [
    "Eveline[Eveline.Day == 60]['Counts'].describe()"
   ]
  },
  {
   "cell_type": "code",
   "execution_count": null,
   "metadata": {},
   "outputs": [],
   "source": [
    "Done['Counts per Volume'] = [cts / vol for cts, vol in zip(Done['Counts_Eveline'], Done['Acinusvolume'])]"
   ]
  },
  {
   "cell_type": "code",
   "execution_count": null,
   "metadata": {},
   "outputs": [],
   "source": [
    "for c, d in enumerate(sorted(pandas.unique(Done.Day))):\n",
    "    plt.subplot(1, len(pandas.unique(Done.Day)), c + 1)\n",
    "    bxplt = seaborn.violinplot(data=Done.loc[Done.Day == d], x='Day', y='Counts per Volume',\n",
    "                               hue='Animal', palette=ourpalette, cut=0, inner='quartiles',\n",
    "                               hue_order=sorted(pandas.unique(Done.loc[Done.Day == d]['Animal'])))\n",
    "    swrmplt = seaborn.stripplot(data=Done.loc[Done.Day == d], x='Day', y='Counts per Volume', hue='Animal', jitter=True,\n",
    "                                split=True, linewidth=1, palette=ourpalette, edgecolor='k', alpha=0.309,\n",
    "                                hue_order=sorted(pandas.unique(Done.loc[Done.Day == d]['Animal'])))\n",
    "    handles, labels = plt.gca().get_legend_handles_labels()\n",
    "    plt.ylim([0, 1.1 * Done['Counts per Volume'].max()])\n",
    "    bxplt.legend(handles[:len(handles) // 2], labels[:len(labels) // 2], loc='upper right')\n",
    "plt.suptitle('Eveline-Counts per David-Volume, based on %s assessed acini' % len(Done))\n",
    "plt.savefig(os.path.join(imgdir, 'counts_per_volume_day_eveline-david.png'), bbox_inches='tight')\n",
    "plt.show()"
   ]
  },
  {
   "cell_type": "code",
   "execution_count": null,
   "metadata": {},
   "outputs": [],
   "source": [
    "Done.loc[Done['Counts per Volume'] == max(Done['Counts per Volume'])]"
   ]
  },
  {
   "cell_type": "code",
   "execution_count": null,
   "metadata": {},
   "outputs": [],
   "source": [
    "Done.loc[Done['Counts per Volume'] == min(Done['Counts per Volume'])]"
   ]
  },
  {
   "cell_type": "code",
   "execution_count": null,
   "metadata": {},
   "outputs": [],
   "source": [
    "# Plot mean +- STD\n",
    "for c, d in enumerate(pandas.unique(Merged.Animal)):\n",
    "    #     print(d)\n",
    "    #     print(numpy.mean(Merged.loc[Merged.Animal == d]['Day']))\n",
    "    #     print(numpy.mean(Merged.loc[Merged.Animal == d]['CpV']))\n",
    "    #     print(numpy.std(Merged.loc[Merged.Animal == d]['CpV']))\n",
    "    #     plt.scatter(numpy.mean(Merged.loc[Merged.Animal == d]['Day']), numpy.mean(Merged.loc[Merged.Animal == d]['CpV']))\n",
    "    plt.errorbar(numpy.mean(Merged.loc[Merged.Animal == d]['Day']) + 0.25 * c % 5,\n",
    "                 numpy.mean(Merged.loc[Merged.Animal == d]['CpV']),\n",
    "                 yerr=numpy.std(Merged.loc[Merged.Animal == d]['CpV']),\n",
    "                 fmt='o')\n",
    "    plt.xlabel('Day')\n",
    "    plt.ylabel('Counts per volume')\n",
    "    plt.xlim([0, 65])\n",
    "plt.suptitle('Counts per volume. Mean +- STD')\n",
    "plt.savefig(os.path.join(imgdir, 'mean_counts.png'), bbox_inches='tight')\n",
    "plt.show()"
   ]
  },
  {
   "cell_type": "code",
   "execution_count": null,
   "metadata": {},
   "outputs": [],
   "source": [
    "# Get the mean number of alveoli per acinus\n",
    "print('Based on Tschanz2014 and Barre2014...')\n",
    "# Number of alveoli (19.297e6) from Tschanz2014, Table 1, p. 91)\n",
    "# Number of acini (5943) from Barre2014, Table 2, p. 7\n",
    "n_alv = 19.279 * 1e6\n",
    "n_acini = 5943\n",
    "alv_pro_acinus = n_alv / n_acini\n",
    "print('We have approximately %0.0f alveoli per acinus.' % alv_pro_acinus)\n",
    "lung_volume = 10.21  # cm³\n",
    "acinar_volume = lung_volume / n_acini\n",
    "print('One acinus in D60 lungs thus has a volume of approximately %0.2g um^3.' % acinar_volume)"
   ]
  },
  {
   "cell_type": "code",
   "execution_count": null,
   "metadata": {},
   "outputs": [],
   "source": [
    "for d in [4, 10, 21, 60]:\n",
    "    print('For day %2s we have %3s acini' % (d, len(Merged[Merged.Day == d])))"
   ]
  },
  {
   "cell_type": "code",
   "execution_count": null,
   "metadata": {
    "collapsed": true
   },
   "outputs": [],
   "source": [
    "# Save the data\n",
    "if not os.path.exists(OutputName_Merged):\n",
    "    Merged.to_pickle(OutputName_Merged)\n",
    "    print('Saved \"Merged\" dataframe to %s as last step of the analysis' % OutputName_Merged)\n",
    "else:\n",
    "    print('Done!')"
   ]
  }
 ],
 "metadata": {
  "anaconda-cloud": {},
  "kernelspec": {
   "display_name": "Python 3",
   "language": "python",
   "name": "python3"
  },
  "language_info": {
   "codemirror_mode": {
    "name": "ipython",
    "version": 3
   },
   "file_extension": ".py",
   "mimetype": "text/x-python",
   "name": "python",
   "nbconvert_exporter": "python",
   "pygments_lexer": "ipython3",
   "version": "3.6.1"
  }
 },
 "nbformat": 4,
 "nbformat_minor": 2
}
