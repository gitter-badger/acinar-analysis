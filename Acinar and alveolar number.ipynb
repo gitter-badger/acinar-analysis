{
 "cells": [
  {
   "cell_type": "markdown",
   "metadata": {},
   "source": [
    "# Alveoli and acinar size\n",
    "This [Jupyter](http://jupyter.com) contains the *full* analysis for the [publication on the acinar complexity](https://www.authorea.com/274247/47HwqAxume3L2xkLOsg_SQ)."
   ]
  },
  {
   "cell_type": "code",
   "execution_count": 1,
   "metadata": {},
   "outputs": [],
   "source": [
    "# Assess coding style in the terminal\n",
    "# jupyter nbconvert Acinar\\ and\\ alveolar\\ number.ipynb --to script  && pycodestyle *.py --ignore=E501,E402,W391 --show-source"
   ]
  },
  {
   "cell_type": "markdown",
   "metadata": {},
   "source": [
    "First, we set up the notebook."
   ]
  },
  {
   "cell_type": "code",
   "execution_count": 2,
   "metadata": {},
   "outputs": [],
   "source": [
    "# Load the data and set up notebook\n",
    "import matplotlib.pyplot as plt\n",
    "%matplotlib inline\n",
    "import platform\n",
    "import glob\n",
    "import os\n",
    "import pandas\n",
    "import seaborn\n",
    "import numpy\n",
    "import timeit\n",
    "import scipy.stats"
   ]
  },
  {
   "cell_type": "code",
   "execution_count": 3,
   "metadata": {},
   "outputs": [],
   "source": [
    "def get_git_hash():\n",
    "    \"\"\"\n",
    "    Get the current git hash from the repository.\n",
    "    Based on http://stackoverflow.com/a/949391/323100 and\n",
    "    http://stackoverflow.com/a/18283905/323100\n",
    "    \"\"\"\n",
    "    from subprocess import Popen, PIPE\n",
    "    import os\n",
    "    gitprocess = Popen(['git', '--git-dir', os.path.join(os.getcwd(), '.git'),\n",
    "                        'rev-parse', '--short', '--verify', 'HEAD'],\n",
    "                       stdout=PIPE)\n",
    "    (output, _) = gitprocess.communicate()\n",
    "    return output.strip().decode(\"utf-8\")"
   ]
  },
  {
   "cell_type": "code",
   "execution_count": 4,
   "metadata": {},
   "outputs": [],
   "source": [
    "def significance(p):\n",
    "    \"\"\"See the bottom of https://git.io/vQbWV\"\"\"\n",
    "    if p < 0.0001:\n",
    "        return \"**** (p=%0.2e)\" % p\n",
    "    elif (p < 0.001):\n",
    "        return \"*** (p=%0.2e)\" % p\n",
    "    elif (p < 0.01):\n",
    "        return \"** (p=%0.2e)\" % p\n",
    "    elif (p < 0.05):\n",
    "        return \"* (p=%0.2ef)\" % p\n",
    "    else:\n",
    "        return \"not significant (p=%0.2e)\" % p"
   ]
  },
  {
   "cell_type": "code",
   "execution_count": 5,
   "metadata": {},
   "outputs": [
    {
     "name": "stdout",
     "output_type": "stream",
     "text": [
      "We are working with version 96e1e53 of the analyis notebook.\n"
     ]
    }
   ],
   "source": [
    "the_current_git_hash = get_git_hash()\n",
    "print('We are working with version %s of the analyis notebook.'\n",
    "      % the_current_git_hash)"
   ]
  },
  {
   "cell_type": "code",
   "execution_count": 6,
   "metadata": {},
   "outputs": [],
   "source": [
    "# Style plots\n",
    "seaborn.set_style(\"whitegrid\")\n",
    "seaborn.set_context(\"paper\")"
   ]
  },
  {
   "cell_type": "code",
   "execution_count": 7,
   "metadata": {},
   "outputs": [],
   "source": [
    "# Display and output defaults\n",
    "plt.rc('image', cmap='gray', interpolation='nearest')  # Display all images in b&w and with 'nearest' interpolation\n",
    "# plt.rcParams['figure.figsize'] = (16, 9)  # Size up figures a bit\n",
    "plt.rcParams['savefig.dpi'] = 300  # Save (PNG) images with a higher DPI, since Authorea cannot import PDFs..."
   ]
  },
  {
   "cell_type": "code",
   "execution_count": 8,
   "metadata": {},
   "outputs": [],
   "source": [
    "# Make us an output folder (including the git hash, so we (potentially) have different versions of the images)\n",
    "OutputDir = os.path.join('Output', the_current_git_hash)\n",
    "os.makedirs(OutputDir, exist_ok=True)"
   ]
  },
  {
   "cell_type": "markdown",
   "metadata": {},
   "source": [
    "Let's load the relevant data.\n",
    "First we load the 'Count' data from Eveline.\n",
    "This is what she assessed with the STEPanizer in tedious work."
   ]
  },
  {
   "cell_type": "code",
   "execution_count": 9,
   "metadata": {},
   "outputs": [
    {
     "name": "stdout",
     "output_type": "stream",
     "text": [
      "We are loading all the data from /media/habi/Fast_SSD/Acini\n"
     ]
    }
   ],
   "source": [
    "# Different locations if running either on Linux or Windows\n",
    "# ----\n",
    "# We copied all the data 'nas_schittny' and 'anatera4' to the internal 'fast SSD' with\n",
    "# ---\n",
    "# rsync -av -m --include='**/' --include='**/*5slices/**' --exclude='*' '/run/user/1000/gvfs/smb-share:server=anatera4,share=share/SLS/' '/media/habi/Fast_SSD/Acini/'\n",
    "# (obviously only works on Linux)\n",
    "# ---\n",
    "# so we can set\n",
    "FastSSD = True\n",
    "# to speed things up significantly\n",
    "if 'debian' in platform.dist():\n",
    "    if FastSSD:\n",
    "        RootPath = os.path.join(os.sep, 'media', 'habi', 'Fast_SSD', 'Acini')\n",
    "    else:\n",
    "        RootPath = os.path.join(os.sep, 'home', 'habi', 'nas_gruppe_schittny', 'doc', 'David')\n",
    "else:\n",
    "    if FastSSD:\n",
    "        RootPath = os.path.join('F:/', 'Acini')\n",
    "    else:\n",
    "        RootPath = os.path.join('\\\\\\\\nas.ana.unibe.ch\\\\', 'gruppe_schittny', 'Data', 'doc', 'David')\n",
    "print('We are loading all the data from %s' % RootPath)"
   ]
  },
  {
   "cell_type": "code",
   "execution_count": 10,
   "metadata": {},
   "outputs": [
    {
     "name": "stdout",
     "output_type": "stream",
     "text": [
      "Eveline counted the alveoli in 287 acini in total.\n"
     ]
    }
   ],
   "source": [
    "# Get a list of *all* excel files that Eveline exported from the STEPanizer\n",
    "# Fortunately, she did NOT count in 2018\n",
    "# Based on https://stackoverflow.com/a/14798263\n",
    "StepanizerFiles_Eveline = sorted(glob.glob(os.path.join(RootPath, '**/*201[1234567]*.xls'), recursive=True))\n",
    "if len(StepanizerFiles_Eveline):\n",
    "    print('Eveline counted the alveoli in %s acini in total.' % len(StepanizerFiles_Eveline))\n",
    "else:\n",
    "    print('Mount the fast SSD please!!!')"
   ]
  },
  {
   "cell_type": "code",
   "execution_count": 11,
   "metadata": {},
   "outputs": [],
   "source": [
    "# # Grab relevant data from filenames\n",
    "# for f in StepanizerFiles_Eveline:\n",
    "#     print('Animal', os.path.basename(f).split('_R108C')[1].split('mrg-')[0][:3])\n",
    "#     print('Day', os.path.basename(f).split('_R108C')[1].split('mrg-')[0][:2])\n",
    "#     print('Acinus', os.path.basename(f).split('acinus')[1].split('_')[0])"
   ]
  },
  {
   "cell_type": "code",
   "execution_count": 12,
   "metadata": {},
   "outputs": [],
   "source": [
    "# Generate a dataframe for Evelines assessment\n",
    "Eveline = pandas.DataFrame({'Location': StepanizerFiles_Eveline})\n",
    "# Extract the relevant data data from filenames\n",
    "Eveline['Filename'] = [os.path.basename(f) for f in StepanizerFiles_Eveline]\n",
    "Eveline['Beamtime'] = [os.path.dirname(f).split('Acini')[1].split(os.sep)[1] for f in StepanizerFiles_Eveline]\n",
    "Eveline['Sample'] = [os.path.basename(f).split('-acinus')[0][1:] for f in StepanizerFiles_Eveline]\n",
    "Eveline['Animal'] = [os.path.basename(f).split('_R108C')[1].split('mrg-')[0][:3] for f in StepanizerFiles_Eveline]\n",
    "Eveline['Day'] = [int(os.path.basename(f).split('_R108C')[1].split('mrg-')[0][:2]) for f in StepanizerFiles_Eveline]\n",
    "Eveline['Acinus'] = [int(os.path.basename(f).split('acinus')[1].split('_')[0]) for f in StepanizerFiles_Eveline]\n",
    "# Read the counts from the XLS files (which are just glorified CSV written by the STEPanizer)\n",
    "Eveline['Counts'] = [int(pandas.read_csv(f, nrows=13, delimiter='\\t')['Total'][10]) for f in StepanizerFiles_Eveline]\n",
    "# Since we seem to have different tab-count in the files, we just read one single cell, explicitly...\n",
    "Eveline['Pixelsize'] = [float(pandas.read_csv(f, delimiter='\\t', encoding='latin',\n",
    "                                              skiprows=16, header=None, usecols=[0, 1], nrows=1)[1][0])\n",
    "                        for f in StepanizerFiles_Eveline]\n",
    "# Count all the JPG images in their respective folders\n",
    "Eveline['Number of images'] = [[int(os.path.basename(i).split('_')[-2]) for\n",
    "                                i in glob.glob(os.path.join(os.path.dirname(location),\n",
    "                                                            '*.jpg'))] for location in Eveline.Location]\n",
    "Eveline['Number of images'] = [max(li) for li in Eveline['Number of images']]"
   ]
  },
  {
   "cell_type": "code",
   "execution_count": 13,
   "metadata": {},
   "outputs": [],
   "source": [
    "# For D60, Eveline counted only half of the images, we thus double the 'counts'\n",
    "Eveline.loc[Eveline.Animal == '60B', 'Counts'] = 2 * Eveline['Counts']\n",
    "# For Animal 60C she counted *every* image, we thus don't double there!\n",
    "Eveline.loc[Eveline.Animal == '60D', 'Counts'] = 2 * Eveline['Counts']\n",
    "Eveline.loc[Eveline.Animal == '60E', 'Counts'] = 2 * Eveline['Counts']\n",
    "# For two acini (acinus 3 for 60D and acinus 12 for 60E) Eveline counted every image\n",
    "Eveline.loc[(Eveline.Animal == '60D') & (Eveline.Acinus == 3), 'Counts'] = 0.5 * Eveline['Counts']\n",
    "Eveline.loc[(Eveline.Animal == '60E') & (Eveline.Acinus == 12), 'Counts'] = 0.5 * Eveline['Counts']\n",
    "# The 'number of images' (read below) stays the same, since Eveline just skipped the images in STEPanizer!"
   ]
  },
  {
   "cell_type": "markdown",
   "metadata": {},
   "source": [
    "Now do the same for the stereological data which David assessed.\n",
    "Davids assessment is used for a correct estimation of the acinar volume."
   ]
  },
  {
   "cell_type": "code",
   "execution_count": 14,
   "metadata": {},
   "outputs": [
    {
     "name": "stdout",
     "output_type": "stream",
     "text": [
      "David assessed the disector volume in 287 acini\n"
     ]
    }
   ],
   "source": [
    "# Get a list of *all* the excel files David counted to assess the disector volume\n",
    "# Fortunately, David ONLY counted in 2018\n",
    "StepanizerFiles_David = sorted(glob.glob(os.path.join(RootPath, '**/*2018*.xls'), recursive=True))\n",
    "print('David assessed the disector volume in %s acini' % len(StepanizerFiles_David))"
   ]
  },
  {
   "cell_type": "code",
   "execution_count": 15,
   "metadata": {},
   "outputs": [],
   "source": [
    "# Copied verbatim from ReadVolumeSurfaceAndAlveaolarNumber.py\n",
    "# Used below to calculate the acinus volume from the stereological assessment.\n",
    "DisectorThickness = 5    # slices\n",
    "TOMCATPixelSize = 1.48   # um\n",
    "ShrinkageFactor = 0.61   # Volume-Shrinkage-Factor = 61% with STD=5, calculated by Sébastien: Volume TOMCAT / Waterdisplacement from Haberthuer2013, p. 1382"
   ]
  },
  {
   "cell_type": "code",
   "execution_count": 16,
   "metadata": {},
   "outputs": [],
   "source": [
    "# Generate a dataframe for Davids assessment\n",
    "David = pandas.DataFrame({'Location': StepanizerFiles_David})\n",
    "# Extract the relevant data data from filenames\n",
    "David['Filename'] = [os.path.basename(f) for f in StepanizerFiles_David]\n",
    "David['Animal'] = [os.path.basename(f).split('_R108C')[1].split('mrg-')[0][:3] for f in StepanizerFiles_David]\n",
    "David['Day'] = [int(os.path.basename(f).split('_R108C')[1].split('mrg-')[0][:2]) for f in StepanizerFiles_David]\n",
    "David['Beamtime'] = [os.path.dirname(f).split('Acini')[1].split(os.sep)[1] for f in StepanizerFiles_David]\n",
    "David['Sample'] = [os.path.basename(f).split('-acinus')[0][1:] for f in StepanizerFiles_David]\n",
    "David['Acinus'] = [int(os.path.basename(f).split('acinus')[1].split('_')[0]) for f in StepanizerFiles_David]\n",
    "# Read the files\n",
    "David['Counts'] = [int(pandas.read_csv(f, nrows=13,\n",
    "                                       delimiter='\\t')['Total'][10]) for f in StepanizerFiles_David]\n",
    "David['Pixelsize'] = [float(pandas.read_csv(f, skiprows=16, nrows=1, delimiter='\\t', encoding='latin',\n",
    "                                            header=None, usecols=[1])[1]) for f in StepanizerFiles_David]\n",
    "# Calculate the volume of the acini\n",
    "# Area per point in xls files in um^2\n",
    "David['Area per point'] = [float(pandas.read_csv(f, delimiter='\\t', encoding='latin',\n",
    "                                                 skiprows=28, header=None, usecols=[0, 1],\n",
    "                                                 nrows=1)[1][0]) for f in StepanizerFiles_David]\n",
    "# Acinusvol is in um^3, we go from um^3 to mm^3: https://encrypted.google.com/search?&q=cubic+micrometer+to+cubic+millimeter\n",
    "David['Volume_Acinus_STEPanizer'] = [cts * ap * 2 * DisectorThickness * TOMCATPixelSize * 1e-9\n",
    "                         for cts, ap in zip(David['Counts'],\n",
    "                                            David['Area per point'])]\n",
    "# Read the number of images from the xls-file instead of counting from disk\n",
    "# Might be good for error-checking...\n",
    "David['Number of images'] = [int(pandas.read_csv(f, delimiter='\\t', encoding='latin',\n",
    "                                                 skiprows=12, header=None, usecols=[0, 1, 2, 3],\n",
    "                                                 nrows=1)[2][0][2:])  # Stefan writes '->NumImg' into the cell, so we read only everything from string position 3 on...\n",
    "                             for f in StepanizerFiles_David]"
   ]
  },
  {
   "cell_type": "markdown",
   "metadata": {},
   "source": [
    "----"
   ]
  },
  {
   "cell_type": "code",
   "execution_count": 1,
   "metadata": {},
   "outputs": [
    {
     "ename": "NameError",
     "evalue": "name 'pandas' is not defined",
     "output_type": "error",
     "traceback": [
      "\u001b[0;31m---------------------------------------------------------------------------\u001b[0m",
      "\u001b[0;31mNameError\u001b[0m                                 Traceback (most recent call last)",
      "\u001b[0;32m<ipython-input-1-ad3e3338a2e4>\u001b[0m in \u001b[0;36m<module>\u001b[0;34m()\u001b[0m\n\u001b[1;32m      1\u001b[0m \u001b[0;31m# Merge 'Eveline' and 'David' to evaluate the data\u001b[0m\u001b[0;34m\u001b[0m\u001b[0;34m\u001b[0m\u001b[0m\n\u001b[1;32m      2\u001b[0m \u001b[0;31m# Based on https://stackoverflow.com/a/33350050/323100\u001b[0m\u001b[0;34m\u001b[0m\u001b[0;34m\u001b[0m\u001b[0m\n\u001b[0;32m----> 3\u001b[0;31m Done = pandas.merge(Eveline, David,\n\u001b[0m\u001b[1;32m      4\u001b[0m                     \u001b[0mon\u001b[0m\u001b[0;34m=\u001b[0m\u001b[0;34m[\u001b[0m\u001b[0;34m'Animal'\u001b[0m\u001b[0;34m,\u001b[0m \u001b[0;34m'Acinus'\u001b[0m\u001b[0;34m,\u001b[0m \u001b[0;34m'Day'\u001b[0m\u001b[0;34m,\u001b[0m \u001b[0;34m'Beamtime'\u001b[0m\u001b[0;34m,\u001b[0m \u001b[0;34m'Sample'\u001b[0m\u001b[0;34m]\u001b[0m\u001b[0;34m,\u001b[0m\u001b[0;34m\u001b[0m\u001b[0m\n\u001b[1;32m      5\u001b[0m                     \u001b[0mhow\u001b[0m\u001b[0;34m=\u001b[0m\u001b[0;34m'inner'\u001b[0m\u001b[0;34m,\u001b[0m \u001b[0msuffixes\u001b[0m\u001b[0;34m=\u001b[0m\u001b[0;34m[\u001b[0m\u001b[0;34m'_Eveline'\u001b[0m\u001b[0;34m,\u001b[0m \u001b[0;34m'_David'\u001b[0m\u001b[0;34m]\u001b[0m\u001b[0;34m,\u001b[0m\u001b[0;34m\u001b[0m\u001b[0m\n",
      "\u001b[0;31mNameError\u001b[0m: name 'pandas' is not defined"
     ]
    }
   ],
   "source": [
    "# Merge 'Eveline' and 'David' to evaluate the data\n",
    "# Based on https://stackoverflow.com/a/33350050/323100\n",
    "Done = pandas.merge(Eveline, David,\n",
    "                    on=['Animal', 'Acinus', 'Day', 'Beamtime', 'Sample'],\n",
    "                    how='inner', suffixes=['_Eveline', '_David'],\n",
    "                    indicator=True)\n",
    "print('We now have merged data (from Eveline and David) for %s acini...' % len(Done))"
   ]
  },
  {
   "cell_type": "markdown",
   "metadata": {},
   "source": [
    "Now load the acinar volumes, which were written to the DICOM file names with MeVisLab a long time ago.\n",
    "These are the volumes from the segmentation, so they are 'biased' in terms of thresholding difficulties.\n",
    "We load the file names directly from `anatera4`, where I originally exported the DICOM files from MeVisLab (and where the data still is).\n",
    "Since looking for all the DICOM files takes nearly an hour, we save the results to a dataframe on disk an load this dataframe if needed/wanted."
   ]
  },
  {
   "cell_type": "code",
   "execution_count": 46,
   "metadata": {},
   "outputs": [
    {
     "name": "stdout",
     "output_type": "stream",
     "text": [
      "We are loading all the data from /run/user/1000/gvfs/smb-share:server=anatera4,share=share/SLS\n"
     ]
    }
   ],
   "source": [
    "# Different locations if running either on Linux or Windows\n",
    "if 'debian' in platform.dist():\n",
    "    location_volumes = '/run/user/1000/gvfs/smb-share:server=anatera4,share='\n",
    "else:\n",
    "    location_volumes = '\\\\\\\\anatera4\\\\'\n",
    "# Load the data from this folder\n",
    "terastation = location_volumes + os.path.join('share', 'SLS')\n",
    "print('We are loading all the data from %s' % terastation)"
   ]
  },
  {
   "cell_type": "code",
   "execution_count": 47,
   "metadata": {},
   "outputs": [],
   "source": [
    "# Filename to save the data, with included git hash for versioning purposes...\n",
    "OutputName_Volumes = 'VolumesFromDisk_' + get_git_hash() + '.pkl'"
   ]
  },
  {
   "cell_type": "code",
   "execution_count": 67,
   "metadata": {},
   "outputs": [],
   "source": [
    "try:\n",
    "    # Use the *freshest* VolumesFromDisk file, even if it's from another git hash\n",
    "    OutputName_Volumes = max(glob.iglob('VolumesFromDisk*.pkl'), key=os.path.getctime)\n",
    "except ValueError:\n",
    "    print('We *need* to generate a new volume file, since we found none...')"
   ]
  },
  {
   "cell_type": "code",
   "execution_count": 69,
   "metadata": {},
   "outputs": [
    {
     "name": "stdout",
     "output_type": "stream",
     "text": [
      "The current git hash (96e1e53) of our notebook is not the same as \"OutputName_Volumes\" (VolumesFromDisk_da3bdfb.pkl).\n",
      "We are using the old file: VolumesFromDisk_da3bdfb.pkl\n"
     ]
    }
   ],
   "source": [
    "if get_git_hash() != os.path.splitext(OutputName_Volumes.split('_')[1])[0]:\n",
    "    print('The current git hash (%s) of our notebook is not the same as \"OutputName_Volumes\" (%s).' % (get_git_hash(), OutputName_Volumes))\n",
    "    print('We are using the old file: %s' % OutputName_Volumes)\n",
    "else:\n",
    "    print('Hash (%s) is equal to the name of the OutputName_Volumes file name (%s).' % (get_git_hash(), OutputName_Volumes))"
   ]
  },
  {
   "cell_type": "code",
   "execution_count": 70,
   "metadata": {},
   "outputs": [
    {
     "name": "stdout",
     "output_type": "stream",
     "text": [
      "We loaded the volume data from VolumesFromDisk_da3bdfb.pkl\n"
     ]
    }
   ],
   "source": [
    "if os.path.exists(OutputName_Volumes):\n",
    "    print('We loaded the volume data from %s' % OutputName_Volumes)\n",
    "else:\n",
    "    # Get a list of *all* DICOM files that I exported aeons ago\n",
    "    # Based on https://stackoverflow.com/a/14798263\n",
    "    # This takes between 30 and 60 minutes!\n",
    "    # We thus only do it if we cannot read the dataframe with all the data saved from a previous run.\n",
    "    print('We scan %s for \"R108*.dcm\" files' % terastation)\n",
    "    tic = timeit.default_timer()\n",
    "    AcinarVolumeFiles = sorted(glob.glob(os.path.join(terastation, '**/R108*.dcm'), recursive=True))\n",
    "    toc = timeit.default_timer()\n",
    "    print('We found %s DICOM files in %s minutes' % (len(AcinarVolumeFiles),\n",
    "                                                     round(float((toc - tic) / 60.), 1)))"
   ]
  },
  {
   "cell_type": "code",
   "execution_count": 71,
   "metadata": {},
   "outputs": [],
   "source": [
    "# Collect the data into a dataframe\n",
    "if os.path.exists(OutputName_Volumes):\n",
    "    # We already did it once, so just load it...\n",
    "    VolumesFromDisk = pandas.read_pickle(OutputName_Volumes)\n",
    "else:\n",
    "    # Save the file locations into an empty dataframe\n",
    "    VolumesFromDisk = pandas.DataFrame({'Location_Volume': AcinarVolumeFiles})"
   ]
  },
  {
   "cell_type": "code",
   "execution_count": 72,
   "metadata": {},
   "outputs": [],
   "source": [
    "# # Grab relevant data from filenames\n",
    "# # We used this code to get the  string matching right...\n",
    "# for f in AcinarVolumeFiles:\n",
    "#     print(os.path.basename(f))\n",
    "#     print('Animal', os.path.basename(f).split('R108C')[1].split('mrg.')[0][:-2])\n",
    "#     print('Day', os.path.basename(f).split('R108C')[1].split('mrg')[0][:2])\n",
    "#     print('Acinus', os.path.basename(f).split('.acinus')[1].split('.volume')[0])\n",
    "#     print('Volume_MeVisLab', os.path.basename(f).split('.volume')[1].split('.pixelsize')[0])\n",
    "#     print('Scantime', os.path.dirname(f).split('SLS')[1].split(os.sep)[1])\n",
    "#     print(80*'-')"
   ]
  },
  {
   "cell_type": "code",
   "execution_count": 73,
   "metadata": {},
   "outputs": [],
   "source": [
    "# # Some names (see output of this cell) derive from the R108C$Day$$Animal$ scheme.\n",
    "# # We catch them with the intricate .split() in the cells below...\n",
    "# for i in VolumesFromDisk.File:\n",
    "#     if len(i.split('mrg')[0][len('R108C'):-2]) >3:\n",
    "#         tmp.append(i.split('mrg')[0][len('R108C'):-2])\n",
    "# for i in pandas.unique(tmp):\n",
    "#     print(i)"
   ]
  },
  {
   "cell_type": "code",
   "execution_count": 74,
   "metadata": {},
   "outputs": [],
   "source": [
    "# Grab data from the file names\n",
    "if not os.path.exists(OutputName_Volumes):\n",
    "    VolumesFromDisk['Filename_Volume'] = [os.path.basename(f) for f in AcinarVolumeFiles]\n",
    "    VolumesFromDisk['Animal'] = [os.path.basename(f).split('mrg')[0][len('R108C'):len('R108C') + 3]\n",
    "                                 for f in AcinarVolumeFiles]\n",
    "    VolumesFromDisk['Beamtime'] = [os.path.dirname(f).split('SLS')[1].split(os.sep)[1]\n",
    "                                   for f in AcinarVolumeFiles]\n",
    "    VolumesFromDisk['Day'] = [int(os.path.basename(f).split('mrg')[0][len('R108C'):len('R108C') + 2])\n",
    "                              for f in AcinarVolumeFiles]\n",
    "    VolumesFromDisk['Acinus'] = [int(os.path.basename(f).split('.acinus')[1].split('.volume')[0])\n",
    "                                 for f in AcinarVolumeFiles]\n",
    "    # According to the MeVisLab files, the volume is saved to the file name in 'ul'. Which is equal to mm^3\n",
    "    VolumesFromDisk['Volume_MeVisLab'] = [float(os.path.basename(f).split('.volume')[1].split('.pixelsize')[0])\n",
    "                                          for f in AcinarVolumeFiles]  # mm^3"
   ]
  },
  {
   "cell_type": "code",
   "execution_count": 75,
   "metadata": {},
   "outputs": [
    {
     "name": "stdout",
     "output_type": "stream",
     "text": [
      "If we drop day 36, we now have the volume data for 702 acini\n"
     ]
    }
   ],
   "source": [
    "# Drop Day 36, which Eveline did not assess stereologically\n",
    "# https://stackoverflow.com/a/27360130/323100\n",
    "VolumesFromDisk.drop(VolumesFromDisk[VolumesFromDisk['Day'] == 36].index, inplace=True)\n",
    "print('If we drop day 36, we now have the volume data for %s acini' % len(VolumesFromDisk))"
   ]
  },
  {
   "cell_type": "code",
   "execution_count": 76,
   "metadata": {
    "collapsed": true
   },
   "outputs": [],
   "source": [
    "# Save the data if it doesn't exist already\n",
    "if not os.path.exists(OutputName_Volumes):\n",
    "    VolumesFromDisk.to_pickle(OutputName_Volumes)"
   ]
  },
  {
   "cell_type": "code",
   "execution_count": 77,
   "metadata": {
    "collapsed": true
   },
   "outputs": [],
   "source": [
    "# Filename to save the data, with included git hash for versioning purposes...\n",
    "OutputName_Data = 'Data' + get_git_hash() + '.pkl'"
   ]
  },
  {
   "cell_type": "code",
   "execution_count": 79,
   "metadata": {
    "collapsed": true
   },
   "outputs": [],
   "source": [
    "# Merge the dataframes: http://pandas.pydata.org/pandas-docs/stable/merging.html\n",
    "# This seems to discard all entries that are *not* found in both df's\n",
    "if os.path.exists(OutputName_Data):\n",
    "    # We already did it once, so just load it...\n",
    "    Data = pandas.read_pickle(OutputName_Data)\n",
    "else:\n",
    "    Data = pandas.merge(Done, VolumesFromDisk)"
   ]
  },
  {
   "cell_type": "markdown",
   "metadata": {},
   "source": [
    "----"
   ]
  },
  {
   "cell_type": "markdown",
   "metadata": {},
   "source": [
    "Now start to display the data"
   ]
  },
  {
   "cell_type": "code",
   "execution_count": 18,
   "metadata": {},
   "outputs": [],
   "source": [
    "# Set ourselves a palette, based on the individual unique sample names\n",
    "# The dictionary palette setting is based on the comments in https://stackoverflow.com/q/36554075/323100\n",
    "ourcolors = seaborn.color_palette('husl', len(Done.Animal.unique()))\n",
    "ourpalette = {animal: ourcolors[c] for c, animal in enumerate(pandas.unique(Done.Animal))}"
   ]
  },
  {
   "cell_type": "code",
   "execution_count": 19,
   "metadata": {},
   "outputs": [
    {
     "data": {
      "image/png": "[encoded data removed]",
      "text/plain": [
       "<Figure size 432x288 with 4 Axes>"
      ]
     },
     "metadata": {},
     "output_type": "display_data"
    }
   ],
   "source": [
    "# Let's look at the counts from Eveline\n",
    "for c, d in enumerate(sorted(pandas.unique(Done.Day))):\n",
    "    plt.subplot(1, len(pandas.unique(Done.Day)), c + 1)\n",
    "    bxplt = seaborn.violinplot(data=Done.loc[Done.Day == d], x='Day', y='Counts_Eveline',\n",
    "                               hue='Animal',\n",
    "                               # Because the animals are preferentially sorted on the beamtime name, we have\n",
    "                               # to jump through the hoop below and sort the hues on the 'Animal' in addition\n",
    "                               # to what we did for Evelines counts where all the data is in *one* folder\n",
    "                               # Just comment the next line to see the difference (a correct plot, but ugly sort :)\n",
    "                               hue_order=sorted(pandas.unique(Done.loc[Done.Day == d]['Animal'])),\n",
    "                               palette=ourpalette, cut=0, inner='quartiles')\n",
    "    swrmplt = seaborn.stripplot(data=Done.loc[Done.Day == d], x='Day', y='Counts_Eveline', hue='Animal', jitter=True,\n",
    "                                hue_order=sorted(pandas.unique(Done.loc[Done.Day == d]['Animal'])),\n",
    "                                dodge=True, linewidth=1, palette=ourpalette, edgecolor='k', alpha=0.309)\n",
    "    handles, labels = plt.gca().get_legend_handles_labels()\n",
    "    plt.ylim([0, 1.1 * Done.Counts_Eveline.max()])\n",
    "    bxplt.legend(handles[:len(handles) // 2], labels[:len(labels) // 2])\n",
    "    if c:\n",
    "        plt.ylabel('')\n",
    "        plt.gca().set_yticklabels([])\n",
    "    else:\n",
    "        plt.ylabel('Entrance ring count')\n",
    "plt.suptitle('Entrance ring counts\\n%s acini split over %s animals' % (len(Eveline),\n",
    "                                                                       len(pandas.unique(Eveline.Animal))))\n",
    "plt.savefig(os.path.join(OutputDir, 'entrance-ring-counts_all.png'))\n",
    "plt.show()"
   ]
  },
  {
   "cell_type": "markdown",
   "metadata": {},
   "source": [
    "What's wrong with sample 60C?\n",
    "Let's test if it is different to the others of day 60!"
   ]
  },
  {
   "cell_type": "code",
   "execution_count": 20,
   "metadata": {},
   "outputs": [
    {
     "name": "stdout",
     "output_type": "stream",
     "text": [
      "T-test of day 60C against the others\n",
      "F value of -29. and a p value of 8.08e-06.\n",
      "This is a significance of **** (p=8.08e-06)\n"
     ]
    }
   ],
   "source": [
    "print('T-test of day 60C against the others')\n",
    "t_statistic, p_value = scipy.stats.ttest_ind([numpy.mean(Done.loc[Done.Animal == '60C'].Counts_Eveline),\n",
    "                                              numpy.mean(Done.loc[Done.Animal == '60C'].Counts_Eveline),\n",
    "                                              numpy.mean(Done.loc[Done.Animal == '60C'].Counts_Eveline)],\n",
    "                                             [numpy.mean(Done.loc[Done.Animal == '60B'].Counts_Eveline),\n",
    "                                              numpy.mean(Done.loc[Done.Animal == '60D'].Counts_Eveline),\n",
    "                                              numpy.mean(Done.loc[Done.Animal == '60E'].Counts_Eveline)])\n",
    "\n",
    "print('F value of %0.4s and a p value of %.2e.' % (t_statistic, p_value))\n",
    "print('This is a significance of %s' % significance(p_value))"
   ]
  },
  {
   "cell_type": "code",
   "execution_count": 21,
   "metadata": {},
   "outputs": [
    {
     "name": "stdout",
     "output_type": "stream",
     "text": [
      "WE NEED TO DISCUSS IN THE PAPER THAT WE DROPPED ANIMAL 60C\n"
     ]
    }
   ],
   "source": [
    "# Based on the statiscial reasoning above, we can thus drop day 60C\n",
    "DropDay60C = True\n",
    "if DropDay60C:\n",
    "    print('WE NEED TO DISCUSS IN THE PAPER THAT WE DROPPED ANIMAL 60C')\n",
    "    Done.drop(Done[Done['Animal'] == '60C'].index, inplace=True)"
   ]
  },
  {
   "cell_type": "code",
   "execution_count": 22,
   "metadata": {},
   "outputs": [
    {
     "name": "stdout",
     "output_type": "stream",
     "text": [
      "After dropping day 60C, we have 267 acini in our analysis\n"
     ]
    }
   ],
   "source": [
    "print('After dropping day 60C, we have %s acini in our analysis' % len(Done))"
   ]
  },
  {
   "cell_type": "code",
   "execution_count": 23,
   "metadata": {},
   "outputs": [
    {
     "data": {
      "text/html": [
       "<div>\n",
       "<style scoped>\n",
       "    .dataframe tbody tr th:only-of-type {\n",
       "        vertical-align: middle;\n",
       "    }\n",
       "\n",
       "    .dataframe tbody tr th {\n",
       "        vertical-align: top;\n",
       "    }\n",
       "\n",
       "    .dataframe thead th {\n",
       "        text-align: right;\n",
       "    }\n",
       "</style>\n",
       "<table border=\"1\" class=\"dataframe\">\n",
       "  <thead>\n",
       "    <tr style=\"text-align: right;\">\n",
       "      <th></th>\n",
       "      <th>count</th>\n",
       "      <th>mean</th>\n",
       "      <th>std</th>\n",
       "      <th>min</th>\n",
       "      <th>max</th>\n",
       "    </tr>\n",
       "    <tr>\n",
       "      <th>Day</th>\n",
       "      <th></th>\n",
       "      <th></th>\n",
       "      <th></th>\n",
       "      <th></th>\n",
       "      <th></th>\n",
       "    </tr>\n",
       "  </thead>\n",
       "  <tbody>\n",
       "    <tr>\n",
       "      <th>4</th>\n",
       "      <td>124.0</td>\n",
       "      <td>47.854839</td>\n",
       "      <td>41.279278</td>\n",
       "      <td>4.0</td>\n",
       "      <td>249.0</td>\n",
       "    </tr>\n",
       "    <tr>\n",
       "      <th>10</th>\n",
       "      <td>58.0</td>\n",
       "      <td>88.534483</td>\n",
       "      <td>83.843257</td>\n",
       "      <td>15.0</td>\n",
       "      <td>505.0</td>\n",
       "    </tr>\n",
       "    <tr>\n",
       "      <th>21</th>\n",
       "      <td>42.0</td>\n",
       "      <td>233.333333</td>\n",
       "      <td>164.301280</td>\n",
       "      <td>35.0</td>\n",
       "      <td>781.0</td>\n",
       "    </tr>\n",
       "    <tr>\n",
       "      <th>60</th>\n",
       "      <td>43.0</td>\n",
       "      <td>701.790698</td>\n",
       "      <td>219.109188</td>\n",
       "      <td>272.0</td>\n",
       "      <td>1296.0</td>\n",
       "    </tr>\n",
       "  </tbody>\n",
       "</table>\n",
       "</div>"
      ],
      "text/plain": [
       "     count        mean         std    min     max\n",
       "Day                                              \n",
       "4    124.0   47.854839   41.279278    4.0   249.0\n",
       "10    58.0   88.534483   83.843257   15.0   505.0\n",
       "21    42.0  233.333333  164.301280   35.0   781.0\n",
       "60    43.0  701.790698  219.109188  272.0  1296.0"
      ]
     },
     "execution_count": 23,
     "metadata": {},
     "output_type": "execute_result"
    }
   ],
   "source": [
    "# Describe the counts per day\n",
    "Done.groupby(by=['Day'])['Counts_Eveline'].describe()[['count', 'mean', 'std', 'min', 'max']]"
   ]
  },
  {
   "cell_type": "code",
   "execution_count": 24,
   "metadata": {},
   "outputs": [
    {
     "data": {
      "text/html": [
       "<div>\n",
       "<style scoped>\n",
       "    .dataframe tbody tr th:only-of-type {\n",
       "        vertical-align: middle;\n",
       "    }\n",
       "\n",
       "    .dataframe tbody tr th {\n",
       "        vertical-align: top;\n",
       "    }\n",
       "\n",
       "    .dataframe thead th {\n",
       "        text-align: right;\n",
       "    }\n",
       "</style>\n",
       "<table border=\"1\" class=\"dataframe\">\n",
       "  <thead>\n",
       "    <tr style=\"text-align: right;\">\n",
       "      <th></th>\n",
       "      <th></th>\n",
       "      <th>count</th>\n",
       "      <th>mean</th>\n",
       "      <th>std</th>\n",
       "      <th>min</th>\n",
       "      <th>25%</th>\n",
       "      <th>50%</th>\n",
       "      <th>75%</th>\n",
       "      <th>max</th>\n",
       "    </tr>\n",
       "    <tr>\n",
       "      <th>Day</th>\n",
       "      <th>Animal</th>\n",
       "      <th></th>\n",
       "      <th></th>\n",
       "      <th></th>\n",
       "      <th></th>\n",
       "      <th></th>\n",
       "      <th></th>\n",
       "      <th></th>\n",
       "      <th></th>\n",
       "    </tr>\n",
       "  </thead>\n",
       "  <tbody>\n",
       "    <tr>\n",
       "      <th rowspan=\"3\" valign=\"top\">4</th>\n",
       "      <th>04A</th>\n",
       "      <td>50.0</td>\n",
       "      <td>27.040000</td>\n",
       "      <td>23.687558</td>\n",
       "      <td>4.0</td>\n",
       "      <td>11.25</td>\n",
       "      <td>17.5</td>\n",
       "      <td>35.00</td>\n",
       "      <td>111.0</td>\n",
       "    </tr>\n",
       "    <tr>\n",
       "      <th>04B</th>\n",
       "      <td>23.0</td>\n",
       "      <td>65.043478</td>\n",
       "      <td>43.849410</td>\n",
       "      <td>15.0</td>\n",
       "      <td>34.50</td>\n",
       "      <td>53.0</td>\n",
       "      <td>80.00</td>\n",
       "      <td>171.0</td>\n",
       "    </tr>\n",
       "    <tr>\n",
       "      <th>04C</th>\n",
       "      <td>51.0</td>\n",
       "      <td>60.509804</td>\n",
       "      <td>45.424387</td>\n",
       "      <td>10.0</td>\n",
       "      <td>29.50</td>\n",
       "      <td>52.0</td>\n",
       "      <td>77.00</td>\n",
       "      <td>249.0</td>\n",
       "    </tr>\n",
       "    <tr>\n",
       "      <th rowspan=\"3\" valign=\"top\">10</th>\n",
       "      <th>10A</th>\n",
       "      <td>27.0</td>\n",
       "      <td>77.851852</td>\n",
       "      <td>56.305283</td>\n",
       "      <td>18.0</td>\n",
       "      <td>28.50</td>\n",
       "      <td>69.0</td>\n",
       "      <td>122.00</td>\n",
       "      <td>245.0</td>\n",
       "    </tr>\n",
       "    <tr>\n",
       "      <th>10B</th>\n",
       "      <td>14.0</td>\n",
       "      <td>84.571429</td>\n",
       "      <td>65.752115</td>\n",
       "      <td>23.0</td>\n",
       "      <td>37.50</td>\n",
       "      <td>52.0</td>\n",
       "      <td>135.25</td>\n",
       "      <td>199.0</td>\n",
       "    </tr>\n",
       "    <tr>\n",
       "      <th>10C</th>\n",
       "      <td>17.0</td>\n",
       "      <td>108.764706</td>\n",
       "      <td>125.449955</td>\n",
       "      <td>15.0</td>\n",
       "      <td>46.00</td>\n",
       "      <td>73.0</td>\n",
       "      <td>105.00</td>\n",
       "      <td>505.0</td>\n",
       "    </tr>\n",
       "    <tr>\n",
       "      <th rowspan=\"3\" valign=\"top\">21</th>\n",
       "      <th>21B</th>\n",
       "      <td>14.0</td>\n",
       "      <td>208.142857</td>\n",
       "      <td>197.709133</td>\n",
       "      <td>35.0</td>\n",
       "      <td>72.00</td>\n",
       "      <td>160.5</td>\n",
       "      <td>237.00</td>\n",
       "      <td>781.0</td>\n",
       "    </tr>\n",
       "    <tr>\n",
       "      <th>21D</th>\n",
       "      <td>17.0</td>\n",
       "      <td>196.000000</td>\n",
       "      <td>128.564672</td>\n",
       "      <td>50.0</td>\n",
       "      <td>97.00</td>\n",
       "      <td>167.0</td>\n",
       "      <td>271.00</td>\n",
       "      <td>493.0</td>\n",
       "    </tr>\n",
       "    <tr>\n",
       "      <th>21E</th>\n",
       "      <td>11.0</td>\n",
       "      <td>323.090909</td>\n",
       "      <td>145.936599</td>\n",
       "      <td>108.0</td>\n",
       "      <td>218.00</td>\n",
       "      <td>298.0</td>\n",
       "      <td>434.50</td>\n",
       "      <td>572.0</td>\n",
       "    </tr>\n",
       "    <tr>\n",
       "      <th rowspan=\"3\" valign=\"top\">60</th>\n",
       "      <th>60B</th>\n",
       "      <td>24.0</td>\n",
       "      <td>701.750000</td>\n",
       "      <td>230.946116</td>\n",
       "      <td>322.0</td>\n",
       "      <td>506.50</td>\n",
       "      <td>728.0</td>\n",
       "      <td>849.00</td>\n",
       "      <td>1296.0</td>\n",
       "    </tr>\n",
       "    <tr>\n",
       "      <th>60D</th>\n",
       "      <td>10.0</td>\n",
       "      <td>668.300000</td>\n",
       "      <td>121.669909</td>\n",
       "      <td>444.0</td>\n",
       "      <td>569.25</td>\n",
       "      <td>722.0</td>\n",
       "      <td>747.00</td>\n",
       "      <td>810.0</td>\n",
       "    </tr>\n",
       "    <tr>\n",
       "      <th>60E</th>\n",
       "      <td>9.0</td>\n",
       "      <td>739.111111</td>\n",
       "      <td>281.215418</td>\n",
       "      <td>272.0</td>\n",
       "      <td>640.00</td>\n",
       "      <td>738.0</td>\n",
       "      <td>770.00</td>\n",
       "      <td>1204.0</td>\n",
       "    </tr>\n",
       "  </tbody>\n",
       "</table>\n",
       "</div>"
      ],
      "text/plain": [
       "            count        mean         std    min     25%    50%     75%  \\\n",
       "Day Animal                                                                \n",
       "4   04A      50.0   27.040000   23.687558    4.0   11.25   17.5   35.00   \n",
       "    04B      23.0   65.043478   43.849410   15.0   34.50   53.0   80.00   \n",
       "    04C      51.0   60.509804   45.424387   10.0   29.50   52.0   77.00   \n",
       "10  10A      27.0   77.851852   56.305283   18.0   28.50   69.0  122.00   \n",
       "    10B      14.0   84.571429   65.752115   23.0   37.50   52.0  135.25   \n",
       "    10C      17.0  108.764706  125.449955   15.0   46.00   73.0  105.00   \n",
       "21  21B      14.0  208.142857  197.709133   35.0   72.00  160.5  237.00   \n",
       "    21D      17.0  196.000000  128.564672   50.0   97.00  167.0  271.00   \n",
       "    21E      11.0  323.090909  145.936599  108.0  218.00  298.0  434.50   \n",
       "60  60B      24.0  701.750000  230.946116  322.0  506.50  728.0  849.00   \n",
       "    60D      10.0  668.300000  121.669909  444.0  569.25  722.0  747.00   \n",
       "    60E       9.0  739.111111  281.215418  272.0  640.00  738.0  770.00   \n",
       "\n",
       "               max  \n",
       "Day Animal          \n",
       "4   04A      111.0  \n",
       "    04B      171.0  \n",
       "    04C      249.0  \n",
       "10  10A      245.0  \n",
       "    10B      199.0  \n",
       "    10C      505.0  \n",
       "21  21B      781.0  \n",
       "    21D      493.0  \n",
       "    21E      572.0  \n",
       "60  60B     1296.0  \n",
       "    60D      810.0  \n",
       "    60E     1204.0  "
      ]
     },
     "execution_count": 24,
     "metadata": {},
     "output_type": "execute_result"
    }
   ],
   "source": [
    "# Describe the counts per day and animal\n",
    "Done.groupby(by=['Day', 'Animal'])['Counts_Eveline'].describe()"
   ]
  },
  {
   "cell_type": "code",
   "execution_count": 25,
   "metadata": {},
   "outputs": [
    {
     "name": "stdout",
     "output_type": "stream",
     "text": [
      "            count        mean         std    min     max\n",
      "Day Animal                                              \n",
      "4   04A      50.0   27.040000   23.687558    4.0   111.0\n",
      "    04B      23.0   65.043478   43.849410   15.0   171.0\n",
      "    04C      51.0   60.509804   45.424387   10.0   249.0\n",
      "10  10A      27.0   77.851852   56.305283   18.0   245.0\n",
      "    10B      14.0   84.571429   65.752115   23.0   199.0\n",
      "    10C      17.0  108.764706  125.449955   15.0   505.0\n",
      "21  21B      14.0  208.142857  197.709133   35.0   781.0\n",
      "    21D      17.0  196.000000  128.564672   50.0   493.0\n",
      "    21E      11.0  323.090909  145.936599  108.0   572.0\n",
      "60  60B      24.0  701.750000  230.946116  322.0  1296.0\n",
      "    60D      10.0  668.300000  121.669909  444.0   810.0\n",
      "    60E       9.0  739.111111  281.215418  272.0  1204.0\n",
      "\n",
      "Saved to Output/96e1e53/authorea_counts.csv\n"
     ]
    }
   ],
   "source": [
    "# Save the counts per animal to CSV\n",
    "outfile = 'authorea_counts.csv'\n",
    "out = Done.groupby(by=['Day', 'Animal'])['Counts_Eveline'].describe()[['count', 'mean', 'std', 'min', 'max']]\n",
    "print(out)\n",
    "out.to_csv(os.path.join(OutputDir, outfile), float_format='%0.2f')\n",
    "print('\\nSaved to', os.path.join(OutputDir, outfile))"
   ]
  },
  {
   "cell_type": "code",
   "execution_count": 26,
   "metadata": {},
   "outputs": [
    {
     "name": "stdout",
     "output_type": "stream",
     "text": [
      "The mean count (alveolar number) at day  4 is  47.85 (STD= 41.28)\n",
      "The mean count (alveolar number) at day 10 is  88.53 (STD= 83.84)\n",
      "The mean count (alveolar number) at day 21 is 233.33 (STD=164.30)\n",
      "The mean count (alveolar number) at day 60 is 701.79 (STD=219.11)\n"
     ]
    }
   ],
   "source": [
    "# Describe the counts per day (for Authorea copy-pasting)\n",
    "for d in sorted(Done.Day.unique()):\n",
    "    print('The mean count (alveolar number) at day %02s is %6.2f (STD=%6.2f)' % (d,\n",
    "                                                                                 Done.loc[Done.Day == d]['Counts_Eveline'].mean(),\n",
    "                                                                                 Done.loc[Done.Day == d]['Counts_Eveline'].std()))"
   ]
  },
  {
   "cell_type": "code",
   "execution_count": 27,
   "metadata": {},
   "outputs": [
    {
     "data": {
      "image/png": "[encoded data removed]",
      "text/plain": [
       "<Figure size 432x288 with 4 Axes>"
      ]
     },
     "metadata": {},
     "output_type": "display_data"
    }
   ],
   "source": [
    "# Let's look at the counts from Eveline\n",
    "for c, d in enumerate(sorted(pandas.unique(Done.Day))):\n",
    "    plt.subplot(1, len(pandas.unique(Done.Day)), c + 1)\n",
    "    bxplt = seaborn.violinplot(data=Done.loc[Done.Day == d], x='Day', y='Counts_Eveline',\n",
    "                               hue='Animal',\n",
    "                               # Because the animals are preferentially sorted on the beamtime name, we have\n",
    "                               # to jump through the hoop below and sort the hues on the 'Animal' in addition\n",
    "                               # to what we did for Evelines counts where all the data is in *one* folder\n",
    "                               # Just comment the next line to see the difference (a correct plot, but ugly sort :)\n",
    "                               hue_order=sorted(pandas.unique(Done.loc[Done.Day == d]['Animal'])),\n",
    "                               palette=ourpalette, cut=0, inner='quartiles')\n",
    "    swrmplt = seaborn.stripplot(data=Done.loc[Done.Day == d], x='Day', y='Counts_Eveline', hue='Animal', jitter=True,\n",
    "                                hue_order=sorted(pandas.unique(Done.loc[Done.Day == d]['Animal'])),\n",
    "                                dodge=True, linewidth=1, palette=ourpalette, edgecolor='k', alpha=0.309)\n",
    "    plt.ylim([0, 1.1 * Done.Counts_Eveline.max()])    \n",
    "    handles, labels = plt.gca().get_legend_handles_labels()\n",
    "    plt.legend(handles[:len(handles) // 2], labels[:len(labels) // 2],\n",
    "               loc='upper right')\n",
    "    if c:\n",
    "        plt.ylabel('')\n",
    "        plt.gca().set_yticklabels([])\n",
    "    else:\n",
    "        plt.ylabel('Entrance ring count')\n",
    "\n",
    "plt.suptitle('Entrance ring counts\\n%s acini split over %s animals' % (len(Done),\n",
    "                                                                       len(pandas.unique(Done.Animal))))\n",
    "plt.savefig(os.path.join(OutputDir, 'entrance-ring-counts.png'))\n",
    "plt.show()"
   ]
  },
  {
   "cell_type": "code",
   "execution_count": 28,
   "metadata": {},
   "outputs": [
    {
     "data": {
      "text/html": [
       "<div>\n",
       "<style scoped>\n",
       "    .dataframe tbody tr th:only-of-type {\n",
       "        vertical-align: middle;\n",
       "    }\n",
       "\n",
       "    .dataframe tbody tr th {\n",
       "        vertical-align: top;\n",
       "    }\n",
       "\n",
       "    .dataframe thead th {\n",
       "        text-align: right;\n",
       "    }\n",
       "</style>\n",
       "<table border=\"1\" class=\"dataframe\">\n",
       "  <thead>\n",
       "    <tr style=\"text-align: right;\">\n",
       "      <th></th>\n",
       "      <th>count</th>\n",
       "      <th>mean</th>\n",
       "      <th>std</th>\n",
       "      <th>min</th>\n",
       "      <th>25%</th>\n",
       "      <th>50%</th>\n",
       "      <th>75%</th>\n",
       "      <th>max</th>\n",
       "    </tr>\n",
       "    <tr>\n",
       "      <th>Day</th>\n",
       "      <th></th>\n",
       "      <th></th>\n",
       "      <th></th>\n",
       "      <th></th>\n",
       "      <th></th>\n",
       "      <th></th>\n",
       "      <th></th>\n",
       "      <th></th>\n",
       "    </tr>\n",
       "  </thead>\n",
       "  <tbody>\n",
       "    <tr>\n",
       "      <th>4</th>\n",
       "      <td>124.0</td>\n",
       "      <td>0.032857</td>\n",
       "      <td>0.041436</td>\n",
       "      <td>0.001628</td>\n",
       "      <td>0.007769</td>\n",
       "      <td>0.017752</td>\n",
       "      <td>0.041741</td>\n",
       "      <td>0.274707</td>\n",
       "    </tr>\n",
       "    <tr>\n",
       "      <th>10</th>\n",
       "      <td>58.0</td>\n",
       "      <td>0.040043</td>\n",
       "      <td>0.051252</td>\n",
       "      <td>0.002140</td>\n",
       "      <td>0.010600</td>\n",
       "      <td>0.024436</td>\n",
       "      <td>0.044755</td>\n",
       "      <td>0.333254</td>\n",
       "    </tr>\n",
       "    <tr>\n",
       "      <th>21</th>\n",
       "      <td>42.0</td>\n",
       "      <td>0.103920</td>\n",
       "      <td>0.093100</td>\n",
       "      <td>0.011432</td>\n",
       "      <td>0.036389</td>\n",
       "      <td>0.067926</td>\n",
       "      <td>0.167827</td>\n",
       "      <td>0.380460</td>\n",
       "    </tr>\n",
       "    <tr>\n",
       "      <th>60</th>\n",
       "      <td>43.0</td>\n",
       "      <td>0.739355</td>\n",
       "      <td>0.369607</td>\n",
       "      <td>0.185877</td>\n",
       "      <td>0.442245</td>\n",
       "      <td>0.692757</td>\n",
       "      <td>0.942985</td>\n",
       "      <td>1.874612</td>\n",
       "    </tr>\n",
       "  </tbody>\n",
       "</table>\n",
       "</div>"
      ],
      "text/plain": [
       "     count      mean       std       min       25%       50%       75%  \\\n",
       "Day                                                                      \n",
       "4    124.0  0.032857  0.041436  0.001628  0.007769  0.017752  0.041741   \n",
       "10    58.0  0.040043  0.051252  0.002140  0.010600  0.024436  0.044755   \n",
       "21    42.0  0.103920  0.093100  0.011432  0.036389  0.067926  0.167827   \n",
       "60    43.0  0.739355  0.369607  0.185877  0.442245  0.692757  0.942985   \n",
       "\n",
       "          max  \n",
       "Day            \n",
       "4    0.274707  \n",
       "10   0.333254  \n",
       "21   0.380460  \n",
       "60   1.874612  "
      ]
     },
     "execution_count": 28,
     "metadata": {},
     "output_type": "execute_result"
    }
   ],
   "source": [
    "# Describe the volumes per day\n",
    "Done.groupby(by=['Day'])['Volume_Acinus_STEPanizer'].describe()"
   ]
  },
  {
   "cell_type": "code",
   "execution_count": 29,
   "metadata": {},
   "outputs": [
    {
     "data": {
      "text/html": [
       "<div>\n",
       "<style scoped>\n",
       "    .dataframe tbody tr th:only-of-type {\n",
       "        vertical-align: middle;\n",
       "    }\n",
       "\n",
       "    .dataframe tbody tr th {\n",
       "        vertical-align: top;\n",
       "    }\n",
       "\n",
       "    .dataframe thead th {\n",
       "        text-align: right;\n",
       "    }\n",
       "</style>\n",
       "<table border=\"1\" class=\"dataframe\">\n",
       "  <thead>\n",
       "    <tr style=\"text-align: right;\">\n",
       "      <th></th>\n",
       "      <th></th>\n",
       "      <th>count</th>\n",
       "      <th>mean</th>\n",
       "      <th>std</th>\n",
       "      <th>min</th>\n",
       "      <th>25%</th>\n",
       "      <th>50%</th>\n",
       "      <th>75%</th>\n",
       "      <th>max</th>\n",
       "    </tr>\n",
       "    <tr>\n",
       "      <th>Day</th>\n",
       "      <th>Animal</th>\n",
       "      <th></th>\n",
       "      <th></th>\n",
       "      <th></th>\n",
       "      <th></th>\n",
       "      <th></th>\n",
       "      <th></th>\n",
       "      <th></th>\n",
       "      <th></th>\n",
       "    </tr>\n",
       "  </thead>\n",
       "  <tbody>\n",
       "    <tr>\n",
       "      <th rowspan=\"3\" valign=\"top\">4</th>\n",
       "      <th>04A</th>\n",
       "      <td>50.0</td>\n",
       "      <td>0.009375</td>\n",
       "      <td>0.008536</td>\n",
       "      <td>0.001628</td>\n",
       "      <td>0.003524</td>\n",
       "      <td>0.005583</td>\n",
       "      <td>0.012407</td>\n",
       "      <td>0.034906</td>\n",
       "    </tr>\n",
       "    <tr>\n",
       "      <th>04B</th>\n",
       "      <td>23.0</td>\n",
       "      <td>0.058097</td>\n",
       "      <td>0.052507</td>\n",
       "      <td>0.008413</td>\n",
       "      <td>0.027847</td>\n",
       "      <td>0.040765</td>\n",
       "      <td>0.058280</td>\n",
       "      <td>0.194415</td>\n",
       "    </tr>\n",
       "    <tr>\n",
       "      <th>04C</th>\n",
       "      <td>51.0</td>\n",
       "      <td>0.044496</td>\n",
       "      <td>0.044234</td>\n",
       "      <td>0.005535</td>\n",
       "      <td>0.016766</td>\n",
       "      <td>0.034275</td>\n",
       "      <td>0.057462</td>\n",
       "      <td>0.274707</td>\n",
       "    </tr>\n",
       "    <tr>\n",
       "      <th rowspan=\"3\" valign=\"top\">10</th>\n",
       "      <th>10A</th>\n",
       "      <td>27.0</td>\n",
       "      <td>0.033345</td>\n",
       "      <td>0.025892</td>\n",
       "      <td>0.003583</td>\n",
       "      <td>0.011191</td>\n",
       "      <td>0.035619</td>\n",
       "      <td>0.042508</td>\n",
       "      <td>0.107684</td>\n",
       "    </tr>\n",
       "    <tr>\n",
       "      <th>10B</th>\n",
       "      <td>14.0</td>\n",
       "      <td>0.032617</td>\n",
       "      <td>0.029625</td>\n",
       "      <td>0.004242</td>\n",
       "      <td>0.011577</td>\n",
       "      <td>0.020870</td>\n",
       "      <td>0.042937</td>\n",
       "      <td>0.096283</td>\n",
       "    </tr>\n",
       "    <tr>\n",
       "      <th>10C</th>\n",
       "      <td>17.0</td>\n",
       "      <td>0.056795</td>\n",
       "      <td>0.084458</td>\n",
       "      <td>0.002140</td>\n",
       "      <td>0.012026</td>\n",
       "      <td>0.026002</td>\n",
       "      <td>0.060925</td>\n",
       "      <td>0.333254</td>\n",
       "    </tr>\n",
       "    <tr>\n",
       "      <th rowspan=\"3\" valign=\"top\">21</th>\n",
       "      <th>21B</th>\n",
       "      <td>14.0</td>\n",
       "      <td>0.087002</td>\n",
       "      <td>0.086453</td>\n",
       "      <td>0.011432</td>\n",
       "      <td>0.027035</td>\n",
       "      <td>0.055999</td>\n",
       "      <td>0.124669</td>\n",
       "      <td>0.321820</td>\n",
       "    </tr>\n",
       "    <tr>\n",
       "      <th>21D</th>\n",
       "      <td>17.0</td>\n",
       "      <td>0.108524</td>\n",
       "      <td>0.111635</td>\n",
       "      <td>0.014476</td>\n",
       "      <td>0.036162</td>\n",
       "      <td>0.053481</td>\n",
       "      <td>0.172666</td>\n",
       "      <td>0.380460</td>\n",
       "    </tr>\n",
       "    <tr>\n",
       "      <th>21E</th>\n",
       "      <td>11.0</td>\n",
       "      <td>0.118337</td>\n",
       "      <td>0.072218</td>\n",
       "      <td>0.024664</td>\n",
       "      <td>0.061703</td>\n",
       "      <td>0.093533</td>\n",
       "      <td>0.179054</td>\n",
       "      <td>0.238156</td>\n",
       "    </tr>\n",
       "    <tr>\n",
       "      <th rowspan=\"3\" valign=\"top\">60</th>\n",
       "      <th>60B</th>\n",
       "      <td>24.0</td>\n",
       "      <td>0.588268</td>\n",
       "      <td>0.222719</td>\n",
       "      <td>0.225961</td>\n",
       "      <td>0.415072</td>\n",
       "      <td>0.548137</td>\n",
       "      <td>0.741917</td>\n",
       "      <td>1.103739</td>\n",
       "    </tr>\n",
       "    <tr>\n",
       "      <th>60D</th>\n",
       "      <td>10.0</td>\n",
       "      <td>0.888499</td>\n",
       "      <td>0.350353</td>\n",
       "      <td>0.363500</td>\n",
       "      <td>0.658514</td>\n",
       "      <td>0.850991</td>\n",
       "      <td>1.096984</td>\n",
       "      <td>1.575762</td>\n",
       "    </tr>\n",
       "    <tr>\n",
       "      <th>60E</th>\n",
       "      <td>9.0</td>\n",
       "      <td>0.976536</td>\n",
       "      <td>0.526236</td>\n",
       "      <td>0.185877</td>\n",
       "      <td>0.627343</td>\n",
       "      <td>1.205916</td>\n",
       "      <td>1.230092</td>\n",
       "      <td>1.874612</td>\n",
       "    </tr>\n",
       "  </tbody>\n",
       "</table>\n",
       "</div>"
      ],
      "text/plain": [
       "            count      mean       std       min       25%       50%       75%  \\\n",
       "Day Animal                                                                      \n",
       "4   04A      50.0  0.009375  0.008536  0.001628  0.003524  0.005583  0.012407   \n",
       "    04B      23.0  0.058097  0.052507  0.008413  0.027847  0.040765  0.058280   \n",
       "    04C      51.0  0.044496  0.044234  0.005535  0.016766  0.034275  0.057462   \n",
       "10  10A      27.0  0.033345  0.025892  0.003583  0.011191  0.035619  0.042508   \n",
       "    10B      14.0  0.032617  0.029625  0.004242  0.011577  0.020870  0.042937   \n",
       "    10C      17.0  0.056795  0.084458  0.002140  0.012026  0.026002  0.060925   \n",
       "21  21B      14.0  0.087002  0.086453  0.011432  0.027035  0.055999  0.124669   \n",
       "    21D      17.0  0.108524  0.111635  0.014476  0.036162  0.053481  0.172666   \n",
       "    21E      11.0  0.118337  0.072218  0.024664  0.061703  0.093533  0.179054   \n",
       "60  60B      24.0  0.588268  0.222719  0.225961  0.415072  0.548137  0.741917   \n",
       "    60D      10.0  0.888499  0.350353  0.363500  0.658514  0.850991  1.096984   \n",
       "    60E       9.0  0.976536  0.526236  0.185877  0.627343  1.205916  1.230092   \n",
       "\n",
       "                 max  \n",
       "Day Animal            \n",
       "4   04A     0.034906  \n",
       "    04B     0.194415  \n",
       "    04C     0.274707  \n",
       "10  10A     0.107684  \n",
       "    10B     0.096283  \n",
       "    10C     0.333254  \n",
       "21  21B     0.321820  \n",
       "    21D     0.380460  \n",
       "    21E     0.238156  \n",
       "60  60B     1.103739  \n",
       "    60D     1.575762  \n",
       "    60E     1.874612  "
      ]
     },
     "execution_count": 29,
     "metadata": {},
     "output_type": "execute_result"
    }
   ],
   "source": [
    "# Describe the volumes per day and animal\n",
    "Done.groupby(by=['Day', 'Animal'])['Volume_Acinus_STEPanizer'].describe()"
   ]
  },
  {
   "cell_type": "code",
   "execution_count": 30,
   "metadata": {},
   "outputs": [
    {
     "name": "stdout",
     "output_type": "stream",
     "text": [
      "            count      mean       std       min       max\n",
      "Day Animal                                               \n",
      "4   04A      50.0  0.009375  0.008536  0.001628  0.034906\n",
      "    04B      23.0  0.058097  0.052507  0.008413  0.194415\n",
      "    04C      51.0  0.044496  0.044234  0.005535  0.274707\n",
      "10  10A      27.0  0.033345  0.025892  0.003583  0.107684\n",
      "    10B      14.0  0.032617  0.029625  0.004242  0.096283\n",
      "    10C      17.0  0.056795  0.084458  0.002140  0.333254\n",
      "21  21B      14.0  0.087002  0.086453  0.011432  0.321820\n",
      "    21D      17.0  0.108524  0.111635  0.014476  0.380460\n",
      "    21E      11.0  0.118337  0.072218  0.024664  0.238156\n",
      "60  60B      24.0  0.588268  0.222719  0.225961  1.103739\n",
      "    60D      10.0  0.888499  0.350353  0.363500  1.575762\n",
      "    60E       9.0  0.976536  0.526236  0.185877  1.874612\n",
      "\n",
      "Saved to Output/96e1e53/authorea_volumes.csv\n"
     ]
    }
   ],
   "source": [
    "# Save the counts per animal to CSV\n",
    "outfile = 'authorea_volumes.csv'\n",
    "out = Done.groupby(by=['Day', 'Animal'])['Volume_Acinus_STEPanizer'].describe()[['count', 'mean', 'std', 'min', 'max']]\n",
    "print(out)\n",
    "out.to_csv(os.path.join(OutputDir, outfile), float_format='%0.2f')\n",
    "print('\\nSaved to', os.path.join(OutputDir, outfile))"
   ]
  },
  {
   "cell_type": "code",
   "execution_count": 31,
   "metadata": {},
   "outputs": [
    {
     "name": "stdout",
     "output_type": "stream",
     "text": [
      "Mean acinus volume for day  4: 0.032 mm^3 (STD=0.041)\n",
      "Mean acinus volume for day 10: 0.040 mm^3 (STD=0.051)\n",
      "Mean acinus volume for day 21: 0.103 mm^3 (STD=0.093)\n",
      "Mean acinus volume for day 60: 0.739 mm^3 (STD=0.369)\n"
     ]
    }
   ],
   "source": [
    "# Describe the volumes per day (for Authorea copy-pasting)\n",
    "for d in sorted(Done.Day.unique()):\n",
    "    print('Mean acinus volume for day %02s: %0.5s mm^3 (STD=%.5s)' % (d,\n",
    "                                                                      Done[Done.Day == d]['Volume_Acinus_STEPanizer'].mean(),\n",
    "                                                                      Done[Done.Day == d]['Volume_Acinus_STEPanizer'].std()))"
   ]
  },
  {
   "cell_type": "code",
   "execution_count": 32,
   "metadata": {},
   "outputs": [
    {
     "data": {
      "image/png": "[encoded data removed]",
      "text/plain": [
       "<Figure size 432x288 with 4 Axes>"
      ]
     },
     "metadata": {},
     "output_type": "display_data"
    }
   ],
   "source": [
    "for c, d in enumerate(sorted(pandas.unique(Done.Day))):\n",
    "    plt.subplot(1, len(pandas.unique(Done.Day)), c + 1)\n",
    "    bxplt = seaborn.violinplot(data=Done.loc[Done.Day == d], x='Day', y='Volume_Acinus_STEPanizer',\n",
    "                               hue='Animal',\n",
    "                               hue_order=sorted(pandas.unique(Done.loc[Done.Day == d]['Animal'])),\n",
    "                               palette=ourpalette, cut=0, inner='quartiles')\n",
    "    swrmplt = seaborn.stripplot(data=Done.loc[Done.Day == d], x='Day', y='Volume_Acinus_STEPanizer', hue='Animal', jitter=True,\n",
    "                                hue_order=sorted(pandas.unique(Done.loc[Done.Day == d]['Animal'])),\n",
    "                                dodge=True, linewidth=1, palette=ourpalette, edgecolor='k', alpha=0.309)\n",
    "    handles, labels = plt.gca().get_legend_handles_labels()\n",
    "    plt.ylim([0, 1.1 * Done.Volume_Acinus_STEPanizer.max()])\n",
    "    bxplt.legend(handles[:len(handles) // 2], labels[:len(labels) // 2], loc='upper right')\n",
    "    if c:\n",
    "        plt.ylabel('')\n",
    "        plt.gca().set_yticklabels([])\n",
    "    else:\n",
    "        plt.ylabel('Acinus volume [mm³]')\n",
    "plt.suptitle('Acinar volumes from stereological assessment\\n%s acini split over %s animals' % (len(Done),\n",
    "                                                                                               len(pandas.unique(Done.Animal))))\n",
    "seaborn.despine()\n",
    "plt.savefig(os.path.join(OutputDir, 'volumes-disector.png'))\n",
    "plt.show()"
   ]
  },
  {
   "cell_type": "code",
   "execution_count": null,
   "metadata": {},
   "outputs": [],
   "source": []
  },
  {
   "cell_type": "code",
   "execution_count": null,
   "metadata": {},
   "outputs": [],
   "source": []
  },
  {
   "cell_type": "code",
   "execution_count": 33,
   "metadata": {},
   "outputs": [
    {
     "ename": "SyntaxError",
     "evalue": "invalid syntax (<ipython-input-33-e48bc7f57f30>, line 1)",
     "output_type": "error",
     "traceback": [
      "\u001b[0;36m  File \u001b[0;32m\"<ipython-input-33-e48bc7f57f30>\"\u001b[0;36m, line \u001b[0;32m1\u001b[0m\n\u001b[0;31m    asdfasdf=\u001b[0m\n\u001b[0m             ^\u001b[0m\n\u001b[0;31mSyntaxError\u001b[0m\u001b[0;31m:\u001b[0m invalid syntax\n"
     ]
    }
   ],
   "source": [
    "asdfasdf="
   ]
  },
  {
   "cell_type": "code",
   "execution_count": null,
   "metadata": {},
   "outputs": [],
   "source": []
  },
  {
   "cell_type": "code",
   "execution_count": null,
   "metadata": {},
   "outputs": [],
   "source": []
  },
  {
   "cell_type": "code",
   "execution_count": null,
   "metadata": {},
   "outputs": [],
   "source": []
  },
  {
   "cell_type": "code",
   "execution_count": null,
   "metadata": {},
   "outputs": [],
   "source": []
  },
  {
   "cell_type": "code",
   "execution_count": null,
   "metadata": {},
   "outputs": [],
   "source": []
  },
  {
   "cell_type": "code",
   "execution_count": null,
   "metadata": {},
   "outputs": [],
   "source": []
  },
  {
   "cell_type": "code",
   "execution_count": null,
   "metadata": {},
   "outputs": [],
   "source": []
  },
  {
   "cell_type": "code",
   "execution_count": null,
   "metadata": {},
   "outputs": [],
   "source": []
  },
  {
   "cell_type": "code",
   "execution_count": null,
   "metadata": {},
   "outputs": [],
   "source": []
  },
  {
   "cell_type": "code",
   "execution_count": null,
   "metadata": {},
   "outputs": [],
   "source": []
  },
  {
   "cell_type": "code",
   "execution_count": 57,
   "metadata": {
    "collapsed": true
   },
   "outputs": [],
   "source": [
    "# In the segmentation, we also include the ductal airspace.\n",
    "# We need to correct for this, so we use data from Stefan and Lilian (Tschanz2014, Table 1) for a correction below.\n",
    "DuctalToAlveolar = [0.113 / 0.486,\n",
    "                    0.230 / 0.880,\n",
    "                    0.594 / 1.910,\n",
    "                    # 0.973 / 3.956,\n",
    "                    1.292 / 5.645]"
   ]
  },
  {
   "cell_type": "code",
   "execution_count": 58,
   "metadata": {},
   "outputs": [
    {
     "name": "stdout",
     "output_type": "stream",
     "text": [
      "MeVisLab Volumes\n",
      "\n",
      "Day 04\n",
      "Mean count from Eveline: 47.85\n",
      "Mean volume per acinus (MeVisLab): 14957045.63 um^3\n",
      "Mean diameter of one acinus: 305.69 um\n",
      "Mean volume per alveolus: 312550.33 um^3\n",
      "Mean diameter of one alveolus: 84.20 um\n",
      "--------------------------------------------------------------------------------\n",
      "Day 10\n",
      "Mean count from Eveline: 88.53\n",
      "Mean volume per acinus (MeVisLab): 15274900.85 um^3\n",
      "Mean diameter of one acinus: 307.84 um\n",
      "Mean volume per alveolus: 172530.53 um^3\n",
      "Mean diameter of one alveolus: 69.07 um\n",
      "--------------------------------------------------------------------------------\n",
      "Day 21\n",
      "Mean count from Eveline: 233.33\n",
      "Mean volume per acinus (MeVisLab): 43971758.46 um^3\n",
      "Mean diameter of one acinus: 437.92 um\n",
      "Mean volume per alveolus: 188450.39 um^3\n",
      "Mean diameter of one alveolus: 71.13 um\n",
      "--------------------------------------------------------------------------------\n",
      "Day 60\n",
      "Mean count from Eveline: 511.95\n",
      "Mean volume per acinus (MeVisLab): 162857607.02 um^3\n",
      "Mean diameter of one acinus: 677.54 um\n",
      "Mean volume per alveolus: 318110.85 um^3\n",
      "Mean diameter of one alveolus: 84.70 um\n",
      "--------------------------------------------------------------------------------\n"
     ]
    }
   ],
   "source": [
    "print('MeVisLab Volumes\\n')\n",
    "# Give out alveolar volumes per day\n",
    "for c, day in enumerate(sorted(Eveline.Day.unique())):\n",
    "    print('Day %02d' % day)\n",
    "    cts = numpy.mean(Eveline.loc[Eveline.Day == day]['Counts'])\n",
    "    print('Mean count from Eveline: %4.2f' % cts)\n",
    "    # Acinus volume (*including* Ductus...), converted  from mm^3  to um^3\n",
    "    # https://encrypted.google.com/search?hl=en&q=cubic%20millimeter%20to%20cubic%20micrometer\n",
    "    vol = numpy.mean(VolumesFromDisk.loc[VolumesFromDisk.Day == day]['Volume_MeVisLab']) * 1e9\n",
    "    # Remove the ductal airspace, as assessed by Tschanz2014\n",
    "    vol = vol - (DuctalToAlveolar[c] * vol)\n",
    "    print('Mean volume per acinus (MeVisLab): %0.2f um^3' % vol)\n",
    "    # Acinus size\n",
    "    # Volume --> Radius\n",
    "    # v = 4/3 * pi * r^3\n",
    "    # r = ((3/4) * v / pi ) ^ 1/3\n",
    "    # r * 2 = diameter\n",
    "    print('Mean diameter of one acinus: %4.2f um' % (2 * (numpy.cbrt(3 / 4 * vol / numpy.pi))))\n",
    "    # Alveolus volume and size\n",
    "    print('Mean volume per alveolus: %0.2f um^3' % (vol / cts))\n",
    "    print('Mean diameter of one alveolus: %4.2f um' % (2 * (numpy.cbrt(3 / 4 * (vol / cts) / numpy.pi))))\n",
    "    print(80 * '-')\n",
    "# https://www.wolframalpha.com/input/?i=sphere+with+volume+of+2.11e%2B08+ul"
   ]
  },
  {
   "cell_type": "code",
   "execution_count": 59,
   "metadata": {},
   "outputs": [
    {
     "name": "stdout",
     "output_type": "stream",
     "text": [
      "Stepanizered Volumes\n",
      "\n",
      "Day 04\n",
      "Mean count from Eveline: 47.85\n",
      "Mean volume (STEPanizer): 25337092.52 um^3\n",
      "Mean diameter of one acinus: 364.41 um\n",
      "Mean volume per alveolus: 529457.28 um^3\n",
      "Mean diameter of one alveolus: 100.37 um\n",
      "--------------------------------------------------------------------------------\n",
      "Day 10\n",
      "Mean count from Eveline: 88.53\n",
      "Mean volume (STEPanizer): 30878042.07 um^3\n",
      "Mean diameter of one acinus: 389.24 um\n",
      "Mean volume per alveolus: 348768.54 um^3\n",
      "Mean diameter of one alveolus: 87.33 um\n",
      "--------------------------------------------------------------------------------\n",
      "Day 21\n",
      "Mean count from Eveline: 233.33\n",
      "Mean volume (STEPanizer): 80135510.78 um^3\n",
      "Mean diameter of one acinus: 534.90 um\n",
      "Mean volume per alveolus: 343437.90 um^3\n",
      "Mean diameter of one alveolus: 86.89 um\n",
      "--------------------------------------------------------------------------------\n",
      "Day 60\n",
      "Mean count from Eveline: 511.95\n",
      "Mean volume (STEPanizer): 402044931.08 um^3\n",
      "Mean diameter of one acinus: 915.71 um\n",
      "Mean volume per alveolus: 785317.05 um^3\n",
      "Mean diameter of one alveolus: 114.47 um\n",
      "--------------------------------------------------------------------------------\n"
     ]
    }
   ],
   "source": [
    "print('Stepanizered Volumes\\n')\n",
    "# Give out alveolar volumes per day\n",
    "for day in sorted(Eveline.Day.unique()):\n",
    "    print('Day %02d' % day)\n",
    "    cts = numpy.mean(Eveline.loc[Eveline.Day == day]['Counts'])\n",
    "    print('Mean count from Eveline: %0.2f' % cts)\n",
    "    # Acinus Volume (*including* Ductus...), converted  from mm^3  to um^3\n",
    "    # https://encrypted.google.com/search?hl=en&q=cubic%20millimeter%20to%20cubic%20micrometer\n",
    "    vol = numpy.mean(David.loc[David.Day == day]['Volume_Acinus_STEPanizer']) * 1e9\n",
    "    # Remove the ductal airspace, as assessed by Tschanz2014\n",
    "    vol = vol - (DuctalToAlveolar[c] * vol)\n",
    "    print('Mean volume (STEPanizer): %0.2f um^3' % vol)\n",
    "    # Acinus size\n",
    "    # Volume --> Radius\n",
    "    # v = 4/3 * pi * r^3\n",
    "    # r = ((3/4) * v / pi ) ^ 1/3\n",
    "    # r * 2 = diameter\n",
    "    print('Mean diameter of one acinus: %0.2f um' % (2 * (numpy.cbrt(3 / 4 * vol / numpy.pi))))\n",
    "    # Alveolus volume and size\n",
    "    print('Mean volume per alveolus: %0.2f um^3' % (vol / cts))\n",
    "    print('Mean diameter of one alveolus: %0.2f um' % (2 * (numpy.cbrt(3 / 4 * (vol / cts) / numpy.pi))))\n",
    "    print(80 * '-')\n",
    "# https://www.wolframalpha.com/input/?i=sphere+with+volume+of+2.11e%2B08+ul"
   ]
  },
  {
   "cell_type": "code",
   "execution_count": null,
   "metadata": {
    "collapsed": true
   },
   "outputs": [],
   "source": [
    "# Update color palette, since we might have more or less animals than what we had above\n",
    "ourcolors = seaborn.color_palette('husl', len(pandas.unique(Done.Animal)))\n",
    "ourpalette = {animal: ourcolors[c] for c, animal in enumerate(sorted(pandas.unique(Done.Animal)))}"
   ]
  },
  {
   "cell_type": "code",
   "execution_count": 61,
   "metadata": {},
   "outputs": [
    {
     "name": "stdout",
     "output_type": "stream",
     "text": [
      "Stepanizered Volumes (in a table for Authorea)\n",
      "   Day  Average number of alveoli per acinus  Average acinar volume [um³]  \\\n",
      "0    4                             47.854839                 2.521765e+07   \n",
      "1   10                             88.534483                 2.957711e+07   \n",
      "2   21                            233.333333                 7.160161e+07   \n",
      "3   60                            511.952381                 4.020449e+08   \n",
      "\n",
      "   Average alveolar diameter [um]  \n",
      "0                      100.213611  \n",
      "1                       86.089109  \n",
      "2                       83.685292  \n",
      "3                      114.467483  \n"
     ]
    }
   ],
   "source": [
    "print('Stepanizered Volumes (in a table for Authorea)')\n",
    "authoreavolumes = pandas.DataFrame({'Day': sorted(Eveline.Day.unique())})\n",
    "\n",
    "# Get the average counts\n",
    "cts = [None] * len(Eveline.Day.unique())\n",
    "for c, day in enumerate(sorted(Eveline.Day.unique())):\n",
    "    cts[c] = numpy.mean(Eveline.loc[Eveline.Day == day]['Counts'])\n",
    "authoreavolumes['Average number of alveoli per acinus'] = cts\n",
    "\n",
    "# Get the average volume\n",
    "vol = [None] * len(Eveline.Day.unique())\n",
    "for c, day in enumerate(sorted(Eveline.Day.unique())):\n",
    "    vol[c] = numpy.mean(David.loc[David.Day == day]['Volume_Acinus_STEPanizer']) * 1e9\n",
    "    # Remove the ductal airspace, as assessed by Tschanz2014\n",
    "    vol[c] = vol[c] - (DuctalToAlveolar[c] * vol[c])\n",
    "    vol[c] = vol[c]\n",
    "authoreavolumes['Average acinar volume [um³]'] = vol\n",
    "\n",
    "# Get the alveolar diameter\n",
    "authoreavolumes['Average alveolar diameter [um]'] = 2 * (numpy.cbrt(3 / 4 * (authoreavolumes['Average acinar volume [um³]'] / authoreavolumes['Average number of alveoli per acinus']) / numpy.pi))\n",
    "\n",
    "print(authoreavolumes)\n",
    "\n",
    "authoreavolumes.to_csv(os.path.join(OutputDir, 'authorea_volume_data.csv'),\n",
    "                       float_format='%.3e')"
   ]
  },
  {
   "cell_type": "code",
   "execution_count": 63,
   "metadata": {},
   "outputs": [
    {
     "data": {
      "image/png": "[encoded data removed]",
      "text/plain": [
       "<Figure size 432x288 with 4 Axes>"
      ]
     },
     "metadata": {},
     "output_type": "display_data"
    }
   ],
   "source": [
    "for c, d in enumerate(sorted(pandas.unique(VolumesFromDisk.Day))):\n",
    "    plt.subplot(1, len(pandas.unique(VolumesFromDisk.Day)), c + 1)\n",
    "    bxplt = seaborn.violinplot(data=VolumesFromDisk.loc[VolumesFromDisk.Day == d], x='Day', y='Volume_MeVisLab',\n",
    "                               hue='Animal',\n",
    "                               hue_order=sorted(pandas.unique(VolumesFromDisk.loc[VolumesFromDisk.Day == d]['Animal'])),\n",
    "                               palette=seaborn.color_palette('husl', len(pandas.unique(VolumesFromDisk.Animal))),\n",
    "                               cut=0, inner='quartiles')\n",
    "    swrmplt = seaborn.stripplot(data=VolumesFromDisk.loc[VolumesFromDisk.Day == d], x='Day', y='Volume_MeVisLab', hue='Animal', jitter=True,\n",
    "                                hue_order=sorted(pandas.unique(VolumesFromDisk.loc[VolumesFromDisk.Day == d]['Animal'])),\n",
    "                                dodge=True, linewidth=1,\n",
    "                                palette=seaborn.color_palette('husl', len(pandas.unique(VolumesFromDisk.Animal))),\n",
    "                                edgecolor='k', alpha=0.309)\n",
    "    handles, labels = plt.gca().get_legend_handles_labels()\n",
    "    plt.ylim([0, 1.1 * VolumesFromDisk.Volume_MeVisLab.max()])\n",
    "    bxplt.legend(handles[:len(handles) // 2], labels[:len(labels) // 2], loc='upper right')\n",
    "plt.suptitle('Acinar volumes from automatic segmentation, %s acini split over %s animals' % (len(VolumesFromDisk),\n",
    "                                                                                             len(pandas.unique(VolumesFromDisk.Animal))))\n",
    "seaborn.despine()\n",
    "plt.savefig(os.path.join(OutputDir, 'volumes-mevislab.png'))\n",
    "plt.show()"
   ]
  },
  {
   "cell_type": "code",
   "execution_count": 64,
   "metadata": {},
   "outputs": [
    {
     "data": {
      "image/png": "[encoded data removed]",
      "text/plain": [
       "<Figure size 432x288 with 4 Axes>"
      ]
     },
     "metadata": {},
     "output_type": "display_data"
    }
   ],
   "source": [
    "for c, d in enumerate(sorted(pandas.unique(Done.Day))):\n",
    "    plt.subplot(1, len(pandas.unique(Done.Day)), c + 1)\n",
    "    bxplt = seaborn.violinplot(data=Done.loc[Done.Day == d], x='Day', y='Volume_Acinus_STEPanizer',\n",
    "                               hue='Animal',\n",
    "                               hue_order=sorted(pandas.unique(Done.loc[Done.Day == d]['Animal'])),\n",
    "                               palette=ourpalette, cut=0, inner='quartiles')\n",
    "    swrmplt = seaborn.stripplot(data=Done.loc[Done.Day == d], x='Day', y='Volume_Acinus_STEPanizer', hue='Animal', jitter=True,\n",
    "                                hue_order=sorted(pandas.unique(Done.loc[Done.Day == d]['Animal'])),\n",
    "                                dodge=True, linewidth=1, palette=ourpalette, edgecolor='k', alpha=0.309)\n",
    "    handles, labels = plt.gca().get_legend_handles_labels()\n",
    "    plt.ylim([0, 1.1 * Done.Volume_Acinus_STEPanizer.max()])\n",
    "    bxplt.legend(handles[:len(handles) // 2], labels[:len(labels) // 2], loc='upper right')\n",
    "    if c:\n",
    "        plt.ylabel('')\n",
    "        plt.gca().set_yticklabels([])\n",
    "    else:\n",
    "        plt.ylabel('Acinus volume [mm³]')\n",
    "plt.suptitle('Acinar volumes from stereological assessment\\n%s acini split over %s animals' % (len(Done),\n",
    "                                                                                               len(pandas.unique(Done.Animal))))\n",
    "seaborn.despine()\n",
    "plt.savefig(os.path.join(OutputDir, 'volumes-disector.png'))\n",
    "plt.show()"
   ]
  },
  {
   "cell_type": "markdown",
   "metadata": {},
   "source": [
    "Now we merge the Eveline/David/Done and VolumesFromDisk dataframes"
   ]
  },
  {
   "cell_type": "code",
   "execution_count": null,
   "metadata": {},
   "outputs": [],
   "source": [
    "# Doublecheck merged file names (for some randomly selected items from the dataframe)\n",
    "# To make the checking a bit easier, we split the strings and only show the interesting bit\n",
    "for i in range(5):\n",
    "    number = numpy.random.randint(len(Merged))\n",
    "    print('Beamtime:', Data.iloc[number]['Beamtime'])\n",
    "    print('From Volume: Animal', Data.iloc[number].Filename_Volume.split('mrg.')[0],\n",
    "          '| Acinus', Data.iloc[number].Filename_Volume.split('acinus')[1].split('.volume')[0],\n",
    "          '| Volume', Data.iloc[number]['Volume_MeVisLab'])\n",
    "    print('From Done: Animal', Data.iloc[number].Filename_Eveline.split('mrg-')[0][1:],\n",
    "          '| Acinus', Data.iloc[number].Filename_Eveline.split('acinus')[1].split('_201')[0],\n",
    "          '| Counts', Data.iloc[number]['Counts_Eveline'])\n",
    "    print(80 * '-')"
   ]
  },
  {
   "cell_type": "code",
   "execution_count": null,
   "metadata": {
    "collapsed": true
   },
   "outputs": [],
   "source": [
    "# Did we count a different amount of images?\n",
    "Merged['ImageCountDifference'] = Merged['Number of images_David'] - Merged['Number of images_Eveline']"
   ]
  },
  {
   "cell_type": "code",
   "execution_count": null,
   "metadata": {},
   "outputs": [],
   "source": [
    "# See the difference\n",
    "Data.sort_values('ImageCountDifference', ascending=False)[['Location_David',\n",
    "                                                             'Sample',\n",
    "                                                             'Animal',\n",
    "                                                             'Acinus',\n",
    "                                                             'ImageCountDifference']].head(n=5)"
   ]
  },
  {
   "cell_type": "code",
   "execution_count": null,
   "metadata": {
    "collapsed": true
   },
   "outputs": [],
   "source": [
    "if not os.path.exists(OutputName_Data):\n",
    "    Merged['Counts per Volume'] = Merged['Counts_Eveline'] / Merged['Volume_Acinus_STEPanizer']\n",
    "    Merged['Counts per MeVisLab Volume'] = Merged['Counts_Eveline'] / Merged['Volume_MeVisLab']"
   ]
  },
  {
   "cell_type": "code",
   "execution_count": null,
   "metadata": {
    "scrolled": false
   },
   "outputs": [],
   "source": [
    "for c, d in enumerate(sorted(pandas.unique(Data.Day))):\n",
    "    plt.subplot(1, len(pandas.unique(Data.Day)), c + 1)\n",
    "    bxplt = seaborn.violinplot(data=Data.loc[Data.Day == d], x='Day', y='Counts per Volume',\n",
    "                               hue='Animal',\n",
    "                               hue_order=sorted(pandas.unique(Data.loc[Data.Day == d]['Animal'])),\n",
    "                                   palette=ourpalette, cut=0, inner='quartiles')\n",
    "    swrmplt = seaborn.stripplot(data=Data.loc[Data.Day == d], x='Day', y='Counts per Volume',\n",
    "                                hue='Animal', jitter=True,\n",
    "                                hue_order=sorted(pandas.unique(Data.loc[Data.Day == d]['Animal'])),\n",
    "                                dodge=True, linewidth=1, palette=ourpalette, edgecolor='k', alpha=0.309)\n",
    "    handles, labels = plt.gca().get_legend_handles_labels()\n",
    "    plt.ylim([0, 1.1 * Merged['Counts per Volume'].max()])\n",
    "    bxplt.legend(handles[:len(handles) // 2], labels[:len(labels) // 2])\n",
    "    if c:\n",
    "        plt.ylabel('')\n",
    "        plt.gca().set_yticklabels([])\n",
    "    else:\n",
    "        plt.ylabel('Alveoli per acinus')    \n",
    "plt.suptitle('Entrance ring counts per acinus volume\\n%s acini split over %s animals' % (len(Merged),\n",
    "                                                                                         len(pandas.unique(Data.Animal))))\n",
    "\n",
    "seaborn.despine()\n",
    "plt.savefig(os.path.join(OutputDir, 'counts_per_volume.png'))\n",
    "plt.show()"
   ]
  },
  {
   "cell_type": "code",
   "execution_count": null,
   "metadata": {
    "scrolled": false
   },
   "outputs": [],
   "source": [
    "# for c, d in enumerate(sorted(pandas.unique(Data.Day))):\n",
    "#     plt.subplot(1, len(pandas.unique(Data.Day)), c + 1)\n",
    "#     bxplt = seaborn.violinplot(data=Data.loc[Data.Day == d], x='Day', y='Counts per MeVisLab Volume',\n",
    "#                                hue='Animal',\n",
    "#                                hue_order=sorted(pandas.unique(Data.loc[Data.Day == d]['Animal'])),\n",
    "#                                    palette=ourpalette, cut=0, inner='quartiles')\n",
    "#     swrmplt = seaborn.stripplot(data=Data.loc[Data.Day == d], x='Day', y='Counts per MeVisLab Volume',\n",
    "#                                 hue='Animal', jitter=True,\n",
    "#                                 hue_order=sorted(pandas.unique(Data.loc[Data.Day == d]['Animal'])),\n",
    "#                                 split=True, linewidth=1, palette=ourpalette, edgecolor='k', alpha=0.309)\n",
    "#     handles, labels = plt.gca().get_legend_handles_labels()\n",
    "#     plt.ylim([0, 1.1 * Merged['Counts per MeVisLab Volume'].max()])\n",
    "#     bxplt.legend(handles[:len(handles) // 2], labels[:len(labels) // 2])\n",
    "# plt.suptitle('Eveline-Counts per MeVislLab volume, based on %s assessed acini' % len(Merged))\n",
    "# plt.savefig(os.path.join(OutputDir, 'counts_per_mevislab_volume.pdf'))\n",
    "# plt.show()"
   ]
  },
  {
   "cell_type": "code",
   "execution_count": null,
   "metadata": {},
   "outputs": [],
   "source": [
    "Data.loc[Merged['Counts per Volume'] == max(Merged['Counts per Volume'])]"
   ]
  },
  {
   "cell_type": "code",
   "execution_count": null,
   "metadata": {},
   "outputs": [],
   "source": [
    "Data.loc[Merged['Counts per Volume'] == min(Merged['Counts per Volume'])]"
   ]
  },
  {
   "cell_type": "code",
   "execution_count": null,
   "metadata": {},
   "outputs": [],
   "source": [
    "# Get the mean number of alveoli per acinus\n",
    "print('Based on Tschanz2014 and Barre2014...')\n",
    "# Number of alveoli (19.297e6) from Tschanz2014, Table 1, p. 91)\n",
    "# Number of acini (5943) from Barre2014, Table 2, p. 7\n",
    "n_alv = 19.279 * 1e6\n",
    "n_acini = 5943\n",
    "alv_pro_acinus = n_alv / n_acini\n",
    "print('We have approximately %0.0f alveoli per acinus.' % alv_pro_acinus)\n",
    "lung_volume = 10.21  # cm³\n",
    "acinar_volume = lung_volume / n_acini\n",
    "print('One acinus in D60 lungs thus has a volume of approximately %0.2g um^3.' % acinar_volume)"
   ]
  },
  {
   "cell_type": "code",
   "execution_count": null,
   "metadata": {},
   "outputs": [],
   "source": [
    "# Save the data\n",
    "if not os.path.exists(OutputName_Data):\n",
    "    Data.to_pickle(OutputName_Data)\n",
    "    print('Saved \"Data\" dataframe to %s as last step of the analysis' % OutputName_Data)\n",
    "else:\n",
    "    print('Done!')"
   ]
  },
  {
   "cell_type": "code",
   "execution_count": null,
   "metadata": {
    "collapsed": true
   },
   "outputs": [],
   "source": [
    "# Save all dataframes to different sheets in one big excel file for Stefan\n",
    "# This is so that Stefan can take a look at it\n",
    "# Based on the bottom of https://pandas.pydata.org/pandas-docs/stable/generated/pandas.DataFrame.to_excel.html\n",
    "writer = pandas.ExcelWriter('Data_' + get_git_hash() + '.xlsx')\n",
    "Data.to_excel(writer, 'All data merged')\n",
    "Done.to_excel(writer, 'Eveline und David merged')\n",
    "David.to_excel(writer, 'David')\n",
    "Eveline.to_excel(writer, 'Eveline')\n",
    "VolumesFromDisk.to_excel(writer, 'Volumes from MeVisLab')\n",
    "writer.save()"
   ]
  },
  {
   "cell_type": "code",
   "execution_count": null,
   "metadata": {},
   "outputs": [],
   "source": [
    "# Mean alveolar volumes\n",
    "MeanAlveolarVolume = [None] * len(Data.Day.unique())\n",
    "MeanAcinarVolume = [None] * len(Data.Day.unique())\n",
    "MeanCounts = [None] * len(Data.Day.unique())\n",
    "for c, day in enumerate(sorted(Data.Day.unique())):\n",
    "    print('Day %s' % day)\n",
    "    MeanCounts[c] = numpy.mean(Data.loc[Data.Day == day]['Counts_Eveline'])\n",
    "    print('Mean counts: %4.2f' % MeanCounts[c])\n",
    "    # Acinus volume (*including* Ductus...), converted  from mm^3  to um^3\n",
    "    # https://encrypted.google.com/search?hl=en&q=cubic%20millimeter%20to%20cubic%20micrometer\n",
    "    vol = numpy.mean(Data.loc[Data.Day == day]['Volume_Acinus_STEPanizer']) * 1e9 / ShrinkageFactor\n",
    "    # Remove the ductal airspace, as assessed by Tschanz2014\n",
    "    MeanAcinarVolume[c] = vol - (DuctalToAlveolar[c] * vol)\n",
    "    print('Mean volume per acinus (ductal airspace removed): %0.3g um^3' % MeanAcinarVolume[c])\n",
    "    MeanAlveolarVolume[c] = MeanAcinarVolume[c] / MeanCounts[c]\n",
    "    print('Mean volume per alveolus: %0.3g um^3' % MeanAlveolarVolume[c])"
   ]
  },
  {
   "cell_type": "code",
   "execution_count": null,
   "metadata": {
    "collapsed": true
   },
   "outputs": [],
   "source": [
    "# From Datenblattstefan.xls we copy the mean parenchymal volume\n",
    "V_lung_par = [0.84,\n",
    "              1.56,\n",
    "              3.15,\n",
    "              # 6.20,\n",
    "              8.93]"
   ]
  },
  {
   "cell_type": "code",
   "execution_count": null,
   "metadata": {},
   "outputs": [],
   "source": [
    "V_az = [ma / 1e12 for ma in MeanAcinarVolume]\n",
    "print(V_az)"
   ]
  },
  {
   "cell_type": "code",
   "execution_count": null,
   "metadata": {},
   "outputs": [],
   "source": [
    "N_az = numpy.divide(V_lung_par, V_az)\n",
    "print(N_az)"
   ]
  },
  {
   "cell_type": "code",
   "execution_count": null,
   "metadata": {},
   "outputs": [],
   "source": [
    "plt.scatter([4, 10, 21, 60], N_az, marker='o')\n",
    "plt.ylim(ymin=0)\n",
    "plt.title('Number of acini')\n",
    "plt.show()"
   ]
  },
  {
   "cell_type": "code",
   "execution_count": null,
   "metadata": {
    "collapsed": true
   },
   "outputs": [],
   "source": [
    "N_alv_az = MeanCounts"
   ]
  },
  {
   "cell_type": "code",
   "execution_count": null,
   "metadata": {
    "collapsed": true
   },
   "outputs": [],
   "source": [
    "N_alv_lung = N_az * N_alv_az"
   ]
  },
  {
   "cell_type": "code",
   "execution_count": null,
   "metadata": {},
   "outputs": [],
   "source": [
    "plt.scatter([4, 10, 21, 60], N_alv_lung, marker='o')\n",
    "plt.ylim(ymin=0)\n",
    "plt.title('Number of alveoli')\n",
    "plt.show()"
   ]
  },
  {
   "cell_type": "code",
   "execution_count": null,
   "metadata": {},
   "outputs": [],
   "source": [
    "for i in N_alv_lung:\n",
    "    print('%0.2f * 1e6 alveoli' % (i * 1e-6))"
   ]
  },
  {
   "cell_type": "markdown",
   "metadata": {},
   "source": [
    "`N_alv_lung` should be comparable to the data shown by Lilian."
   ]
  },
  {
   "cell_type": "markdown",
   "metadata": {},
   "source": [
    "----\n",
    "Alternative Berechnung der Alveolenzahl.\n",
    "Anstatt über die Durchschnitte über die totalen Zahlen."
   ]
  },
  {
   "cell_type": "code",
   "execution_count": null,
   "metadata": {
    "collapsed": true
   },
   "outputs": [],
   "source": [
    "# From Datenblattstefan.xls we copy the mean airspace volume\n",
    "V_lung_airspace = [0.65,\n",
    "                   1.11,\n",
    "                   2.37,\n",
    "                   # 4.63,\n",
    "                   6.74]\n",
    "V_lung_airspace = [va * 1e12 for va in V_lung_airspace]"
   ]
  },
  {
   "cell_type": "code",
   "execution_count": null,
   "metadata": {},
   "outputs": [],
   "source": [
    "# Mean alveolar volumes\n",
    "TotalAlveolarVolume = [None] * len(Data.Day.unique())\n",
    "TotalAcinarVolume = [None] * len(Data.Day.unique())\n",
    "TotalCounts = [None] * len(Data.Day.unique())\n",
    "for c, day in enumerate(sorted(Data.Day.unique())):\n",
    "    print('Day %s' % day)\n",
    "    TotalCounts[c] = numpy.sum(Data.loc[Data.Day == day]['Counts_Eveline'])\n",
    "    print('Total counts: %4.2f' % TotalCounts[c])\n",
    "    # Acinus volume (*including* Ductus...), converted  from mm^3  to um^3\n",
    "    # https://encrypted.google.com/search?hl=en&q=cubic%20millimeter%20to%20cubic%20micrometer\n",
    "    # This volume *needs* to be corrected with the shrinkage factor\n",
    "    TotalAcinarVolume[c] = numpy.sum(Data.loc[Data.Day == day]['Volume_Acinus_STEPanizer']) * 1e9 / ShrinkageFactor\n",
    "    print('Total acinus volume: %0.3g um^3' % TotalAcinarVolume[c])\n",
    "    TotalAlveolarVolume[c] = TotalAcinarVolume[c] / TotalCounts[c]\n",
    "    print('Total alveolar volume: %0.3g um^3' % TotalAlveolarVolume[c])"
   ]
  },
  {
   "cell_type": "code",
   "execution_count": null,
   "metadata": {
    "collapsed": true
   },
   "outputs": [],
   "source": [
    "N_alv_total = numpy.divide(numpy.multiply(TotalCounts, V_lung_airspace),\n",
    "                           TotalAcinarVolume)"
   ]
  },
  {
   "cell_type": "code",
   "execution_count": null,
   "metadata": {},
   "outputs": [],
   "source": [
    "for i in N_alv_total:\n",
    "    print('%0.2f * 1e6 alveoli' % (i * 1e-6))"
   ]
  },
  {
   "cell_type": "code",
   "execution_count": null,
   "metadata": {},
   "outputs": [],
   "source": [
    "plt.scatter([4, 10, 21, 60], N_alv_total, marker='o')\n",
    "plt.ylim(ymin=0)\n",
    "plt.title('Number of alveoli')\n",
    "plt.show()"
   ]
  },
  {
   "cell_type": "code",
   "execution_count": null,
   "metadata": {},
   "outputs": [],
   "source": [
    "plt.scatter([4, 10, 21, 60], N_alv_lung, marker='x')\n",
    "plt.scatter([4, 10, 21, 60], N_alv_total, marker='o')\n",
    "plt.ylim(ymin=0)\n",
    "plt.title('Number of alveoli')\n",
    "plt.show()"
   ]
  },
  {
   "cell_type": "markdown",
   "metadata": {},
   "source": [
    "----"
   ]
  },
  {
   "cell_type": "markdown",
   "metadata": {},
   "source": [
    "Get a sampler of the tomography slices to compare them with microscopy slides.\n",
    "E.g., get *one* acinus per day, get the middle image of it and then image this *physical* slice on the microscope.\n",
    "(We got the slices from Stefan...)\n",
    "This if for the 'Comparison Images' at the end of the results."
   ]
  },
  {
   "cell_type": "code",
   "execution_count": null,
   "metadata": {
    "collapsed": true
   },
   "outputs": [],
   "source": [
    "Microscopy = pandas.DataFrame()\n",
    "Microscopy['Location'] = [os.path.dirname(f) for f in Eveline.Location]\n",
    "Microscopy['NumImages'] = [len(glob.glob(os.path.join(f, '*.jpg'))) for f in Microscopy.Location]\n",
    "Microscopy['MiddleImage'] = Microscopy.NumImages // 4  # we have _a and _b series, so half of it is the image set, and again half of it is the middle image\n",
    "Microscopy['SelectedImage'] = [glob.glob(os.path.join(f, '*' + str(mi) + '_a.jpg'))[0] for f, mi in zip(Microscopy.Location, Microscopy.MiddleImage)]\n",
    "Microscopy['Sample'] = [os.path.basename(f).split('-acinus')[0][1:] for f in Eveline.Location]\n",
    "Microscopy['Animal'] = [os.path.basename(f).split('_R108C')[1].split('mrg-')[0][:3] for f in Eveline.Location]\n",
    "Microscopy['Day'] = [int(os.path.basename(f).split('_R108C')[1].split('mrg-')[0][:2]) for f in Eveline.Location]\n",
    "Microscopy['Acinus'] = [int(os.path.basename(f).split('acinus')[1].split('_')[0]) for f in Eveline.Location]"
   ]
  },
  {
   "cell_type": "code",
   "execution_count": null,
   "metadata": {
    "collapsed": true
   },
   "outputs": [],
   "source": [
    "# Select one random sample per day (e.g. one random acinus)\n",
    "# Based on https://stackoverflow.com/a/41566012/323100\n",
    "Subset = Microscopy.groupby('Day').apply(lambda x: x.sample())"
   ]
  },
  {
   "cell_type": "code",
   "execution_count": null,
   "metadata": {},
   "outputs": [],
   "source": [
    "print('Image slices from these samples')\n",
    "for c, i in Subset.iterrows():\n",
    "    print('\\t- From sample', i.Sample, 'we show Acinus\\t', i.Acinus)"
   ]
  },
  {
   "cell_type": "code",
   "execution_count": null,
   "metadata": {},
   "outputs": [],
   "source": [
    "for c, i in enumerate(Subset['SelectedImage']):\n",
    "    plt.imshow(plt.imread(i))\n",
    "    plt.title(os.path.dirname(Subset['Location'][c][len(RootPath):]) + '/.../...' + os.path.basename(Subset['SelectedImage'][c][-8:]))\n",
    "    plt.show()"
   ]
  },
  {
   "cell_type": "markdown",
   "metadata": {},
   "source": [
    "For *one* animal per day (selected randomly above) we imaged the middle slice of Stefans lung slices (usually slice nr. 8) on the microscope.\n",
    "The code below is used to get the middle disector-slice and the bottom TOMCAT reconstruction of exactly these samples and copy them to the 'Microscopy' subfolder for generating the relevant figures."
   ]
  },
  {
   "cell_type": "code",
   "execution_count": null,
   "metadata": {
    "collapsed": true
   },
   "outputs": [],
   "source": [
    "SamplesImaged = ['R108C04At-mrg',\n",
    "                 'R108C10C_B1_mrg',\n",
    "                 'R108C21E_B1_mrg',\n",
    "                 'R108C60C_B1-mrg']"
   ]
  },
  {
   "cell_type": "code",
   "execution_count": null,
   "metadata": {
    "collapsed": true
   },
   "outputs": [],
   "source": [
    "AciniImaged = [39, 32, 38, 4]"
   ]
  },
  {
   "cell_type": "code",
   "execution_count": null,
   "metadata": {},
   "outputs": [],
   "source": [
    "# We could do the selection of the relevant items from the dataframe a bit more clever\n",
    "# But since we didn't think about it before, we just loop through the frame four times in a row :)\n",
    "Indices = [None] * len(SamplesImaged)\n",
    "for smpl in range(len(SamplesImaged)):\n",
    "    for idx, row in Microscopy.iterrows():\n",
    "        if row.Sample in SamplesImaged[smpl]:\n",
    "            if row.Acinus == AciniImaged[smpl]:\n",
    "                Indices[smpl] = idx\n",
    "    print('Found acinus %s of sample %s at item %s of \"Microscopy\" dataframe' % (AciniImaged[smpl],\n",
    "                                                                                 SamplesImaged[smpl],\n",
    "                                                                                 Indices[smpl]))"
   ]
  },
  {
   "cell_type": "code",
   "execution_count": null,
   "metadata": {},
   "outputs": [],
   "source": [
    "for i in Indices:\n",
    "    print(Microscopy.iloc[i])\n",
    "    print(80 * '-')"
   ]
  },
  {
   "cell_type": "code",
   "execution_count": null,
   "metadata": {},
   "outputs": [],
   "source": [
    "for i in Indices:\n",
    "    print(Microscopy.iloc[i].SelectedImage)\n",
    "    print(80 * '-')"
   ]
  },
  {
   "cell_type": "code",
   "execution_count": null,
   "metadata": {
    "collapsed": true
   },
   "outputs": [],
   "source": [
    "# Copy acinus images to Microscopy subfolder\n",
    "from shutil import copyfile\n",
    "for i in Indices:\n",
    "    print('Copying %s to \"Originals_TOMCAT\" subfolder' % Microscopy.iloc[i].SelectedImage)\n",
    "    copyfile(Microscopy.iloc[i].SelectedImage,\n",
    "             os.path.join('Microscopy', 'Originals_TOMCAT', os.path.basename(Microscopy.iloc[i].SelectedImage)))"
   ]
  },
  {
   "cell_type": "code",
   "execution_count": null,
   "metadata": {
    "collapsed": true
   },
   "outputs": [],
   "source": [
    "# Copy bottom reconstruction of top scan from selected sample to Microscopy subfolder\n",
    "for i in Indices:\n",
    "    # Do some string manipulation to get us the correct directory\n",
    "    lookuppath = terastation + os.path.join(os.path.dirname(os.path.dirname(Microscopy.iloc[i].Location[len(RootPath):])),\n",
    "                                            'rec_8bit')\n",
    "    # Get all the files in there, sorted\n",
    "    files = sorted(glob.glob(os.path.join(lookuppath, '*.tif')))\n",
    "    # The last file is the bottom image of the top stack, copy this one, now\n",
    "    print('Copying %s to \"Originals_TOMCAT\" subfolder' % files[-1])\n",
    "    copyfile(files[-1],\n",
    "             os.path.join('Microscopy', 'Originals_TOMCAT', os.path.basename(files[-1])))"
   ]
  },
  {
   "cell_type": "code",
   "execution_count": null,
   "metadata": {
    "collapsed": true
   },
   "outputs": [],
   "source": [
    "print('Done with everything')"
   ]
  },
  {
   "cell_type": "code",
   "execution_count": null,
   "metadata": {
    "collapsed": true
   },
   "outputs": [],
   "source": []
  }
 ],
 "metadata": {
  "anaconda-cloud": {},
  "kernelspec": {
   "display_name": "Python 3",
   "language": "python",
   "name": "python3"
  },
  "language_info": {
   "codemirror_mode": {
    "name": "ipython",
    "version": 3
   },
   "file_extension": ".py",
   "mimetype": "text/x-python",
   "name": "python",
   "nbconvert_exporter": "python",
   "pygments_lexer": "ipython3",
   "version": "3.6.6"
  }
 },
 "nbformat": 4,
 "nbformat_minor": 2
}
