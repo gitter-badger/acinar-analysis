{
 "cells": [
  {
   "cell_type": "markdown",
   "metadata": {},
   "source": [
    "# Alveoli and acinar size\n",
    "This [Jupyter](http://jupyter.com) contains the full analysis for the [publication on the acinar complexity](https://www.authorea.com/274247/47HwqAxume3L2xkLOsg_SQ).\n",
    "All the (relevant) data, numbers and plots that are shown in the manuscript are calculated in this notebook.\n",
    "Irrelevant data like total dataset size and other supporting materials are scattered into other notebooks in [the repository](http://github.com/habi/acinar-analysis) :)"
   ]
  },
  {
   "cell_type": "markdown",
   "metadata": {},
   "source": [
    "First, let's set up the notebook."
   ]
  },
  {
   "cell_type": "code",
   "execution_count": 1,
   "metadata": {},
   "outputs": [],
   "source": [
    "# Load the modules we need\n",
    "import matplotlib.pyplot as plt\n",
    "%matplotlib inline\n",
    "import platform\n",
    "import glob\n",
    "import os\n",
    "import pandas\n",
    "import seaborn\n",
    "import numpy\n",
    "import timeit\n",
    "import scipy.stats\n",
    "import itertools"
   ]
  },
  {
   "cell_type": "code",
   "execution_count": 2,
   "metadata": {},
   "outputs": [],
   "source": [
    "# Style plots\n",
    "seaborn.set_style(\"whitegrid\")\n",
    "seaborn.set_context(\"paper\")"
   ]
  },
  {
   "cell_type": "code",
   "execution_count": 3,
   "metadata": {},
   "outputs": [],
   "source": [
    "# Display all images in b&w and with no interpolation\n",
    "plt.rc('image', cmap='gray', interpolation='none')\n",
    "# Save (PNG) images with a higher DPI, since Authorea cannot import PDFs...\n",
    "plt.rcParams['savefig.dpi'] = 300\n",
    "# Despine all the plots (nearly equal to \"seaborn.despine(offset=10, trim=True, bottom=True)\")\n",
    "plt.rc(\"axes.spines\", top=False, right=False, bottom=False)"
   ]
  },
  {
   "cell_type": "markdown",
   "metadata": {},
   "source": [
    "Define us some functions."
   ]
  },
  {
   "cell_type": "code",
   "execution_count": 4,
   "metadata": {},
   "outputs": [],
   "source": [
    "def get_git_hash():\n",
    "    \"\"\"\n",
    "    Get the current git hash from the repository.\n",
    "    Based on http://stackoverflow.com/a/949391/323100 and\n",
    "    http://stackoverflow.com/a/18283905/323100\n",
    "    \"\"\"\n",
    "    from subprocess import Popen, PIPE\n",
    "    import os\n",
    "    gitprocess = Popen(['git', '--git-dir', os.path.join(os.getcwd(), '.git'),\n",
    "                        'rev-parse', '--short', '--verify', 'HEAD'],\n",
    "                       stdout=PIPE)\n",
    "    (output, _) = gitprocess.communicate()\n",
    "    return output.strip().decode(\"utf-8\")"
   ]
  },
  {
   "cell_type": "code",
   "execution_count": 5,
   "metadata": {},
   "outputs": [],
   "source": [
    "def significance(p):\n",
    "    \"\"\"\n",
    "    Get some 'information' on the p-values we calculate.\n",
    "    See the bottom of https://git.io/vQbWV\n",
    "    \"\"\"\n",
    "    if p < 0.0001:\n",
    "        return \"**** (p=%0.3g)\" % p\n",
    "    elif (p < 0.001):\n",
    "        return \"*** (p=%0.3g)\" % p\n",
    "    elif (p < 0.01):\n",
    "        return \"** (p=%0.3g)\" % p\n",
    "    elif (p < 0.05):\n",
    "        return \"* (p=%0.3g)\" % p\n",
    "    else:\n",
    "        return \"not significant (p=%0.3g)\" % p"
   ]
  },
  {
   "cell_type": "code",
   "execution_count": 6,
   "metadata": {},
   "outputs": [
    {
     "name": "stdout",
     "output_type": "stream",
     "text": [
      "We are working with version bd7908f of the analyis notebook.\n"
     ]
    }
   ],
   "source": [
    "# Were are we?\n",
    "the_current_git_hash = get_git_hash()\n",
    "print('We are working with version %s of the analyis notebook.'\n",
    "      % the_current_git_hash)"
   ]
  },
  {
   "cell_type": "code",
   "execution_count": 7,
   "metadata": {},
   "outputs": [],
   "source": [
    "# Make us an output folder\n",
    "# Including the git hash, so we (potentially) have different versions of all the images we generate\n",
    "OutputDir = os.path.join('Output', the_current_git_hash)\n",
    "os.makedirs(OutputDir, exist_ok=True)"
   ]
  },
  {
   "cell_type": "markdown",
   "metadata": {},
   "source": [
    "Now that we have set up everything, we load the data that we'll deal with.\n",
    "First we load the 'Count' data from Eveline.\n",
    "This is what she assessed with the STEPanizer in tedious work."
   ]
  },
  {
   "cell_type": "code",
   "execution_count": 8,
   "metadata": {},
   "outputs": [
    {
     "name": "stdout",
     "output_type": "stream",
     "text": [
      "We are loading all the data from F:/Acini\n"
     ]
    }
   ],
   "source": [
    "# Different locations if running either on Linux or Windows\n",
    "# ----\n",
    "# We copied all the data from the external drives 'nas_schittny' and 'anatera4' to the internal 'fast SSD' with\n",
    "# ---\n",
    "# rsync -av -m --include='**/' --include='**/*5slices/**' --exclude='*' '/run/user/1000/gvfs/smb-share:server=anatera4,share=share/SLS/' '/media/habi/Fast_SSD/Acini/'\n",
    "# (obviously only works on Linux)\n",
    "# ---\n",
    "# so we can set\n",
    "FastSSD = True\n",
    "# to speed things up significantly\n",
    "if 'debian' in platform.dist():\n",
    "    if FastSSD:\n",
    "        RootPath = os.path.join(os.sep, 'media', 'habi', 'Fast_SSD', 'Acini')\n",
    "    else:\n",
    "        RootPath = os.path.join(os.sep, 'home', 'habi', 'nas_gruppe_schittny', 'doc', 'David')\n",
    "else:\n",
    "    if FastSSD:\n",
    "        RootPath = os.path.join('F:/', 'Acini')\n",
    "    else:\n",
    "        RootPath = os.path.join('\\\\\\\\nas.ana.unibe.ch\\\\', 'gruppe_schittny', 'Data', 'doc', 'David')\n",
    "print('We are loading all the data from %s' % RootPath)"
   ]
  },
  {
   "cell_type": "code",
   "execution_count": 9,
   "metadata": {},
   "outputs": [
    {
     "name": "stdout",
     "output_type": "stream",
     "text": [
      "Eveline counted the alveoli in 287 acini in total.\n"
     ]
    }
   ],
   "source": [
    "# Get a list of *all* excel files that Eveline exported from the STEPanizer\n",
    "# Fortunately, she did NOT count in 2018\n",
    "# Based on https://stackoverflow.com/a/14798263\n",
    "StepanizerFiles_Eveline = sorted(glob.glob(os.path.join(RootPath, '**/*201[1234567]*.xls'), recursive=True))\n",
    "if len(StepanizerFiles_Eveline):\n",
    "    print('Eveline counted the alveoli in %s acini in total.' % len(StepanizerFiles_Eveline))\n",
    "else:\n",
    "    print('Mount the fast SSD please!!!')"
   ]
  },
  {
   "cell_type": "code",
   "execution_count": 10,
   "metadata": {},
   "outputs": [],
   "source": [
    "# Generate a dataframe for Evelines data\n",
    "Eveline = pandas.DataFrame({'Location': StepanizerFiles_Eveline})\n",
    "# Extract the relevant data from filenames\n",
    "Eveline['Filename'] = [os.path.basename(f) for f in StepanizerFiles_Eveline]\n",
    "Eveline['Beamtime'] = [os.path.dirname(f).split('Acini')[1].split(os.sep)[1] for f in StepanizerFiles_Eveline]\n",
    "Eveline['Sample'] = [os.path.basename(f).split('-acinus')[0][1:] for f in StepanizerFiles_Eveline]\n",
    "Eveline['Animal'] = [os.path.basename(f).split('_R108C')[1].split('mrg-')[0][:3] for f in StepanizerFiles_Eveline]\n",
    "Eveline['Day'] = [int(os.path.basename(f).split('_R108C')[1].split('mrg-')[0][:2]) for f in StepanizerFiles_Eveline]\n",
    "Eveline['Acinus'] = [int(os.path.basename(f).split('acinus')[1].split('_')[0]) for f in StepanizerFiles_Eveline]\n",
    "# Read the counts from the XLS files (which are just glorified CSV written by the STEPanizer)\n",
    "Eveline['Counts'] = [int(pandas.read_csv(f, nrows=13, delimiter='\\t')['Total'][10]) for f in StepanizerFiles_Eveline]\n",
    "# Since we seem to have different tab-count in the files, we just read one single cell, explicitly...\n",
    "Eveline['Pixelsize'] = [float(pandas.read_csv(f, delimiter='\\t', encoding='latin',\n",
    "                                              skiprows=16, header=None, usecols=[0, 1], nrows=1)[1][0])\n",
    "                        for f in StepanizerFiles_Eveline]\n",
    "# Count all the JPG images in their respective folders\n",
    "Eveline['Number of images'] = [[int(os.path.basename(i).split('_')[-2]) for\n",
    "                                i in glob.glob(os.path.join(os.path.dirname(location),\n",
    "                                                            '*.jpg'))] for location in Eveline.Location]\n",
    "Eveline['Number of images'] = [max(li) for li in Eveline['Number of images']]"
   ]
  },
  {
   "cell_type": "code",
   "execution_count": 11,
   "metadata": {},
   "outputs": [],
   "source": [
    "# For D60, Eveline counted only half of the images, we thus double the 'counts'\n",
    "Eveline.loc[Eveline.Animal == '60B', 'Counts'] = 2 * Eveline['Counts']\n",
    "# For Animal 60C she counted *every* image, we thus don't double there!\n",
    "Eveline.loc[Eveline.Animal == '60D', 'Counts'] = 2 * Eveline['Counts']\n",
    "Eveline.loc[Eveline.Animal == '60E', 'Counts'] = 2 * Eveline['Counts']\n",
    "# For two acini (acinus 3 for 60D and acinus 12 for 60E) Eveline counted every image\n",
    "Eveline.loc[(Eveline.Animal == '60D') & (Eveline.Acinus == 3), 'Counts'] = 0.5 * Eveline['Counts']\n",
    "Eveline.loc[(Eveline.Animal == '60E') & (Eveline.Acinus == 12), 'Counts'] = 0.5 * Eveline['Counts']\n",
    "# The 'number of images' (read below) stays the same, since Eveline just skipped the images in STEPanizer!"
   ]
  },
  {
   "cell_type": "markdown",
   "metadata": {},
   "source": [
    "Now load the data from Davids stereological assessment of the acinar volumes.\n",
    "We simply forgot to tell Eveline to do the proper Cavaglieri estimation during the same time she counted the entrance rings."
   ]
  },
  {
   "cell_type": "code",
   "execution_count": 12,
   "metadata": {},
   "outputs": [
    {
     "name": "stdout",
     "output_type": "stream",
     "text": [
      "David assessed the disector volume in 287 acini\n"
     ]
    }
   ],
   "source": [
    "# Get a list of *all* the excel files David counted to assess the disector volume\n",
    "# Fortunately, David ONLY counted in 2018\n",
    "StepanizerFiles_David = sorted(glob.glob(os.path.join(RootPath, '**/*2018*.xls'), recursive=True))\n",
    "print('David assessed the disector volume in %s acini' % len(StepanizerFiles_David))"
   ]
  },
  {
   "cell_type": "code",
   "execution_count": 13,
   "metadata": {},
   "outputs": [],
   "source": [
    "# These variables are used below to calculate the acinus volume from the stereological assessment.\n",
    "DisectorThickness = 5    # slices\n",
    "TOMCATPixelSize = 1.48   # um\n",
    "ShrinkageFactor = 0.61   # Volume-Shrinkage-Factor = 61% with STD=5, calculated by Sébastien: Volume TOMCAT / Waterdisplacement from Haberthuer2013, p. 1382"
   ]
  },
  {
   "cell_type": "code",
   "execution_count": 14,
   "metadata": {},
   "outputs": [],
   "source": [
    "# Generate a dataframe for Davids data\n",
    "David = pandas.DataFrame({'Location': StepanizerFiles_David})\n",
    "# Extract the relevant data from filenames\n",
    "David['Filename'] = [os.path.basename(f) for f in StepanizerFiles_David]\n",
    "David['Animal'] = [os.path.basename(f).split('_R108C')[1].split('mrg-')[0][:3] for f in StepanizerFiles_David]\n",
    "David['Day'] = [int(os.path.basename(f).split('_R108C')[1].split('mrg-')[0][:2]) for f in StepanizerFiles_David]\n",
    "David['Beamtime'] = [os.path.dirname(f).split('Acini')[1].split(os.sep)[1] for f in StepanizerFiles_David]\n",
    "David['Sample'] = [os.path.basename(f).split('-acinus')[0][1:] for f in StepanizerFiles_David]\n",
    "David['Acinus'] = [int(os.path.basename(f).split('acinus')[1].split('_')[0]) for f in StepanizerFiles_David]\n",
    "# Read the files\n",
    "David['Counts'] = [int(pandas.read_csv(f, nrows=13,\n",
    "                                       delimiter='\\t')['Total'][10]) for f in StepanizerFiles_David]\n",
    "David['Pixelsize'] = [float(pandas.read_csv(f, skiprows=16, nrows=1, delimiter='\\t', encoding='latin',\n",
    "                                            header=None, usecols=[1])[1]) for f in StepanizerFiles_David]\n",
    "# Calculate the volume of the acini\n",
    "# Area per point in xls files in um^2\n",
    "David['Area per point'] = [float(pandas.read_csv(f, delimiter='\\t', encoding='latin',\n",
    "                                                 skiprows=28, header=None, usecols=[0, 1],\n",
    "                                                 nrows=1)[1][0]) for f in StepanizerFiles_David]\n",
    "# Acinusvol is in um^3, we go from um^3 to mm^3: https://encrypted.google.com/search?&q=cubic+micrometer+to+cubic+millimeter\n",
    "David['Volume_Acinus_STEPanizer'] = [cts * ap * 2 * DisectorThickness * TOMCATPixelSize * 1e-9\n",
    "                                     for cts, ap in zip(David['Counts'],\n",
    "                                                        David['Area per point'])]\n",
    "# Read the number of images from the xls-file instead of counting from disk\n",
    "# Might be good for error-checking...\n",
    "David['Number of images'] = [int(pandas.read_csv(f, delimiter='\\t', encoding='latin',\n",
    "                                                 skiprows=12, header=None, usecols=[0, 1, 2, 3],\n",
    "                                                 nrows=1)[2][0][2:])  # Stefan writes '->NumImg' into the cell, so we read only everything from string position 3 on...\n",
    "                             for f in StepanizerFiles_David]"
   ]
  },
  {
   "cell_type": "code",
   "execution_count": 15,
   "metadata": {},
   "outputs": [
    {
     "name": "stdout",
     "output_type": "stream",
     "text": [
      "We now have merged data (from Eveline and David) for 287 acini...\n"
     ]
    }
   ],
   "source": [
    "# Merge 'Eveline' and 'David' dataframes to one\n",
    "# Based on https://stackoverflow.com/a/33350050/323100\n",
    "Done = pandas.merge(Eveline, David,\n",
    "                    on=['Animal', 'Acinus', 'Day', 'Beamtime', 'Sample'],\n",
    "                    how='inner', suffixes=['_Eveline', '_David'],\n",
    "                    indicator=True)\n",
    "print('We now have merged data (from Eveline and David) for %s acini...' % len(Done))"
   ]
  },
  {
   "cell_type": "markdown",
   "metadata": {},
   "source": [
    "Now load the acinar volumes, which were written to the DICOM files with MeVisLab a long time ago.\n",
    "These are the volumes from the segmentation, so they are 'biased' in terms of thresholding difficulties.\n",
    "We load the file names directly from `anatera4`, where I originally exported the DICOM files from MeVisLab (and where the data still is).\n",
    "Since looking for all the DICOM files takes nearly an hour, we save the results to a dataframe on disk an load this dataframe if needed/wanted."
   ]
  },
  {
   "cell_type": "code",
   "execution_count": 16,
   "metadata": {},
   "outputs": [
    {
     "name": "stdout",
     "output_type": "stream",
     "text": [
      "We are loading all the data from \\\\anatera4\\share\\SLS\n"
     ]
    }
   ],
   "source": [
    "# Different locations if running either on Linux or Windows\n",
    "if 'debian' in platform.dist():\n",
    "    location_volumes = '/run/user/1000/gvfs/smb-share:server=anatera4,share='\n",
    "else:\n",
    "    location_volumes = '\\\\\\\\anatera4\\\\'\n",
    "# Load the data from this folder\n",
    "terastation = location_volumes + os.path.join('share', 'SLS')\n",
    "print('We are loading all the data from %s' % terastation)"
   ]
  },
  {
   "cell_type": "code",
   "execution_count": 17,
   "metadata": {},
   "outputs": [],
   "source": [
    "# Filename to save the data, with included git hash for versioning purposes...\n",
    "OutputName_Volumes = 'VolumesFromDisk_' + get_git_hash() + '.pkl'"
   ]
  },
  {
   "cell_type": "code",
   "execution_count": 18,
   "metadata": {},
   "outputs": [],
   "source": [
    "# If we already ran the file loading recently, then there's an intermediate file we can use\n",
    "# Thre process otherwise takes nearly an hour...\n",
    "try:\n",
    "    # Use the *freshest* VolumesFromDisk file, even if it's from another git hash\n",
    "    OutputName_Volumes = max(glob.iglob('VolumesFromDisk*.pkl'), key=os.path.getctime)\n",
    "except ValueError:\n",
    "    print('We *need* to generate a new volume file, since we found none...')"
   ]
  },
  {
   "cell_type": "code",
   "execution_count": 19,
   "metadata": {},
   "outputs": [
    {
     "name": "stdout",
     "output_type": "stream",
     "text": [
      "The current git hash (bd7908f) of our notebook is not the same as \"OutputName_Volumes\" (VolumesFromDisk_2ca705f.pkl).\n",
      "We are using the old file: VolumesFromDisk_2ca705f.pkl\n"
     ]
    }
   ],
   "source": [
    "if get_git_hash() != os.path.splitext(OutputName_Volumes.split('_')[1])[0]:\n",
    "    print('The current git hash (%s) of our notebook is not the same as \"OutputName_Volumes\" (%s).' % (get_git_hash(), OutputName_Volumes))\n",
    "    print('We are using the old file: %s' % OutputName_Volumes)\n",
    "else:\n",
    "    print('Hash (%s) is equal to the name of the OutputName_Volumes file name (%s).' % (get_git_hash(), OutputName_Volumes))"
   ]
  },
  {
   "cell_type": "code",
   "execution_count": 20,
   "metadata": {},
   "outputs": [
    {
     "name": "stdout",
     "output_type": "stream",
     "text": [
      "We loaded the volume data from VolumesFromDisk_2ca705f.pkl\n"
     ]
    }
   ],
   "source": [
    "if os.path.exists(OutputName_Volumes):\n",
    "    print('We loaded the volume data from %s' % OutputName_Volumes)\n",
    "else:\n",
    "    # Get a list of *all* DICOM files that I exported aeons ago\n",
    "    # Based on https://stackoverflow.com/a/14798263\n",
    "    # This takes between 30 and 60 minutes!\n",
    "    # We thus only do it if we cannot read the dataframe with all the data saved from a previous run.\n",
    "    print('We scan %s for \"R108*.dcm\" files' % terastation)\n",
    "    tic = timeit.default_timer()\n",
    "    AcinarVolumeFiles = sorted(glob.glob(os.path.join(terastation, '**/R108*.dcm'), recursive=True))\n",
    "    toc = timeit.default_timer()\n",
    "    print('We found %s DICOM files in %s minutes' % (len(AcinarVolumeFiles),\n",
    "                                                     round(float((toc - tic) / 60.), 1)))"
   ]
  },
  {
   "cell_type": "code",
   "execution_count": 21,
   "metadata": {},
   "outputs": [],
   "source": [
    "# Collect the data into a dataframe\n",
    "if os.path.exists(OutputName_Volumes):\n",
    "    # We already did it once, so just load it...\n",
    "    VolumesFromDisk = pandas.read_pickle(OutputName_Volumes)\n",
    "else:\n",
    "    # Save the file locations into an empty dataframe\n",
    "    VolumesFromDisk = pandas.DataFrame({'Location_Volume': AcinarVolumeFiles})"
   ]
  },
  {
   "cell_type": "code",
   "execution_count": 22,
   "metadata": {},
   "outputs": [],
   "source": [
    "# # Some names (see output of this cell) derive from the R108C$Day$$Animal$ scheme.\n",
    "# # We catch them with the intricate .split() in the cells below...\n",
    "# for i in VolumesFromDisk.File:\n",
    "#     if len(i.split('mrg')[0][len('R108C'):-2]) >3:\n",
    "#         tmp.append(i.split('mrg')[0][len('R108C'):-2])\n",
    "# for i in pandas.unique(tmp):\n",
    "#     print(i)"
   ]
  },
  {
   "cell_type": "code",
   "execution_count": 23,
   "metadata": {},
   "outputs": [],
   "source": [
    "# Grab data from the file names\n",
    "if not os.path.exists(OutputName_Volumes):\n",
    "    VolumesFromDisk['Filename_Volume'] = [os.path.basename(f) for f in AcinarVolumeFiles]\n",
    "    VolumesFromDisk['Animal'] = [os.path.basename(f).split('mrg')[0][len('R108C'):len('R108C') + 3]\n",
    "                                 for f in AcinarVolumeFiles]\n",
    "    VolumesFromDisk['Beamtime'] = [os.path.dirname(f).split('SLS')[1].split(os.sep)[1]\n",
    "                                   for f in AcinarVolumeFiles]\n",
    "    VolumesFromDisk['Day'] = [int(os.path.basename(f).split('mrg')[0][len('R108C'):len('R108C') + 2])\n",
    "                              for f in AcinarVolumeFiles]\n",
    "    VolumesFromDisk['Acinus'] = [int(os.path.basename(f).split('.acinus')[1].split('.volume')[0])\n",
    "                                 for f in AcinarVolumeFiles]\n",
    "    # According to the MeVisLab files, the volume is saved to the file name in 'ul'. Which is equal to mm^3\n",
    "    VolumesFromDisk['Volume_Acinus_MeVisLab'] = [float(os.path.basename(f).split('.volume')[1].split('.pixelsize')[0])\n",
    "                                                 for f in AcinarVolumeFiles]  # mm^3"
   ]
  },
  {
   "cell_type": "code",
   "execution_count": 24,
   "metadata": {},
   "outputs": [],
   "source": [
    "# VolumesFromDisk.rename(index=str, columns={\"Volume_MeVisLab\": \"Volume_Acinus_MeVisLab\"}, inplace=True)"
   ]
  },
  {
   "cell_type": "code",
   "execution_count": 25,
   "metadata": {},
   "outputs": [
    {
     "name": "stdout",
     "output_type": "stream",
     "text": [
      "If we drop day 36, we now have the volume data for 701 acini\n"
     ]
    }
   ],
   "source": [
    "# Drop Day 36, which Eveline did not assess stereologically\n",
    "# https://stackoverflow.com/a/27360130/323100\n",
    "VolumesFromDisk.drop(VolumesFromDisk[VolumesFromDisk['Day'] == 36].index, inplace=True)\n",
    "print('If we drop day 36, we now have the volume data for %s acini' % len(VolumesFromDisk))"
   ]
  },
  {
   "cell_type": "code",
   "execution_count": 26,
   "metadata": {},
   "outputs": [],
   "source": [
    "# Save the data if it doesn't exist already\n",
    "if not os.path.exists(OutputName_Volumes):\n",
    "    VolumesFromDisk.to_pickle(OutputName_Volumes)"
   ]
  },
  {
   "cell_type": "markdown",
   "metadata": {},
   "source": [
    "Now we merge the Eveline/David/Done and VolumesFromDisk dataframes to our one and final `Data` dataframe."
   ]
  },
  {
   "cell_type": "code",
   "execution_count": 27,
   "metadata": {},
   "outputs": [],
   "source": [
    "# Merge the dataframes: http://pandas.pydata.org/pandas-docs/stable/merging.html\n",
    "# This discards all entries that are *not* found in both df's\n",
    "Data = pandas.merge(Done, VolumesFromDisk, how='inner')"
   ]
  },
  {
   "cell_type": "code",
   "execution_count": 28,
   "metadata": {},
   "outputs": [
    {
     "name": "stdout",
     "output_type": "stream",
     "text": [
      "We now have merged data (Eveline/David/Volume) for 287 acini...\n"
     ]
    }
   ],
   "source": [
    "print('We now have merged data (Eveline/David/Volume) for %s acini...' % len(Data))"
   ]
  },
  {
   "cell_type": "code",
   "execution_count": 29,
   "metadata": {},
   "outputs": [],
   "source": [
    "# Doublecheck that we merged to equal data\n",
    "# If there's no output we're all good :)\n",
    "for i, row in Done.iterrows():\n",
    "    if Done.iloc[i].Acinus != Data.iloc[i].Acinus:\n",
    "        print(i)\n",
    "        print(Done.iloc[i].Sample, Done.iloc[i].Acinus)\n",
    "        print(Data.iloc[i].Sample, Data.iloc[i].Acinus)\n",
    "        print(80 * '*')"
   ]
  },
  {
   "cell_type": "markdown",
   "metadata": {},
   "source": [
    "----"
   ]
  },
  {
   "cell_type": "markdown",
   "metadata": {},
   "source": [
    "Let's now analyze and display the data."
   ]
  },
  {
   "cell_type": "code",
   "execution_count": 30,
   "metadata": {},
   "outputs": [
    {
     "data": {
      "image/png": "[encoded data removed]",
      "text/plain": [
       "<matplotlib.figure.Figure at 0xb6e3780>"
      ]
     },
     "metadata": {},
     "output_type": "display_data"
    }
   ],
   "source": [
    "# Let's look at the counts from Eveline\n",
    "for c, d in enumerate(sorted(pandas.unique(Data.Day))):\n",
    "    plt.subplot(1, len(pandas.unique(Data.Day)), c + 1)\n",
    "    bxplt = seaborn.violinplot(data=Data.loc[Data.Day == d], x='Day', y='Counts_Eveline',\n",
    "                               hue='Animal',\n",
    "                               # Because the animals are preferentially sorted on the beamtime name, we have\n",
    "                               # to jump through the hoop below and sort the hues on the 'Animal' in addition\n",
    "                               # to what we did for Evelines counts where all the data is in *one* folder\n",
    "                               # Just comment the next line to see the difference (a correct plot, but ugly sort :)\n",
    "                               hue_order=sorted(pandas.unique(Data.loc[Data.Day == d]['Animal'])),\n",
    "                               cut=0, inner='quartiles')\n",
    "    swrmplt = seaborn.stripplot(data=Data.loc[Data.Day == d], x='Day', y='Counts_Eveline', hue='Animal', jitter=True,\n",
    "                                hue_order=sorted(pandas.unique(Data.loc[Data.Day == d]['Animal'])),\n",
    "                                dodge=True, linewidth=1, edgecolor='k', alpha=0.309)\n",
    "    handles, labels = plt.gca().get_legend_handles_labels()\n",
    "    plt.ylim([0, 1.1 * Data.Counts_Eveline.max()])\n",
    "    bxplt.legend(handles[:len(handles) // 2], labels[:len(labels) // 2])\n",
    "    if c:\n",
    "        plt.ylabel('')\n",
    "        plt.gca().set_yticklabels([])\n",
    "    else:\n",
    "        plt.ylabel('Entrance ring count')\n",
    "plt.suptitle('Entrance ring counts\\n%s acini split over %s animals' % (len(Data),\n",
    "                                                                       len(pandas.unique(Data.Animal))))\n",
    "# plt.savefig(os.path.join(OutputDir, 'entrance-ring-counts_all.png'))\n",
    "plt.show()"
   ]
  },
  {
   "cell_type": "markdown",
   "metadata": {},
   "source": [
    "What's wrong with sample 60C?\n",
    "Let's test if it is different to the others of day 60!"
   ]
  },
  {
   "cell_type": "code",
   "execution_count": 31,
   "metadata": {},
   "outputs": [
    {
     "name": "stdout",
     "output_type": "stream",
     "text": [
      "A T-test of day 60C against the others gives a difference with a significance of **** (p=8.08e-06).\n"
     ]
    }
   ],
   "source": [
    "# With help from Fluri\n",
    "print('A T-test of day 60C against the others gives a difference with', end=' ')\n",
    "t_statistic, p_value = scipy.stats.ttest_ind([numpy.mean(Data.loc[Data.Animal == '60C'].Counts_Eveline),\n",
    "                                              numpy.mean(Data.loc[Data.Animal == '60C'].Counts_Eveline),\n",
    "                                              numpy.mean(Data.loc[Data.Animal == '60C'].Counts_Eveline)],\n",
    "                                             [numpy.mean(Data.loc[Data.Animal == '60B'].Counts_Eveline),\n",
    "                                              numpy.mean(Data.loc[Data.Animal == '60D'].Counts_Eveline),\n",
    "                                              numpy.mean(Data.loc[Data.Animal == '60E'].Counts_Eveline)])\n",
    "\n",
    "print('a significance of %s.' % significance(p_value))"
   ]
  },
  {
   "cell_type": "code",
   "execution_count": 32,
   "metadata": {},
   "outputs": [
    {
     "name": "stdout",
     "output_type": "stream",
     "text": [
      "After dropping day 60C, we have 267 acini in our analysis\n"
     ]
    }
   ],
   "source": [
    "# Based on the statiscial reasoning above, we can thus drop day 60C\n",
    "Data.drop(Data[Data['Animal'] == '60C'].index, inplace=True)\n",
    "print('After dropping day 60C, we have %s acini in our analysis' % len(Data))"
   ]
  },
  {
   "cell_type": "code",
   "execution_count": 33,
   "metadata": {},
   "outputs": [
    {
     "data": {
      "text/html": [
       "<div>\n",
       "<style scoped>\n",
       "    .dataframe tbody tr th:only-of-type {\n",
       "        vertical-align: middle;\n",
       "    }\n",
       "\n",
       "    .dataframe tbody tr th {\n",
       "        vertical-align: top;\n",
       "    }\n",
       "\n",
       "    .dataframe thead th {\n",
       "        text-align: right;\n",
       "    }\n",
       "</style>\n",
       "<table border=\"1\" class=\"dataframe\">\n",
       "  <thead>\n",
       "    <tr style=\"text-align: right;\">\n",
       "      <th></th>\n",
       "      <th>count</th>\n",
       "      <th>mean</th>\n",
       "      <th>std</th>\n",
       "      <th>min</th>\n",
       "      <th>max</th>\n",
       "    </tr>\n",
       "    <tr>\n",
       "      <th>Day</th>\n",
       "      <th></th>\n",
       "      <th></th>\n",
       "      <th></th>\n",
       "      <th></th>\n",
       "      <th></th>\n",
       "    </tr>\n",
       "  </thead>\n",
       "  <tbody>\n",
       "    <tr>\n",
       "      <th>4</th>\n",
       "      <td>124.0</td>\n",
       "      <td>47.854839</td>\n",
       "      <td>41.279278</td>\n",
       "      <td>4.0</td>\n",
       "      <td>249.0</td>\n",
       "    </tr>\n",
       "    <tr>\n",
       "      <th>10</th>\n",
       "      <td>58.0</td>\n",
       "      <td>88.534483</td>\n",
       "      <td>83.843257</td>\n",
       "      <td>15.0</td>\n",
       "      <td>505.0</td>\n",
       "    </tr>\n",
       "    <tr>\n",
       "      <th>21</th>\n",
       "      <td>42.0</td>\n",
       "      <td>233.333333</td>\n",
       "      <td>164.301280</td>\n",
       "      <td>35.0</td>\n",
       "      <td>781.0</td>\n",
       "    </tr>\n",
       "    <tr>\n",
       "      <th>60</th>\n",
       "      <td>43.0</td>\n",
       "      <td>701.790698</td>\n",
       "      <td>219.109188</td>\n",
       "      <td>272.0</td>\n",
       "      <td>1296.0</td>\n",
       "    </tr>\n",
       "  </tbody>\n",
       "</table>\n",
       "</div>"
      ],
      "text/plain": [
       "     count        mean         std    min     max\n",
       "Day                                              \n",
       "4    124.0   47.854839   41.279278    4.0   249.0\n",
       "10    58.0   88.534483   83.843257   15.0   505.0\n",
       "21    42.0  233.333333  164.301280   35.0   781.0\n",
       "60    43.0  701.790698  219.109188  272.0  1296.0"
      ]
     },
     "execution_count": 33,
     "metadata": {},
     "output_type": "execute_result"
    }
   ],
   "source": [
    "# Describe the counts per day\n",
    "Data.groupby(by=['Day'])['Counts_Eveline'].describe()[['count', 'mean', 'std', 'min', 'max']]"
   ]
  },
  {
   "cell_type": "code",
   "execution_count": 34,
   "metadata": {},
   "outputs": [
    {
     "name": "stdout",
     "output_type": "stream",
     "text": [
      "The mean count (alveolar number)\n",
      "\t- for 124 acini at day 4 is 47.85 (STD=41.28)\n",
      "\t- for 58 acini at day 10 is 88.53 (STD=83.84)\n",
      "\t- for 42 acini at day 21 is 233.33 (STD=164.30)\n",
      "\t- for 43 acini at day 60 is 701.79 (STD=219.11)\n"
     ]
    }
   ],
   "source": [
    "# Describe the counts per day (for Authorea copy-pasting)\n",
    "print('The mean count (alveolar number)')\n",
    "for day in sorted(Data.Day.unique()):\n",
    "    print('\\t- for %s acini at day %s is %.2f (STD=%.2f)' % (len(Data.loc[Data.Day == day]['Counts_Eveline']),\n",
    "                                                             day,\n",
    "                                                             Data.loc[Data.Day == day]['Counts_Eveline'].mean(),\n",
    "                                                             Data.loc[Data.Day == day]['Counts_Eveline'].std()))"
   ]
  },
  {
   "cell_type": "code",
   "execution_count": 35,
   "metadata": {},
   "outputs": [
    {
     "data": {
      "text/html": [
       "<div>\n",
       "<style scoped>\n",
       "    .dataframe tbody tr th:only-of-type {\n",
       "        vertical-align: middle;\n",
       "    }\n",
       "\n",
       "    .dataframe tbody tr th {\n",
       "        vertical-align: top;\n",
       "    }\n",
       "\n",
       "    .dataframe thead th {\n",
       "        text-align: right;\n",
       "    }\n",
       "</style>\n",
       "<table border=\"1\" class=\"dataframe\">\n",
       "  <thead>\n",
       "    <tr style=\"text-align: right;\">\n",
       "      <th></th>\n",
       "      <th></th>\n",
       "      <th>count</th>\n",
       "      <th>mean</th>\n",
       "      <th>std</th>\n",
       "      <th>min</th>\n",
       "      <th>25%</th>\n",
       "      <th>50%</th>\n",
       "      <th>75%</th>\n",
       "      <th>max</th>\n",
       "    </tr>\n",
       "    <tr>\n",
       "      <th>Day</th>\n",
       "      <th>Animal</th>\n",
       "      <th></th>\n",
       "      <th></th>\n",
       "      <th></th>\n",
       "      <th></th>\n",
       "      <th></th>\n",
       "      <th></th>\n",
       "      <th></th>\n",
       "      <th></th>\n",
       "    </tr>\n",
       "  </thead>\n",
       "  <tbody>\n",
       "    <tr>\n",
       "      <th rowspan=\"3\" valign=\"top\">4</th>\n",
       "      <th>04A</th>\n",
       "      <td>50.0</td>\n",
       "      <td>27.040000</td>\n",
       "      <td>23.687558</td>\n",
       "      <td>4.0</td>\n",
       "      <td>11.25</td>\n",
       "      <td>17.5</td>\n",
       "      <td>35.00</td>\n",
       "      <td>111.0</td>\n",
       "    </tr>\n",
       "    <tr>\n",
       "      <th>04B</th>\n",
       "      <td>23.0</td>\n",
       "      <td>65.043478</td>\n",
       "      <td>43.849410</td>\n",
       "      <td>15.0</td>\n",
       "      <td>34.50</td>\n",
       "      <td>53.0</td>\n",
       "      <td>80.00</td>\n",
       "      <td>171.0</td>\n",
       "    </tr>\n",
       "    <tr>\n",
       "      <th>04C</th>\n",
       "      <td>51.0</td>\n",
       "      <td>60.509804</td>\n",
       "      <td>45.424387</td>\n",
       "      <td>10.0</td>\n",
       "      <td>29.50</td>\n",
       "      <td>52.0</td>\n",
       "      <td>77.00</td>\n",
       "      <td>249.0</td>\n",
       "    </tr>\n",
       "    <tr>\n",
       "      <th rowspan=\"3\" valign=\"top\">10</th>\n",
       "      <th>10A</th>\n",
       "      <td>27.0</td>\n",
       "      <td>77.851852</td>\n",
       "      <td>56.305283</td>\n",
       "      <td>18.0</td>\n",
       "      <td>28.50</td>\n",
       "      <td>69.0</td>\n",
       "      <td>122.00</td>\n",
       "      <td>245.0</td>\n",
       "    </tr>\n",
       "    <tr>\n",
       "      <th>10B</th>\n",
       "      <td>14.0</td>\n",
       "      <td>84.571429</td>\n",
       "      <td>65.752115</td>\n",
       "      <td>23.0</td>\n",
       "      <td>37.50</td>\n",
       "      <td>52.0</td>\n",
       "      <td>135.25</td>\n",
       "      <td>199.0</td>\n",
       "    </tr>\n",
       "    <tr>\n",
       "      <th>10C</th>\n",
       "      <td>17.0</td>\n",
       "      <td>108.764706</td>\n",
       "      <td>125.449955</td>\n",
       "      <td>15.0</td>\n",
       "      <td>46.00</td>\n",
       "      <td>73.0</td>\n",
       "      <td>105.00</td>\n",
       "      <td>505.0</td>\n",
       "    </tr>\n",
       "    <tr>\n",
       "      <th rowspan=\"3\" valign=\"top\">21</th>\n",
       "      <th>21B</th>\n",
       "      <td>14.0</td>\n",
       "      <td>208.142857</td>\n",
       "      <td>197.709133</td>\n",
       "      <td>35.0</td>\n",
       "      <td>72.00</td>\n",
       "      <td>160.5</td>\n",
       "      <td>237.00</td>\n",
       "      <td>781.0</td>\n",
       "    </tr>\n",
       "    <tr>\n",
       "      <th>21D</th>\n",
       "      <td>17.0</td>\n",
       "      <td>196.000000</td>\n",
       "      <td>128.564672</td>\n",
       "      <td>50.0</td>\n",
       "      <td>97.00</td>\n",
       "      <td>167.0</td>\n",
       "      <td>271.00</td>\n",
       "      <td>493.0</td>\n",
       "    </tr>\n",
       "    <tr>\n",
       "      <th>21E</th>\n",
       "      <td>11.0</td>\n",
       "      <td>323.090909</td>\n",
       "      <td>145.936599</td>\n",
       "      <td>108.0</td>\n",
       "      <td>218.00</td>\n",
       "      <td>298.0</td>\n",
       "      <td>434.50</td>\n",
       "      <td>572.0</td>\n",
       "    </tr>\n",
       "    <tr>\n",
       "      <th rowspan=\"3\" valign=\"top\">60</th>\n",
       "      <th>60B</th>\n",
       "      <td>24.0</td>\n",
       "      <td>701.750000</td>\n",
       "      <td>230.946116</td>\n",
       "      <td>322.0</td>\n",
       "      <td>506.50</td>\n",
       "      <td>728.0</td>\n",
       "      <td>849.00</td>\n",
       "      <td>1296.0</td>\n",
       "    </tr>\n",
       "    <tr>\n",
       "      <th>60D</th>\n",
       "      <td>10.0</td>\n",
       "      <td>668.300000</td>\n",
       "      <td>121.669909</td>\n",
       "      <td>444.0</td>\n",
       "      <td>569.25</td>\n",
       "      <td>722.0</td>\n",
       "      <td>747.00</td>\n",
       "      <td>810.0</td>\n",
       "    </tr>\n",
       "    <tr>\n",
       "      <th>60E</th>\n",
       "      <td>9.0</td>\n",
       "      <td>739.111111</td>\n",
       "      <td>281.215418</td>\n",
       "      <td>272.0</td>\n",
       "      <td>640.00</td>\n",
       "      <td>738.0</td>\n",
       "      <td>770.00</td>\n",
       "      <td>1204.0</td>\n",
       "    </tr>\n",
       "  </tbody>\n",
       "</table>\n",
       "</div>"
      ],
      "text/plain": [
       "            count        mean         std    min     25%    50%     75%  \\\n",
       "Day Animal                                                                \n",
       "4   04A      50.0   27.040000   23.687558    4.0   11.25   17.5   35.00   \n",
       "    04B      23.0   65.043478   43.849410   15.0   34.50   53.0   80.00   \n",
       "    04C      51.0   60.509804   45.424387   10.0   29.50   52.0   77.00   \n",
       "10  10A      27.0   77.851852   56.305283   18.0   28.50   69.0  122.00   \n",
       "    10B      14.0   84.571429   65.752115   23.0   37.50   52.0  135.25   \n",
       "    10C      17.0  108.764706  125.449955   15.0   46.00   73.0  105.00   \n",
       "21  21B      14.0  208.142857  197.709133   35.0   72.00  160.5  237.00   \n",
       "    21D      17.0  196.000000  128.564672   50.0   97.00  167.0  271.00   \n",
       "    21E      11.0  323.090909  145.936599  108.0  218.00  298.0  434.50   \n",
       "60  60B      24.0  701.750000  230.946116  322.0  506.50  728.0  849.00   \n",
       "    60D      10.0  668.300000  121.669909  444.0  569.25  722.0  747.00   \n",
       "    60E       9.0  739.111111  281.215418  272.0  640.00  738.0  770.00   \n",
       "\n",
       "               max  \n",
       "Day Animal          \n",
       "4   04A      111.0  \n",
       "    04B      171.0  \n",
       "    04C      249.0  \n",
       "10  10A      245.0  \n",
       "    10B      199.0  \n",
       "    10C      505.0  \n",
       "21  21B      781.0  \n",
       "    21D      493.0  \n",
       "    21E      572.0  \n",
       "60  60B     1296.0  \n",
       "    60D      810.0  \n",
       "    60E     1204.0  "
      ]
     },
     "execution_count": 35,
     "metadata": {},
     "output_type": "execute_result"
    }
   ],
   "source": [
    "# Describe the counts per day and animal\n",
    "Data.groupby(by=['Day', 'Animal'])['Counts_Eveline'].describe()"
   ]
  },
  {
   "cell_type": "code",
   "execution_count": 36,
   "metadata": {},
   "outputs": [
    {
     "name": "stdout",
     "output_type": "stream",
     "text": [
      "\n",
      "Saved counts to Output\\bd7908f\\authorea_counts.csv\n"
     ]
    }
   ],
   "source": [
    "# Save the counts per animal to CSV (for an Authorea table)\n",
    "outfile = 'authorea_counts.csv'\n",
    "out = Data.groupby(by=['Day', 'Animal'])['Counts_Eveline'].describe()[['count', 'mean', 'std', 'min', 'max']]\n",
    "out.to_csv(os.path.join(OutputDir, outfile), float_format='%0.2f')\n",
    "print('\\nSaved counts to', os.path.join(OutputDir, outfile))"
   ]
  },
  {
   "cell_type": "code",
   "execution_count": 37,
   "metadata": {},
   "outputs": [],
   "source": [
    "# Set ourselves a color palette, based on the individual unique sample names\n",
    "# The dictionary palette setting is based on the comments in https://stackoverflow.com/q/36554075/323100\n",
    "ourcolors = seaborn.color_palette('husl', len(Data.Animal.unique()))\n",
    "ourpalette = {animal: ourcolors[c] for c, animal in enumerate(pandas.unique(Data.Animal))}"
   ]
  },
  {
   "cell_type": "code",
   "execution_count": 38,
   "metadata": {},
   "outputs": [],
   "source": [
    "# Normalize the counts to the biggest count per animal\n",
    "Data['Counts_Eveline_normalized'] = numpy.nan\n",
    "for c, row in Data.iterrows():\n",
    "    Data.loc[c, 'Counts_Eveline_normalized'] = row.Counts_Eveline / numpy.nanmax(Data.loc[Data.Animal == row.Animal].Counts_Eveline)"
   ]
  },
  {
   "cell_type": "code",
   "execution_count": 39,
   "metadata": {},
   "outputs": [
    {
     "data": {
      "image/png": "[encoded data removed]",
      "text/plain": [
       "<matplotlib.figure.Figure at 0xbb51be0>"
      ]
     },
     "metadata": {},
     "output_type": "display_data"
    }
   ],
   "source": [
    "# Let's look at the counts from Eveline\n",
    "for c, d in enumerate(sorted(pandas.unique(Data.Day))):\n",
    "    plt.subplot(1, len(pandas.unique(Data.Day)), c + 1)\n",
    "    bxplt = seaborn.violinplot(data=Data.loc[Data.Day == d], x='Day', y='Counts_Eveline_normalized',\n",
    "                               hue='Animal',\n",
    "                               # Because the animals are preferentially sorted on the beamtime name, we have\n",
    "                               # to jump through the hoop below and sort the hues on the 'Animal' in addition\n",
    "                               # to what we did for Evelines counts where all the data is in *one* folder\n",
    "                               # Just comment the next line to see the difference (a correct plot, but ugly sort :)\n",
    "                               hue_order=sorted(pandas.unique(Data.loc[Data.Day == d]['Animal'])),\n",
    "                               palette=ourpalette, cut=0, inner='quartiles')\n",
    "    swrmplt = seaborn.stripplot(data=Data.loc[Data.Day == d], x='Day', y='Counts_Eveline_normalized', hue='Animal', jitter=True,\n",
    "                                hue_order=sorted(pandas.unique(Data.loc[Data.Day == d]['Animal'])),\n",
    "                                dodge=True, linewidth=1, palette=ourpalette, edgecolor='k', alpha=0.309)\n",
    "    plt.ylim([0, 1.05])    \n",
    "#     handles, labels = plt.gca().get_legend_handles_labels()\n",
    "#     plt.legend(handles[:len(handles) // 2], labels[:len(labels) // 2],\n",
    "#                loc='upper right')\n",
    "    plt.legend('')\n",
    "    plt.xticks(numpy.arange(-0.3, 0.6, 0.3), sorted(Data[Data.Day==d].Animal.unique()))\n",
    "    plt.xlabel('')    \n",
    "    if c:\n",
    "        plt.ylabel('')\n",
    "        plt.gca().set_yticklabels([])\n",
    "    else:\n",
    "        plt.ylabel('Normalized entrance ring count')\n",
    "plt.suptitle('Normalized entrance ring counts\\n%s acini split over %s animals' % (len(Data),\n",
    "                                                                                  len(pandas.unique(Data.Animal))))\n",
    "# seaborn.despine(offset=10, trim=True, bottom=True)\n",
    "plt.savefig(os.path.join(OutputDir, 'entrance-ring-counts-normalized.png'))\n",
    "plt.show()"
   ]
  },
  {
   "cell_type": "code",
   "execution_count": 104,
   "metadata": {},
   "outputs": [
    {
     "data": {
      "image/png": "[encoded data removed]",
      "text/plain": [
       "<matplotlib.figure.Figure at 0xde4d4a8>"
      ]
     },
     "metadata": {},
     "output_type": "display_data"
    }
   ],
   "source": [
    "# Let's look at the counts from Eveline\n",
    "for c, d in enumerate(sorted(pandas.unique(Data.Day))):\n",
    "    plt.subplot(1, len(pandas.unique(Data.Day)), c + 1)\n",
    "    bxplt = seaborn.violinplot(data=Data.loc[Data.Day == d], x='Day', y='Counts_Eveline',\n",
    "                               hue='Animal',\n",
    "                               # Because the animals are preferentially sorted on the beamtime name, we have\n",
    "                               # to jump through the hoop below and sort the hues on the 'Animal' in addition\n",
    "                               # to what we did for Evelines counts where all the data is in *one* folder\n",
    "                               # Just comment the next line to see the difference (a correct plot, but ugly sort :)\n",
    "                               hue_order=sorted(pandas.unique(Data.loc[Data.Day == d]['Animal'])),\n",
    "                               palette=ourpalette, cut=0, inner='quartiles')\n",
    "    swrmplt = seaborn.stripplot(data=Data.loc[Data.Day == d], x='Day', y='Counts_Eveline', hue='Animal', jitter=True,\n",
    "                                hue_order=sorted(pandas.unique(Data.loc[Data.Day == d]['Animal'])),\n",
    "                                dodge=True, linewidth=1, palette=ourpalette, edgecolor='k', alpha=0.309)\n",
    "#     handles, labels = plt.gca().get_legend_handles_labels()\n",
    "#     bxplt.legend(handles[:len(handles) // 2], labels[:len(labels) // 2], loc='upper right')\n",
    "    plt.legend('')\n",
    "    ylog = False\n",
    "    if ylog:\n",
    "        plt.ylim([1e0, 1.5e3])\n",
    "#         plt.ylim([numpy.min(Data.Counts_Eveline.min()) * 0.9,\n",
    "#                   numpy.max(Data.Counts_Eveline.max()) * 1.1])\n",
    "        plt.gca().set_yscale('log')\n",
    "    else:\n",
    "        plt.ylim([0, 1.1 * Data.Counts_Eveline.max()])\n",
    "    plt.xticks(numpy.arange(-0.3, 0.6, 0.3), sorted(Data[Data.Day==d].Animal.unique()))\n",
    "    plt.xlabel('')\n",
    "    if c:\n",
    "        plt.ylabel('')\n",
    "        plt.gca().set_yticklabels([])\n",
    "    else:\n",
    "        if ylog:\n",
    "            plt.ylabel('Logarithmic entrance ring count')\n",
    "        else:\n",
    "            plt.ylabel('Entrance ring count')    \n",
    "plt.suptitle('Entrance ring counts\\n%s acini split over %s animals' % (len(Data),\n",
    "                                                                       len(pandas.unique(Data.Animal))))\n",
    "# seaborn.despine(offset=10, trim=True, bottom=True)\n",
    "if ylog:\n",
    "    plt.savefig(os.path.join(OutputDir, 'entrance-ring-counts-logarithmic.png'))\n",
    "else:\n",
    "    plt.savefig(os.path.join(OutputDir, 'entrance-ring-counts.png'))\n",
    "plt.show()"
   ]
  },
  {
   "cell_type": "code",
   "execution_count": 41,
   "metadata": {},
   "outputs": [
    {
     "name": "stdout",
     "output_type": "stream",
     "text": [
      "The entrance ring coung for\n",
      "\t- animal 04A (mean=27.0) are normally distributed (**** (p=1.16e-06))\n",
      "\t- animal 04B (mean=65.0) are normally distributed (** (p=0.00803))\n",
      "\t- animal 04C (mean=60.5) are normally distributed (**** (p=8.25e-07))\n",
      "\t- animal 10A (mean=77.9) are normally distributed (** (p=0.00415))\n",
      "\t- animal 10B (mean=84.6) are normally distributed (** (p=0.00411))\n",
      "\t- animal 10C (mean=108.8) are normally distributed (**** (p=3.73e-05))\n",
      "\t- animal 21B (mean=208.1) are normally distributed (** (p=0.00309))\n",
      "\t- animal 21D (mean=196.0) are non-normally distributed (not significant (p=0.101))\n",
      "\t- animal 21E (mean=323.1) are non-normally distributed (not significant (p=0.693))\n",
      "\t- animal 60B (mean=701.8) are non-normally distributed (not significant (p=0.474))\n",
      "\t- animal 60D (mean=668.3) are non-normally distributed (not significant (p=0.244))\n",
      "\t- animal 60E (mean=739.1) are non-normally distributed (not significant (p=0.602))\n"
     ]
    }
   ],
   "source": [
    "# Are the 'entrance ring counts' normally distributed?\n",
    "# Let's perform the Shapiro-Wilk test for normality.\n",
    "print('The entrance ring coung for')\n",
    "for animal in sorted(Data.Animal.unique()):\n",
    "    w, p_value = scipy.stats.shapiro(Data[Data.Animal == animal]['Counts_Eveline'])\n",
    "    if p_value < 1 / 100:\n",
    "        # Use the 'significance' function we defined at the start\n",
    "        print('\\t- animal %s (mean=%0.1f) are normally distributed (%s)' % (animal,\n",
    "                                                                            numpy.mean(Data[Data.Animal == animal]['Counts_Eveline']),\n",
    "                                                                            significance(p_value)))\n",
    "    else:\n",
    "        print('\\t- animal %s (mean=%0.1f) are non-normally distributed (%s)' % (animal,\n",
    "                                                                                numpy.mean(Data[Data.Animal == animal]['Counts_Eveline']),\n",
    "                                                                                significance(p_value)))"
   ]
  },
  {
   "cell_type": "code",
   "execution_count": 42,
   "metadata": {},
   "outputs": [
    {
     "name": "stdout",
     "output_type": "stream",
     "text": [
      "The counts per volume per animal are independent (**** (p=2.24e-34))\n"
     ]
    }
   ],
   "source": [
    "# Let's test if we can assume independent samples.\n",
    "# For this we compute the Kruskal-Wallis H-test for independent samples\n",
    "statisctic, p_value = scipy.stats.kruskal(Data[Data.Day == 4]['Counts_Eveline'],\n",
    "                                          Data[Data.Day == 10]['Counts_Eveline'],\n",
    "                                          Data[Data.Day == 21]['Counts_Eveline'],\n",
    "                                          Data[Data.Day == 60]['Counts_Eveline'])\n",
    "if p_value < 1 / 100:\n",
    "    print('The counts per volume per animal are independent (%s)' % significance(p_value))\n",
    "else:\n",
    "    print('We can *not* do what we do below :)')"
   ]
  },
  {
   "cell_type": "code",
   "execution_count": 43,
   "metadata": {},
   "outputs": [
    {
     "name": "stdout",
     "output_type": "stream",
     "text": [
      "The Šidák-corrected p-value for significance we use is 0.001674\n",
      "(Bonferroni-corrected, it would be 0.001667)\n"
     ]
    }
   ],
   "source": [
    "# Since we do multiple comparisons, we have to apply a correction to the p_value\n",
    "# The Bonferroni-correction is well knows, but the Šidák is mathematically more correct, even if it's slightly less stringent.\n",
    "# https://en.wikipedia.org/wiki/%C5%A0id%C3%A1k_correction\n",
    "# For x null hyptheses, we have a sidak-corrected p_value of p_sidak = 1-(1-p_value)^(1/x)\n",
    "sidak = 1 - (1 - 1 / 100) ** (1 / len(list(itertools.combinations([4, 10, 21, 60], 2))))\n",
    "print('The Šidák-corrected p-value for significance we use is %0.4g' % sidak)\n",
    "bonferroni = 1 / 100 / len(list(itertools.combinations([4, 10, 21, 60], 2)))\n",
    "print('(Bonferroni-corrected, it would be %0.4g)' % bonferroni)"
   ]
  },
  {
   "cell_type": "markdown",
   "metadata": {},
   "source": [
    "Since at least one sample is non-normally distributed (see above), we use an [U-test](https://en.wikipedia.org/wiki/Mann%E2%80%93Whitney_U_test) for assessing the differences.\n",
    "For this, we compute the two-sided Mann-Whitney rank test\n",
    "In theory we should also test the variance, but since we have a non-normal distribution, we anyways need an U-test."
   ]
  },
  {
   "cell_type": "code",
   "execution_count": 44,
   "metadata": {},
   "outputs": [
    {
     "name": "stdout",
     "output_type": "stream",
     "text": [
      "Testing combination 1: Day 4 versus day 10 (means: 48 vs. 89) is significant (**** (p=2.46e-05))\n",
      "Testing combination 2: Day 4 versus day 21 (means: 48 vs. 233) is significant (**** (p=2.84e-16))\n",
      "Testing combination 3: Day 4 versus day 60 (means: 48 vs. 702) is significant (**** (p=1.73e-22))\n",
      "Testing combination 4: Day 10 versus day 21 (means: 89 vs. 233) is significant (**** (p=7.25e-08))\n",
      "Testing combination 5: Day 10 versus day 60 (means: 89 vs. 702) is significant (**** (p=2.27e-17))\n",
      "Testing combination 6: Day 21 versus day 60 (means: 233 vs. 702) is significant (**** (p=6.68e-13))\n",
      "\n",
      "The worst p_value of all those is 2.46e-05\n"
     ]
    }
   ],
   "source": [
    "# Let's set ourselves up with an iterator to test all 6 possible combinations\n",
    "combinations = itertools.combinations([4, 10, 21, 60], 2)\n",
    "# We have six combinations\n",
    "worst_p = numpy.nan\n",
    "for c, combination in enumerate(combinations):\n",
    "    print('Testing combination %s:' % (c + 1), end=' ')\n",
    "    print('Day {0[0]} versus day {0[1]}'.format(combination), end=' ')\n",
    "    print('(means: %.f vs. %.f)' % (numpy.mean(Data[Data.Day == combination[0]]['Counts_Eveline']),\n",
    "                                    numpy.mean(Data[Data.Day == combination[1]]['Counts_Eveline'])), end=' ')\n",
    "    u, p_value = scipy.stats.mannwhitneyu(Data[Data.Day == combination[0]]['Counts_Eveline'],\n",
    "                                          Data[Data.Day == combination[1]]['Counts_Eveline'],\n",
    "                                          alternative='two-sided')\n",
    "    if p_value < sidak:\n",
    "        print('is significant (%s)' % significance(p_value))\n",
    "        worst_p = numpy.nanmax((worst_p, p_value))\n",
    "    else:\n",
    "        print('is *not* significant (%s)' % significance(p_value))\n",
    "print('\\nThe worst p_value of all those is %0.3g' % worst_p)"
   ]
  },
  {
   "cell_type": "markdown",
   "metadata": {},
   "source": [
    "----"
   ]
  },
  {
   "cell_type": "markdown",
   "metadata": {},
   "source": [
    "Let's look at the volume data (both MeVisLab and stereologically assessed)"
   ]
  },
  {
   "cell_type": "code",
   "execution_count": 45,
   "metadata": {},
   "outputs": [],
   "source": [
    "# In the original segmentation, we also include the ductal airspace.\n",
    "# We correct for this, so we use data from Stefan and Lilian (Tschanz2014, Table 1) for a correction below.\n",
    "DuctalToAlveolar = [0.133 / 0.486,\n",
    "                    0.230 / 0.880,\n",
    "                    0.594 / 1.910,\n",
    "                    # 0.973 / 3.956,\n",
    "                    1.292 / 5.645]"
   ]
  },
  {
   "cell_type": "code",
   "execution_count": 112,
   "metadata": {},
   "outputs": [
    {
     "name": "stdout",
     "output_type": "stream",
     "text": [
      "MeVisLab Volumes\n",
      "\n",
      "Day 04\n",
      "Mean count from Eveline: 47.85\n",
      "Mean volume per acinus (MeVisLab): 20766292.82 um^3\n",
      "Mean diameter of one acinus: 341.03 um\n",
      "Mean volume per alveolus: 433943.43 um^3\n",
      "Mean diameter of one alveolus: 93.93 um\n",
      "--------------------------------------------------------------------------------\n",
      "Day 10\n",
      "Mean count from Eveline: 88.53\n",
      "Mean volume per acinus (MeVisLab): 23326576.55 um^3\n",
      "Mean diameter of one acinus: 354.50 um\n",
      "Mean volume per alveolus: 263474.48 um^3\n",
      "Mean diameter of one alveolus: 79.54 um\n",
      "--------------------------------------------------------------------------------\n",
      "Day 21\n",
      "Mean count from Eveline: 233.33\n",
      "Mean volume per acinus (MeVisLab): 58282535.23 um^3\n",
      "Mean diameter of one acinus: 481.04 um\n",
      "Mean volume per alveolus: 249782.29 um^3\n",
      "Mean diameter of one alveolus: 78.14 um\n",
      "--------------------------------------------------------------------------------\n",
      "Day 60\n",
      "Mean count from Eveline: 701.79\n",
      "Mean volume per acinus (MeVisLab): 375346242.79 um^3\n",
      "Mean diameter of one acinus: 894.98 um\n",
      "Mean volume per alveolus: 534840.72 um^3\n",
      "Mean diameter of one alveolus: 100.71 um\n",
      "--------------------------------------------------------------------------------\n"
     ]
    }
   ],
   "source": [
    "print('MeVisLab Volumes\\n')\n",
    "# Give out alveolar volumes per day\n",
    "for c, day in enumerate(sorted(Data.Day.unique())):\n",
    "    print('Day %02d' % day)\n",
    "    cts = numpy.mean(Data.loc[Data.Day == day]['Counts_Eveline'])\n",
    "    print('Mean count from Eveline: %4.2f' % cts)\n",
    "    # Acinus volume (*including* Ductus...), converted  from mm^3  to um^3\n",
    "    # https://encrypted.google.com/search?hl=en&q=cubic%20millimeter%20to%20cubic%20micrometer\n",
    "    vol = numpy.mean(Data.loc[Data.Day == day]['Volume_Acinus_MeVisLab']) * 1e9\n",
    "    CorrectDuctal = False\n",
    "    if CorrectDuctal:\n",
    "        # Remove the ductal airspace, as assessed by Tschanz2014\n",
    "        vol = vol - (DuctalToAlveolar[c] * vol)\n",
    "    print('Mean volume per acinus (MeVisLab): %0.2f um^3' % vol)\n",
    "    # Acinus size\n",
    "    # Volume --> Radius\n",
    "    # v = 4/3 * pi * r^3\n",
    "    # r = ((3/4) * v / pi ) ^ 1/3\n",
    "    # r * 2 = diameter\n",
    "    print('Mean diameter of one acinus: %4.2f um' % (2 * (numpy.cbrt(3 / 4 * vol / numpy.pi))))\n",
    "    # Alveolus volume and size\n",
    "    print('Mean volume per alveolus: %0.2f um^3' % (vol / cts))\n",
    "    print('Mean diameter of one alveolus: %4.2f um' % (2 * (numpy.cbrt(3 / 4 * (vol / cts) / numpy.pi))))\n",
    "    print(80 * '-')\n",
    "# https://www.wolframalpha.com/input/?i=sphere+with+volume+of+2.11e%2B08+ul"
   ]
  },
  {
   "cell_type": "code",
   "execution_count": 128,
   "metadata": {},
   "outputs": [
    {
     "name": "stdout",
     "output_type": "stream",
     "text": [
      "Stepanizered Volumes\n",
      "\n",
      "Day 04\n",
      "Mean count from Eveline: 47.85\n",
      "Mean volume (STEPanizer): 32857313.87 um^3\n",
      "Mean diameter of one acinus: 397.38 um\n",
      "Mean volume per alveolus: 686603.80 um^3\n",
      "Mean diameter of one alveolus: 109.46 um\n",
      "--------------------------------------------------------------------------------\n",
      "Day 10\n",
      "Mean count from Eveline: 88.53\n",
      "Mean volume (STEPanizer): 40042854.92 um^3\n",
      "Mean diameter of one acinus: 424.47 um\n",
      "Mean volume per alveolus: 452285.41 um^3\n",
      "Mean diameter of one alveolus: 95.24 um\n",
      "--------------------------------------------------------------------------------\n",
      "Day 21\n",
      "Mean count from Eveline: 233.33\n",
      "Mean volume (STEPanizer): 103920275.29 um^3\n",
      "Mean diameter of one acinus: 583.31 um\n",
      "Mean volume per alveolus: 445372.61 um^3\n",
      "Mean diameter of one alveolus: 94.75 um\n",
      "--------------------------------------------------------------------------------\n",
      "Day 60\n",
      "Mean count from Eveline: 701.79\n",
      "Mean volume (STEPanizer): 739354555.29 um^3\n",
      "Mean diameter of one acinus: 1121.89 um\n",
      "Mean volume per alveolus: 1053525.73 um^3\n",
      "Mean diameter of one alveolus: 126.25 um\n",
      "--------------------------------------------------------------------------------\n"
     ]
    }
   ],
   "source": [
    "print('Stepanizered Volumes\\n')\n",
    "MeanAlveolareVolumeDavid = [None] * len(Data.Day.unique())\n",
    "# Give out alveolar volumes per day\n",
    "for c, day in enumerate(sorted(Data.Day.unique())):\n",
    "    print('Day %02d' % day)\n",
    "    cts = numpy.mean(Data.loc[Data.Day == day]['Counts_Eveline'])\n",
    "    print('Mean count from Eveline: %0.2f' % cts)\n",
    "    # Acinus Volume (*including* Ductus...), converted  from mm^3  to um^3\n",
    "    # https://encrypted.google.com/search?hl=en&q=cubic%20millimeter%20to%20cubic%20micrometer\n",
    "    vol = numpy.mean(Data.loc[Data.Day == day]['Volume_Acinus_STEPanizer']) * 1e9\n",
    "    CorrectDuctal = False\n",
    "    if CorrectDuctal:\n",
    "        # Remove the ductal airspace, as assessed by Tschanz2014\n",
    "        vol = vol - (DuctalToAlveolar[c] * vol)\n",
    "    print('Mean volume (STEPanizer): %0.2f um^3' % vol)\n",
    "    # Acinus size\n",
    "    # Volume --> Radius\n",
    "    # v = 4/3 * pi * r^3\n",
    "    # r = ((3/4) * v / pi ) ^ 1/3\n",
    "    # r * 2 = diameter\n",
    "    print('Mean diameter of one acinus: %0.2f um' % (2 * (numpy.cbrt(3 / 4 * vol / numpy.pi))))\n",
    "    # Alveolus volume and size\n",
    "    MeanAlveolareVolumeDavid[c] = vol / cts\n",
    "    print('Mean volume per alveolus: %0.2f um^3' % (MeanAlveolareVolumeDavid[c]))\n",
    "    print('Mean diameter of one alveolus: %0.2f um' % (2 * (numpy.cbrt(3 / 4 * (vol / cts) / numpy.pi))))\n",
    "    print(80 * '-')\n",
    "# https://www.wolframalpha.com/input/?i=sphere+with+volume+of+2.11e%2B08+ul"
   ]
  },
  {
   "cell_type": "code",
   "execution_count": 106,
   "metadata": {},
   "outputs": [
    {
     "data": {
      "image/png": "[encoded data removed]",
      "text/plain": [
       "<matplotlib.figure.Figure at 0xdb16358>"
      ]
     },
     "metadata": {},
     "output_type": "display_data"
    }
   ],
   "source": [
    "for c, d in enumerate(sorted(pandas.unique(Data.Day))):\n",
    "    plt.subplot(1, len(pandas.unique(Data.Day)), c + 1)\n",
    "    bxplt = seaborn.violinplot(data=Data.loc[Data.Day == d], x='Day', y='Volume_Acinus_MeVisLab',\n",
    "                               hue='Animal',\n",
    "                               hue_order=sorted(pandas.unique(Data.loc[Data.Day == d]['Animal'])),\n",
    "                               palette=ourpalette, cut=0, inner='quartiles')\n",
    "    swrmplt = seaborn.stripplot(data=Data.loc[Data.Day == d], x='Day', y='Volume_Acinus_MeVisLab', hue='Animal', jitter=True,\n",
    "                                hue_order=sorted(pandas.unique(Data.loc[Data.Day == d]['Animal'])),\n",
    "                                dodge=True, linewidth=1,\n",
    "                                palette=ourpalette,\n",
    "                                edgecolor='k', alpha=0.309)\n",
    "#     handles, labels = plt.gca().get_legend_handles_labels()\n",
    "#     bxplt.legend(handles[:len(handles) // 2], labels[:len(labels) // 2], loc='upper right')\n",
    "    plt.legend('')\n",
    "    ylog = False\n",
    "    if ylog:\n",
    "        plt.ylim([1e-3, 1e0])      \n",
    "#         plt.ylim([numpy.min(Data.Volume_Acinus_MeVisLab.min()) * 0.9,\n",
    "#                   numpy.max(Data.Volume_Acinus_MeVisLab.max()) * 1.1])\n",
    "        plt.gca().set_yscale('log')\n",
    "    else:\n",
    "        plt.ylim([0, 1.1 * Data.Volume_Acinus_MeVisLab.max()])\n",
    "    plt.xticks(numpy.arange(-0.3, 0.6, 0.3), sorted(Data[Data.Day==d].Animal.unique()))\n",
    "    plt.xlabel('')\n",
    "    if c:\n",
    "        plt.ylabel('')\n",
    "        plt.gca().set_yticklabels([])\n",
    "    else:\n",
    "        if ylog:\n",
    "            plt.ylabel('Logarithmic acinus volume [mm³]')\n",
    "        else:\n",
    "            plt.ylabel('Acinus volume [mm³]')\n",
    "plt.suptitle('Acinar volumes from automatic segmentation\\n%s acini split over %s animals' % (len(Data),\n",
    "                                                                                             len(pandas.unique(Data.Animal))))\n",
    "# seaborn.despine(offset=10, trim=True, bottom=True)\n",
    "if ylog:\n",
    "    plt.savefig(os.path.join(OutputDir, 'volumes-mevislab-logarithmic.png'))\n",
    "else:\n",
    "    plt.savefig(os.path.join(OutputDir, 'volumes-mevislab.png'))    \n",
    "plt.show()"
   ]
  },
  {
   "cell_type": "code",
   "execution_count": 49,
   "metadata": {},
   "outputs": [],
   "source": [
    "Data['Volume_Acinus_MeVisLab_normalized'] = numpy.nan\n",
    "for c, row in Data.iterrows():\n",
    "    Data.loc[c, 'Volume_Acinus_MeVisLab_normalized'] = row.Volume_Acinus_MeVisLab / numpy.nanmax(Data.loc[Data.Animal == row.Animal].Volume_Acinus_MeVisLab)"
   ]
  },
  {
   "cell_type": "code",
   "execution_count": 50,
   "metadata": {},
   "outputs": [
    {
     "data": {
      "image/png": "[encoded data removed]",
      "text/plain": [
       "<matplotlib.figure.Figure at 0xc19aa58>"
      ]
     },
     "metadata": {},
     "output_type": "display_data"
    }
   ],
   "source": [
    "for c, d in enumerate(sorted(pandas.unique(Data.Day))):\n",
    "    plt.subplot(1, len(pandas.unique(Data.Day)), c + 1)\n",
    "    bxplt = seaborn.violinplot(data=Data.loc[Data.Day == d], x='Day', y='Volume_Acinus_MeVisLab_normalized',\n",
    "                               hue='Animal',\n",
    "                               hue_order=sorted(pandas.unique(Data.loc[Data.Day == d]['Animal'])),\n",
    "                               palette=ourpalette, cut=0, inner='quartiles')\n",
    "    swrmplt = seaborn.stripplot(data=Data.loc[Data.Day == d], x='Day', y='Volume_Acinus_MeVisLab_normalized', hue='Animal', jitter=True,\n",
    "                                hue_order=sorted(pandas.unique(Data.loc[Data.Day == d]['Animal'])),\n",
    "                                dodge=True, linewidth=1,\n",
    "                                palette=ourpalette, edgecolor='k', alpha=0.309)\n",
    "#     handles, labels = plt.gca().get_legend_handles_labels()\n",
    "#     bxplt.legend(handles[:len(handles) // 2], labels[:len(labels) // 2], loc='upper right')\n",
    "    plt.legend('')\n",
    "    plt.ylim([0, 1.05])\n",
    "    plt.xlabel('')\n",
    "    plt.xticks(numpy.arange(-0.3, 0.6, 0.3), sorted(Data[Data.Day==d].Animal.unique()))\n",
    "    if c:\n",
    "        plt.ylabel('')\n",
    "        plt.gca().set_yticklabels([])\n",
    "    else:\n",
    "        plt.ylabel('Normalized acinus volume')\n",
    "plt.suptitle('Normalized dcinar volumes from automatic segmentation\\n%s acini split over %s animals' % (len(Data),\n",
    "                                                                                                        len(pandas.unique(Data.Animal))))\n",
    "# seaborn.despine(offset=10, trim=True, bottom=True)\n",
    "plt.savefig(os.path.join(OutputDir, 'volumes-mevislab-normalized.png'))\n",
    "plt.show()"
   ]
  },
  {
   "cell_type": "markdown",
   "metadata": {},
   "source": [
    "----"
   ]
  },
  {
   "cell_type": "markdown",
   "metadata": {},
   "source": [
    "Describe the STEPanizered volumes"
   ]
  },
  {
   "cell_type": "code",
   "execution_count": 51,
   "metadata": {},
   "outputs": [
    {
     "data": {
      "text/html": [
       "<div>\n",
       "<style scoped>\n",
       "    .dataframe tbody tr th:only-of-type {\n",
       "        vertical-align: middle;\n",
       "    }\n",
       "\n",
       "    .dataframe tbody tr th {\n",
       "        vertical-align: top;\n",
       "    }\n",
       "\n",
       "    .dataframe thead th {\n",
       "        text-align: right;\n",
       "    }\n",
       "</style>\n",
       "<table border=\"1\" class=\"dataframe\">\n",
       "  <thead>\n",
       "    <tr style=\"text-align: right;\">\n",
       "      <th></th>\n",
       "      <th>count</th>\n",
       "      <th>mean</th>\n",
       "      <th>std</th>\n",
       "      <th>min</th>\n",
       "      <th>25%</th>\n",
       "      <th>50%</th>\n",
       "      <th>75%</th>\n",
       "      <th>max</th>\n",
       "    </tr>\n",
       "    <tr>\n",
       "      <th>Day</th>\n",
       "      <th></th>\n",
       "      <th></th>\n",
       "      <th></th>\n",
       "      <th></th>\n",
       "      <th></th>\n",
       "      <th></th>\n",
       "      <th></th>\n",
       "      <th></th>\n",
       "    </tr>\n",
       "  </thead>\n",
       "  <tbody>\n",
       "    <tr>\n",
       "      <th>4</th>\n",
       "      <td>124.0</td>\n",
       "      <td>0.032857</td>\n",
       "      <td>0.041436</td>\n",
       "      <td>0.001628</td>\n",
       "      <td>0.007769</td>\n",
       "      <td>0.017752</td>\n",
       "      <td>0.041741</td>\n",
       "      <td>0.274707</td>\n",
       "    </tr>\n",
       "    <tr>\n",
       "      <th>10</th>\n",
       "      <td>58.0</td>\n",
       "      <td>0.040043</td>\n",
       "      <td>0.051252</td>\n",
       "      <td>0.002140</td>\n",
       "      <td>0.010600</td>\n",
       "      <td>0.024436</td>\n",
       "      <td>0.044755</td>\n",
       "      <td>0.333254</td>\n",
       "    </tr>\n",
       "    <tr>\n",
       "      <th>21</th>\n",
       "      <td>42.0</td>\n",
       "      <td>0.103920</td>\n",
       "      <td>0.093100</td>\n",
       "      <td>0.011432</td>\n",
       "      <td>0.036389</td>\n",
       "      <td>0.067926</td>\n",
       "      <td>0.167827</td>\n",
       "      <td>0.380460</td>\n",
       "    </tr>\n",
       "    <tr>\n",
       "      <th>60</th>\n",
       "      <td>43.0</td>\n",
       "      <td>0.739355</td>\n",
       "      <td>0.369607</td>\n",
       "      <td>0.185877</td>\n",
       "      <td>0.442245</td>\n",
       "      <td>0.692757</td>\n",
       "      <td>0.942985</td>\n",
       "      <td>1.874612</td>\n",
       "    </tr>\n",
       "  </tbody>\n",
       "</table>\n",
       "</div>"
      ],
      "text/plain": [
       "     count      mean       std       min       25%       50%       75%  \\\n",
       "Day                                                                      \n",
       "4    124.0  0.032857  0.041436  0.001628  0.007769  0.017752  0.041741   \n",
       "10    58.0  0.040043  0.051252  0.002140  0.010600  0.024436  0.044755   \n",
       "21    42.0  0.103920  0.093100  0.011432  0.036389  0.067926  0.167827   \n",
       "60    43.0  0.739355  0.369607  0.185877  0.442245  0.692757  0.942985   \n",
       "\n",
       "          max  \n",
       "Day            \n",
       "4    0.274707  \n",
       "10   0.333254  \n",
       "21   0.380460  \n",
       "60   1.874612  "
      ]
     },
     "execution_count": 51,
     "metadata": {},
     "output_type": "execute_result"
    }
   ],
   "source": [
    "# Describe the volumes per day\n",
    "Data.groupby(by=['Day'])['Volume_Acinus_STEPanizer'].describe()"
   ]
  },
  {
   "cell_type": "code",
   "execution_count": 52,
   "metadata": {},
   "outputs": [
    {
     "name": "stdout",
     "output_type": "stream",
     "text": [
      "The mean acinus volume\n",
      "\t- for 124 acini at day 4 is 0.033 mm^3 (STD=0.041)\n",
      "\t- for 58 acini at day 10 is 0.040 mm^3 (STD=0.051)\n",
      "\t- for 42 acini at day 21 is 0.104 mm^3 (STD=0.093)\n",
      "\t- for 43 acini at day 60 is 0.739 mm^3 (STD=0.370)\n"
     ]
    }
   ],
   "source": [
    "# Describe the volumes per day (for Authorea copy-pasting)\n",
    "print('The mean acinus volume')\n",
    "for day in sorted(Data.Day.unique()):\n",
    "    print('\\t- for %s acini at day %s is %0.3f mm^3 (STD=%.3f)' % (len(Data[Data.Day == day]['Volume_Acinus_STEPanizer']),\n",
    "                                                                   day,\n",
    "                                                                   Data[Data.Day == day]['Volume_Acinus_STEPanizer'].mean(),\n",
    "                                                                   Data[Data.Day == day]['Volume_Acinus_STEPanizer'].std()))"
   ]
  },
  {
   "cell_type": "code",
   "execution_count": 53,
   "metadata": {},
   "outputs": [
    {
     "data": {
      "text/html": [
       "<div>\n",
       "<style scoped>\n",
       "    .dataframe tbody tr th:only-of-type {\n",
       "        vertical-align: middle;\n",
       "    }\n",
       "\n",
       "    .dataframe tbody tr th {\n",
       "        vertical-align: top;\n",
       "    }\n",
       "\n",
       "    .dataframe thead th {\n",
       "        text-align: right;\n",
       "    }\n",
       "</style>\n",
       "<table border=\"1\" class=\"dataframe\">\n",
       "  <thead>\n",
       "    <tr style=\"text-align: right;\">\n",
       "      <th></th>\n",
       "      <th></th>\n",
       "      <th>count</th>\n",
       "      <th>mean</th>\n",
       "      <th>std</th>\n",
       "      <th>min</th>\n",
       "      <th>25%</th>\n",
       "      <th>50%</th>\n",
       "      <th>75%</th>\n",
       "      <th>max</th>\n",
       "    </tr>\n",
       "    <tr>\n",
       "      <th>Day</th>\n",
       "      <th>Animal</th>\n",
       "      <th></th>\n",
       "      <th></th>\n",
       "      <th></th>\n",
       "      <th></th>\n",
       "      <th></th>\n",
       "      <th></th>\n",
       "      <th></th>\n",
       "      <th></th>\n",
       "    </tr>\n",
       "  </thead>\n",
       "  <tbody>\n",
       "    <tr>\n",
       "      <th rowspan=\"3\" valign=\"top\">4</th>\n",
       "      <th>04A</th>\n",
       "      <td>50.0</td>\n",
       "      <td>0.009375</td>\n",
       "      <td>0.008536</td>\n",
       "      <td>0.001628</td>\n",
       "      <td>0.003524</td>\n",
       "      <td>0.005583</td>\n",
       "      <td>0.012407</td>\n",
       "      <td>0.034906</td>\n",
       "    </tr>\n",
       "    <tr>\n",
       "      <th>04B</th>\n",
       "      <td>23.0</td>\n",
       "      <td>0.058097</td>\n",
       "      <td>0.052507</td>\n",
       "      <td>0.008413</td>\n",
       "      <td>0.027847</td>\n",
       "      <td>0.040765</td>\n",
       "      <td>0.058280</td>\n",
       "      <td>0.194415</td>\n",
       "    </tr>\n",
       "    <tr>\n",
       "      <th>04C</th>\n",
       "      <td>51.0</td>\n",
       "      <td>0.044496</td>\n",
       "      <td>0.044234</td>\n",
       "      <td>0.005535</td>\n",
       "      <td>0.016766</td>\n",
       "      <td>0.034275</td>\n",
       "      <td>0.057462</td>\n",
       "      <td>0.274707</td>\n",
       "    </tr>\n",
       "    <tr>\n",
       "      <th rowspan=\"3\" valign=\"top\">10</th>\n",
       "      <th>10A</th>\n",
       "      <td>27.0</td>\n",
       "      <td>0.033345</td>\n",
       "      <td>0.025892</td>\n",
       "      <td>0.003583</td>\n",
       "      <td>0.011191</td>\n",
       "      <td>0.035619</td>\n",
       "      <td>0.042508</td>\n",
       "      <td>0.107684</td>\n",
       "    </tr>\n",
       "    <tr>\n",
       "      <th>10B</th>\n",
       "      <td>14.0</td>\n",
       "      <td>0.032617</td>\n",
       "      <td>0.029625</td>\n",
       "      <td>0.004242</td>\n",
       "      <td>0.011577</td>\n",
       "      <td>0.020870</td>\n",
       "      <td>0.042937</td>\n",
       "      <td>0.096283</td>\n",
       "    </tr>\n",
       "    <tr>\n",
       "      <th>10C</th>\n",
       "      <td>17.0</td>\n",
       "      <td>0.056795</td>\n",
       "      <td>0.084458</td>\n",
       "      <td>0.002140</td>\n",
       "      <td>0.012026</td>\n",
       "      <td>0.026002</td>\n",
       "      <td>0.060925</td>\n",
       "      <td>0.333254</td>\n",
       "    </tr>\n",
       "    <tr>\n",
       "      <th rowspan=\"3\" valign=\"top\">21</th>\n",
       "      <th>21B</th>\n",
       "      <td>14.0</td>\n",
       "      <td>0.087002</td>\n",
       "      <td>0.086453</td>\n",
       "      <td>0.011432</td>\n",
       "      <td>0.027035</td>\n",
       "      <td>0.055999</td>\n",
       "      <td>0.124669</td>\n",
       "      <td>0.321820</td>\n",
       "    </tr>\n",
       "    <tr>\n",
       "      <th>21D</th>\n",
       "      <td>17.0</td>\n",
       "      <td>0.108524</td>\n",
       "      <td>0.111635</td>\n",
       "      <td>0.014476</td>\n",
       "      <td>0.036162</td>\n",
       "      <td>0.053481</td>\n",
       "      <td>0.172666</td>\n",
       "      <td>0.380460</td>\n",
       "    </tr>\n",
       "    <tr>\n",
       "      <th>21E</th>\n",
       "      <td>11.0</td>\n",
       "      <td>0.118337</td>\n",
       "      <td>0.072218</td>\n",
       "      <td>0.024664</td>\n",
       "      <td>0.061703</td>\n",
       "      <td>0.093533</td>\n",
       "      <td>0.179054</td>\n",
       "      <td>0.238156</td>\n",
       "    </tr>\n",
       "    <tr>\n",
       "      <th rowspan=\"3\" valign=\"top\">60</th>\n",
       "      <th>60B</th>\n",
       "      <td>24.0</td>\n",
       "      <td>0.588268</td>\n",
       "      <td>0.222719</td>\n",
       "      <td>0.225961</td>\n",
       "      <td>0.415072</td>\n",
       "      <td>0.548137</td>\n",
       "      <td>0.741917</td>\n",
       "      <td>1.103739</td>\n",
       "    </tr>\n",
       "    <tr>\n",
       "      <th>60D</th>\n",
       "      <td>10.0</td>\n",
       "      <td>0.888499</td>\n",
       "      <td>0.350353</td>\n",
       "      <td>0.363500</td>\n",
       "      <td>0.658514</td>\n",
       "      <td>0.850991</td>\n",
       "      <td>1.096984</td>\n",
       "      <td>1.575762</td>\n",
       "    </tr>\n",
       "    <tr>\n",
       "      <th>60E</th>\n",
       "      <td>9.0</td>\n",
       "      <td>0.976536</td>\n",
       "      <td>0.526236</td>\n",
       "      <td>0.185877</td>\n",
       "      <td>0.627343</td>\n",
       "      <td>1.205916</td>\n",
       "      <td>1.230092</td>\n",
       "      <td>1.874612</td>\n",
       "    </tr>\n",
       "  </tbody>\n",
       "</table>\n",
       "</div>"
      ],
      "text/plain": [
       "            count      mean       std       min       25%       50%       75%  \\\n",
       "Day Animal                                                                      \n",
       "4   04A      50.0  0.009375  0.008536  0.001628  0.003524  0.005583  0.012407   \n",
       "    04B      23.0  0.058097  0.052507  0.008413  0.027847  0.040765  0.058280   \n",
       "    04C      51.0  0.044496  0.044234  0.005535  0.016766  0.034275  0.057462   \n",
       "10  10A      27.0  0.033345  0.025892  0.003583  0.011191  0.035619  0.042508   \n",
       "    10B      14.0  0.032617  0.029625  0.004242  0.011577  0.020870  0.042937   \n",
       "    10C      17.0  0.056795  0.084458  0.002140  0.012026  0.026002  0.060925   \n",
       "21  21B      14.0  0.087002  0.086453  0.011432  0.027035  0.055999  0.124669   \n",
       "    21D      17.0  0.108524  0.111635  0.014476  0.036162  0.053481  0.172666   \n",
       "    21E      11.0  0.118337  0.072218  0.024664  0.061703  0.093533  0.179054   \n",
       "60  60B      24.0  0.588268  0.222719  0.225961  0.415072  0.548137  0.741917   \n",
       "    60D      10.0  0.888499  0.350353  0.363500  0.658514  0.850991  1.096984   \n",
       "    60E       9.0  0.976536  0.526236  0.185877  0.627343  1.205916  1.230092   \n",
       "\n",
       "                 max  \n",
       "Day Animal            \n",
       "4   04A     0.034906  \n",
       "    04B     0.194415  \n",
       "    04C     0.274707  \n",
       "10  10A     0.107684  \n",
       "    10B     0.096283  \n",
       "    10C     0.333254  \n",
       "21  21B     0.321820  \n",
       "    21D     0.380460  \n",
       "    21E     0.238156  \n",
       "60  60B     1.103739  \n",
       "    60D     1.575762  \n",
       "    60E     1.874612  "
      ]
     },
     "execution_count": 53,
     "metadata": {},
     "output_type": "execute_result"
    }
   ],
   "source": [
    "# Describe the volumes per day and animal\n",
    "Data.groupby(by=['Day', 'Animal'])['Volume_Acinus_STEPanizer'].describe()"
   ]
  },
  {
   "cell_type": "code",
   "execution_count": 54,
   "metadata": {},
   "outputs": [
    {
     "name": "stdout",
     "output_type": "stream",
     "text": [
      "The coefficients of variation\n",
      "\t- for the volumes on day 4 is 1.256\n",
      "\t- for the volumes on day 10 is 1.269\n",
      "\t- for the volumes on day 21 is 0.885\n",
      "\t- for the volumes on day 60 is 0.494\n"
     ]
    }
   ],
   "source": [
    "print('The coefficients of variation')\n",
    "for day in sorted(Data.Day.unique()):\n",
    "    print('\\t- for the volumes on day %s is %0.3f' % (day, scipy.stats.variation(Data[Data.Day == day]['Volume_Acinus_STEPanizer'])))"
   ]
  },
  {
   "cell_type": "code",
   "execution_count": 55,
   "metadata": {},
   "outputs": [
    {
     "name": "stdout",
     "output_type": "stream",
     "text": [
      "At day 4 we analyzed 124 acini\n",
      "The mean volumne for the 25 (20.0 %) smallest volumes is 3.48e-03 ul\n",
      "The mean for the 25 largest volumes is 9.48e-02 ul\n",
      "This is a 27.26 times increase\n",
      "The mean volume of the 20.0 % (25) smallest (3.48e-03 ul) to the largest (3.48e-03 ul) volumes at day 4 increases 27.26 times\n",
      "--------------------------------------------------------------------------------\n",
      "At day 10 we analyzed 58 acini\n",
      "The mean volumne for the 12 (20.0 %) smallest volumes is 7.08e-03 ul\n",
      "The mean for the 12 largest volumes is 1.08e-01 ul\n",
      "This is a 15.28 times increase\n",
      "The mean volume of the 20.0 % (12) smallest (7.08e-03 ul) to the largest (7.08e-03 ul) volumes at day 10 increases 15.28 times\n",
      "--------------------------------------------------------------------------------\n",
      "At day 21 we analyzed 42 acini\n",
      "The mean volumne for the 8 (20.0 %) smallest volumes is 1.79e-02 ul\n",
      "The mean for the 8 largest volumes is 2.57e-01 ul\n",
      "This is a 14.42 times increase\n",
      "The mean volume of the 20.0 % (8) smallest (1.79e-02 ul) to the largest (1.79e-02 ul) volumes at day 21 increases 14.42 times\n",
      "--------------------------------------------------------------------------------\n",
      "At day 60 we analyzed 43 acini\n",
      "The mean volumne for the 9 (20.0 %) smallest volumes is 3.31e-01 ul\n",
      "The mean for the 9 largest volumes is 1.30e+00 ul\n",
      "This is a 3.94 times increase\n",
      "The mean volume of the 20.0 % (9) smallest (3.31e-01 ul) to the largest (3.31e-01 ul) volumes at day 60 increases 3.94 times\n",
      "--------------------------------------------------------------------------------\n"
     ]
    }
   ],
   "source": [
    "for day in sorted(Data.Day.unique()):\n",
    "    print('At day %s' % day, end=' ')\n",
    "    # Get number of volumes for this day\n",
    "    num = len(Data[Data.Day == day]['Volume_Acinus_STEPanizer'])\n",
    "    print('we analyzed %s acini' % num)\n",
    "    # Get 20% of the smallest and biggest values\n",
    "    fraction = 0.2\n",
    "    howmany = round(num * fraction)\n",
    "    mean_smallest = Data[Data.Day == day]['Volume_Acinus_STEPanizer'].nsmallest(howmany).mean()\n",
    "    print('The mean volumne for the %s (%s %%) smallest volumes is %0.2e ul' % (howmany, fraction * 100, mean_smallest))\n",
    "    mean_largest = Data[Data.Day == day]['Volume_Acinus_STEPanizer'].nlargest(howmany).mean()\n",
    "    print('The mean for the %s largest volumes is %0.2e ul' % (howmany, mean_largest))    \n",
    "    print('This is a %0.2f times increase' % (mean_largest / mean_smallest))\n",
    "    print('The mean volume of the %s %% (%s) smallest (%0.2e ul) to the largest (%0.2e ul) volumes at day %s increases %0.2f times' % (fraction * 100,\n",
    "                                                                                                                                       howmany,\n",
    "                                                                                                                                       mean_smallest,\n",
    "                                                                                                                                       mean_smallest,\n",
    "                                                                                                                                       day,\n",
    "                                                                                                                                       (mean_largest / mean_smallest)))\n",
    "    print(80*'-')"
   ]
  },
  {
   "cell_type": "code",
   "execution_count": 56,
   "metadata": {
    "scrolled": true
   },
   "outputs": [
    {
     "name": "stdout",
     "output_type": "stream",
     "text": [
      "\n",
      "Saved the volume data to Output\\bd7908f\\authorea_volumes.csv\n"
     ]
    }
   ],
   "source": [
    "# Save the counts per animal to CSV (for an Authorea table)\n",
    "outfile = 'authorea_volumes.csv'\n",
    "out = Data.groupby(by=['Day', 'Animal'])['Volume_Acinus_STEPanizer'].describe()[['count', 'mean', 'std', 'min', 'max']]\n",
    "out.to_csv(os.path.join(OutputDir, outfile), float_format='%0.2e')\n",
    "print('\\nSaved the volume data to', os.path.join(OutputDir, outfile))"
   ]
  },
  {
   "cell_type": "code",
   "execution_count": 108,
   "metadata": {},
   "outputs": [
    {
     "data": {
      "image/png": "[encoded data removed]",
      "text/plain": [
       "<matplotlib.figure.Figure at 0xd6adb70>"
      ]
     },
     "metadata": {},
     "output_type": "display_data"
    }
   ],
   "source": [
    "for c, d in enumerate(sorted(pandas.unique(Data.Day))):\n",
    "    plt.subplot(1, len(pandas.unique(Data.Day)), c + 1)\n",
    "    bxplt = seaborn.violinplot(data=Data.loc[Data.Day == d], x='Day', y='Volume_Acinus_STEPanizer',\n",
    "                               hue='Animal',\n",
    "                               hue_order=sorted(pandas.unique(Data.loc[Data.Day == d]['Animal'])),\n",
    "                               palette=ourpalette, cut=0, inner='quartiles')\n",
    "    swrmplt = seaborn.stripplot(data=Data.loc[Data.Day == d], x='Day', y='Volume_Acinus_STEPanizer', hue='Animal', jitter=True,\n",
    "                                hue_order=sorted(pandas.unique(Data.loc[Data.Day == d]['Animal'])),\n",
    "                                dodge=True, linewidth=1,\n",
    "                                palette=ourpalette, edgecolor='k', alpha=0.309)\n",
    "#     handles, labels = plt.gca().get_legend_handles_labels()\n",
    "#     bxplt.legend(handles[:len(handles) // 2], labels[:len(labels) // 2], loc='upper right')\n",
    "    plt.legend('')\n",
    "    ylog = False\n",
    "    if ylog:\n",
    "        plt.ylim([1e-3, 0.3e1])\n",
    "#         plt.ylim([numpy.min(Data.Volume_Acinus_STEPanizer.min()) * 0.9,\n",
    "#                   numpy.max(Data.Volume_Acinus_STEPanizer.max()) * 1.1])\n",
    "        plt.gca().set_yscale('log')\n",
    "    else:\n",
    "        plt.ylim([0, 1.1 * Data.Volume_Acinus_STEPanizer.max()])\n",
    "    plt.xticks(numpy.arange(-0.3, 0.6, 0.3), sorted(Data[Data.Day==d].Animal.unique()))\n",
    "    plt.xlabel('')\n",
    "    if c:\n",
    "        plt.ylabel('')\n",
    "        plt.gca().set_yticklabels([])\n",
    "    else:\n",
    "        if ylog:\n",
    "            plt.ylabel('Logarithmic acinus volume [mm³]')\n",
    "        else:\n",
    "            plt.ylabel('Acinus volume [mm³]')\n",
    "plt.suptitle('Acinar volumes from stereological assessment\\n%s acini split over %s animals' % (len(Data),\n",
    "                                                                                               len(pandas.unique(Data.Animal))))\n",
    "# seaborn.despine(offset=10, trim=True, bottom=True)\n",
    "if ylog:\n",
    "    plt.savefig(os.path.join(OutputDir, 'volumes-disector-logarithmic.png'))\n",
    "else:\n",
    "    plt.savefig(os.path.join(OutputDir, 'volumes-disector.png'))\n",
    "plt.show()"
   ]
  },
  {
   "cell_type": "code",
   "execution_count": 58,
   "metadata": {},
   "outputs": [],
   "source": [
    "Data['Volume_Acinus_STEPanizer_normalized'] = numpy.nan\n",
    "for c, row in Data.iterrows():\n",
    "    Data.loc[c, 'Volume_Acinus_STEPanizer_normalized'] = row.Volume_Acinus_STEPanizer / numpy.nanmax(Data.loc[Data.Animal == row.Animal].Volume_Acinus_STEPanizer)"
   ]
  },
  {
   "cell_type": "code",
   "execution_count": 59,
   "metadata": {},
   "outputs": [
    {
     "data": {
      "image/png": "[encoded data removed]",
      "text/plain": [
       "<matplotlib.figure.Figure at 0xdb211d0>"
      ]
     },
     "metadata": {},
     "output_type": "display_data"
    }
   ],
   "source": [
    "for c, d in enumerate(sorted(pandas.unique(Data.Day))):\n",
    "    plt.subplot(1, len(pandas.unique(Data.Day)), c + 1)\n",
    "    bxplt = seaborn.violinplot(data=Data.loc[Data.Day == d], x='Day', y='Volume_Acinus_STEPanizer_normalized',\n",
    "                               hue='Animal',\n",
    "                               hue_order=sorted(pandas.unique(Data.loc[Data.Day == d]['Animal'])),\n",
    "                               palette=ourpalette, cut=0, inner='quartiles')\n",
    "    swrmplt = seaborn.stripplot(data=Data.loc[Data.Day == d], x='Day', y='Volume_Acinus_STEPanizer_normalized', hue='Animal', jitter=True,\n",
    "                                hue_order=sorted(pandas.unique(Data.loc[Data.Day == d]['Animal'])),\n",
    "                                dodge=True, linewidth=1,\n",
    "                                palette=ourpalette, edgecolor='k', alpha=0.309)\n",
    "#     handles, labels = plt.gca().get_legend_handles_labels()\n",
    "#     bxplt.legend(handles[:len(handles) // 2], labels[:len(labels) // 2], loc='upper right')\n",
    "    plt.legend('')\n",
    "    plt.ylim([0, 1.05])\n",
    "    plt.xticks(numpy.arange(-0.3, 0.6, 0.3), sorted(Data[Data.Day==d].Animal.unique()))\n",
    "    plt.xlabel('')\n",
    "    if c:\n",
    "        plt.ylabel('')\n",
    "        plt.gca().set_yticklabels([])\n",
    "    else:\n",
    "        plt.ylabel('Normalized acinus volume')\n",
    "plt.suptitle('Normalized acinar volumes from stereological assessment\\n%s acini split over %s animals' % (len(Data),\n",
    "                                                                                                          len(pandas.unique(Data.Animal))))\n",
    "# seaborn.despine(offset=10, trim=True, bottom=True)\n",
    "plt.savefig(os.path.join(OutputDir, 'volumes-disector-normalized.png'))\n",
    "plt.show()"
   ]
  },
  {
   "cell_type": "code",
   "execution_count": 60,
   "metadata": {},
   "outputs": [
    {
     "name": "stdout",
     "output_type": "stream",
     "text": [
      "The acinar volumes for\n",
      "\t- animal 04A (mean=0.009) are normally distributed (**** (p=7.21e-07))\n",
      "\t- animal 04B (mean=0.058) are normally distributed (*** (p=0.000191))\n",
      "\t- animal 04C (mean=0.044) are normally distributed (**** (p=5.34e-09))\n",
      "\t- animal 10A (mean=0.033) are normally distributed (** (p=0.00527))\n",
      "\t- animal 10B (mean=0.033) are normally distributed (* (p=0.0111))\n",
      "\t- animal 10C (mean=0.057) are normally distributed (**** (p=1.44e-05))\n",
      "\t- animal 21B (mean=0.087) are normally distributed (** (p=0.00723))\n",
      "\t- animal 21D (mean=0.109) are normally distributed (** (p=0.0016))\n",
      "\t- animal 21E (mean=0.118) are non-normally distributed (not significant (p=0.43))\n",
      "\t- animal 60B (mean=0.588) are non-normally distributed (not significant (p=0.549))\n",
      "\t- animal 60D (mean=0.888) are non-normally distributed (not significant (p=0.845))\n",
      "\t- animal 60E (mean=0.977) are non-normally distributed (not significant (p=0.658))\n"
     ]
    }
   ],
   "source": [
    "# Are the volumes normally distributed?\n",
    "# Let's perform the Shapiro-Wilk test for normality.\n",
    "print('The acinar volumes for')\n",
    "for animal in sorted(Data.Animal.unique()):\n",
    "    w, p_value = scipy.stats.shapiro(Data[Data.Animal == animal]['Volume_Acinus_STEPanizer'])\n",
    "    if p_value < 5 / 100:\n",
    "        # Use the 'significance' function we defined at the start\n",
    "        print('\\t- animal %s (mean=%0.3f) are normally distributed (%s)' % (animal,\n",
    "                                                                            numpy.mean(Data[Data.Animal == animal]['Volume_Acinus_STEPanizer']),\n",
    "                                                                            significance(p_value)))\n",
    "    else:\n",
    "        print('\\t- animal %s (mean=%0.3f) are non-normally distributed (%s)' % (animal,\n",
    "                                                                                numpy.mean(Data[Data.Animal == animal]['Volume_Acinus_STEPanizer']),\n",
    "                                                                                significance(p_value)))"
   ]
  },
  {
   "cell_type": "code",
   "execution_count": 61,
   "metadata": {},
   "outputs": [
    {
     "name": "stdout",
     "output_type": "stream",
     "text": [
      "The volumes per animal are independent (**** (p=6.37e-29))\n"
     ]
    }
   ],
   "source": [
    "# Let's test if we can assume independent samples.\n",
    "# For this we compute the Kruskal-Wallis H-test for independent samples\n",
    "statisctic, p_value = scipy.stats.kruskal(Data[Data.Day == 4]['Volume_Acinus_STEPanizer'],\n",
    "                                          Data[Data.Day == 10]['Volume_Acinus_STEPanizer'],\n",
    "                                          Data[Data.Day == 21]['Volume_Acinus_STEPanizer'],\n",
    "                                          Data[Data.Day == 60]['Volume_Acinus_STEPanizer'])\n",
    "if p_value < 1 / 100:\n",
    "    print('The volumes per animal are independent (%s)' % significance(p_value))\n",
    "else:\n",
    "    print('We can *not* do what we do below :)')"
   ]
  },
  {
   "cell_type": "code",
   "execution_count": 62,
   "metadata": {},
   "outputs": [
    {
     "name": "stdout",
     "output_type": "stream",
     "text": [
      "Testing combination 1: Day 4 versus day 10 (means: 0.033 vs. 0.040) is *not* significant (not significant (p=0.0917))\n",
      "Testing combination 2: Day 4 versus day 21 (means: 0.033 vs. 0.104) is significant (**** (p=1.6e-09))\n",
      "Testing combination 3: Day 4 versus day 60 (means: 0.033 vs. 0.739) is significant (**** (p=1.94e-22))\n",
      "Testing combination 4: Day 10 versus day 21 (means: 0.040 vs. 0.104) is significant (**** (p=4.54e-06))\n",
      "Testing combination 5: Day 10 versus day 60 (means: 0.040 vs. 0.739) is significant (**** (p=1.42e-17))\n",
      "Testing combination 6: Day 21 versus day 60 (means: 0.104 vs. 0.739) is significant (**** (p=7.06e-15))\n",
      "\n",
      "The worst p_value of all those is 4.54e-06\n"
     ]
    }
   ],
   "source": [
    "# Let's set ourselves up with an iterator to test all 6 possible combinations\n",
    "combinations = itertools.combinations([4, 10, 21, 60], 2)\n",
    "# We have six combinations\n",
    "worst_p = numpy.nan\n",
    "for c, combination in enumerate(combinations):\n",
    "    print('Testing combination %s:' % (c + 1), end=' ')\n",
    "    print('Day {0[0]} versus day {0[1]}'.format(combination), end=' ')\n",
    "    print('(means: %0.3f vs. %0.3f)' % (numpy.mean(Data[Data.Day == combination[0]]['Volume_Acinus_STEPanizer']),\n",
    "                                        numpy.mean(Data[Data.Day == combination[1]]['Volume_Acinus_STEPanizer'])), end=' ')\n",
    "    u, p_value = scipy.stats.mannwhitneyu(Data[Data.Day == combination[0]]['Volume_Acinus_STEPanizer'],\n",
    "                                          Data[Data.Day == combination[1]]['Volume_Acinus_STEPanizer'],\n",
    "                                          alternative='two-sided')\n",
    "    if p_value < sidak:\n",
    "        print('is significant (%s)' % significance(p_value))\n",
    "        worst_p = numpy.nanmax((worst_p, p_value))\n",
    "    else:\n",
    "        print('is *not* significant (%s)' % significance(p_value))\n",
    "print('\\nThe worst p_value of all those is %0.3g' % worst_p)"
   ]
  },
  {
   "cell_type": "code",
   "execution_count": 63,
   "metadata": {},
   "outputs": [],
   "source": [
    "# Did we count a different amount of images?\n",
    "Data['ImageCountDifference'] = Data['Number of images_David'] - Data['Number of images_Eveline']"
   ]
  },
  {
   "cell_type": "code",
   "execution_count": 64,
   "metadata": {},
   "outputs": [
    {
     "data": {
      "text/html": [
       "<div>\n",
       "<style scoped>\n",
       "    .dataframe tbody tr th:only-of-type {\n",
       "        vertical-align: middle;\n",
       "    }\n",
       "\n",
       "    .dataframe tbody tr th {\n",
       "        vertical-align: top;\n",
       "    }\n",
       "\n",
       "    .dataframe thead th {\n",
       "        text-align: right;\n",
       "    }\n",
       "</style>\n",
       "<table border=\"1\" class=\"dataframe\">\n",
       "  <thead>\n",
       "    <tr style=\"text-align: right;\">\n",
       "      <th></th>\n",
       "      <th>Location_David</th>\n",
       "      <th>Sample</th>\n",
       "      <th>Animal</th>\n",
       "      <th>Acinus</th>\n",
       "      <th>ImageCountDifference</th>\n",
       "    </tr>\n",
       "  </thead>\n",
       "  <tbody>\n",
       "    <tr>\n",
       "      <th>69</th>\n",
       "      <td>F:/Acini\\2010a\\mrg\\R108C04Bt-mrg\\acinus03\\voxe...</td>\n",
       "      <td>R108C04Bt-mrg</td>\n",
       "      <td>04B</td>\n",
       "      <td>3</td>\n",
       "      <td>34</td>\n",
       "    </tr>\n",
       "    <tr>\n",
       "      <th>92</th>\n",
       "      <td>F:/Acini\\2010a\\mrg\\R108C04Ct-mrg\\acinus00\\voxe...</td>\n",
       "      <td>R108C04Ct-mrg</td>\n",
       "      <td>04C</td>\n",
       "      <td>0</td>\n",
       "      <td>1</td>\n",
       "    </tr>\n",
       "    <tr>\n",
       "      <th>145</th>\n",
       "      <td>F:/Acini\\2010a\\mrg\\R108C10At-mrg\\acinus09\\voxe...</td>\n",
       "      <td>R108C10At-mrg</td>\n",
       "      <td>10A</td>\n",
       "      <td>9</td>\n",
       "      <td>1</td>\n",
       "    </tr>\n",
       "    <tr>\n",
       "      <th>182</th>\n",
       "      <td>F:/Acini\\2010a\\mrg\\R108C10Bt-mrg\\acinus41\\voxe...</td>\n",
       "      <td>R108C10Bt-mrg</td>\n",
       "      <td>10B</td>\n",
       "      <td>41</td>\n",
       "      <td>0</td>\n",
       "    </tr>\n",
       "    <tr>\n",
       "      <th>181</th>\n",
       "      <td>F:/Acini\\2010a\\mrg\\R108C10Bt-mrg\\acinus39\\voxe...</td>\n",
       "      <td>R108C10Bt-mrg</td>\n",
       "      <td>10B</td>\n",
       "      <td>39</td>\n",
       "      <td>0</td>\n",
       "    </tr>\n",
       "  </tbody>\n",
       "</table>\n",
       "</div>"
      ],
      "text/plain": [
       "                                        Location_David         Sample Animal  \\\n",
       "69   F:/Acini\\2010a\\mrg\\R108C04Bt-mrg\\acinus03\\voxe...  R108C04Bt-mrg    04B   \n",
       "92   F:/Acini\\2010a\\mrg\\R108C04Ct-mrg\\acinus00\\voxe...  R108C04Ct-mrg    04C   \n",
       "145  F:/Acini\\2010a\\mrg\\R108C10At-mrg\\acinus09\\voxe...  R108C10At-mrg    10A   \n",
       "182  F:/Acini\\2010a\\mrg\\R108C10Bt-mrg\\acinus41\\voxe...  R108C10Bt-mrg    10B   \n",
       "181  F:/Acini\\2010a\\mrg\\R108C10Bt-mrg\\acinus39\\voxe...  R108C10Bt-mrg    10B   \n",
       "\n",
       "     Acinus  ImageCountDifference  \n",
       "69        3                    34  \n",
       "92        0                     1  \n",
       "145       9                     1  \n",
       "182      41                     0  \n",
       "181      39                     0  "
      ]
     },
     "execution_count": 64,
     "metadata": {},
     "output_type": "execute_result"
    }
   ],
   "source": [
    "# For which samples did we assess a different amount of images?\n",
    "Data.sort_values('ImageCountDifference', ascending=False)[['Location_David',\n",
    "                                                           'Sample',\n",
    "                                                           'Animal',\n",
    "                                                           'Acinus',\n",
    "                                                           'ImageCountDifference']].head(n=5)\n",
    "# The differences we see are not a problem."
   ]
  },
  {
   "cell_type": "code",
   "execution_count": 65,
   "metadata": {},
   "outputs": [],
   "source": [
    "# Calculate the counts per volume, e.g. complexity\n",
    "Data['Counts per Volume'] = Data['Counts_Eveline'] / Data['Volume_Acinus_STEPanizer']\n",
    "Data['Counts per MeVisLab Volume'] = Data['Counts_Eveline'] / Data['Volume_Acinus_MeVisLab']"
   ]
  },
  {
   "cell_type": "code",
   "execution_count": 66,
   "metadata": {},
   "outputs": [
    {
     "data": {
      "text/html": [
       "<div>\n",
       "<style scoped>\n",
       "    .dataframe tbody tr th:only-of-type {\n",
       "        vertical-align: middle;\n",
       "    }\n",
       "\n",
       "    .dataframe tbody tr th {\n",
       "        vertical-align: top;\n",
       "    }\n",
       "\n",
       "    .dataframe thead th {\n",
       "        text-align: right;\n",
       "    }\n",
       "</style>\n",
       "<table border=\"1\" class=\"dataframe\">\n",
       "  <thead>\n",
       "    <tr style=\"text-align: right;\">\n",
       "      <th></th>\n",
       "      <th>count</th>\n",
       "      <th>mean</th>\n",
       "      <th>std</th>\n",
       "      <th>min</th>\n",
       "      <th>25%</th>\n",
       "      <th>50%</th>\n",
       "      <th>75%</th>\n",
       "      <th>max</th>\n",
       "    </tr>\n",
       "    <tr>\n",
       "      <th>Day</th>\n",
       "      <th></th>\n",
       "      <th></th>\n",
       "      <th></th>\n",
       "      <th></th>\n",
       "      <th></th>\n",
       "      <th></th>\n",
       "      <th></th>\n",
       "      <th></th>\n",
       "    </tr>\n",
       "  </thead>\n",
       "  <tbody>\n",
       "    <tr>\n",
       "      <th>4</th>\n",
       "      <td>124.0</td>\n",
       "      <td>2164.895615</td>\n",
       "      <td>1136.775511</td>\n",
       "      <td>678.961448</td>\n",
       "      <td>1410.085659</td>\n",
       "      <td>1795.898418</td>\n",
       "      <td>2758.971787</td>\n",
       "      <td>8207.959673</td>\n",
       "    </tr>\n",
       "    <tr>\n",
       "      <th>10</th>\n",
       "      <td>58.0</td>\n",
       "      <td>2830.640799</td>\n",
       "      <td>1189.019157</td>\n",
       "      <td>1181.785918</td>\n",
       "      <td>1920.950508</td>\n",
       "      <td>2769.122565</td>\n",
       "      <td>3256.873014</td>\n",
       "      <td>7008.595691</td>\n",
       "    </tr>\n",
       "    <tr>\n",
       "      <th>21</th>\n",
       "      <td>42.0</td>\n",
       "      <td>2723.198300</td>\n",
       "      <td>771.305338</td>\n",
       "      <td>1111.117439</td>\n",
       "      <td>2284.693190</td>\n",
       "      <td>2692.637517</td>\n",
       "      <td>3344.555730</td>\n",
       "      <td>4378.894457</td>\n",
       "    </tr>\n",
       "    <tr>\n",
       "      <th>60</th>\n",
       "      <td>43.0</td>\n",
       "      <td>1080.210260</td>\n",
       "      <td>348.574108</td>\n",
       "      <td>410.751566</td>\n",
       "      <td>854.755205</td>\n",
       "      <td>1140.371571</td>\n",
       "      <td>1312.085637</td>\n",
       "      <td>1911.835328</td>\n",
       "    </tr>\n",
       "  </tbody>\n",
       "</table>\n",
       "</div>"
      ],
      "text/plain": [
       "     count         mean          std          min          25%          50%  \\\n",
       "Day                                                                           \n",
       "4    124.0  2164.895615  1136.775511   678.961448  1410.085659  1795.898418   \n",
       "10    58.0  2830.640799  1189.019157  1181.785918  1920.950508  2769.122565   \n",
       "21    42.0  2723.198300   771.305338  1111.117439  2284.693190  2692.637517   \n",
       "60    43.0  1080.210260   348.574108   410.751566   854.755205  1140.371571   \n",
       "\n",
       "             75%          max  \n",
       "Day                            \n",
       "4    2758.971787  8207.959673  \n",
       "10   3256.873014  7008.595691  \n",
       "21   3344.555730  4378.894457  \n",
       "60   1312.085637  1911.835328  "
      ]
     },
     "execution_count": 66,
     "metadata": {},
     "output_type": "execute_result"
    }
   ],
   "source": [
    "# Describe the counts per volume per day\n",
    "Data.groupby(by=['Day'])['Counts per Volume'].describe()"
   ]
  },
  {
   "cell_type": "code",
   "execution_count": 67,
   "metadata": {},
   "outputs": [
    {
     "name": "stdout",
     "output_type": "stream",
     "text": [
      "The mean counts per acinus volume\n",
      "\t- for 124 acini at day 4 is 2164.90 (STD=1136.78)\n",
      "\t- for 58 acini at day 10 is 2830.64 (STD=1189.02)\n",
      "\t- for 42 acini at day 21 is 2723.20 (STD=771.31)\n",
      "\t- for 43 acini at day 60 is 1080.21 (STD=348.57)\n"
     ]
    }
   ],
   "source": [
    "# Describe the counts per volume per day (for Authorea copy-pasting)\n",
    "print('The mean counts per acinus volume')\n",
    "for day in sorted(Data.Day.unique()):\n",
    "    print('\\t- for %s acini at day %s is %.2f (STD=%.2f)' % (len(Data[Data.Day == day]['Counts per Volume']),\n",
    "                                                             day,\n",
    "                                                             Data[Data.Day == day]['Counts per Volume'].mean(),\n",
    "                                                             Data[Data.Day == day]['Counts per Volume'].std()))"
   ]
  },
  {
   "cell_type": "code",
   "execution_count": 68,
   "metadata": {},
   "outputs": [
    {
     "data": {
      "text/html": [
       "<div>\n",
       "<style scoped>\n",
       "    .dataframe tbody tr th:only-of-type {\n",
       "        vertical-align: middle;\n",
       "    }\n",
       "\n",
       "    .dataframe tbody tr th {\n",
       "        vertical-align: top;\n",
       "    }\n",
       "\n",
       "    .dataframe thead th {\n",
       "        text-align: right;\n",
       "    }\n",
       "</style>\n",
       "<table border=\"1\" class=\"dataframe\">\n",
       "  <thead>\n",
       "    <tr style=\"text-align: right;\">\n",
       "      <th></th>\n",
       "      <th></th>\n",
       "      <th>count</th>\n",
       "      <th>mean</th>\n",
       "      <th>std</th>\n",
       "      <th>min</th>\n",
       "      <th>25%</th>\n",
       "      <th>50%</th>\n",
       "      <th>75%</th>\n",
       "      <th>max</th>\n",
       "    </tr>\n",
       "    <tr>\n",
       "      <th>Day</th>\n",
       "      <th>Animal</th>\n",
       "      <th></th>\n",
       "      <th></th>\n",
       "      <th></th>\n",
       "      <th></th>\n",
       "      <th></th>\n",
       "      <th></th>\n",
       "      <th></th>\n",
       "      <th></th>\n",
       "    </tr>\n",
       "  </thead>\n",
       "  <tbody>\n",
       "    <tr>\n",
       "      <th rowspan=\"3\" valign=\"top\">4</th>\n",
       "      <th>04A</th>\n",
       "      <td>50.0</td>\n",
       "      <td>3141.639434</td>\n",
       "      <td>1157.477507</td>\n",
       "      <td>1618.263724</td>\n",
       "      <td>2446.711968</td>\n",
       "      <td>2902.417067</td>\n",
       "      <td>3456.481696</td>\n",
       "      <td>8207.959673</td>\n",
       "    </tr>\n",
       "    <tr>\n",
       "      <th>04B</th>\n",
       "      <td>23.0</td>\n",
       "      <td>1362.822048</td>\n",
       "      <td>498.667791</td>\n",
       "      <td>678.961448</td>\n",
       "      <td>991.685921</td>\n",
       "      <td>1378.069257</td>\n",
       "      <td>1629.099824</td>\n",
       "      <td>2703.996396</td>\n",
       "    </tr>\n",
       "    <tr>\n",
       "      <th>04C</th>\n",
       "      <td>51.0</td>\n",
       "      <td>1569.023086</td>\n",
       "      <td>380.079457</td>\n",
       "      <td>798.678886</td>\n",
       "      <td>1347.069366</td>\n",
       "      <td>1478.986845</td>\n",
       "      <td>1763.478848</td>\n",
       "      <td>2775.184692</td>\n",
       "    </tr>\n",
       "    <tr>\n",
       "      <th rowspan=\"3\" valign=\"top\">10</th>\n",
       "      <th>10A</th>\n",
       "      <td>27.0</td>\n",
       "      <td>2684.637136</td>\n",
       "      <td>1022.342064</td>\n",
       "      <td>1245.773851</td>\n",
       "      <td>1937.091488</td>\n",
       "      <td>2688.632795</td>\n",
       "      <td>3288.483584</td>\n",
       "      <td>5582.475038</td>\n",
       "    </tr>\n",
       "    <tr>\n",
       "      <th>10B</th>\n",
       "      <td>14.0</td>\n",
       "      <td>3091.354081</td>\n",
       "      <td>1166.179380</td>\n",
       "      <td>1890.270735</td>\n",
       "      <td>2240.418821</td>\n",
       "      <td>2871.516045</td>\n",
       "      <td>3256.873014</td>\n",
       "      <td>5421.764235</td>\n",
       "    </tr>\n",
       "    <tr>\n",
       "      <th>10C</th>\n",
       "      <td>17.0</td>\n",
       "      <td>2847.823913</td>\n",
       "      <td>1461.978142</td>\n",
       "      <td>1181.785918</td>\n",
       "      <td>1839.277266</td>\n",
       "      <td>2725.642968</td>\n",
       "      <td>3203.337348</td>\n",
       "      <td>7008.595691</td>\n",
       "    </tr>\n",
       "    <tr>\n",
       "      <th rowspan=\"3\" valign=\"top\">21</th>\n",
       "      <th>21B</th>\n",
       "      <td>14.0</td>\n",
       "      <td>2642.261979</td>\n",
       "      <td>492.661133</td>\n",
       "      <td>1625.244472</td>\n",
       "      <td>2307.914661</td>\n",
       "      <td>2601.059324</td>\n",
       "      <td>3040.240350</td>\n",
       "      <td>3343.542704</td>\n",
       "    </tr>\n",
       "    <tr>\n",
       "      <th>21D</th>\n",
       "      <td>17.0</td>\n",
       "      <td>2533.749621</td>\n",
       "      <td>894.549550</td>\n",
       "      <td>1111.117439</td>\n",
       "      <td>1770.745457</td>\n",
       "      <td>2458.017149</td>\n",
       "      <td>3376.118158</td>\n",
       "      <td>4031.519612</td>\n",
       "    </tr>\n",
       "    <tr>\n",
       "      <th>21E</th>\n",
       "      <td>11.0</td>\n",
       "      <td>3118.992485</td>\n",
       "      <td>775.084187</td>\n",
       "      <td>1603.988347</td>\n",
       "      <td>2692.637517</td>\n",
       "      <td>3186.032441</td>\n",
       "      <td>3542.307161</td>\n",
       "      <td>4378.894457</td>\n",
       "    </tr>\n",
       "    <tr>\n",
       "      <th rowspan=\"3\" valign=\"top\">60</th>\n",
       "      <th>60B</th>\n",
       "      <td>24.0</td>\n",
       "      <td>1249.374244</td>\n",
       "      <td>297.433016</td>\n",
       "      <td>530.408221</td>\n",
       "      <td>1119.462525</td>\n",
       "      <td>1269.880108</td>\n",
       "      <td>1342.379163</td>\n",
       "      <td>1911.835328</td>\n",
       "    </tr>\n",
       "    <tr>\n",
       "      <th>60D</th>\n",
       "      <td>10.0</td>\n",
       "      <td>837.760326</td>\n",
       "      <td>270.907225</td>\n",
       "      <td>475.960304</td>\n",
       "      <td>646.917682</td>\n",
       "      <td>794.353855</td>\n",
       "      <td>1099.757802</td>\n",
       "      <td>1221.456779</td>\n",
       "    </tr>\n",
       "    <tr>\n",
       "      <th>60E</th>\n",
       "      <td>9.0</td>\n",
       "      <td>898.495121</td>\n",
       "      <td>323.288257</td>\n",
       "      <td>410.751566</td>\n",
       "      <td>611.982786</td>\n",
       "      <td>985.600045</td>\n",
       "      <td>1020.175923</td>\n",
       "      <td>1463.330082</td>\n",
       "    </tr>\n",
       "  </tbody>\n",
       "</table>\n",
       "</div>"
      ],
      "text/plain": [
       "            count         mean          std          min          25%  \\\n",
       "Day Animal                                                              \n",
       "4   04A      50.0  3141.639434  1157.477507  1618.263724  2446.711968   \n",
       "    04B      23.0  1362.822048   498.667791   678.961448   991.685921   \n",
       "    04C      51.0  1569.023086   380.079457   798.678886  1347.069366   \n",
       "10  10A      27.0  2684.637136  1022.342064  1245.773851  1937.091488   \n",
       "    10B      14.0  3091.354081  1166.179380  1890.270735  2240.418821   \n",
       "    10C      17.0  2847.823913  1461.978142  1181.785918  1839.277266   \n",
       "21  21B      14.0  2642.261979   492.661133  1625.244472  2307.914661   \n",
       "    21D      17.0  2533.749621   894.549550  1111.117439  1770.745457   \n",
       "    21E      11.0  3118.992485   775.084187  1603.988347  2692.637517   \n",
       "60  60B      24.0  1249.374244   297.433016   530.408221  1119.462525   \n",
       "    60D      10.0   837.760326   270.907225   475.960304   646.917682   \n",
       "    60E       9.0   898.495121   323.288257   410.751566   611.982786   \n",
       "\n",
       "                    50%          75%          max  \n",
       "Day Animal                                         \n",
       "4   04A     2902.417067  3456.481696  8207.959673  \n",
       "    04B     1378.069257  1629.099824  2703.996396  \n",
       "    04C     1478.986845  1763.478848  2775.184692  \n",
       "10  10A     2688.632795  3288.483584  5582.475038  \n",
       "    10B     2871.516045  3256.873014  5421.764235  \n",
       "    10C     2725.642968  3203.337348  7008.595691  \n",
       "21  21B     2601.059324  3040.240350  3343.542704  \n",
       "    21D     2458.017149  3376.118158  4031.519612  \n",
       "    21E     3186.032441  3542.307161  4378.894457  \n",
       "60  60B     1269.880108  1342.379163  1911.835328  \n",
       "    60D      794.353855  1099.757802  1221.456779  \n",
       "    60E      985.600045  1020.175923  1463.330082  "
      ]
     },
     "execution_count": 68,
     "metadata": {},
     "output_type": "execute_result"
    }
   ],
   "source": [
    "# Describe the volumes per day and animal\n",
    "Data.groupby(by=['Day', 'Animal'])['Counts per Volume'].describe()"
   ]
  },
  {
   "cell_type": "code",
   "execution_count": 69,
   "metadata": {
    "scrolled": true
   },
   "outputs": [
    {
     "name": "stdout",
     "output_type": "stream",
     "text": [
      "\n",
      "Saved counts per volume to Output\\bd7908f\\authorea_counts_per_volume.csv\n"
     ]
    }
   ],
   "source": [
    "# Save the counts per animal to CSV (for an Authorea table)\n",
    "outfile = 'authorea_counts_per_volume.csv'\n",
    "out = Data.groupby(by=['Day', 'Animal'])['Counts per Volume'].describe()[['count', 'mean', 'std', 'min', 'max']]\n",
    "out.to_csv(os.path.join(OutputDir, outfile), float_format='%0.2e')\n",
    "print('\\nSaved counts per volume to', os.path.join(OutputDir, outfile))"
   ]
  },
  {
   "cell_type": "code",
   "execution_count": 110,
   "metadata": {
    "scrolled": false
   },
   "outputs": [
    {
     "data": {
      "image/png": "[encoded data removed]",
      "text/plain": [
       "<matplotlib.figure.Figure at 0xdbfff28>"
      ]
     },
     "metadata": {},
     "output_type": "display_data"
    }
   ],
   "source": [
    "for c, d in enumerate(sorted(pandas.unique(Data.Day))):\n",
    "    plt.subplot(1, len(pandas.unique(Data.Day)), c + 1)\n",
    "    bxplt = seaborn.violinplot(data=Data.loc[Data.Day == d], x='Day', y='Counts per Volume',\n",
    "                               hue='Animal',\n",
    "                               hue_order=sorted(pandas.unique(Data.loc[Data.Day == d]['Animal'])),\n",
    "                               palette=ourpalette, cut=0, inner='quartiles')\n",
    "    swrmplt = seaborn.stripplot(data=Data.loc[Data.Day == d], x='Day', y='Counts per Volume',\n",
    "                                hue='Animal', jitter=True,\n",
    "                                hue_order=sorted(pandas.unique(Data.loc[Data.Day == d]['Animal'])),\n",
    "                                dodge=True, linewidth=1, palette=ourpalette, edgecolor='k', alpha=0.309)    \n",
    "#     handles, labels = plt.gca().get_legend_handles_labels()\n",
    "#     bxplt.legend(handles[:len(handles) // 2], labels[:len(labels) // 2], loc='upper right')\n",
    "    plt.legend('')\n",
    "    ylog = False\n",
    "    if ylog:\n",
    "        plt.gca().set_yscale('log')        \n",
    "        plt.ylim([3.5e2, 1e4])\n",
    "#         plt.ylim([numpy.min(Data['Counts per Volume'].min()) * 0.9,\n",
    "#                   numpy.max(Data['Counts per Volume'].max()) * 1.1])\n",
    "    else:\n",
    "        plt.ylim([0, 1.1 * Data['Counts per Volume'].max()])\n",
    "    plt.xticks(numpy.arange(-0.3, 0.6, 0.3), sorted(Data[Data.Day==d].Animal.unique()))\n",
    "    plt.xlabel('')\n",
    "    if c:\n",
    "        plt.ylabel('')\n",
    "        plt.gca().set_yticklabels([])\n",
    "    else:\n",
    "        if ylog:\n",
    "            plt.ylabel('Logarithmic alveoli per acinus')\n",
    "        else:\n",
    "            plt.ylabel('Alveoli per acinus')\n",
    "plt.suptitle('Entrance ring counts per acinus volume\\n%s acini split over %s animals' % (len(Data),\n",
    "                                                                                         len(pandas.unique(Data.Animal))))\n",
    "# seaborn.despine(offset=10, trim=True, bottom=True)\n",
    "if ylog:\n",
    "    plt.savefig(os.path.join(OutputDir, 'counts_per_volume-logarithmic.png'))\n",
    "else:\n",
    "    plt.savefig(os.path.join(OutputDir, 'counts_per_volume.png'))\n",
    "plt.show()"
   ]
  },
  {
   "cell_type": "code",
   "execution_count": 71,
   "metadata": {},
   "outputs": [],
   "source": [
    "Data['Counts per Volume normalized'] = numpy.nan\n",
    "for c, row in Data.iterrows():\n",
    "    Data.loc[c, 'Counts per Volume normalized'] = row['Counts per Volume'] / numpy.nanmax(Data.loc[Data.Animal == row.Animal]['Counts per Volume'])"
   ]
  },
  {
   "cell_type": "code",
   "execution_count": 72,
   "metadata": {},
   "outputs": [
    {
     "data": {
      "image/png": "[encoded data removed]",
      "text/plain": [
       "<matplotlib.figure.Figure at 0xdb21c88>"
      ]
     },
     "metadata": {},
     "output_type": "display_data"
    }
   ],
   "source": [
    "for c, d in enumerate(sorted(pandas.unique(Data.Day))):\n",
    "    plt.subplot(1, len(pandas.unique(Data.Day)), c + 1)\n",
    "    bxplt = seaborn.violinplot(data=Data.loc[Data.Day == d], x='Day', y='Counts per Volume normalized',\n",
    "                               hue='Animal',\n",
    "                               hue_order=sorted(pandas.unique(Data.loc[Data.Day == d]['Animal'])),\n",
    "                               palette=ourpalette, cut=0, inner='quartiles')\n",
    "    swrmplt = seaborn.stripplot(data=Data.loc[Data.Day == d], x='Day', y='Counts per Volume normalized', hue='Animal', jitter=True,\n",
    "                                hue_order=sorted(pandas.unique(Data.loc[Data.Day == d]['Animal'])),\n",
    "                                dodge=True, linewidth=1,\n",
    "                                palette=ourpalette, edgecolor='k', alpha=0.309)\n",
    "#     handles, labels = plt.gca().get_legend_handles_labels()\n",
    "#     bxplt.legend(handles[:len(handles) // 2], labels[:len(labels) // 2], loc='upper right')\n",
    "    plt.legend('')\n",
    "    plt.ylim([0, 1.05])\n",
    "    plt.xticks(numpy.arange(-0.3, 0.6, 0.3), sorted(Data[Data.Day==d].Animal.unique()))\n",
    "    plt.xlabel('')\n",
    "    if c:\n",
    "        plt.ylabel('')\n",
    "        plt.gca().set_yticklabels([])\n",
    "    else:\n",
    "        plt.ylabel('Normalized counts per volume')\n",
    "plt.suptitle('Normalized entrance ring counts per acinus volume\\n%s acini split over %s animals' % (len(Data),\n",
    "                                                                                                    len(pandas.unique(Data.Animal))))\n",
    "# seaborn.despine(offset=10, trim=True, bottom=True)\n",
    "plt.savefig(os.path.join(OutputDir, 'counts_per_volume-normalized.png'))\n",
    "plt.show()"
   ]
  },
  {
   "cell_type": "code",
   "execution_count": 73,
   "metadata": {},
   "outputs": [
    {
     "name": "stdout",
     "output_type": "stream",
     "text": [
      "The counts per volume for\n",
      "\t- animal 04A (mean=3141.6) are normally distributed (**** (p=5.23e-06))\n",
      "\t- animal 04B (mean=1362.8) are non-normally distributed (not significant (p=0.17))\n",
      "\t- animal 04C (mean=1569.0) are non-normally distributed (* (p=0.0153))\n",
      "\t- animal 10A (mean=2684.6) are non-normally distributed (* (p=0.0404))\n",
      "\t- animal 10B (mean=3091.4) are non-normally distributed (* (p=0.0256))\n",
      "\t- animal 10C (mean=2847.8) are non-normally distributed (* (p=0.0142))\n",
      "\t- animal 21B (mean=2642.3) are non-normally distributed (not significant (p=0.725))\n",
      "\t- animal 21D (mean=2533.7) are non-normally distributed (not significant (p=0.346))\n",
      "\t- animal 21E (mean=3119.0) are non-normally distributed (not significant (p=0.96))\n",
      "\t- animal 60B (mean=1249.4) are non-normally distributed (not significant (p=0.665))\n",
      "\t- animal 60D (mean=837.8) are non-normally distributed (not significant (p=0.343))\n",
      "\t- animal 60E (mean=898.5) are non-normally distributed (not significant (p=0.882))\n"
     ]
    }
   ],
   "source": [
    "# Are the 'counts' per volume normally distributed?\n",
    "# Let's perform the Shapiro-Wilk test for normality.\n",
    "print('The counts per volume for')\n",
    "for animal in sorted(Data.Animal.unique()):\n",
    "    w, p_value = scipy.stats.shapiro(Data[Data.Animal == animal]['Counts per Volume'])\n",
    "    if p_value < 1 / 100:\n",
    "        # Use the 'significance' function we defined at the start\n",
    "        print('\\t- animal %s (mean=%0.1f) are normally distributed (%s)' % (animal,\n",
    "                                                                            numpy.mean(Data[Data.Animal == animal]['Counts per Volume']),\n",
    "                                                                            significance(p_value)))\n",
    "    else:\n",
    "        print('\\t- animal %s (mean=%0.1f) are non-normally distributed (%s)' % (animal,\n",
    "                                                                                numpy.mean(Data[Data.Animal == animal]['Counts per Volume']),\n",
    "                                                                                significance(p_value)))"
   ]
  },
  {
   "cell_type": "code",
   "execution_count": 74,
   "metadata": {},
   "outputs": [
    {
     "name": "stdout",
     "output_type": "stream",
     "text": [
      "The counts per volume per animal are independent (**** (p=3.18e-21))\n"
     ]
    }
   ],
   "source": [
    "# Let's test if we can assume independent samples.\n",
    "# For this we compute the Kruskal-Wallis H-test for independent samples\n",
    "statisctic, p_value = scipy.stats.kruskal(Data[Data.Day == 4]['Counts per Volume'],\n",
    "                                          Data[Data.Day == 10]['Counts per Volume'],\n",
    "                                          Data[Data.Day == 21]['Counts per Volume'],\n",
    "                                          Data[Data.Day == 60]['Counts per Volume'])\n",
    "if p_value < 1 / 100:\n",
    "    print('The counts per volume per animal are independent (%s)' % significance(p_value))\n",
    "else:\n",
    "    print('We can *not* do what we do below :)')"
   ]
  },
  {
   "cell_type": "code",
   "execution_count": 75,
   "metadata": {},
   "outputs": [
    {
     "name": "stdout",
     "output_type": "stream",
     "text": [
      "Testing combination 1: Day 4 versus day 10 (means: 2165 vs. 2831) is significant (**** (p=2.11e-05))\n",
      "Testing combination 2: Day 4 versus day 21 (means: 2165 vs. 2723) is significant (**** (p=5.36e-05))\n",
      "Testing combination 3: Day 4 versus day 60 (means: 2165 vs. 1080) is significant (**** (p=2.88e-13))\n",
      "Testing combination 4: Day 10 versus day 21 (means: 2831 vs. 2723) is *not* significant (not significant (p=0.703))\n",
      "Testing combination 5: Day 10 versus day 60 (means: 2831 vs. 1080) is significant (**** (p=2.92e-16))\n",
      "Testing combination 6: Day 21 versus day 60 (means: 2723 vs. 1080) is significant (**** (p=7.18e-14))\n",
      "\n",
      "The worst p_value of all those is 5.36e-05\n"
     ]
    }
   ],
   "source": [
    "# Let's set ourselves up with an iterator to test all 6 possible combinations\n",
    "combinations = itertools.combinations([4, 10, 21, 60], 2)\n",
    "# We have six combinations\n",
    "worst_p = numpy.nan\n",
    "for c, combination in enumerate(combinations):\n",
    "    print('Testing combination %s:' % (c + 1), end=' ')\n",
    "    print('Day {0[0]} versus day {0[1]}'.format(combination), end=' ')\n",
    "    print('(means: %.f vs. %.f)' % (numpy.mean(Data[Data.Day == combination[0]]['Counts per Volume']),\n",
    "                                    numpy.mean(Data[Data.Day == combination[1]]['Counts per Volume'])), end=' ')\n",
    "    u, p_value = scipy.stats.mannwhitneyu(Data[Data.Day == combination[0]]['Counts per Volume'],\n",
    "                                          Data[Data.Day == combination[1]]['Counts per Volume'],\n",
    "                                          alternative='two-sided')\n",
    "    if p_value < sidak:\n",
    "        print('is significant (%s)' % significance(p_value))\n",
    "        worst_p = numpy.nanmax((worst_p, p_value))\n",
    "    else:\n",
    "        print('is *not* significant (%s)' % significance(p_value))\n",
    "print('\\nThe worst p_value of all those is %0.3g' % worst_p)"
   ]
  },
  {
   "cell_type": "code",
   "execution_count": 76,
   "metadata": {
    "scrolled": false
   },
   "outputs": [],
   "source": [
    "# for c, d in enumerate(sorted(pandas.unique(Data.Day))):\n",
    "#     plt.subplot(1, len(pandas.unique(Data.Day)), c + 1)\n",
    "#     bxplt = seaborn.violinplot(data=Data.loc[Data.Day == d], x='Day', y='Counts per MeVisLab Volume',\n",
    "#                                hue='Animal',\n",
    "#                                hue_order=sorted(pandas.unique(Data.loc[Data.Day == d]['Animal'])),\n",
    "#                                    palette=ourpalette, cut=0, inner='quartiles')\n",
    "#     swrmplt = seaborn.stripplot(data=Data.loc[Data.Day == d], x='Day', y='Counts per MeVisLab Volume',\n",
    "#                                 hue='Animal', jitter=True,\n",
    "#                                 hue_order=sorted(pandas.unique(Data.loc[Data.Day == d]['Animal'])),\n",
    "#                                 split=True, linewidth=1, palette=ourpalette, edgecolor='k', alpha=0.309)\n",
    "#     handles, labels = plt.gca().get_legend_handles_labels()\n",
    "#     plt.ylim([0, 1.1 * Data['Counts per MeVisLab Volume'].max()])\n",
    "#     bxplt.legend(handles[:len(handles) // 2], labels[:len(labels) // 2])\n",
    "# plt.suptitle('Eveline-Counts per MeVislLab volume, based on %s assessed acini' % len(Data))\n",
    "# plt.savefig(os.path.join(OutputDir, 'counts_per_mevislab_volume.pdf'))\n",
    "# plt.show()"
   ]
  },
  {
   "cell_type": "code",
   "execution_count": 77,
   "metadata": {},
   "outputs": [
    {
     "data": {
      "text/html": [
       "<div>\n",
       "<style scoped>\n",
       "    .dataframe tbody tr th:only-of-type {\n",
       "        vertical-align: middle;\n",
       "    }\n",
       "\n",
       "    .dataframe tbody tr th {\n",
       "        vertical-align: top;\n",
       "    }\n",
       "\n",
       "    .dataframe thead th {\n",
       "        text-align: right;\n",
       "    }\n",
       "</style>\n",
       "<table border=\"1\" class=\"dataframe\">\n",
       "  <thead>\n",
       "    <tr style=\"text-align: right;\">\n",
       "      <th></th>\n",
       "      <th>Location_Eveline</th>\n",
       "      <th>Filename_Eveline</th>\n",
       "      <th>Beamtime</th>\n",
       "      <th>Sample</th>\n",
       "      <th>Animal</th>\n",
       "      <th>Day</th>\n",
       "      <th>Acinus</th>\n",
       "      <th>Counts_Eveline</th>\n",
       "      <th>Pixelsize_Eveline</th>\n",
       "      <th>Number of images_Eveline</th>\n",
       "      <th>...</th>\n",
       "      <th>Location_Volume</th>\n",
       "      <th>Filename_Volume</th>\n",
       "      <th>Volume_Acinus_MeVisLab</th>\n",
       "      <th>Counts_Eveline_normalized</th>\n",
       "      <th>Volume_Acinus_MeVisLab_normalized</th>\n",
       "      <th>Volume_Acinus_STEPanizer_normalized</th>\n",
       "      <th>ImageCountDifference</th>\n",
       "      <th>Counts per Volume</th>\n",
       "      <th>Counts per MeVisLab Volume</th>\n",
       "      <th>Counts per Volume normalized</th>\n",
       "    </tr>\n",
       "  </thead>\n",
       "  <tbody>\n",
       "    <tr>\n",
       "      <th>34</th>\n",
       "      <td>F:/Acini\\2010a\\mrg\\R108C04At-mrg\\acinus43\\voxe...</td>\n",
       "      <td>_R108C04At-mrg-acinus43_2013-04-02_14-02_resul...</td>\n",
       "      <td>2010a</td>\n",
       "      <td>R108C04At-mrg</td>\n",
       "      <td>04A</td>\n",
       "      <td>4</td>\n",
       "      <td>43</td>\n",
       "      <td>35.0</td>\n",
       "      <td>0.22</td>\n",
       "      <td>28</td>\n",
       "      <td>...</td>\n",
       "      <td>\\\\anatera4\\share\\SLS\\2010a\\mrg\\R108C04At-mrg\\R...</td>\n",
       "      <td>R108C04At-mrg.2936x2936x1024.gvr.acinus43.volu...</td>\n",
       "      <td>0.003161</td>\n",
       "      <td>0.315315</td>\n",
       "      <td>0.146899</td>\n",
       "      <td>0.122163</td>\n",
       "      <td>0</td>\n",
       "      <td>8207.959673</td>\n",
       "      <td>11073.600783</td>\n",
       "      <td>1.0</td>\n",
       "    </tr>\n",
       "  </tbody>\n",
       "</table>\n",
       "<p>1 rows × 28 columns</p>\n",
       "</div>"
      ],
      "text/plain": [
       "                                     Location_Eveline  \\\n",
       "34  F:/Acini\\2010a\\mrg\\R108C04At-mrg\\acinus43\\voxe...   \n",
       "\n",
       "                                     Filename_Eveline Beamtime         Sample  \\\n",
       "34  _R108C04At-mrg-acinus43_2013-04-02_14-02_resul...    2010a  R108C04At-mrg   \n",
       "\n",
       "   Animal  Day  Acinus  Counts_Eveline  Pixelsize_Eveline  \\\n",
       "34    04A    4      43            35.0               0.22   \n",
       "\n",
       "    Number of images_Eveline             ...               \\\n",
       "34                        28             ...                \n",
       "\n",
       "                                      Location_Volume  \\\n",
       "34  \\\\anatera4\\share\\SLS\\2010a\\mrg\\R108C04At-mrg\\R...   \n",
       "\n",
       "                                      Filename_Volume  Volume_Acinus_MeVisLab  \\\n",
       "34  R108C04At-mrg.2936x2936x1024.gvr.acinus43.volu...                0.003161   \n",
       "\n",
       "    Counts_Eveline_normalized  Volume_Acinus_MeVisLab_normalized  \\\n",
       "34                   0.315315                           0.146899   \n",
       "\n",
       "    Volume_Acinus_STEPanizer_normalized  ImageCountDifference  \\\n",
       "34                             0.122163                     0   \n",
       "\n",
       "   Counts per Volume Counts per MeVisLab Volume Counts per Volume normalized  \n",
       "34       8207.959673               11073.600783                          1.0  \n",
       "\n",
       "[1 rows x 28 columns]"
      ]
     },
     "execution_count": 77,
     "metadata": {},
     "output_type": "execute_result"
    }
   ],
   "source": [
    "# See maximal and minimal acinus\n",
    "Data.loc[Data['Counts per Volume'] == max(Data['Counts per Volume'])]"
   ]
  },
  {
   "cell_type": "code",
   "execution_count": 78,
   "metadata": {},
   "outputs": [
    {
     "data": {
      "text/html": [
       "<div>\n",
       "<style scoped>\n",
       "    .dataframe tbody tr th:only-of-type {\n",
       "        vertical-align: middle;\n",
       "    }\n",
       "\n",
       "    .dataframe tbody tr th {\n",
       "        vertical-align: top;\n",
       "    }\n",
       "\n",
       "    .dataframe thead th {\n",
       "        text-align: right;\n",
       "    }\n",
       "</style>\n",
       "<table border=\"1\" class=\"dataframe\">\n",
       "  <thead>\n",
       "    <tr style=\"text-align: right;\">\n",
       "      <th></th>\n",
       "      <th>Location_Eveline</th>\n",
       "      <th>Filename_Eveline</th>\n",
       "      <th>Beamtime</th>\n",
       "      <th>Sample</th>\n",
       "      <th>Animal</th>\n",
       "      <th>Day</th>\n",
       "      <th>Acinus</th>\n",
       "      <th>Counts_Eveline</th>\n",
       "      <th>Pixelsize_Eveline</th>\n",
       "      <th>Number of images_Eveline</th>\n",
       "      <th>...</th>\n",
       "      <th>Location_Volume</th>\n",
       "      <th>Filename_Volume</th>\n",
       "      <th>Volume_Acinus_MeVisLab</th>\n",
       "      <th>Counts_Eveline_normalized</th>\n",
       "      <th>Volume_Acinus_MeVisLab_normalized</th>\n",
       "      <th>Volume_Acinus_STEPanizer_normalized</th>\n",
       "      <th>ImageCountDifference</th>\n",
       "      <th>Counts per Volume</th>\n",
       "      <th>Counts per MeVisLab Volume</th>\n",
       "      <th>Counts per Volume normalized</th>\n",
       "    </tr>\n",
       "  </thead>\n",
       "  <tbody>\n",
       "    <tr>\n",
       "      <th>14</th>\n",
       "      <td>F:/Acini\\2009f\\mrg\\R108C60Et-mrg\\acinus08\\voxe...</td>\n",
       "      <td>_R108C60Et-mrg-acinus08_2012-09-27_13-47_resul...</td>\n",
       "      <td>2009f</td>\n",
       "      <td>R108C60Et-mrg</td>\n",
       "      <td>60E</td>\n",
       "      <td>60</td>\n",
       "      <td>8</td>\n",
       "      <td>770.0</td>\n",
       "      <td>2.17</td>\n",
       "      <td>141</td>\n",
       "      <td>...</td>\n",
       "      <td>\\\\anatera4\\share\\SLS\\2009f\\mrg\\R108C60Et-mrg\\R...</td>\n",
       "      <td>R108C60Et-mrg.2444.2944.1024.gvr.acinus8.volum...</td>\n",
       "      <td>0.752025</td>\n",
       "      <td>0.639535</td>\n",
       "      <td>1.0</td>\n",
       "      <td>1.0</td>\n",
       "      <td>0</td>\n",
       "      <td>410.751566</td>\n",
       "      <td>1023.901954</td>\n",
       "      <td>0.280696</td>\n",
       "    </tr>\n",
       "  </tbody>\n",
       "</table>\n",
       "<p>1 rows × 28 columns</p>\n",
       "</div>"
      ],
      "text/plain": [
       "                                     Location_Eveline  \\\n",
       "14  F:/Acini\\2009f\\mrg\\R108C60Et-mrg\\acinus08\\voxe...   \n",
       "\n",
       "                                     Filename_Eveline Beamtime         Sample  \\\n",
       "14  _R108C60Et-mrg-acinus08_2012-09-27_13-47_resul...    2009f  R108C60Et-mrg   \n",
       "\n",
       "   Animal  Day  Acinus  Counts_Eveline  Pixelsize_Eveline  \\\n",
       "14    60E   60       8           770.0               2.17   \n",
       "\n",
       "    Number of images_Eveline             ...               \\\n",
       "14                       141             ...                \n",
       "\n",
       "                                      Location_Volume  \\\n",
       "14  \\\\anatera4\\share\\SLS\\2009f\\mrg\\R108C60Et-mrg\\R...   \n",
       "\n",
       "                                      Filename_Volume  Volume_Acinus_MeVisLab  \\\n",
       "14  R108C60Et-mrg.2444.2944.1024.gvr.acinus8.volum...                0.752025   \n",
       "\n",
       "    Counts_Eveline_normalized  Volume_Acinus_MeVisLab_normalized  \\\n",
       "14                   0.639535                                1.0   \n",
       "\n",
       "    Volume_Acinus_STEPanizer_normalized  ImageCountDifference  \\\n",
       "14                                  1.0                     0   \n",
       "\n",
       "   Counts per Volume Counts per MeVisLab Volume Counts per Volume normalized  \n",
       "14        410.751566                1023.901954                     0.280696  \n",
       "\n",
       "[1 rows x 28 columns]"
      ]
     },
     "execution_count": 78,
     "metadata": {},
     "output_type": "execute_result"
    }
   ],
   "source": [
    "Data.loc[Data['Counts per Volume'] == min(Data['Counts per Volume'])]"
   ]
  },
  {
   "cell_type": "markdown",
   "metadata": {},
   "source": [
    "Now we need to calculate the alveoli per acinus."
   ]
  },
  {
   "cell_type": "code",
   "execution_count": 79,
   "metadata": {},
   "outputs": [
    {
     "name": "stdout",
     "output_type": "stream",
     "text": [
      "Based on Tschanz2014 and Barre2014...\n",
      "We have approximately 3244 alveoli per acinus.\n",
      "One acinus in D60 lungs thus has a volume of approximately 0.0017 um^3.\n"
     ]
    }
   ],
   "source": [
    "# Get the mean number of alveoli per acinus\n",
    "print('Based on Tschanz2014 and Barre2014...')\n",
    "# Number of alveoli (19.297e6) from Tschanz2014, Table 1, p. 91)\n",
    "# Number of acini (5943) from Barre2014, Table 2, p. 7\n",
    "n_alv = 19.279 * 1e6\n",
    "n_acini = 5943\n",
    "alv_pro_acinus = n_alv / n_acini\n",
    "print('We have approximately %0.0f alveoli per acinus.' % alv_pro_acinus)\n",
    "lung_volume = 10.21  # cm³\n",
    "acinar_volume = lung_volume / n_acini\n",
    "print('One acinus in D60 lungs thus has a volume of approximately %0.2g um^3.' % acinar_volume)"
   ]
  },
  {
   "cell_type": "code",
   "execution_count": 80,
   "metadata": {},
   "outputs": [],
   "source": [
    "# Save all dataframes to different sheets in one big excel file for Stefan\n",
    "# This is so that Stefan can take a look at it\n",
    "# Based on the bottom of https://pandas.pydata.org/pandas-docs/stable/generated/pandas.DataFrame.to_excel.html\n",
    "writer = pandas.ExcelWriter('Data_' + get_git_hash() + '.xlsx')\n",
    "Data.to_excel(writer, 'All data merged')\n",
    "Done.to_excel(writer, 'Eveline und David merged')\n",
    "David.to_excel(writer, 'David')\n",
    "Eveline.to_excel(writer, 'Eveline')\n",
    "VolumesFromDisk.to_excel(writer, 'Volumes from MeVisLab')\n",
    "writer.save()"
   ]
  },
  {
   "cell_type": "markdown",
   "metadata": {},
   "source": [
    "----\n",
    "Let's calculate the number of alveoli."
   ]
  },
  {
   "cell_type": "code",
   "execution_count": 115,
   "metadata": {},
   "outputs": [
    {
     "name": "stdout",
     "output_type": "stream",
     "text": [
      "Day 4\n",
      "Mean counts: 47.85\n",
      "Mean volume per acinus : 5.39e+07 um^3\n",
      "Mean volume per alveolus: 1.13e+06 um^3\n",
      "Day 10\n",
      "Mean counts: 88.53\n",
      "Mean volume per acinus : 6.56e+07 um^3\n",
      "Mean volume per alveolus: 7.41e+05 um^3\n",
      "Day 21\n",
      "Mean counts: 233.33\n",
      "Mean volume per acinus : 1.7e+08 um^3\n",
      "Mean volume per alveolus: 7.3e+05 um^3\n",
      "Day 60\n",
      "Mean counts: 701.79\n",
      "Mean volume per acinus : 1.21e+09 um^3\n",
      "Mean volume per alveolus: 1.73e+06 um^3\n"
     ]
    }
   ],
   "source": [
    "# Mean alveolar volumes\n",
    "MeanAlveolarVolume = [None] * len(Data.Day.unique())\n",
    "MeanAcinarVolume = [None] * len(Data.Day.unique())\n",
    "MeanCounts = [None] * len(Data.Day.unique())\n",
    "for c, day in enumerate(sorted(Data.Day.unique())):\n",
    "    print('Day %s' % day)\n",
    "    MeanCounts[c] = numpy.mean(Data.loc[Data.Day == day]['Counts_Eveline'])\n",
    "    print('Mean counts: %4.2f' % MeanCounts[c])\n",
    "    # Acinus volume (*including* Ductus...), converted  from mm^3  to um^3\n",
    "    # https://encrypted.google.com/search?hl=en&q=cubic%20millimeter%20to%20cubic%20micrometer\n",
    "    vol = numpy.mean(Data.loc[Data.Day == day]['Volume_Acinus_STEPanizer']) * 1e9 / ShrinkageFactor\n",
    "    CorrectDuctal = False\n",
    "    if CorrectDuctal:\n",
    "        # Remove the ductal airspace, as assessed by Tschanz2014\n",
    "        MeanAcinarVolume[c] = vol - (DuctalToAlveolar[c] * vol)\n",
    "        print('Mean volume per acinus (ductal airspace removed): %0.3g um^3' % MeanAcinarVolume[c])\n",
    "    else:\n",
    "        MeanAcinarVolume[c] = vol\n",
    "        print('Mean volume per acinus : %0.3g um^3' % MeanAcinarVolume[c])\n",
    "    MeanAlveolarVolume[c] = MeanAcinarVolume[c] / MeanCounts[c]\n",
    "    print('Mean volume per alveolus: %0.3g um^3' % MeanAlveolarVolume[c])"
   ]
  },
  {
   "cell_type": "code",
   "execution_count": 82,
   "metadata": {},
   "outputs": [],
   "source": [
    "# From Datenblattstefan.xls we copy the mean parenchymal volume\n",
    "V_lung_par = [0.84,\n",
    "              1.56,\n",
    "              3.15,\n",
    "              # 6.20,\n",
    "              8.93]"
   ]
  },
  {
   "cell_type": "code",
   "execution_count": 83,
   "metadata": {},
   "outputs": [
    {
     "name": "stdout",
     "output_type": "stream",
     "text": [
      "[3.912376642949698e-05, 4.8487063525958425e-05, 0.00011737969469393756, 0.0009346470485098781]\n"
     ]
    }
   ],
   "source": [
    "V_az = [ma / 1e12 for ma in MeanAcinarVolume]\n",
    "print(V_az)"
   ]
  },
  {
   "cell_type": "code",
   "execution_count": 84,
   "metadata": {},
   "outputs": [
    {
     "name": "stdout",
     "output_type": "stream",
     "text": [
      "[21470.3254993  32173.5301451  26835.98733336  9554.40881586]\n"
     ]
    }
   ],
   "source": [
    "N_az = numpy.divide(V_lung_par, V_az)\n",
    "print(N_az)"
   ]
  },
  {
   "cell_type": "code",
   "execution_count": 85,
   "metadata": {},
   "outputs": [
    {
     "data": {
      "image/png": "[encoded data removed]",
      "text/plain": [
       "<matplotlib.figure.Figure at 0xc7a5cf8>"
      ]
     },
     "metadata": {},
     "output_type": "display_data"
    }
   ],
   "source": [
    "plt.plot([4, 10, 21, 60], N_az, marker='o')\n",
    "plt.ylim(ymin=0)\n",
    "plt.title('Number of acini')\n",
    "plt.show()"
   ]
  },
  {
   "cell_type": "code",
   "execution_count": 86,
   "metadata": {},
   "outputs": [],
   "source": [
    "N_alv_az = MeanCounts"
   ]
  },
  {
   "cell_type": "code",
   "execution_count": 87,
   "metadata": {},
   "outputs": [],
   "source": [
    "N_alv_lung = N_az * N_alv_az"
   ]
  },
  {
   "cell_type": "code",
   "execution_count": 88,
   "metadata": {},
   "outputs": [
    {
     "data": {
      "image/png": "[encoded data removed]",
      "text/plain": [
       "<matplotlib.figure.Figure at 0xc7adda0>"
      ]
     },
     "metadata": {},
     "output_type": "display_data"
    }
   ],
   "source": [
    "plt.plot([4, 10, 21, 60], N_alv_lung, marker='o')\n",
    "plt.ylim(ymin=0)\n",
    "plt.title('Number of alveoli')\n",
    "plt.show()"
   ]
  },
  {
   "cell_type": "code",
   "execution_count": 89,
   "metadata": {},
   "outputs": [
    {
     "name": "stdout",
     "output_type": "stream",
     "text": [
      "1.03 * 1e6 alveoli\n",
      "2.85 * 1e6 alveoli\n",
      "6.26 * 1e6 alveoli\n",
      "6.71 * 1e6 alveoli\n"
     ]
    }
   ],
   "source": [
    "for i in N_alv_lung:\n",
    "    print('%0.2f * 1e6 alveoli' % (i * 1e-6))"
   ]
  },
  {
   "cell_type": "markdown",
   "metadata": {},
   "source": [
    "`N_alv_lung` should be comparable to the data shown by Lilian."
   ]
  },
  {
   "cell_type": "markdown",
   "metadata": {},
   "source": [
    "----\n",
    "Let's calculate the number of alveoli.\n",
    "Instead of calculating with the mean numbers as above, we calculate it over the total numbers."
   ]
  },
  {
   "cell_type": "code",
   "execution_count": 90,
   "metadata": {},
   "outputs": [],
   "source": [
    "# From Datenblattstefan.xls we copy the mean airspace volume\n",
    "V_lung_airspace_values = [[0.619007, 0.590681, 0.732188, 0.616113, 0.675164],  # d04\n",
    "                          [1.203810, 1.186750, 0.884237, 1.130176, 1.129899],  # d10\n",
    "                          [2.576568, 2.568601, 2.310215, 2.388927, 2.024192],  # d21\n",
    "                          # [5.018464, 4.235915, 4.702459, 4.613889, 4.567723],  # d360, discarded\n",
    "                          [6.595599, 6.372630, 6.858009, 7.156043, 6.730762]]  # d60\n",
    "# scale to um^3\n",
    "V_lung_airspace_values = [[v * 1e12 for v in va] for va in V_lung_airspace_values]\n",
    "# Calculate mean and STD\n",
    "V_lung_airspace = [numpy.mean(v) for v in V_lung_airspace_values]\n",
    "V_lung_airspaceSTD = [numpy.std(v) for v in V_lung_airspace_values]"
   ]
  },
  {
   "cell_type": "code",
   "execution_count": 116,
   "metadata": {},
   "outputs": [
    {
     "name": "stdout",
     "output_type": "stream",
     "text": [
      "Day 4\n",
      "Total counts: 5934\n",
      "Total acinus volume: 6.68e+09 um^3\n",
      "Total alveolar volume: 1.13e+06 um^3\n",
      "Day 10\n",
      "Total counts: 5135\n",
      "Total acinus volume: 3.81e+09 um^3\n",
      "Total alveolar volume: 7.41e+05 um^3\n",
      "Day 21\n",
      "Total counts: 9800\n",
      "Total acinus volume: 7.16e+09 um^3\n",
      "Total alveolar volume: 7.3e+05 um^3\n",
      "Day 60\n",
      "Total counts: 30177\n",
      "Total acinus volume: 5.21e+10 um^3\n",
      "Total alveolar volume: 1.73e+06 um^3\n"
     ]
    }
   ],
   "source": [
    "# Mean alveolar volumes\n",
    "TotalAlveolarVolume = [None] * len(Data.Day.unique())\n",
    "TotalAcinarVolume = [None] * len(Data.Day.unique())\n",
    "TotalCounts = [None] * len(Data.Day.unique())\n",
    "TotalCountsSTD = [None] * len(Data.Day.unique())\n",
    "for c, day in enumerate(sorted(Data.Day.unique())):\n",
    "    print('Day %s' % day)\n",
    "    TotalCounts[c] = numpy.sum(Data.loc[Data.Day == day]['Counts_Eveline'])\n",
    "    TotalCountsSTD[c] = numpy.std(Data.loc[Data.Day == day]['Counts_Eveline'])\n",
    "    print('Total counts: %s' % int(TotalCounts[c]))\n",
    "    # Acinus volume (*including* Ductus...), converted  from mm^3  to um^3\n",
    "    # https://encrypted.google.com/search?hl=en&q=cubic%20millimeter%20to%20cubic%20micrometer\n",
    "    # This volume *needs* to be corrected with the shrinkage factor\n",
    "    vol = numpy.sum(Data.loc[Data.Day == day]['Volume_Acinus_STEPanizer']) * 1e9 / ShrinkageFactor\n",
    "    CorrectDuctal = False\n",
    "    if CorrectDuctal:\n",
    "        # Remove the ductal airspace, as assessed by Tschanz2014\n",
    "        TotalAcinarVolume[c] = vol - (DuctalToAlveolar[c] * vol)\n",
    "    else:\n",
    "        TotalAcinarVolume[c] = vol\n",
    "    print('Total acinus volume: %0.3g um^3' % TotalAcinarVolume[c])\n",
    "    TotalAlveolarVolume[c] = TotalAcinarVolume[c] / TotalCounts[c]\n",
    "    print('Total alveolar volume: %0.3g um^3' % TotalAlveolarVolume[c])"
   ]
  },
  {
   "cell_type": "code",
   "execution_count": 130,
   "metadata": {},
   "outputs": [],
   "source": [
    "MeanAlveolareVolumeStefan = [755237.6444,\n",
    "                             345979.1428,\n",
    "                             184644.6612,\n",
    "#                              341848.501,\n",
    "                             366879.0649]"
   ]
  },
  {
   "cell_type": "code",
   "execution_count": 139,
   "metadata": {},
   "outputs": [
    {
     "data": {
      "image/png": "[encoded data removed]",
      "text/plain": [
       "<matplotlib.figure.Figure at 0xe853518>"
      ]
     },
     "metadata": {},
     "output_type": "display_data"
    }
   ],
   "source": [
    "plt.plot(sorted(Data.Day.unique()), MeanAlveolareVolumeDavid, label='Calculated David (see above)', marker='X')\n",
    "plt.plot(sorted(Data.Day.unique()), MeanAlveolareVolumeStefan, label='Calculated Stefan (Excel)', marker='o')\n",
    "plt.title('Mean alveolar volumes')\n",
    "plt.legend(loc='upper center')\n",
    "plt.savefig(os.path.join(OutputDir, 'mean_alveolar_volumes.png'))\n",
    "plt.show()"
   ]
  },
  {
   "cell_type": "code",
   "execution_count": 92,
   "metadata": {},
   "outputs": [],
   "source": [
    "N_alv_total = numpy.divide(numpy.multiply(TotalCounts, V_lung_airspace),\n",
    "                           TotalAcinarVolume)"
   ]
  },
  {
   "cell_type": "code",
   "execution_count": 93,
   "metadata": {},
   "outputs": [
    {
     "data": {
      "text/plain": [
       "array([ 790936.19791196, 2021269.15519571, 4718562.90628041,\n",
       "       5062766.74289367])"
      ]
     },
     "execution_count": 93,
     "metadata": {},
     "output_type": "execute_result"
    }
   ],
   "source": [
    "N_alv_total"
   ]
  },
  {
   "cell_type": "code",
   "execution_count": 94,
   "metadata": {},
   "outputs": [],
   "source": [
    "N_alv_total_STD = numpy.divide(numpy.multiply(TotalCountsSTD, V_lung_airspaceSTD),\n",
    "                               TotalAcinarVolume)"
   ]
  },
  {
   "cell_type": "code",
   "execution_count": 95,
   "metadata": {},
   "outputs": [
    {
     "data": {
      "text/plain": [
       "array([ 431.43132436, 3406.37600574, 6676.5196724 , 1410.98367702])"
      ]
     },
     "execution_count": 95,
     "metadata": {},
     "output_type": "execute_result"
    }
   ],
   "source": [
    "N_alv_total_STD"
   ]
  },
  {
   "cell_type": "code",
   "execution_count": 96,
   "metadata": {},
   "outputs": [
    {
     "name": "stdout",
     "output_type": "stream",
     "text": [
      "0.79 * 1e6 alveoli\n",
      "2.02 * 1e6 alveoli\n",
      "4.72 * 1e6 alveoli\n",
      "5.06 * 1e6 alveoli\n"
     ]
    }
   ],
   "source": [
    "for i in N_alv_total:\n",
    "    print('%0.2f * 1e6 alveoli' % (i * 1e-6))"
   ]
  },
  {
   "cell_type": "code",
   "execution_count": 97,
   "metadata": {},
   "outputs": [
    {
     "data": {
      "image/png": "[encoded data removed]",
      "text/plain": [
       "<matplotlib.figure.Figure at 0xc1c0ac8>"
      ]
     },
     "metadata": {},
     "output_type": "display_data"
    }
   ],
   "source": [
    "plt.plot([4, 10, 21, 60], N_alv_total, marker='o')\n",
    "plt.ylim(ymin=0)\n",
    "plt.title('Number of alveoli')\n",
    "seaborn.despine()\n",
    "plt.show()"
   ]
  },
  {
   "cell_type": "code",
   "execution_count": 98,
   "metadata": {},
   "outputs": [
    {
     "data": {
      "image/png": "[encoded data removed]",
      "text/plain": [
       "<matplotlib.figure.Figure at 0xc9d0c50>"
      ]
     },
     "metadata": {},
     "output_type": "display_data"
    }
   ],
   "source": [
    "# Compare both numbers\n",
    "plt.plot([4, 10, 21, 60], N_alv_lung, marker='X', label='mean numbers')\n",
    "plt.plot([4, 10, 21, 60], N_alv_total, marker='o', label='total numbers')\n",
    "plt.legend()\n",
    "plt.xlabel('Day')\n",
    "plt.xticks([4, 10, 21, 60])\n",
    "plt.ylabel('Number of alveoli')\n",
    "plt.ylim(ymin=0)\n",
    "plt.gca().ticklabel_format(axis='y', style='sci', scilimits=(0, 0))\n",
    "seaborn.despine(offset=10, trim=True, bottom=True)\n",
    "plt.savefig(os.path.join(OutputDir, 'alveolar_number_absolute.png'))\n",
    "plt.show()"
   ]
  },
  {
   "cell_type": "code",
   "execution_count": 99,
   "metadata": {},
   "outputs": [
    {
     "name": "stdout",
     "output_type": "stream",
     "text": [
      "Done with everything\n"
     ]
    }
   ],
   "source": [
    "print('Done with everything')"
   ]
  },
  {
   "cell_type": "code",
   "execution_count": 100,
   "metadata": {},
   "outputs": [
    {
     "data": {
      "image/png": "[encoded data removed]",
      "text/plain": [
       "<matplotlib.figure.Figure at 0xdcd5a58>"
      ]
     },
     "metadata": {},
     "output_type": "display_data"
    }
   ],
   "source": [
    "plt.errorbar([4, 10, 21, 60],\n",
    "             N_alv_lung,\n",
    "             yerr=N_alv_total_STD,\n",
    "             marker='.',\n",
    "             ls='',\n",
    "             label='mean numbers')\n",
    "plt.title('v lung airspace +- std')\n",
    "plt.show()"
   ]
  },
  {
   "cell_type": "code",
   "execution_count": 101,
   "metadata": {},
   "outputs": [
    {
     "data": {
      "text/plain": [
       "[646630600000.0, 1106974400000.0, 2373700600000.0, 6742608600000.0]"
      ]
     },
     "execution_count": 101,
     "metadata": {},
     "output_type": "execute_result"
    }
   ],
   "source": [
    "V_lung_airspace"
   ]
  },
  {
   "cell_type": "code",
   "execution_count": 102,
   "metadata": {},
   "outputs": [
    {
     "data": {
      "text/plain": [
       "[50909662220.83977, 115253703341.10744, 202760880862.7541, 261870801849.0034]"
      ]
     },
     "execution_count": 102,
     "metadata": {},
     "output_type": "execute_result"
    }
   ],
   "source": [
    "V_lung_airspaceSTD"
   ]
  },
  {
   "cell_type": "code",
   "execution_count": null,
   "metadata": {},
   "outputs": [],
   "source": []
  }
 ],
 "metadata": {
  "anaconda-cloud": {},
  "kernelspec": {
   "display_name": "Python 3",
   "language": "python",
   "name": "python3"
  },
  "language_info": {
   "codemirror_mode": {
    "name": "ipython",
    "version": 3
   },
   "file_extension": ".py",
   "mimetype": "text/x-python",
   "name": "python",
   "nbconvert_exporter": "python",
   "pygments_lexer": "ipython3",
   "version": "3.6.4"
  }
 },
 "nbformat": 4,
 "nbformat_minor": 2
}
