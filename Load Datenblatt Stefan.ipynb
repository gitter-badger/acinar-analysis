{
 "cells": [
  {
   "cell_type": "markdown",
   "metadata": {},
   "source": [
    "Let's read 'Datenblattstefan.xls'"
   ]
  },
  {
   "cell_type": "code",
   "execution_count": 1,
   "metadata": {
    "collapsed": true
   },
   "outputs": [],
   "source": [
    "import pandas\n",
    "import matplotlib.pylab as plt\n",
    "import seaborn\n",
    "%matplotlib inline\n",
    "import numpy"
   ]
  },
  {
   "cell_type": "code",
   "execution_count": 69,
   "metadata": {
    "collapsed": true
   },
   "outputs": [],
   "source": [
    "# Display defaults\n",
    "plt.rc('image', cmap='gray', interpolation='nearest') # Display all images in b&w\n",
    "plt.rcParams['figure.figsize'] = (16, 9)              # Size up figures a bit\n",
    "plt.rcParams['savefig.transparent'] = True            # Save figures with transparent background"
   ]
  },
  {
   "cell_type": "code",
   "execution_count": 2,
   "metadata": {},
   "outputs": [
    {
     "data": {
      "text/plain": [
       "['All Groups', 'DAY 4', 'DAY 10', 'DAY 21', 'DAY 36', 'DAY 60', 'Table 1']"
      ]
     },
     "execution_count": 2,
     "metadata": {},
     "output_type": "execute_result"
    }
   ],
   "source": [
    "xl = pandas.ExcelFile('Datenblattstefan.xls')\n",
    "xl.sheet_names\n",
    "# >>> df = xl.parse(\"Sheet1\")\n",
    "# >>> df.head()"
   ]
  },
  {
   "cell_type": "code",
   "execution_count": 3,
   "metadata": {},
   "outputs": [],
   "source": [
    "# Parse one sheet\n",
    "# Skip the unecessary stuff at the top\n",
    "# Load only the columns that are interesting for us\n",
    "day04=xl.parse('DAY 4',\n",
    "               skiprows=12,\n",
    "               usecols=(0, 2, 3, 4, 5, 9),\n",
    "               names=('CoEx', 'Name', 'Animal', 'Body weight', 'Volume total lung', 'Volume RUL'))"
   ]
  },
  {
   "cell_type": "code",
   "execution_count": 4,
   "metadata": {},
   "outputs": [],
   "source": [
    "# Clean up the import\n",
    "day04 = day04[pandas.notnull(day04['Name'])]\n",
    "day04 = day04[day04.Animal !='MEAN']\n",
    "day04.index = 'R' + day04['Name'] + day04['Animal']"
   ]
  },
  {
   "cell_type": "code",
   "execution_count": 5,
   "metadata": {},
   "outputs": [
    {
     "data": {
      "text/html": [
       "<div>\n",
       "<style>\n",
       "    .dataframe thead tr:only-child th {\n",
       "        text-align: right;\n",
       "    }\n",
       "\n",
       "    .dataframe thead th {\n",
       "        text-align: left;\n",
       "    }\n",
       "\n",
       "    .dataframe tbody tr th {\n",
       "        vertical-align: top;\n",
       "    }\n",
       "</style>\n",
       "<table border=\"1\" class=\"dataframe\">\n",
       "  <thead>\n",
       "    <tr style=\"text-align: right;\">\n",
       "      <th></th>\n",
       "      <th>CoEx</th>\n",
       "      <th>Name</th>\n",
       "      <th>Animal</th>\n",
       "      <th>Body weight</th>\n",
       "      <th>Volume total lung</th>\n",
       "      <th>Volume RUL</th>\n",
       "    </tr>\n",
       "  </thead>\n",
       "  <tbody>\n",
       "    <tr>\n",
       "      <th>R108-C-4a</th>\n",
       "      <td>Co</td>\n",
       "      <td>108-C-4</td>\n",
       "      <td>a</td>\n",
       "      <td>12.99</td>\n",
       "      <td>1.041</td>\n",
       "      <td>0.309</td>\n",
       "    </tr>\n",
       "    <tr>\n",
       "      <th>R108-C-4b</th>\n",
       "      <td>Co</td>\n",
       "      <td>108-C-4</td>\n",
       "      <td>b</td>\n",
       "      <td>12.66</td>\n",
       "      <td>0.932</td>\n",
       "      <td>0.246</td>\n",
       "    </tr>\n",
       "    <tr>\n",
       "      <th>R108-C-4c</th>\n",
       "      <td>Co</td>\n",
       "      <td>108-C-4</td>\n",
       "      <td>c</td>\n",
       "      <td>13.27</td>\n",
       "      <td>1.105</td>\n",
       "      <td>0.334</td>\n",
       "    </tr>\n",
       "    <tr>\n",
       "      <th>R108-C-4d</th>\n",
       "      <td>Co</td>\n",
       "      <td>108-C-4</td>\n",
       "      <td>d</td>\n",
       "      <td>12.11</td>\n",
       "      <td>1.004</td>\n",
       "      <td>0.31</td>\n",
       "    </tr>\n",
       "    <tr>\n",
       "      <th>R108-C-4e</th>\n",
       "      <td>Co</td>\n",
       "      <td>108-C-4</td>\n",
       "      <td>e</td>\n",
       "      <td>14.22</td>\n",
       "      <td>1.067</td>\n",
       "      <td>0.326</td>\n",
       "    </tr>\n",
       "    <tr>\n",
       "      <th>R108-E-4a</th>\n",
       "      <td>Ex</td>\n",
       "      <td>108-E-4</td>\n",
       "      <td>a</td>\n",
       "      <td>13.35</td>\n",
       "      <td>0.984</td>\n",
       "      <td>0.271</td>\n",
       "    </tr>\n",
       "    <tr>\n",
       "      <th>R108-E-4b</th>\n",
       "      <td>Ex</td>\n",
       "      <td>108-E-4</td>\n",
       "      <td>b</td>\n",
       "      <td>12.67</td>\n",
       "      <td>0.965</td>\n",
       "      <td>0.29</td>\n",
       "    </tr>\n",
       "    <tr>\n",
       "      <th>R108-E-4c</th>\n",
       "      <td>Ex</td>\n",
       "      <td>108-E-4</td>\n",
       "      <td>c</td>\n",
       "      <td>13.26</td>\n",
       "      <td>1.176</td>\n",
       "      <td>0.353</td>\n",
       "    </tr>\n",
       "    <tr>\n",
       "      <th>R108-E-4d</th>\n",
       "      <td>Ex</td>\n",
       "      <td>108-E-4</td>\n",
       "      <td>d</td>\n",
       "      <td>11.26</td>\n",
       "      <td>0.884</td>\n",
       "      <td>0.263</td>\n",
       "    </tr>\n",
       "    <tr>\n",
       "      <th>R108-E-4e</th>\n",
       "      <td>Ex</td>\n",
       "      <td>108-E-4</td>\n",
       "      <td>e</td>\n",
       "      <td>12.38</td>\n",
       "      <td>1.034</td>\n",
       "      <td>0.285</td>\n",
       "    </tr>\n",
       "  </tbody>\n",
       "</table>\n",
       "</div>"
      ],
      "text/plain": [
       "          CoEx     Name Animal Body weight Volume total lung Volume RUL\n",
       "R108-C-4a   Co  108-C-4      a       12.99             1.041      0.309\n",
       "R108-C-4b   Co  108-C-4      b       12.66             0.932      0.246\n",
       "R108-C-4c   Co  108-C-4      c       13.27             1.105      0.334\n",
       "R108-C-4d   Co  108-C-4      d       12.11             1.004       0.31\n",
       "R108-C-4e   Co  108-C-4      e       14.22             1.067      0.326\n",
       "R108-E-4a   Ex  108-E-4      a       13.35             0.984      0.271\n",
       "R108-E-4b   Ex  108-E-4      b       12.67             0.965       0.29\n",
       "R108-E-4c   Ex  108-E-4      c       13.26             1.176      0.353\n",
       "R108-E-4d   Ex  108-E-4      d       11.26             0.884      0.263\n",
       "R108-E-4e   Ex  108-E-4      e       12.38             1.034      0.285"
      ]
     },
     "execution_count": 5,
     "metadata": {},
     "output_type": "execute_result"
    }
   ],
   "source": [
    "day04"
   ]
  },
  {
   "cell_type": "code",
   "execution_count": 24,
   "metadata": {
    "collapsed": true
   },
   "outputs": [],
   "source": [
    "# Parse another sheet\n",
    "day10=xl.parse('DAY 10',\n",
    "               skiprows=12,\n",
    "               usecols=(0, 2, 3, 4, 5, 9),\n",
    "               names=('CoEx', 'Name', 'Animal', 'Body weight', 'Volume total lung', 'Volume RUL'))\n",
    "day10 = day10[pandas.notnull(day10['Name'])]\n",
    "day10 = day10[day10.Animal !='MEAN']\n",
    "day10.index = 'R' + day10['Name'] + day10['Animal']"
   ]
  },
  {
   "cell_type": "code",
   "execution_count": 30,
   "metadata": {
    "collapsed": true
   },
   "outputs": [],
   "source": [
    "# Parse one more sheet\n",
    "day21=xl.parse('DAY 21',\n",
    "               skiprows=12,\n",
    "               usecols=(0, 2, 3, 4, 5, 9),\n",
    "               names=('CoEx', 'Name', 'Animal', 'Body weight', 'Volume total lung', 'Volume RUL'))\n",
    "day21 = day21[pandas.notnull(day21['Name'])]\n",
    "day21 = day21[day21.Animal !='MEAN']\n",
    "day21.index = 'R' + day21['Name'] + day21['Animal']"
   ]
  },
  {
   "cell_type": "code",
   "execution_count": 37,
   "metadata": {
    "collapsed": true
   },
   "outputs": [],
   "source": [
    "# Parse one more sheet\n",
    "day60=xl.parse('DAY 60',\n",
    "               skiprows=12,\n",
    "               usecols=(0, 2, 3, 4, 5, 9),\n",
    "               names=('CoEx', 'Name', 'Animal', 'Body weight', 'Volume total lung', 'Volume RUL'))\n",
    "day60 = day60[pandas.notnull(day60['Name'])]\n",
    "day60 = day60[day60.Animal !='MEAN']\n",
    "day60.index = 'R' + day60['Name'] + day60['Animal']"
   ]
  },
  {
   "cell_type": "code",
   "execution_count": 81,
   "metadata": {},
   "outputs": [
    {
     "data": {
      "image/png": "[encoded data removed]",
      "text/plain": [
       "<matplotlib.figure.Figure at 0x7f34a05f6c18>"
      ]
     },
     "metadata": {},
     "output_type": "display_data"
    }
   ],
   "source": [
    "# Body weight\n",
    "plt.subplot(141)\n",
    "seaborn.stripplot(day04.loc[day04.CoEx == 'Co']['Body weight'], jitter=True, \n",
    "                  orient='v', color=seaborn.color_palette()[0], label='Control')\n",
    "seaborn.stripplot(day04.loc[day04.CoEx == 'Ex']['Body weight'], jitter=True, \n",
    "                  orient='v', color=seaborn.color_palette()[1], label='Experiment')\n",
    "plt.ylim([10,16])\n",
    "plt.title('Day 04')\n",
    "\n",
    "plt.subplot(142)\n",
    "seaborn.stripplot(day10.loc[day10.CoEx == 'Co']['Body weight'], jitter=True, \n",
    "                  orient='v', color=seaborn.color_palette()[0], label='Control')\n",
    "seaborn.stripplot(day10.loc[day10.CoEx == 'Ex']['Body weight'], jitter=True, \n",
    "                  orient='v', color=seaborn.color_palette()[1], label='Experiment')\n",
    "plt.ylim([18,32])\n",
    "plt.gca().yaxis.label.set_visible(False)\n",
    "plt.title('Day 10')\n",
    "\n",
    "plt.subplot(143)\n",
    "seaborn.stripplot(day21.loc[day21.CoEx == 'Co']['Body weight'], jitter=True, \n",
    "                  orient='v', color=seaborn.color_palette()[0], label='Control')\n",
    "seaborn.stripplot(day21.loc[day21.CoEx == 'Ex']['Body weight'], jitter=True, \n",
    "                  orient='v', color=seaborn.color_palette()[1], label='Experiment')\n",
    "plt.ylim([60,90])\n",
    "plt.gca().yaxis.label.set_visible(False)\n",
    "plt.title('Day 21')\n",
    "\n",
    "plt.subplot(144)\n",
    "seaborn.stripplot(day60.loc[day60.CoEx == 'Co']['Body weight'], jitter=True, \n",
    "                  orient='v', color=seaborn.color_palette()[0], label='Control')\n",
    "seaborn.stripplot(day60.loc[day60.CoEx == 'Ex']['Body weight'], jitter=True, \n",
    "                  orient='v', color=seaborn.color_palette()[1], label='Experiment')\n",
    "plt.ylim([340,480])\n",
    "plt.gca().yaxis.label.set_visible(False)\n",
    "plt.title('Day 60')\n",
    "\n",
    "plt.legend(loc='best')\n",
    "plt.show()"
   ]
  },
  {
   "cell_type": "code",
   "execution_count": 89,
   "metadata": {},
   "outputs": [
    {
     "data": {
      "image/png": "[encoded data removed]",
      "text/plain": [
       "<matplotlib.figure.Figure at 0x7f349fcf4be0>"
      ]
     },
     "metadata": {},
     "output_type": "display_data"
    }
   ],
   "source": [
    "# Volume RUL\n",
    "plt.subplot(141)\n",
    "seaborn.stripplot(day04.loc[day04.CoEx == 'Co']['Volume RUL'], jitter=True, \n",
    "                  orient='v', color=seaborn.color_palette()[0], label='Control')\n",
    "seaborn.stripplot(day04.loc[day04.CoEx == 'Ex']['Volume RUL'], jitter=True, \n",
    "                  orient='v', color=seaborn.color_palette()[1], label='Experiment')\n",
    "plt.ylim([0.2,0.4])\n",
    "plt.title('Day 04')\n",
    "\n",
    "plt.subplot(142)\n",
    "seaborn.stripplot(day10.loc[day10.CoEx == 'Co']['Volume RUL'], jitter=True, \n",
    "                  orient='v', color=seaborn.color_palette()[0], label='Control')\n",
    "seaborn.stripplot(day10.loc[day10.CoEx == 'Ex']['Volume RUL'], jitter=True, \n",
    "                  orient='v', color=seaborn.color_palette()[1], label='Experiment')\n",
    "plt.ylim([0.5,0.6])\n",
    "plt.gca().yaxis.label.set_visible(False)\n",
    "plt.title('Day 10')\n",
    "\n",
    "plt.subplot(143)\n",
    "seaborn.stripplot(day21.loc[day21.CoEx == 'Co']['Volume RUL'], jitter=True, \n",
    "                  orient='v', color=seaborn.color_palette()[0], label='Control')\n",
    "seaborn.stripplot(day21.loc[day21.CoEx == 'Ex']['Volume RUL'], jitter=True, \n",
    "                  orient='v', color=seaborn.color_palette()[1], label='Experiment')\n",
    "plt.ylim([0.8,1.2])\n",
    "plt.gca().yaxis.label.set_visible(False)\n",
    "plt.title('Day 21')\n",
    "\n",
    "plt.subplot(144)\n",
    "seaborn.stripplot(day60.loc[day60.CoEx == 'Co']['Volume RUL'], jitter=True, \n",
    "                  orient='v', color=seaborn.color_palette()[0], label='Control')\n",
    "seaborn.stripplot(day60.loc[day60.CoEx == 'Ex']['Volume RUL'], jitter=True, \n",
    "                  orient='v', color=seaborn.color_palette()[1], label='Experiment')\n",
    "plt.ylim([2,4])\n",
    "plt.gca().yaxis.label.set_visible(False)\n",
    "plt.title('Day 60')\n",
    "\n",
    "plt.legend(loc='best')\n",
    "plt.show()"
   ]
  },
  {
   "cell_type": "code",
   "execution_count": null,
   "metadata": {
    "collapsed": true
   },
   "outputs": [],
   "source": []
  }
 ],
 "metadata": {
  "kernelspec": {
   "display_name": "Python 3",
   "language": "python",
   "name": "python3"
  },
  "language_info": {
   "codemirror_mode": {
    "name": "ipython",
    "version": 3
   },
   "file_extension": ".py",
   "mimetype": "text/x-python",
   "name": "python",
   "nbconvert_exporter": "python",
   "pygments_lexer": "ipython3",
   "version": "3.6.1"
  }
 },
 "nbformat": 4,
 "nbformat_minor": 2
}
