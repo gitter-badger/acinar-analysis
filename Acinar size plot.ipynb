{
 "cells": [
  {
   "cell_type": "markdown",
   "metadata": {},
   "source": [
    "# Alveoli and acinar size\n",
    "This document is used to plot the acinar volumes and stereological counts for the alveolar manuscript."
   ]
  },
  {
   "cell_type": "code",
   "execution_count": 1,
   "metadata": {
    "collapsed": true
   },
   "outputs": [],
   "source": [
    "# Assess coding style, based on https://stackoverflow.com/a/47204361/323100\n",
    "\n",
    "# %load_ext pycodestyle_magic\n",
    "# and then put '%%pycodestyle' in the cells\n",
    "\n",
    "# Or do it like so from the Terminal:\n",
    "# jupyter nbconvert Load\\ Datenblatt\\ Stefan.ipynb --to script && flake8 *.py --ignore=W391"
   ]
  },
  {
   "cell_type": "markdown",
   "metadata": {},
   "source": [
    "First, we set up the notebook."
   ]
  },
  {
   "cell_type": "code",
   "execution_count": 2,
   "metadata": {
    "collapsed": true
   },
   "outputs": [],
   "source": [
    "#Load the data and set up notebook\n",
    "import matplotlib.pyplot as plt\n",
    "%matplotlib inline\n",
    "import platform\n",
    "import glob\n",
    "import os\n",
    "import pandas\n",
    "import seaborn\n",
    "import re\n",
    "import timeit"
   ]
  },
  {
   "cell_type": "code",
   "execution_count": 3,
   "metadata": {
    "collapsed": true
   },
   "outputs": [],
   "source": [
    "def get_git_hash():\n",
    "    \"\"\"\n",
    "    Get the current git hash from the repository.\n",
    "    Based on http://stackoverflow.com/a/949391/323100 and\n",
    "    http://stackoverflow.com/a/18283905/323100\n",
    "    \"\"\"\n",
    "    from subprocess import Popen, PIPE\n",
    "    import os\n",
    "    gitprocess = Popen(['git', '--git-dir', os.path.join(os.getcwd(), '.git'),\n",
    "                        'rev-parse', '--short', '--verify', 'HEAD'],\n",
    "                       stdout=PIPE)\n",
    "    (output, _) = gitprocess.communicate()\n",
    "    return output.strip().decode(\"utf-8\")"
   ]
  },
  {
   "cell_type": "code",
   "execution_count": 4,
   "metadata": {},
   "outputs": [
    {
     "name": "stdout",
     "output_type": "stream",
     "text": [
      "We are working with version e8526dc of the analyis notebook\n"
     ]
    }
   ],
   "source": [
    "the_current_git_hash = get_git_hash()\n",
    "print('We are working with version %s of the analyis notebook'\n",
    "      % the_current_git_hash)"
   ]
  },
  {
   "cell_type": "code",
   "execution_count": 5,
   "metadata": {
    "collapsed": true
   },
   "outputs": [],
   "source": [
    "# Display defaults\n",
    "plt.rc('image', cmap='gray', interpolation='nearest')  # Display all images in b&w\n",
    "plt.rcParams['figure.figsize'] = (16, 9)  # Size up figures a bit\n",
    "plt.rcParams['savefig.transparent'] = True  # Save figures with transparent background"
   ]
  },
  {
   "cell_type": "code",
   "execution_count": 6,
   "metadata": {
    "collapsed": true
   },
   "outputs": [],
   "source": [
    "# Make us an output folder (including the git hash, so we (potentially) have different versions of the images)\n",
    "imgdir = os.path.join('img', the_current_git_hash)\n",
    "os.makedirs(imgdir, exist_ok=True)"
   ]
  },
  {
   "cell_type": "markdown",
   "metadata": {},
   "source": [
    "Now we load the 'Count' data from Eveline."
   ]
  },
  {
   "cell_type": "code",
   "execution_count": 7,
   "metadata": {},
   "outputs": [
    {
     "name": "stdout",
     "output_type": "stream",
     "text": [
      "We are loading all the data from /home/habi/nas_gruppe_schittny/doc/David\n"
     ]
    }
   ],
   "source": [
    "# Different locations if running either on Linux or Windows\n",
    "if 'debian' in platform.dist():\n",
    "    drive = os.path.join(os.sep, 'home', 'habi', 'nas_gruppe_schittny')\n",
    "else:\n",
    "    drive = os.path.join('\\\\\\\\nas.ana.unibe.ch\\\\', 'gruppe_schittny', 'Data')\n",
    "# Load the data from this folder\n",
    "RootPath = os.path.join(drive, 'doc', 'David')\n",
    "print('We are loading all the data from %s' % RootPath)"
   ]
  },
  {
   "cell_type": "code",
   "execution_count": 8,
   "metadata": {
    "collapsed": true
   },
   "outputs": [],
   "source": [
    "# Get a list of *all* excel files that Eveline exported from the STEPanizer\n",
    "# Based on https://stackoverflow.com/a/14798263\n",
    "StepanizerFiles = sorted(glob.glob(os.path.join(RootPath, 'Eveline', '**/*.xls'), recursive=True))"
   ]
  },
  {
   "cell_type": "code",
   "execution_count": 9,
   "metadata": {},
   "outputs": [
    {
     "name": "stdout",
     "output_type": "stream",
     "text": [
      "Eveline counted the alveoli in 285 acini\n"
     ]
    }
   ],
   "source": [
    "print('Eveline counted the alveoli in %s acini' % len(StepanizerFiles))"
   ]
  },
  {
   "cell_type": "code",
   "execution_count": 10,
   "metadata": {
    "collapsed": true
   },
   "outputs": [],
   "source": [
    "# Generate an empty dataframe where we save the counts\n",
    "Counts = pandas.DataFrame()"
   ]
  },
  {
   "cell_type": "code",
   "execution_count": 11,
   "metadata": {
    "collapsed": true
   },
   "outputs": [],
   "source": [
    "# # Grab relevant data from filenames\n",
    "# for f in StepanizerFiles:\n",
    "#     print('Animal', os.path.basename(f).split('_R108C')[1].split('mrg-')[0][:3])\n",
    "#     print('Day', os.path.basename(f).split('_R108C')[1].split('mrg-')[0][:2])\n",
    "#     print('Acinus', os.path.basename(f).split('acinus')[1].split('_')[0])"
   ]
  },
  {
   "cell_type": "code",
   "execution_count": 12,
   "metadata": {
    "collapsed": true
   },
   "outputs": [],
   "source": [
    "Counts = pandas.DataFrame({'Location_Counts': StepanizerFiles})\n",
    "Counts['Filename_Counts'] = [os.path.basename(f) for f in StepanizerFiles]\n",
    "Counts['Animal'] = [os.path.basename(f).split('_R108C')[1].split('mrg-')[0][:3] for f in StepanizerFiles]\n",
    "Counts['Day'] = [int(os.path.basename(f).split('_R108C')[1].split('mrg-')[0][:2]) for f in StepanizerFiles]\n",
    "Counts['Acinus'] = [int(os.path.basename(f).split('acinus')[1].split('_')[0]) for f in StepanizerFiles]"
   ]
  },
  {
   "cell_type": "code",
   "execution_count": 13,
   "metadata": {
    "collapsed": true
   },
   "outputs": [],
   "source": [
    "# nr=16\n",
    "# tmp=pandas.read_csv(StepanizerFiles[nr], nrows=13, delimiter='\\t')\n",
    "# # https://stackoverflow.com/a/31814158\n",
    "# print('Eveline made', tmp['Total'][9], 'counts for', os.path.basename(StepanizerFiles[nr]))\n",
    "# tmp"
   ]
  },
  {
   "cell_type": "code",
   "execution_count": 14,
   "metadata": {
    "collapsed": true
   },
   "outputs": [],
   "source": [
    "Counts['Counts'] = [int(pandas.read_csv(f, nrows=13, delimiter='\\t')['Total'][10]) for f in StepanizerFiles]"
   ]
  },
  {
   "cell_type": "code",
   "execution_count": 15,
   "metadata": {
    "collapsed": true
   },
   "outputs": [],
   "source": [
    "# For D60, Eveline counted only half of the images, we thus double the 'counts'\n",
    "Counts.loc[Counts.Day == 60, 'Counts'] = 2 * Counts['Counts']\n",
    "# The 'number of images' (read below) stays the same, since Eveline just skipped the images in STEPanizer!"
   ]
  },
  {
   "cell_type": "code",
   "execution_count": 16,
   "metadata": {
    "collapsed": true
   },
   "outputs": [],
   "source": [
    "# STEPanizer pixel size\n",
    "# Since we seem to have different tab-count in the files, we just read one single cell, explicitly...\n",
    "Counts['Stepanizer pixel size'] = [float(pandas.read_csv(f, delimiter='\\t', encoding='latin',\n",
    "                                                   skiprows=16, header=None, usecols=[0,1], nrows=1)[1][0])\n",
    "                                   for f in StepanizerFiles]"
   ]
  },
  {
   "cell_type": "code",
   "execution_count": 17,
   "metadata": {
    "collapsed": true
   },
   "outputs": [],
   "source": [
    "# STEPanizer 'counting area' (equal to 'a(p)' in our case, since Eveline counted acinar entrance ring occurrence)\n",
    "# Since we seem to have different tab-count in the files, we just read one single cell, explicitly...calc\n",
    "Counts['Stepanizer counting area side length'] = [float(pandas.read_csv(f, delimiter='\\t', encoding='latin',\n",
    "                                                                        skiprows=19, header=None,\n",
    "                                                                        usecols=[0,1], nrows=1)[1][0])\n",
    "                                                  for f in StepanizerFiles]"
   ]
  },
  {
   "cell_type": "code",
   "execution_count": 18,
   "metadata": {
    "collapsed": true
   },
   "outputs": [],
   "source": [
    "# Counting area in um²\n",
    "Counts['Calculated counting area'] = [ca**2 for ca in Counts['Stepanizer counting area side length']]"
   ]
  },
  {
   "cell_type": "code",
   "execution_count": 19,
   "metadata": {
    "collapsed": true
   },
   "outputs": [],
   "source": [
    "# STEPanizer 'counting area' or 'a(p)'\n",
    "# Since we seem to have different tab-count in the files, we just read one single cell, explicitly...calc\n",
    "Counts['Stepanizer counting area'] = [float(pandas.read_csv(f, delimiter='\\t', encoding='latin',\n",
    "                                                            skiprows=28, header=None, usecols=[0,1],\n",
    "                                                            nrows=1)[1][0])\n",
    "                                      for f in StepanizerFiles]"
   ]
  },
  {
   "cell_type": "code",
   "execution_count": 20,
   "metadata": {
    "collapsed": true
   },
   "outputs": [],
   "source": [
    "# # Difference in counting area of STEPanizer and calculated by ourselves\n",
    "# # --> insignificant!\n",
    "# seaborn.swarmplot(Counts['Stepanizer counting area'] - Counts['Calculated counting area'])\n",
    "# plt.xlabel('Difference between calculation and STEPanizer data [um²]')\n",
    "# plt.show()"
   ]
  },
  {
   "cell_type": "markdown",
   "metadata": {},
   "source": [
    "# Laut Telefon mit Stefan (8.1.2018)\n",
    "- Eveline zählte beide Richtungen -> Disector-Volumen verdoppeln (7.4 -> 14.8)\n",
    "- Dies * Counting area -> Counting Volume\n",
    "- Dies * Anzahl Bilder -> Total counting volume\n",
    "- Counts pro totalem Volumen -> Alveolar fraction\n",
    "- Alveolar fraction * Volumen aus MeVisLab -> Alveolen pro Acinus.\n"
   ]
  },
  {
   "cell_type": "code",
   "execution_count": 21,
   "metadata": {
    "collapsed": true
   },
   "outputs": [],
   "source": [
    "# Copied verbatim from ReadVolumeSurfaceAndAlveaolarNumber.py\n",
    "DisectorThickness = 5  # slices\n",
    "TOMCATPixelSize = 1.48   # um\n",
    "ShrinkageFactor = 0.61   # Volume-Shrinkage-Factor = 61% with STD=5, calculated by Sébastien: Volume TOMCAT / Waterdisplacement"
   ]
  },
  {
   "cell_type": "code",
   "execution_count": 22,
   "metadata": {
    "collapsed": true
   },
   "outputs": [],
   "source": [
    "# Counting volume (in um³)\n",
    "Counts['Counting volume'] = [DisectorThickness * TOMCATPixelSize * 2 * ca\n",
    "                             for ca in Counts['Calculated counting area']]"
   ]
  },
  {
   "cell_type": "code",
   "execution_count": 23,
   "metadata": {
    "collapsed": true
   },
   "outputs": [],
   "source": [
    "# Read the counted images from the xls sheets (faster than counting the JPG files :) \n",
    "Counts['Number of images'] = [int(pandas.read_csv(f, delimiter='\\t', encoding='latin',\n",
    "                                                  skiprows=12, header=None, usecols=[0,1, 2, 3],\n",
    "                                                  nrows=1)[2][0][2:])  # Stefan writes '->NumImg' into the cell, so we read only everything from string position 3 on...\n",
    "                              for f in StepanizerFiles]"
   ]
  },
  {
   "cell_type": "code",
   "execution_count": 25,
   "metadata": {
    "collapsed": true
   },
   "outputs": [],
   "source": [
    "# Calculate the total counting volume\n",
    "Counts['Total counting volume'] = [cv * numimg for cv, numimg in zip(Counts['Counting volume'],\n",
    "                                                                     Counts['Number of images'])]"
   ]
  },
  {
   "cell_type": "code",
   "execution_count": 25,
   "metadata": {
    "collapsed": true
   },
   "outputs": [],
   "source": [
    "# Counts per cm³\n",
    "# To go from um³ to cm³ we multiply by 1e12: http://is.gd/wbZ81O\n",
    "Counts['Alveolar fraction'] = [cnts / tcv * 1e12 for tcv, cnts in zip(Counts['Total counting volume'],\n",
    "                                                                      Counts['Counts'])]"
   ]
  },
  {
   "cell_type": "code",
   "execution_count": 26,
   "metadata": {
    "collapsed": true
   },
   "outputs": [],
   "source": [
    "# Now let's load the volume to get the aveoli per acinus!"
   ]
  },
  {
   "cell_type": "code",
   "execution_count": 27,
   "metadata": {
    "collapsed": true
   },
   "outputs": [],
   "source": [
    "# Counts.head()"
   ]
  },
  {
   "cell_type": "code",
   "execution_count": 28,
   "metadata": {
    "collapsed": true
   },
   "outputs": [],
   "source": [
    "# Counts.tail()"
   ]
  },
  {
   "cell_type": "code",
   "execution_count": 29,
   "metadata": {},
   "outputs": [
    {
     "name": "stdout",
     "output_type": "stream",
     "text": [
      "We have 285 acini which Eveline assessed with the STEPanizer\n"
     ]
    }
   ],
   "source": [
    "print('We have %s acini which Eveline assessed with the STEPanizer' % len(Counts))"
   ]
  },
  {
   "cell_type": "code",
   "execution_count": 30,
   "metadata": {},
   "outputs": [
    {
     "data": {
      "text/html": [
       "<div>\n",
       "<style>\n",
       "    .dataframe thead tr:only-child th {\n",
       "        text-align: right;\n",
       "    }\n",
       "\n",
       "    .dataframe thead th {\n",
       "        text-align: left;\n",
       "    }\n",
       "\n",
       "    .dataframe tbody tr th {\n",
       "        vertical-align: top;\n",
       "    }\n",
       "</style>\n",
       "<table border=\"1\" class=\"dataframe\">\n",
       "  <thead>\n",
       "    <tr style=\"text-align: right;\">\n",
       "      <th></th>\n",
       "      <th></th>\n",
       "      <th>count</th>\n",
       "      <th>mean</th>\n",
       "      <th>std</th>\n",
       "      <th>min</th>\n",
       "      <th>25%</th>\n",
       "      <th>50%</th>\n",
       "      <th>75%</th>\n",
       "      <th>max</th>\n",
       "    </tr>\n",
       "    <tr>\n",
       "      <th>Day</th>\n",
       "      <th>Animal</th>\n",
       "      <th></th>\n",
       "      <th></th>\n",
       "      <th></th>\n",
       "      <th></th>\n",
       "      <th></th>\n",
       "      <th></th>\n",
       "      <th></th>\n",
       "      <th></th>\n",
       "    </tr>\n",
       "  </thead>\n",
       "  <tbody>\n",
       "    <tr>\n",
       "      <th rowspan=\"3\" valign=\"top\">4</th>\n",
       "      <th>04A</th>\n",
       "      <td>50.0</td>\n",
       "      <td>27.040000</td>\n",
       "      <td>23.687558</td>\n",
       "      <td>4.0</td>\n",
       "      <td>11.25</td>\n",
       "      <td>17.5</td>\n",
       "      <td>35.00</td>\n",
       "      <td>111.0</td>\n",
       "    </tr>\n",
       "    <tr>\n",
       "      <th>04B</th>\n",
       "      <td>23.0</td>\n",
       "      <td>65.043478</td>\n",
       "      <td>43.849410</td>\n",
       "      <td>15.0</td>\n",
       "      <td>34.50</td>\n",
       "      <td>53.0</td>\n",
       "      <td>80.00</td>\n",
       "      <td>171.0</td>\n",
       "    </tr>\n",
       "    <tr>\n",
       "      <th>04C</th>\n",
       "      <td>51.0</td>\n",
       "      <td>60.509804</td>\n",
       "      <td>45.424387</td>\n",
       "      <td>10.0</td>\n",
       "      <td>29.50</td>\n",
       "      <td>52.0</td>\n",
       "      <td>77.00</td>\n",
       "      <td>249.0</td>\n",
       "    </tr>\n",
       "    <tr>\n",
       "      <th rowspan=\"3\" valign=\"top\">10</th>\n",
       "      <th>10A</th>\n",
       "      <td>27.0</td>\n",
       "      <td>77.851852</td>\n",
       "      <td>56.305283</td>\n",
       "      <td>18.0</td>\n",
       "      <td>28.50</td>\n",
       "      <td>69.0</td>\n",
       "      <td>122.00</td>\n",
       "      <td>245.0</td>\n",
       "    </tr>\n",
       "    <tr>\n",
       "      <th>10B</th>\n",
       "      <td>14.0</td>\n",
       "      <td>84.571429</td>\n",
       "      <td>65.752115</td>\n",
       "      <td>23.0</td>\n",
       "      <td>37.50</td>\n",
       "      <td>52.0</td>\n",
       "      <td>135.25</td>\n",
       "      <td>199.0</td>\n",
       "    </tr>\n",
       "    <tr>\n",
       "      <th>10C</th>\n",
       "      <td>17.0</td>\n",
       "      <td>108.764706</td>\n",
       "      <td>125.449955</td>\n",
       "      <td>15.0</td>\n",
       "      <td>46.00</td>\n",
       "      <td>73.0</td>\n",
       "      <td>105.00</td>\n",
       "      <td>505.0</td>\n",
       "    </tr>\n",
       "    <tr>\n",
       "      <th rowspan=\"3\" valign=\"top\">21</th>\n",
       "      <th>21B</th>\n",
       "      <td>14.0</td>\n",
       "      <td>208.142857</td>\n",
       "      <td>197.709133</td>\n",
       "      <td>35.0</td>\n",
       "      <td>72.00</td>\n",
       "      <td>160.5</td>\n",
       "      <td>237.00</td>\n",
       "      <td>781.0</td>\n",
       "    </tr>\n",
       "    <tr>\n",
       "      <th>21D</th>\n",
       "      <td>15.0</td>\n",
       "      <td>181.133333</td>\n",
       "      <td>109.368882</td>\n",
       "      <td>50.0</td>\n",
       "      <td>90.00</td>\n",
       "      <td>167.0</td>\n",
       "      <td>253.50</td>\n",
       "      <td>379.0</td>\n",
       "    </tr>\n",
       "    <tr>\n",
       "      <th>21E</th>\n",
       "      <td>11.0</td>\n",
       "      <td>323.090909</td>\n",
       "      <td>145.936599</td>\n",
       "      <td>108.0</td>\n",
       "      <td>218.00</td>\n",
       "      <td>298.0</td>\n",
       "      <td>434.50</td>\n",
       "      <td>572.0</td>\n",
       "    </tr>\n",
       "    <tr>\n",
       "      <th rowspan=\"4\" valign=\"top\">60</th>\n",
       "      <th>60B</th>\n",
       "      <td>24.0</td>\n",
       "      <td>701.750000</td>\n",
       "      <td>230.946116</td>\n",
       "      <td>322.0</td>\n",
       "      <td>506.50</td>\n",
       "      <td>728.0</td>\n",
       "      <td>849.00</td>\n",
       "      <td>1296.0</td>\n",
       "    </tr>\n",
       "    <tr>\n",
       "      <th>60C</th>\n",
       "      <td>20.0</td>\n",
       "      <td>207.600000</td>\n",
       "      <td>120.227153</td>\n",
       "      <td>60.0</td>\n",
       "      <td>136.00</td>\n",
       "      <td>172.0</td>\n",
       "      <td>254.00</td>\n",
       "      <td>540.0</td>\n",
       "    </tr>\n",
       "    <tr>\n",
       "      <th>60D</th>\n",
       "      <td>10.0</td>\n",
       "      <td>727.400000</td>\n",
       "      <td>198.946224</td>\n",
       "      <td>444.0</td>\n",
       "      <td>598.50</td>\n",
       "      <td>737.0</td>\n",
       "      <td>780.00</td>\n",
       "      <td>1182.0</td>\n",
       "    </tr>\n",
       "    <tr>\n",
       "      <th>60E</th>\n",
       "      <td>9.0</td>\n",
       "      <td>791.555556</td>\n",
       "      <td>268.917790</td>\n",
       "      <td>272.0</td>\n",
       "      <td>736.00</td>\n",
       "      <td>740.0</td>\n",
       "      <td>944.00</td>\n",
       "      <td>1204.0</td>\n",
       "    </tr>\n",
       "  </tbody>\n",
       "</table>\n",
       "</div>"
      ],
      "text/plain": [
       "            count        mean         std    min     25%    50%     75%  \\\n",
       "Day Animal                                                                \n",
       "4   04A      50.0   27.040000   23.687558    4.0   11.25   17.5   35.00   \n",
       "    04B      23.0   65.043478   43.849410   15.0   34.50   53.0   80.00   \n",
       "    04C      51.0   60.509804   45.424387   10.0   29.50   52.0   77.00   \n",
       "10  10A      27.0   77.851852   56.305283   18.0   28.50   69.0  122.00   \n",
       "    10B      14.0   84.571429   65.752115   23.0   37.50   52.0  135.25   \n",
       "    10C      17.0  108.764706  125.449955   15.0   46.00   73.0  105.00   \n",
       "21  21B      14.0  208.142857  197.709133   35.0   72.00  160.5  237.00   \n",
       "    21D      15.0  181.133333  109.368882   50.0   90.00  167.0  253.50   \n",
       "    21E      11.0  323.090909  145.936599  108.0  218.00  298.0  434.50   \n",
       "60  60B      24.0  701.750000  230.946116  322.0  506.50  728.0  849.00   \n",
       "    60C      20.0  207.600000  120.227153   60.0  136.00  172.0  254.00   \n",
       "    60D      10.0  727.400000  198.946224  444.0  598.50  737.0  780.00   \n",
       "    60E       9.0  791.555556  268.917790  272.0  736.00  740.0  944.00   \n",
       "\n",
       "               max  \n",
       "Day Animal          \n",
       "4   04A      111.0  \n",
       "    04B      171.0  \n",
       "    04C      249.0  \n",
       "10  10A      245.0  \n",
       "    10B      199.0  \n",
       "    10C      505.0  \n",
       "21  21B      781.0  \n",
       "    21D      379.0  \n",
       "    21E      572.0  \n",
       "60  60B     1296.0  \n",
       "    60C      540.0  \n",
       "    60D     1182.0  \n",
       "    60E     1204.0  "
      ]
     },
     "execution_count": 30,
     "metadata": {},
     "output_type": "execute_result"
    }
   ],
   "source": [
    "# Let's get a quick overview of the data\n",
    "Counts.groupby(by=['Day', 'Animal'])['Counts'].describe()"
   ]
  },
  {
   "cell_type": "code",
   "execution_count": 31,
   "metadata": {
    "collapsed": true
   },
   "outputs": [],
   "source": [
    "# Set ourselves a palette, based on the individual unique sample names\n",
    "# The dictionary palette setting is based on the comments in https://stackoverflow.com/q/36554075/323100\n",
    "ourcolors=seaborn.color_palette('husl', len(pandas.unique(Counts.Animal)))\n",
    "ourpalette = {animal:ourcolors[c] for c, animal in enumerate(pandas.unique(Counts.Animal))}"
   ]
  },
  {
   "cell_type": "code",
   "execution_count": 32,
   "metadata": {
    "collapsed": true
   },
   "outputs": [],
   "source": [
    "# Set indivdual measurement color (in dataframe)\n",
    "Counts['Color'] = [None] * len(Counts)\n",
    "for c,animal in enumerate(Counts.Animal):\n",
    "    for d,i in enumerate(pandas.unique(Counts.Animal)):\n",
    "        if animal == i:\n",
    "            Counts.set_value(c, 'Color', ourcolors[d])"
   ]
  },
  {
   "cell_type": "code",
   "execution_count": 33,
   "metadata": {},
   "outputs": [
    {
     "data": {
      "image/png": "[encoded data removed]",
      "text/plain": [
       "<matplotlib.figure.Figure at 0x7f2f03b51278>"
      ]
     },
     "metadata": {},
     "output_type": "display_data"
    }
   ],
   "source": [
    "seaborn.palplot(ourcolors)"
   ]
  },
  {
   "cell_type": "code",
   "execution_count": 34,
   "metadata": {},
   "outputs": [
    {
     "data": {
      "image/png": "[encoded data removed]",
      "text/plain": [
       "<matplotlib.figure.Figure at 0x7f2f30c1d3c8>"
      ]
     },
     "metadata": {},
     "output_type": "display_data"
    }
   ],
   "source": [
    "seaborn.violinplot(data=Counts, x='Day', y='Counts', cut=0, scale='count',\n",
    "                   palette=seaborn.color_palette('husl', len(pandas.unique(Counts.Day))),\n",
    "                   inner='quartiles')\n",
    "seaborn.swarmplot(data=Counts, x='Day', y='Counts', split=False, linewidth=1,\n",
    "                  palette=seaborn.color_palette('husl', len(pandas.unique(Counts.Day))),\n",
    "                  edgecolor='k', alpha=0.309)\n",
    "plt.title('All counts')\n",
    "plt.ylim(ymin=0)\n",
    "plt.savefig(os.path.join(imgdir, 'counts_global.png'), bbox_inches='tight')\n",
    "plt.show()"
   ]
  },
  {
   "cell_type": "code",
   "execution_count": 35,
   "metadata": {},
   "outputs": [
    {
     "data": {
      "image/png": "[encoded data removed]",
      "text/plain": [
       "<matplotlib.figure.Figure at 0x7f2f0011e048>"
      ]
     },
     "metadata": {},
     "output_type": "display_data"
    }
   ],
   "source": [
    "for c, d in enumerate(pandas.unique(Counts.Day)):\n",
    "    plt.subplot(1, len(pandas.unique(Counts.Day)), c + 1)\n",
    "    bxplt = seaborn.violinplot(data=Counts.loc[Counts.Day == d], x='Day', y='Counts',\n",
    "                               hue='Animal', palette=ourpalette, cut=0, inner='quartiles')\n",
    "    swrmplt = seaborn.swarmplot(data=Counts.loc[Counts.Day == d], x='Day', y='Counts', hue='Animal',\n",
    "                                split=True, linewidth=1, palette=ourpalette, edgecolor='k', alpha=0.309)\n",
    "    handles, labels = plt.gca().get_legend_handles_labels()\n",
    "    plt.ylim([0, 1.1*Counts.Counts.max()])\n",
    "    bxplt.legend(handles[:len(handles)//2], labels[:len(labels)//2])\n",
    "plt.suptitle('Counts, split per animal')\n",
    "plt.savefig(os.path.join(imgdir, 'counts_day.png'), bbox_inches='tight')\n",
    "plt.show()"
   ]
  },
  {
   "cell_type": "markdown",
   "metadata": {},
   "source": [
    "Load the volume data directly from `anatera4`, where I originally exported the DICOM files from MeVisLab (and where the data still is).\n",
    "After doing that, we save it to a dataframe on disk, since looking for all the DICOM files takes nearly an hour..."
   ]
  },
  {
   "cell_type": "code",
   "execution_count": 36,
   "metadata": {},
   "outputs": [
    {
     "name": "stdout",
     "output_type": "stream",
     "text": [
      "We are loading all the data from /run/user/1000/gvfs/smb-share:server=anatera4,share=share/SLS\n"
     ]
    }
   ],
   "source": [
    "# Different locations if running either on Linux or Windows\n",
    "if 'debian' in platform.dist():\n",
    "    drive = '/run/user/1000/gvfs/smb-share:server=anatera4,share='\n",
    "else:\n",
    "    drive = '\\\\\\\\anatera4\\\\'\n",
    "# Load the data from this folder\n",
    "terastation = drive + os.path.join('share', 'SLS')\n",
    "print('We are loading all the data from %s' % terastation)"
   ]
  },
  {
   "cell_type": "code",
   "execution_count": 37,
   "metadata": {
    "collapsed": true
   },
   "outputs": [],
   "source": [
    "# Filename to save the data\n",
    "OutputName = 'VolumesFromDisk.pkl'"
   ]
  },
  {
   "cell_type": "code",
   "execution_count": 38,
   "metadata": {},
   "outputs": [
    {
     "name": "stdout",
     "output_type": "stream",
     "text": [
      "We scan /run/user/1000/gvfs/smb-share:server=anatera4,share=share/SLS for \"R108*.dcm\" files\n"
     ]
    },
    {
     "ename": "KeyboardInterrupt",
     "evalue": "",
     "output_type": "error",
     "traceback": [
      "\u001b[0;31m---------------------------------------------------------------------------\u001b[0m",
      "\u001b[0;31mKeyboardInterrupt\u001b[0m                         Traceback (most recent call last)",
      "\u001b[0;32m<ipython-input-38-ecd437bfe7ed>\u001b[0m in \u001b[0;36m<module>\u001b[0;34m()\u001b[0m\n\u001b[1;32m      8\u001b[0m     \u001b[0mprint\u001b[0m\u001b[0;34m(\u001b[0m\u001b[0;34m'We scan %s for \"R108*.dcm\" files'\u001b[0m \u001b[0;34m%\u001b[0m \u001b[0mterastation\u001b[0m\u001b[0;34m)\u001b[0m\u001b[0;34m\u001b[0m\u001b[0m\n\u001b[1;32m      9\u001b[0m     \u001b[0mtic\u001b[0m \u001b[0;34m=\u001b[0m \u001b[0mtimeit\u001b[0m\u001b[0;34m.\u001b[0m\u001b[0mdefault_timer\u001b[0m\u001b[0;34m(\u001b[0m\u001b[0;34m)\u001b[0m\u001b[0;34m\u001b[0m\u001b[0m\n\u001b[0;32m---> 10\u001b[0;31m     \u001b[0mAcinarVolumeFiles\u001b[0m \u001b[0;34m=\u001b[0m \u001b[0msorted\u001b[0m\u001b[0;34m(\u001b[0m\u001b[0mglob\u001b[0m\u001b[0;34m.\u001b[0m\u001b[0mglob\u001b[0m\u001b[0;34m(\u001b[0m\u001b[0mos\u001b[0m\u001b[0;34m.\u001b[0m\u001b[0mpath\u001b[0m\u001b[0;34m.\u001b[0m\u001b[0mjoin\u001b[0m\u001b[0;34m(\u001b[0m\u001b[0mterastation\u001b[0m\u001b[0;34m,\u001b[0m \u001b[0;34m'**/R108*.dcm'\u001b[0m\u001b[0;34m)\u001b[0m\u001b[0;34m,\u001b[0m \u001b[0mrecursive\u001b[0m\u001b[0;34m=\u001b[0m\u001b[0;32mTrue\u001b[0m\u001b[0;34m)\u001b[0m\u001b[0;34m)\u001b[0m\u001b[0;34m\u001b[0m\u001b[0m\n\u001b[0m\u001b[1;32m     11\u001b[0m     \u001b[0mtoc\u001b[0m \u001b[0;34m=\u001b[0m \u001b[0mtimeit\u001b[0m\u001b[0;34m.\u001b[0m\u001b[0mdefault_timer\u001b[0m\u001b[0;34m(\u001b[0m\u001b[0;34m)\u001b[0m\u001b[0;34m\u001b[0m\u001b[0m\n\u001b[1;32m     12\u001b[0m     print('We found %s DICOM files in %s minutes' % (len(AcinarVolumeFiles),\n",
      "\u001b[0;32m~/miniconda3/lib/python3.6/glob.py\u001b[0m in \u001b[0;36mglob\u001b[0;34m(pathname, recursive)\u001b[0m\n\u001b[1;32m     18\u001b[0m     \u001b[0mzero\u001b[0m \u001b[0;32mor\u001b[0m \u001b[0mmore\u001b[0m \u001b[0mdirectories\u001b[0m \u001b[0;32mand\u001b[0m \u001b[0msubdirectories\u001b[0m\u001b[0;34m.\u001b[0m\u001b[0;34m\u001b[0m\u001b[0m\n\u001b[1;32m     19\u001b[0m     \"\"\"\n\u001b[0;32m---> 20\u001b[0;31m     \u001b[0;32mreturn\u001b[0m \u001b[0mlist\u001b[0m\u001b[0;34m(\u001b[0m\u001b[0miglob\u001b[0m\u001b[0;34m(\u001b[0m\u001b[0mpathname\u001b[0m\u001b[0;34m,\u001b[0m \u001b[0mrecursive\u001b[0m\u001b[0;34m=\u001b[0m\u001b[0mrecursive\u001b[0m\u001b[0;34m)\u001b[0m\u001b[0;34m)\u001b[0m\u001b[0;34m\u001b[0m\u001b[0m\n\u001b[0m\u001b[1;32m     21\u001b[0m \u001b[0;34m\u001b[0m\u001b[0m\n\u001b[1;32m     22\u001b[0m \u001b[0;32mdef\u001b[0m \u001b[0miglob\u001b[0m\u001b[0;34m(\u001b[0m\u001b[0mpathname\u001b[0m\u001b[0;34m,\u001b[0m \u001b[0;34m*\u001b[0m\u001b[0;34m,\u001b[0m \u001b[0mrecursive\u001b[0m\u001b[0;34m=\u001b[0m\u001b[0;32mFalse\u001b[0m\u001b[0;34m)\u001b[0m\u001b[0;34m:\u001b[0m\u001b[0;34m\u001b[0m\u001b[0m\n",
      "\u001b[0;32m~/miniconda3/lib/python3.6/glob.py\u001b[0m in \u001b[0;36m_iglob\u001b[0;34m(pathname, recursive, dironly)\u001b[0m\n\u001b[1;32m     69\u001b[0m     \u001b[0;32melse\u001b[0m\u001b[0;34m:\u001b[0m\u001b[0;34m\u001b[0m\u001b[0m\n\u001b[1;32m     70\u001b[0m         \u001b[0mglob_in_dir\u001b[0m \u001b[0;34m=\u001b[0m \u001b[0m_glob0\u001b[0m\u001b[0;34m\u001b[0m\u001b[0m\n\u001b[0;32m---> 71\u001b[0;31m     \u001b[0;32mfor\u001b[0m \u001b[0mdirname\u001b[0m \u001b[0;32min\u001b[0m \u001b[0mdirs\u001b[0m\u001b[0;34m:\u001b[0m\u001b[0;34m\u001b[0m\u001b[0m\n\u001b[0m\u001b[1;32m     72\u001b[0m         \u001b[0;32mfor\u001b[0m \u001b[0mname\u001b[0m \u001b[0;32min\u001b[0m \u001b[0mglob_in_dir\u001b[0m\u001b[0;34m(\u001b[0m\u001b[0mdirname\u001b[0m\u001b[0;34m,\u001b[0m \u001b[0mbasename\u001b[0m\u001b[0;34m,\u001b[0m \u001b[0mdironly\u001b[0m\u001b[0;34m)\u001b[0m\u001b[0;34m:\u001b[0m\u001b[0;34m\u001b[0m\u001b[0m\n\u001b[1;32m     73\u001b[0m             \u001b[0;32myield\u001b[0m \u001b[0mos\u001b[0m\u001b[0;34m.\u001b[0m\u001b[0mpath\u001b[0m\u001b[0;34m.\u001b[0m\u001b[0mjoin\u001b[0m\u001b[0;34m(\u001b[0m\u001b[0mdirname\u001b[0m\u001b[0;34m,\u001b[0m \u001b[0mname\u001b[0m\u001b[0;34m)\u001b[0m\u001b[0;34m\u001b[0m\u001b[0m\n",
      "\u001b[0;32m~/miniconda3/lib/python3.6/glob.py\u001b[0m in \u001b[0;36m_iglob\u001b[0;34m(pathname, recursive, dironly)\u001b[0m\n\u001b[1;32m     70\u001b[0m         \u001b[0mglob_in_dir\u001b[0m \u001b[0;34m=\u001b[0m \u001b[0m_glob0\u001b[0m\u001b[0;34m\u001b[0m\u001b[0m\n\u001b[1;32m     71\u001b[0m     \u001b[0;32mfor\u001b[0m \u001b[0mdirname\u001b[0m \u001b[0;32min\u001b[0m \u001b[0mdirs\u001b[0m\u001b[0;34m:\u001b[0m\u001b[0;34m\u001b[0m\u001b[0m\n\u001b[0;32m---> 72\u001b[0;31m         \u001b[0;32mfor\u001b[0m \u001b[0mname\u001b[0m \u001b[0;32min\u001b[0m \u001b[0mglob_in_dir\u001b[0m\u001b[0;34m(\u001b[0m\u001b[0mdirname\u001b[0m\u001b[0;34m,\u001b[0m \u001b[0mbasename\u001b[0m\u001b[0;34m,\u001b[0m \u001b[0mdironly\u001b[0m\u001b[0;34m)\u001b[0m\u001b[0;34m:\u001b[0m\u001b[0;34m\u001b[0m\u001b[0m\n\u001b[0m\u001b[1;32m     73\u001b[0m             \u001b[0;32myield\u001b[0m \u001b[0mos\u001b[0m\u001b[0;34m.\u001b[0m\u001b[0mpath\u001b[0m\u001b[0;34m.\u001b[0m\u001b[0mjoin\u001b[0m\u001b[0;34m(\u001b[0m\u001b[0mdirname\u001b[0m\u001b[0;34m,\u001b[0m \u001b[0mname\u001b[0m\u001b[0;34m)\u001b[0m\u001b[0;34m\u001b[0m\u001b[0m\n\u001b[1;32m     74\u001b[0m \u001b[0;34m\u001b[0m\u001b[0m\n",
      "\u001b[0;32m~/miniconda3/lib/python3.6/glob.py\u001b[0m in \u001b[0;36m_glob2\u001b[0;34m(dirname, pattern, dironly)\u001b[0m\n\u001b[1;32m    108\u001b[0m     \u001b[0;32massert\u001b[0m \u001b[0m_isrecursive\u001b[0m\u001b[0;34m(\u001b[0m\u001b[0mpattern\u001b[0m\u001b[0;34m)\u001b[0m\u001b[0;34m\u001b[0m\u001b[0m\n\u001b[1;32m    109\u001b[0m     \u001b[0;32myield\u001b[0m \u001b[0mpattern\u001b[0m\u001b[0;34m[\u001b[0m\u001b[0;34m:\u001b[0m\u001b[0;36m0\u001b[0m\u001b[0;34m]\u001b[0m\u001b[0;34m\u001b[0m\u001b[0m\n\u001b[0;32m--> 110\u001b[0;31m     \u001b[0;32myield\u001b[0m \u001b[0;32mfrom\u001b[0m \u001b[0m_rlistdir\u001b[0m\u001b[0;34m(\u001b[0m\u001b[0mdirname\u001b[0m\u001b[0;34m,\u001b[0m \u001b[0mdironly\u001b[0m\u001b[0;34m)\u001b[0m\u001b[0;34m\u001b[0m\u001b[0m\n\u001b[0m\u001b[1;32m    111\u001b[0m \u001b[0;34m\u001b[0m\u001b[0m\n\u001b[1;32m    112\u001b[0m \u001b[0;31m# If dironly is false, yields all file names inside a directory.\u001b[0m\u001b[0;34m\u001b[0m\u001b[0;34m\u001b[0m\u001b[0m\n",
      "\u001b[0;32m~/miniconda3/lib/python3.6/glob.py\u001b[0m in \u001b[0;36m_rlistdir\u001b[0;34m(dirname, dironly)\u001b[0m\n\u001b[1;32m    136\u001b[0m             \u001b[0;32myield\u001b[0m \u001b[0mx\u001b[0m\u001b[0;34m\u001b[0m\u001b[0m\n\u001b[1;32m    137\u001b[0m             \u001b[0mpath\u001b[0m \u001b[0;34m=\u001b[0m \u001b[0mos\u001b[0m\u001b[0;34m.\u001b[0m\u001b[0mpath\u001b[0m\u001b[0;34m.\u001b[0m\u001b[0mjoin\u001b[0m\u001b[0;34m(\u001b[0m\u001b[0mdirname\u001b[0m\u001b[0;34m,\u001b[0m \u001b[0mx\u001b[0m\u001b[0;34m)\u001b[0m \u001b[0;32mif\u001b[0m \u001b[0mdirname\u001b[0m \u001b[0;32melse\u001b[0m \u001b[0mx\u001b[0m\u001b[0;34m\u001b[0m\u001b[0m\n\u001b[0;32m--> 138\u001b[0;31m             \u001b[0;32mfor\u001b[0m \u001b[0my\u001b[0m \u001b[0;32min\u001b[0m \u001b[0m_rlistdir\u001b[0m\u001b[0;34m(\u001b[0m\u001b[0mpath\u001b[0m\u001b[0;34m,\u001b[0m \u001b[0mdironly\u001b[0m\u001b[0;34m)\u001b[0m\u001b[0;34m:\u001b[0m\u001b[0;34m\u001b[0m\u001b[0m\n\u001b[0m\u001b[1;32m    139\u001b[0m                 \u001b[0;32myield\u001b[0m \u001b[0mos\u001b[0m\u001b[0;34m.\u001b[0m\u001b[0mpath\u001b[0m\u001b[0;34m.\u001b[0m\u001b[0mjoin\u001b[0m\u001b[0;34m(\u001b[0m\u001b[0mx\u001b[0m\u001b[0;34m,\u001b[0m \u001b[0my\u001b[0m\u001b[0;34m)\u001b[0m\u001b[0;34m\u001b[0m\u001b[0m\n\u001b[1;32m    140\u001b[0m \u001b[0;34m\u001b[0m\u001b[0m\n",
      "\u001b[0;32m~/miniconda3/lib/python3.6/glob.py\u001b[0m in \u001b[0;36m_rlistdir\u001b[0;34m(dirname, dironly)\u001b[0m\n\u001b[1;32m    136\u001b[0m             \u001b[0;32myield\u001b[0m \u001b[0mx\u001b[0m\u001b[0;34m\u001b[0m\u001b[0m\n\u001b[1;32m    137\u001b[0m             \u001b[0mpath\u001b[0m \u001b[0;34m=\u001b[0m \u001b[0mos\u001b[0m\u001b[0;34m.\u001b[0m\u001b[0mpath\u001b[0m\u001b[0;34m.\u001b[0m\u001b[0mjoin\u001b[0m\u001b[0;34m(\u001b[0m\u001b[0mdirname\u001b[0m\u001b[0;34m,\u001b[0m \u001b[0mx\u001b[0m\u001b[0;34m)\u001b[0m \u001b[0;32mif\u001b[0m \u001b[0mdirname\u001b[0m \u001b[0;32melse\u001b[0m \u001b[0mx\u001b[0m\u001b[0;34m\u001b[0m\u001b[0m\n\u001b[0;32m--> 138\u001b[0;31m             \u001b[0;32mfor\u001b[0m \u001b[0my\u001b[0m \u001b[0;32min\u001b[0m \u001b[0m_rlistdir\u001b[0m\u001b[0;34m(\u001b[0m\u001b[0mpath\u001b[0m\u001b[0;34m,\u001b[0m \u001b[0mdironly\u001b[0m\u001b[0;34m)\u001b[0m\u001b[0;34m:\u001b[0m\u001b[0;34m\u001b[0m\u001b[0m\n\u001b[0m\u001b[1;32m    139\u001b[0m                 \u001b[0;32myield\u001b[0m \u001b[0mos\u001b[0m\u001b[0;34m.\u001b[0m\u001b[0mpath\u001b[0m\u001b[0;34m.\u001b[0m\u001b[0mjoin\u001b[0m\u001b[0;34m(\u001b[0m\u001b[0mx\u001b[0m\u001b[0;34m,\u001b[0m \u001b[0my\u001b[0m\u001b[0;34m)\u001b[0m\u001b[0;34m\u001b[0m\u001b[0m\n\u001b[1;32m    140\u001b[0m \u001b[0;34m\u001b[0m\u001b[0m\n",
      "\u001b[0;32m~/miniconda3/lib/python3.6/glob.py\u001b[0m in \u001b[0;36m_rlistdir\u001b[0;34m(dirname, dironly)\u001b[0m\n\u001b[1;32m    136\u001b[0m             \u001b[0;32myield\u001b[0m \u001b[0mx\u001b[0m\u001b[0;34m\u001b[0m\u001b[0m\n\u001b[1;32m    137\u001b[0m             \u001b[0mpath\u001b[0m \u001b[0;34m=\u001b[0m \u001b[0mos\u001b[0m\u001b[0;34m.\u001b[0m\u001b[0mpath\u001b[0m\u001b[0;34m.\u001b[0m\u001b[0mjoin\u001b[0m\u001b[0;34m(\u001b[0m\u001b[0mdirname\u001b[0m\u001b[0;34m,\u001b[0m \u001b[0mx\u001b[0m\u001b[0;34m)\u001b[0m \u001b[0;32mif\u001b[0m \u001b[0mdirname\u001b[0m \u001b[0;32melse\u001b[0m \u001b[0mx\u001b[0m\u001b[0;34m\u001b[0m\u001b[0m\n\u001b[0;32m--> 138\u001b[0;31m             \u001b[0;32mfor\u001b[0m \u001b[0my\u001b[0m \u001b[0;32min\u001b[0m \u001b[0m_rlistdir\u001b[0m\u001b[0;34m(\u001b[0m\u001b[0mpath\u001b[0m\u001b[0;34m,\u001b[0m \u001b[0mdironly\u001b[0m\u001b[0;34m)\u001b[0m\u001b[0;34m:\u001b[0m\u001b[0;34m\u001b[0m\u001b[0m\n\u001b[0m\u001b[1;32m    139\u001b[0m                 \u001b[0;32myield\u001b[0m \u001b[0mos\u001b[0m\u001b[0;34m.\u001b[0m\u001b[0mpath\u001b[0m\u001b[0;34m.\u001b[0m\u001b[0mjoin\u001b[0m\u001b[0;34m(\u001b[0m\u001b[0mx\u001b[0m\u001b[0;34m,\u001b[0m \u001b[0my\u001b[0m\u001b[0;34m)\u001b[0m\u001b[0;34m\u001b[0m\u001b[0m\n\u001b[1;32m    140\u001b[0m \u001b[0;34m\u001b[0m\u001b[0m\n",
      "\u001b[0;32m~/miniconda3/lib/python3.6/glob.py\u001b[0m in \u001b[0;36m_rlistdir\u001b[0;34m(dirname, dironly)\u001b[0m\n\u001b[1;32m    131\u001b[0m \u001b[0;31m# Recursively yields relative pathnames inside a literal directory.\u001b[0m\u001b[0;34m\u001b[0m\u001b[0;34m\u001b[0m\u001b[0m\n\u001b[1;32m    132\u001b[0m \u001b[0;32mdef\u001b[0m \u001b[0m_rlistdir\u001b[0m\u001b[0;34m(\u001b[0m\u001b[0mdirname\u001b[0m\u001b[0;34m,\u001b[0m \u001b[0mdironly\u001b[0m\u001b[0;34m)\u001b[0m\u001b[0;34m:\u001b[0m\u001b[0;34m\u001b[0m\u001b[0m\n\u001b[0;32m--> 133\u001b[0;31m     \u001b[0mnames\u001b[0m \u001b[0;34m=\u001b[0m \u001b[0mlist\u001b[0m\u001b[0;34m(\u001b[0m\u001b[0m_iterdir\u001b[0m\u001b[0;34m(\u001b[0m\u001b[0mdirname\u001b[0m\u001b[0;34m,\u001b[0m \u001b[0mdironly\u001b[0m\u001b[0;34m)\u001b[0m\u001b[0;34m)\u001b[0m\u001b[0;34m\u001b[0m\u001b[0m\n\u001b[0m\u001b[1;32m    134\u001b[0m     \u001b[0;32mfor\u001b[0m \u001b[0mx\u001b[0m \u001b[0;32min\u001b[0m \u001b[0mnames\u001b[0m\u001b[0;34m:\u001b[0m\u001b[0;34m\u001b[0m\u001b[0m\n\u001b[1;32m    135\u001b[0m         \u001b[0;32mif\u001b[0m \u001b[0;32mnot\u001b[0m \u001b[0m_ishidden\u001b[0m\u001b[0;34m(\u001b[0m\u001b[0mx\u001b[0m\u001b[0;34m)\u001b[0m\u001b[0;34m:\u001b[0m\u001b[0;34m\u001b[0m\u001b[0m\n",
      "\u001b[0;32m~/miniconda3/lib/python3.6/glob.py\u001b[0m in \u001b[0;36m_iterdir\u001b[0;34m(dirname, dironly)\u001b[0m\n\u001b[1;32m    122\u001b[0m             \u001b[0;32mfor\u001b[0m \u001b[0mentry\u001b[0m \u001b[0;32min\u001b[0m \u001b[0mit\u001b[0m\u001b[0;34m:\u001b[0m\u001b[0;34m\u001b[0m\u001b[0m\n\u001b[1;32m    123\u001b[0m                 \u001b[0;32mtry\u001b[0m\u001b[0;34m:\u001b[0m\u001b[0;34m\u001b[0m\u001b[0m\n\u001b[0;32m--> 124\u001b[0;31m                     \u001b[0;32mif\u001b[0m \u001b[0;32mnot\u001b[0m \u001b[0mdironly\u001b[0m \u001b[0;32mor\u001b[0m \u001b[0mentry\u001b[0m\u001b[0;34m.\u001b[0m\u001b[0mis_dir\u001b[0m\u001b[0;34m(\u001b[0m\u001b[0;34m)\u001b[0m\u001b[0;34m:\u001b[0m\u001b[0;34m\u001b[0m\u001b[0m\n\u001b[0m\u001b[1;32m    125\u001b[0m                         \u001b[0;32myield\u001b[0m \u001b[0mentry\u001b[0m\u001b[0;34m.\u001b[0m\u001b[0mname\u001b[0m\u001b[0;34m\u001b[0m\u001b[0m\n\u001b[1;32m    126\u001b[0m                 \u001b[0;32mexcept\u001b[0m \u001b[0mOSError\u001b[0m\u001b[0;34m:\u001b[0m\u001b[0;34m\u001b[0m\u001b[0m\n",
      "\u001b[0;31mKeyboardInterrupt\u001b[0m: "
     ]
    }
   ],
   "source": [
    "# Get a list of *all* DICOM files that I exported aeons ago\n",
    "# Based on https://stackoverflow.com/a/14798263\n",
    "# This takes between 30 and 60 minutes!!!\n",
    "# We thus only do it if we cannot read the dataframe with all the data that we save later on...\n",
    "if os.path.exists(OutputName):\n",
    "    print('We load the data from %s' % OutputName)\n",
    "else:\n",
    "    print('We scan %s for \"R108*.dcm\" files' % terastation)\n",
    "    tic = timeit.default_timer()\n",
    "    AcinarVolumeFiles = sorted(glob.glob(os.path.join(terastation, '**/R108*.dcm'), recursive=True))\n",
    "    toc = timeit.default_timer()\n",
    "    print('We found %s DICOM files in %s minutes' % (len(AcinarVolumeFiles),\n",
    "                                                     round(float((toc - tic) / 60.), 1)))"
   ]
  },
  {
   "cell_type": "code",
   "execution_count": null,
   "metadata": {
    "collapsed": true
   },
   "outputs": [],
   "source": [
    "if os.path.exists(OutputName):\n",
    "    # Load the data from disk\n",
    "    VolumesFromDisk = pandas.read_pickle(OutputName)\n",
    "else:\n",
    "    # Generate an empty dataframe where we save the volumes\n",
    "    VolumesFromDisk = pandas.DataFrame()"
   ]
  },
  {
   "cell_type": "code",
   "execution_count": null,
   "metadata": {
    "collapsed": true
   },
   "outputs": [],
   "source": [
    "# sorted(AcinarVolumeFiles_glob)[:5]"
   ]
  },
  {
   "cell_type": "code",
   "execution_count": null,
   "metadata": {
    "collapsed": true
   },
   "outputs": [],
   "source": [
    "# Save the filename into the dataframe\n",
    "if not os.path.exists(OutputName):\n",
    "    VolumesFromDisk = pandas.DataFrame({'Location_Volume': AcinarVolumeFiles})"
   ]
  },
  {
   "cell_type": "code",
   "execution_count": null,
   "metadata": {
    "collapsed": true
   },
   "outputs": [],
   "source": [
    "# # Grab relevant data from filenames\n",
    "# for f in AcinarVolumeFiles:\n",
    "#     print(os.path.basename(f))\n",
    "#     print('Animal', os.path.basename(f).split('R108C')[1].split('mrg.')[0][:-2])\n",
    "#     print('Day', os.path.basename(f).split('R108C')[1].split('mrg')[0][:2])\n",
    "#     print('Acinus', os.path.basename(f).split('.acinus')[1].split('.volume')[0])\n",
    "#     print('Volume', os.path.basename(f).split('.volume')[1].split('.pixelsize')[0])\n",
    "#     print('Scantime', os.path.dirname(f).split('SLS')[1].split(os.sep)[1])\n",
    "#     print(80*'-')"
   ]
  },
  {
   "cell_type": "code",
   "execution_count": null,
   "metadata": {
    "collapsed": true
   },
   "outputs": [],
   "source": [
    "# # Some names (see output of this cell) derive from the R108C$Day$$Animal$ scheme.\n",
    "# # We catch them with the intricate .split() in the cells below...\n",
    "# for i in VolumesFromDisk.File:\n",
    "#     if len(i.split('mrg')[0][len('R108C'):-2]) >3:\n",
    "#         tmp.append(i.split('mrg')[0][len('R108C'):-2])\n",
    "# for i in pandas.unique(tmp):\n",
    "#     print(i)"
   ]
  },
  {
   "cell_type": "code",
   "execution_count": null,
   "metadata": {
    "collapsed": true
   },
   "outputs": [],
   "source": [
    "if not os.path.exists(OutputName):\n",
    "    VolumesFromDisk['Filename_Volume'] = [os.path.basename(f) for f in AcinarVolumeFiles]\n",
    "    VolumesFromDisk['Animal'] = [os.path.basename(f).split('mrg')[0][len('R108C'):len('R108C')+3]\n",
    "                                 for f in AcinarVolumeFiles]\n",
    "    VolumesFromDisk['Beamtime'] = [os.path.dirname(f).split('SLS')[1].split(os.sep)[1]\n",
    "                                   for f in AcinarVolumeFiles]\n",
    "    VolumesFromDisk['Day'] = [int(os.path.basename(f).split('mrg')[0][len('R108C'):len('R108C')+2])\n",
    "                              for f in AcinarVolumeFiles]\n",
    "    VolumesFromDisk['Acinus'] = [int(os.path.basename(f).split('.acinus')[1].split('.volume')[0])\n",
    "                                 for f in AcinarVolumeFiles]\n",
    "    # According to the MeVisLab files, the volume is saved to the file name in 'ul'.\n",
    "    # To get cm³ we simply multiply by 1000\n",
    "    VolumesFromDisk['Volume'] = [1000 * float(os.path.basename(f).split('.volume')[1].split('.pixelsize')[0])\n",
    "                                 for f in AcinarVolumeFiles]"
   ]
  },
  {
   "cell_type": "code",
   "execution_count": null,
   "metadata": {
    "collapsed": true
   },
   "outputs": [],
   "source": [
    "# Save the data and give some feedback.\n",
    "if not os.path.exists(OutputName):\n",
    "    VolumesFromDisk.to_pickle(OutputName)\n",
    "print('We have %s acini where we got the volumes' % len(VolumesFromDisk))"
   ]
  },
  {
   "cell_type": "code",
   "execution_count": null,
   "metadata": {
    "collapsed": true
   },
   "outputs": [],
   "source": [
    "# List all the scan times (dates at TOMCAT)\n",
    "# print(VolumesFromDisk['Scantime'].unique())"
   ]
  },
  {
   "cell_type": "code",
   "execution_count": null,
   "metadata": {
    "collapsed": true
   },
   "outputs": [],
   "source": [
    "VolumesFromDisk.groupby(by=['Day', 'Animal'])['Volume'].describe()"
   ]
  },
  {
   "cell_type": "code",
   "execution_count": null,
   "metadata": {
    "collapsed": true
   },
   "outputs": [],
   "source": [
    "# Update palette, since we might have more animals than what we had above in cell 19\n",
    "ourcolors = seaborn.color_palette('husl', len(pandas.unique(VolumesFromDisk.Animal)))\n",
    "ourpalette = {animal: ourcolors[c] for c, animal in enumerate(sorted(pandas.unique(VolumesFromDisk.Animal)))}"
   ]
  },
  {
   "cell_type": "code",
   "execution_count": null,
   "metadata": {
    "collapsed": true
   },
   "outputs": [],
   "source": [
    "# for c,d in enumerate(sorted(pandas.unique(VolumesFromDisk.Day))):\n",
    "#     print(d)\n",
    "#     print(pandas.unique(VolumesFromDisk.loc[VolumesFromDisk.Day == d]['Animal']))"
   ]
  },
  {
   "cell_type": "code",
   "execution_count": null,
   "metadata": {
    "collapsed": true
   },
   "outputs": [],
   "source": [
    "for c, d in enumerate(sorted(pandas.unique(VolumesFromDisk.Day))):\n",
    "    plt.subplot(1, len(pandas.unique(VolumesFromDisk.Day)), c + 1)\n",
    "    bxplt = seaborn.violinplot(data=VolumesFromDisk.loc[VolumesFromDisk.Day == d], x='Day', y='Volume',\n",
    "                               hue='Animal',\n",
    "                               # Because the animals are preferentially sorted on the beamtime name, we have\n",
    "                               # to jump through the hoop below and sort the hues on the 'Animal' in addition\n",
    "                               # to what we did for Evelines counts where all the data is in *one* folder\n",
    "                               # Just comment the line to see the difference (a correct plot, but ugly sort :)\n",
    "                               hue_order=sorted(pandas.unique(VolumesFromDisk.loc[VolumesFromDisk.Day == d]['Animal'])),\n",
    "                               palette=ourpalette, cut=0, inner='quartiles')\n",
    "    swrmplt = seaborn.swarmplot(data=VolumesFromDisk.loc[VolumesFromDisk.Day == d], x='Day', y='Volume',\n",
    "                                hue='Animal',\n",
    "                                hue_order=sorted(pandas.unique(VolumesFromDisk.loc[VolumesFromDisk.Day == d]['Animal'])),\n",
    "                                split=True, linewidth=1, palette=ourpalette, edgecolor='k', alpha=0.309)\n",
    "    handles, labels = plt.gca().get_legend_handles_labels()\n",
    "    plt.ylim([0, 1.1*VolumesFromDisk.Volume.max()])\n",
    "    bxplt.legend(handles[:len(handles)//2], labels[:len(labels)//2])\n",
    "plt.suptitle('Volumes, read from disk. Split per animal')\n",
    "plt.savefig(os.path.join(imgdir, 'volumes_day.png'), bbox_inches='tight')\n",
    "plt.show()"
   ]
  },
  {
   "cell_type": "markdown",
   "metadata": {},
   "source": [
    "Now we 'just' have to concatenate the two dataframes :)"
   ]
  },
  {
   "cell_type": "code",
   "execution_count": null,
   "metadata": {
    "collapsed": true
   },
   "outputs": [],
   "source": [
    "# Merge the dataframes: http://pandas.pydata.org/pandas-docs/stable/merging.html\n",
    "# This seems to discard all entries that are *not* found in both df's\n",
    "print('\\n\\nTODO: confirm values by randomly sampling some file names and Count XLS sheets\\n\\n')\n",
    "Merged = pandas.merge(Counts, VolumesFromDisk)#,\n",
    "#                       on=['Animal', 'Acinus', 'Day'],\n",
    "#                       how='inner',\n",
    "#                       suffixes=('_from_counts', '_from_volume'))"
   ]
  },
  {
   "cell_type": "code",
   "execution_count": null,
   "metadata": {
    "collapsed": true
   },
   "outputs": [],
   "source": [
    "# Doublecheck merged file names (for 10 random items from dataframe)\n",
    "# To make the checking a bit easier, we split the strings and only show the interesting bit\n",
    "for i in range(5):\n",
    "    number = numpy.random.randint(len(Merged))\n",
    "    print('Beamtime:', Merged.iloc[number]['Scantime'])\n",
    "    print('From Volume: Animal', Merged.iloc[number].Filename_Volume.split('mrg.')[0],\n",
    "          '| Acinus',  Merged.iloc[number].Filename_Volume.split('acinus')[1].split('.volume')[0],\n",
    "          '| Volume', Merged.iloc[number]['Volume'])\n",
    "    print('From Counts: Animal', Merged.iloc[number].Filename_Counts.split('mrg-')[0][1:],\n",
    "          '| Acinus',  Merged.iloc[number].Filename_Counts.split('acinus')[1].split('_201')[0],\n",
    "          '| Counts', Merged.iloc[number]['Counts'])\n",
    "    print('Alveolar fraction:', round(Merged.iloc[number]['Alveolar fraction'], 1) )\n",
    "    print(40 * '-')"
   ]
  },
  {
   "cell_type": "code",
   "execution_count": null,
   "metadata": {
    "collapsed": true
   },
   "outputs": [],
   "source": [
    "Merged['CpV'] = Merged['Counts'] / Merged['Volume']"
   ]
  },
  {
   "cell_type": "code",
   "execution_count": null,
   "metadata": {
    "collapsed": true,
    "scrolled": false
   },
   "outputs": [],
   "source": [
    "for c, d in enumerate(sorted(pandas.unique(Merged.Day))):\n",
    "    plt.subplot(1, len(pandas.unique(Merged.Day)), c + 1)\n",
    "    bxplt = seaborn.violinplot(data=Merged.loc[Merged.Day == d], x='Day', y='CpV',\n",
    "                               hue='Animal',\n",
    "                               hue_order=sorted(pandas.unique(Merged.loc[Merged.Day == d]['Animal'])),\n",
    "                               palette=ourpalette, cut=0, inner='stick')\n",
    "    swrmplt = seaborn.swarmplot(data=Merged.loc[Merged.Day == d], x='Day', y='CpV',\n",
    "                                hue='Animal',\n",
    "                                hue_order=sorted(pandas.unique(Merged.loc[Merged.Day == d]['Animal'])),\n",
    "                                split=True, linewidth=1, palette=ourpalette, edgecolor='k', alpha=0.309)\n",
    "    handles, labels = plt.gca().get_legend_handles_labels()\n",
    "    plt.ylim([0, 1.1*Merged.CpV.max()])\n",
    "    bxplt.legend(handles[:len(handles)//2], labels[:len(labels)//2])\n",
    "plt.suptitle('Counts per volume')\n",
    "plt.savefig(os.path.join(imgdir, 'counts_per_volume_day.png'), bbox_inches='tight')\n",
    "plt.show()"
   ]
  },
  {
   "cell_type": "code",
   "execution_count": null,
   "metadata": {
    "collapsed": true
   },
   "outputs": [],
   "source": [
    "# Plot mean +- STD\n",
    "for c, d in enumerate(pandas.unique(Merged.Animal)):\n",
    "    #     print(d)\n",
    "    #     print(numpy.mean(Merged.loc[Merged.Animal == d]['Day']))\n",
    "    #     print(numpy.mean(Merged.loc[Merged.Animal == d]['CpV']))\n",
    "    #     print(numpy.std(Merged.loc[Merged.Animal == d]['CpV']))\n",
    "    #     plt.scatter(numpy.mean(Merged.loc[Merged.Animal == d]['Day']), numpy.mean(Merged.loc[Merged.Animal == d]['CpV']))\n",
    "    plt.errorbar(numpy.mean(Merged.loc[Merged.Animal == d]['Day']) + 0.25 * c % 5,\n",
    "                 numpy.mean(Merged.loc[Merged.Animal == d]['CpV']),\n",
    "                 yerr=numpy.std(Merged.loc[Merged.Animal == d]['CpV']),\n",
    "                 fmt='o')\n",
    "    plt.xlabel('Day')\n",
    "    plt.ylabel('Counts per volume')\n",
    "    plt.xlim([0, 65])\n",
    "plt.savefig(os.path.join(imgdir, 'mean_counts.png'), bbox_inches='tight')\n",
    "plt.show()"
   ]
  },
  {
   "cell_type": "code",
   "execution_count": null,
   "metadata": {
    "collapsed": true
   },
   "outputs": [],
   "source": [
    "Merged['Alveoli'] = Merged['Alveolar fraction'] * Merged['Volume']"
   ]
  },
  {
   "cell_type": "code",
   "execution_count": null,
   "metadata": {
    "collapsed": true,
    "scrolled": false
   },
   "outputs": [],
   "source": [
    "for c, d in enumerate(sorted(pandas.unique(Merged.Day))):\n",
    "    plt.subplot(1, len(pandas.unique(Merged.Day)), c + 1)\n",
    "    bxplt = seaborn.violinplot(data=Merged.loc[Merged.Day == d], x='Day', y='Alveoli',\n",
    "                               hue='Animal',\n",
    "                               hue_order=sorted(pandas.unique(Merged.loc[Merged.Day == d]['Animal'])),\n",
    "                               palette=ourpalette, cut=0, inner='stick')\n",
    "    swrmplt = seaborn.swarmplot(data=Merged.loc[Merged.Day == d], x='Day', y='Alveoli',\n",
    "                                hue='Animal',\n",
    "                                hue_order=sorted(pandas.unique(Merged.loc[Merged.Day == d]['Animal'])),\n",
    "                                split=True, linewidth=1, palette=ourpalette, edgecolor='k', alpha=0.309)\n",
    "    handles, labels = plt.gca().get_legend_handles_labels()\n",
    "    plt.ylim([0, 1.1 * Merged.Alveoli.max()])\n",
    "    bxplt.legend(handles[:len(handles)//2], labels[:len(labels)//2])\n",
    "plt.suptitle('Number of alveoli')\n",
    "plt.savefig(os.path.join(imgdir, 'number_of_alveoli.png'), bbox_inches='tight')\n",
    "plt.show()"
   ]
  },
  {
   "cell_type": "code",
   "execution_count": null,
   "metadata": {
    "collapsed": true
   },
   "outputs": [],
   "source": [
    "# Plot mean +- STD\n",
    "for c, d in enumerate(pandas.unique(Merged.Animal)):\n",
    "    plt.errorbar(numpy.mean(Merged.loc[Merged.Animal == d]['Day']) + 0.25 * c % 5,\n",
    "                 numpy.mean(Merged.loc[Merged.Animal == d]['Alveoli']),\n",
    "                 yerr=numpy.std(Merged.loc[Merged.Animal == d]['Alveoli']),\n",
    "                 fmt='o')\n",
    "    plt.xlabel('Day')\n",
    "    plt.ylabel('Alveoli')\n",
    "    plt.xlim([0, 65])\n",
    "plt.savefig(os.path.join(imgdir, 'mean_alveolis.png'), bbox_inches='tight')\n",
    "plt.show()"
   ]
  },
  {
   "cell_type": "code",
   "execution_count": null,
   "metadata": {
    "collapsed": true
   },
   "outputs": [],
   "source": []
  },
  {
   "cell_type": "code",
   "execution_count": null,
   "metadata": {
    "collapsed": true
   },
   "outputs": [],
   "source": []
  },
  {
   "cell_type": "code",
   "execution_count": null,
   "metadata": {
    "collapsed": true
   },
   "outputs": [],
   "source": []
  },
  {
   "cell_type": "code",
   "execution_count": null,
   "metadata": {
    "collapsed": true
   },
   "outputs": [],
   "source": []
  },
  {
   "cell_type": "code",
   "execution_count": null,
   "metadata": {
    "collapsed": true
   },
   "outputs": [],
   "source": []
  },
  {
   "cell_type": "markdown",
   "metadata": {},
   "source": [
    "----\n",
    "\n",
    "The stuff below is from an old version of the [Jupyter notebook](http://jupyter.org), please disregard it for the moment...\n",
    "\n",
    "----\n"
   ]
  },
  {
   "cell_type": "markdown",
   "metadata": {},
   "source": [
    "Johannes also compiled a list of the volumes and saved them in an XLS file.\n",
    "Let's load that, so that we can compare..."
   ]
  },
  {
   "cell_type": "code",
   "execution_count": null,
   "metadata": {
    "collapsed": true
   },
   "outputs": [],
   "source": [
    "# Read Volume data from Johannes' XLS-sheet\n",
    "Volumes = pandas.read_excel(pandas.ExcelFile(os.path.join(RootPath, 'JCS', 'Acinarvol-JCS171122.xlsx'), sheet='Acinarvol'),\n",
    "                        skiprows=19)\n"
   ]
  },
  {
   "cell_type": "code",
   "execution_count": null,
   "metadata": {
    "collapsed": true
   },
   "outputs": [],
   "source": [
    "# Drop the 'Unnamed' colums\n",
    "Volumes.drop(list(Volumes.filter(regex='Unnamed')), axis=1, inplace=True)\n",
    "# Drop the unnecessary columns\n",
    "Volumes.drop('4.5', axis=1, inplace=True)\n",
    "Volumes.drop('60.4', axis=1, inplace=True)"
   ]
  },
  {
   "cell_type": "code",
   "execution_count": null,
   "metadata": {
    "collapsed": true
   },
   "outputs": [],
   "source": [
    "# The data looks like that\n",
    "Volumes.head()"
   ]
  },
  {
   "cell_type": "code",
   "execution_count": null,
   "metadata": {
    "collapsed": true
   },
   "outputs": [],
   "source": [
    "# Replace the column names to something meaningful\n",
    "# Use some `regular expression` https://www.regular-expressions.info/anchors.html\n",
    "Volumes.rename(columns=lambda x: re.sub('^4', '04', str(x)), inplace=True)\n",
    "Volumes.rename(columns=lambda x: re.sub('\\.1$', 'B', str(x)), inplace=True)\n",
    "Volumes.rename(columns=lambda x: re.sub('\\.2$', 'C', str(x)), inplace=True)\n",
    "Volumes.rename(columns=lambda x: re.sub('\\.3$', 'D', str(x)), inplace=True)\n",
    "Volumes.rename(columns=lambda x: re.sub('\\.4$', 'E', str(x)), inplace=True)\n",
    "# https://stackoverflow.com/a/31697086/323100\n",
    "Volumes.rename(columns=lambda x: re.sub(r'\\b04\\b', '04A', str(x)), inplace=True)\n",
    "Volumes.rename(columns=lambda x: re.sub(r'\\b10\\b', '10A', str(x)), inplace=True)\n",
    "Volumes.rename(columns=lambda x: re.sub(r'\\b21\\b', '21A', str(x)), inplace=True)\n",
    "Volumes.rename(columns=lambda x: re.sub(r'\\b36\\b', '36A', str(x)), inplace=True)\n",
    "Volumes.rename(columns=lambda x: re.sub(r'\\b60\\b', '60A', str(x)), inplace=True)"
   ]
  },
  {
   "cell_type": "code",
   "execution_count": null,
   "metadata": {
    "collapsed": true
   },
   "outputs": [],
   "source": [
    "Volumes.head()"
   ]
  },
  {
   "cell_type": "code",
   "execution_count": null,
   "metadata": {
    "collapsed": true
   },
   "outputs": [],
   "source": [
    "# Generate a color palette to distinguish between postnatal days\n",
    "daycolor = [None] * len(Volumes.columns.values)\n",
    "day = [None] * len(Volumes.columns.values)\n",
    "for c,i in enumerate(Volumes.columns.values):\n",
    "    if int(i[:-1])==4:\n",
    "        day[c] = '04'\n",
    "        daycolor[c] = seaborn.color_palette()[0]\n",
    "    elif int(i[:-1])==10:\n",
    "        day[c] = '10'\n",
    "        daycolor[c] = seaborn.color_palette()[1]\n",
    "    elif int(i[:-1])==21:\n",
    "        day[c] = '21'\n",
    "        daycolor[c] = seaborn.color_palette()[2]\n",
    "    elif int(i[:-1])==36:\n",
    "        day[c] = '36'\n",
    "        daycolor[c] = seaborn.color_palette()[3]\n",
    "    else:\n",
    "        day[c] = '60'\n",
    "        daycolor[c] = seaborn.color_palette()[4]"
   ]
  },
  {
   "cell_type": "code",
   "execution_count": null,
   "metadata": {
    "collapsed": true
   },
   "outputs": [],
   "source": [
    "# Plot the volume data\n",
    "seaborn.violinplot(data=Volumes, cut=0, width=1, scale='count', palette=daycolor)\n",
    "seaborn.swarmplot(data=Volumes, alpha=0.618, linewidth=1, palette=daycolor)\n",
    "plt.title(\"Volumes from Johannes' XLS file\")\n",
    "plt.show()"
   ]
  },
  {
   "cell_type": "code",
   "execution_count": null,
   "metadata": {
    "collapsed": true
   },
   "outputs": [],
   "source": [
    "Volumes.describe()"
   ]
  },
  {
   "cell_type": "code",
   "execution_count": null,
   "metadata": {
    "collapsed": true
   },
   "outputs": [],
   "source": []
  },
  {
   "cell_type": "code",
   "execution_count": null,
   "metadata": {
    "collapsed": true
   },
   "outputs": [],
   "source": []
  },
  {
   "cell_type": "markdown",
   "metadata": {},
   "source": [
    "# Bridges\n",
    "Eveline also counted the [*bridges*](http://www.stereology.info/connectivity/) in the datasets.\n",
    "Tiziana cleaned this data up and saved it to an Excel file (`acini merge.xlsx`).\n",
    "We've made the file a bit more consistent (removing empty columns and rows, naming columns consistently, etc.) and work with this file (`acini merge_edit.xlsx`) below.\n",
    "\n",
    "Below we load this file and calculate the number of acini according to [our paper for day 60](http://jap.physiology.org/content/115/9/1379).\n",
    "The calculation for this paper was done in [MATLAB](https://www.mathworks.com/products/matlab.html)/[R](https://www.r-project.org/), nowadays I'm more handy with Python...\n",
    "\n",
    "I was not able to find the original calculation script on the ana.unibe.ch network drives, but I seem to have saved a copy of the calculation and insertion to the [LaTeX](https://www.latex-project.org/) manuscript file in a *very* old [GitHub repository here](https://github.com/habi/AcinusPaperCode/blob/master/AcinarSize/ReadVolumeSurfaceAndAlveaolarNumber.py)."
   ]
  },
  {
   "cell_type": "code",
   "execution_count": null,
   "metadata": {
    "collapsed": true
   },
   "outputs": [],
   "source": [
    "DataFile = pandas.ExcelFile('acini merge_edit.xlsx')\n",
    "print('The excel file contains the sheets:', end=' ')\n",
    "for i in DataFile.sheet_names:\n",
    "    print(i,end=', ')"
   ]
  },
  {
   "cell_type": "code",
   "execution_count": null,
   "metadata": {
    "collapsed": true
   },
   "outputs": [],
   "source": [
    "# Read the single sheets of the XLS file each into a dataframe\n",
    "D04 = DataFile.parse(DataFile.sheet_names[0])\n",
    "D10 = DataFile.parse(DataFile.sheet_names[1])\n",
    "D21 = DataFile.parse(DataFile.sheet_names[2])\n",
    "D60 = DataFile.parse(DataFile.sheet_names[3])"
   ]
  },
  {
   "cell_type": "code",
   "execution_count": null,
   "metadata": {
    "collapsed": true
   },
   "outputs": [],
   "source": [
    "# Rename 'Counts.' to 'Counts..0' (we use the Counts. counter later on)\n",
    "D04.rename(columns={'Counts':'Counts.0'}, inplace=True)\n",
    "D10.rename(columns={'Counts':'Counts.0'}, inplace=True)\n",
    "D21.rename(columns={'Counts':'Counts.0'}, inplace=True)\n",
    "D60.rename(columns={'Counts':'Counts.0'}, inplace=True)"
   ]
  },
  {
   "cell_type": "code",
   "execution_count": null,
   "metadata": {
    "collapsed": true
   },
   "outputs": [],
   "source": [
    "# For D60, Eveline counted only half of the images, we thus double the counts for this day.\n",
    "print('Original D60')\n",
    "print(D60.head())\n",
    "for i in range(3):\n",
    "    D60.iloc[:,2*i+1] =  D60.iloc[:,2*i+1] * 2\n",
    "print('\\nDouble the counts for D60')    \n",
    "print(D60.head())    "
   ]
  },
  {
   "cell_type": "markdown",
   "metadata": {},
   "source": [
    "We plot the data as [notched](https://en.wikipedia.org/wiki/Box_plot#Variations) boxplots.\n",
    "The notches give a rough guide to the significance of difference of medians; if the notches of two boxes do not overlap, this offers evidence of a statistically significant difference between the medians.\n",
    "On top of the boxplots we do a jittered scatterplot of the datapoints, to see the distribution of the data points."
   ]
  },
  {
   "cell_type": "code",
   "execution_count": null,
   "metadata": {
    "collapsed": true
   },
   "outputs": [],
   "source": [
    "#Plot the 'counts' from Eveline\n",
    "upper_limit=1350\n",
    "plt.subplot(141)\n",
    "seaborn.boxplot(data=D04.iloc[:,[1,3,5]], color=seaborn.color_palette()[0], notch=True)\n",
    "seaborn.swarmplot(data=D04.iloc[:,[1,3,5]], color=seaborn.color_palette()[0], size=10, facecolor='k', linewidth=1, alpha=0.5)\n",
    "plt.ylim([0,upper_limit])\n",
    "plt.xticks(range(3), [list(D04)[0], list(D04)[2], list(D04)[4]])\n",
    "plt.title('Counts. D04')\n",
    "plt.subplot(142)\n",
    "seaborn.boxplot(data=D10.iloc[:,[1,3,5]], color=seaborn.color_palette()[1], notch=True)\n",
    "seaborn.swarmplot(data=D10.iloc[:,[1,3,5]], color=seaborn.color_palette()[1], size=10, facecolor='k', linewidth=1, alpha=0.5)\n",
    "plt.ylim([0,upper_limit])\n",
    "plt.xticks(range(3), [list(D10)[0], list(D10)[2], list(D10)[4]])\n",
    "plt.title('Counts. D10')\n",
    "plt.subplot(143)\n",
    "seaborn.boxplot(data=D21.iloc[:,[1,3,5]], color=seaborn.color_palette()[2], notch=True)\n",
    "seaborn.swarmplot(data=D21.iloc[:,[1,3,5]], color=seaborn.color_palette()[2], size=10, facecolor='k', linewidth=1, alpha=0.5)\n",
    "plt.ylim([0,upper_limit])\n",
    "plt.xticks(range(3), [list(D21)[0], list(D21)[2], list(D21)[4]])\n",
    "plt.title('Counts. D21')\n",
    "plt.subplot(144)\n",
    "seaborn.boxplot(data=D60.iloc[:,[1,3,5]], color=seaborn.color_palette()[4], notch=True)\n",
    "seaborn.swarmplot(data=D60.iloc[:,[1,3,5]], color=seaborn.color_palette()[4], size=10, facecolor='k', linewidth=1, alpha=0.5)\n",
    "plt.ylim([0,upper_limit])\n",
    "plt.xticks(range(3), [list(D60)[0], list(D60)[2], list(D60)[4]])\n",
    "plt.title('Counts. D60')\n",
    "plt.show()"
   ]
  },
  {
   "cell_type": "code",
   "execution_count": null,
   "metadata": {
    "collapsed": true
   },
   "outputs": [],
   "source": [
    "# Divide the volume by the counts, add this as a column to the dataframes\n",
    "for i in range(3):\n",
    "    D04['Ratio.%s' % i] =  D04.iloc[:,2*i+1]/D04.iloc[:,2*i]\n",
    "    D10['Ratio.%s' % i] =  D10.iloc[:,2*i+1]/D10.iloc[:,2*i]\n",
    "    D21['Ratio.%s' % i] =  D21.iloc[:,2*i+1]/D21.iloc[:,2*i]\n",
    "    D60['Ratio.%s' % i] =  D60.iloc[:,2*i+1]/D60.iloc[:,2*i]"
   ]
  },
  {
   "cell_type": "code",
   "execution_count": null,
   "metadata": {
    "collapsed": true
   },
   "outputs": [],
   "source": [
    "D04.head()"
   ]
  },
  {
   "cell_type": "code",
   "execution_count": null,
   "metadata": {
    "collapsed": true
   },
   "outputs": [],
   "source": [
    "D10.head()"
   ]
  },
  {
   "cell_type": "code",
   "execution_count": null,
   "metadata": {
    "collapsed": true
   },
   "outputs": [],
   "source": [
    "D21.head()"
   ]
  },
  {
   "cell_type": "code",
   "execution_count": null,
   "metadata": {
    "collapsed": true
   },
   "outputs": [],
   "source": [
    "D60.head()"
   ]
  },
  {
   "cell_type": "code",
   "execution_count": null,
   "metadata": {
    "collapsed": true
   },
   "outputs": [],
   "source": [
    "# Plot the 'count per volume' ratio\n",
    "upper_limit = 9e3\n",
    "plt.subplot(141)\n",
    "seaborn.boxplot(data=D04.iloc[:,[6,7,8]], color=seaborn.color_palette()[0], notch=True)\n",
    "seaborn.swarmplot(data=D04.iloc[:,[6,7,8]], color=seaborn.color_palette()[0], size=10, facecolor='k', linewidth=1, alpha=0.5)\n",
    "plt.ylim([0,upper_limit])\n",
    "plt.xticks(range(3), [list(D04)[0], list(D04)[2], list(D04)[4]])\n",
    "plt.title('Counts. per volume D04')\n",
    "plt.subplot(142)\n",
    "seaborn.boxplot(data=D10.iloc[:,[6,7,8]], color=seaborn.color_palette()[1], notch=True)\n",
    "seaborn.swarmplot(data=D10.iloc[:,[6,7,8]], color=seaborn.color_palette()[1], size=10, facecolor='k', linewidth=1, alpha=0.5)\n",
    "plt.ylim([0,upper_limit])\n",
    "plt.xticks(range(3), [list(D10)[0], list(D10)[2], list(D10)[4]])\n",
    "plt.title('Counts. per volume D10')\n",
    "plt.subplot(143)\n",
    "seaborn.boxplot(data=D21.iloc[:,[6,7,8]], color=seaborn.color_palette()[2], notch=True)\n",
    "seaborn.swarmplot(data=D21.iloc[:,[6,7,8]], color=seaborn.color_palette()[2], size=10, facecolor='k', linewidth=1, alpha=0.5)\n",
    "plt.ylim([0,upper_limit])\n",
    "plt.xticks(range(3), [list(D21)[0], list(D21)[2], list(D21)[4]])\n",
    "plt.title('Counts. per volume D21')\n",
    "plt.subplot(144)\n",
    "seaborn.boxplot(data=D60.iloc[:,[6,7,8]], color=seaborn.color_palette()[4], notch=True)\n",
    "seaborn.swarmplot(data=D60.iloc[:,[6,7,8]], color=seaborn.color_palette()[4], size=10, facecolor='k', linewidth=1, alpha=0.5)\n",
    "plt.ylim([0,upper_limit])\n",
    "plt.xticks(range(3), [list(D60)[0], list(D60)[2], list(D60)[4]])\n",
    "plt.title('Counts. per volume D60')\n",
    "plt.show()"
   ]
  },
  {
   "cell_type": "code",
   "execution_count": null,
   "metadata": {
    "collapsed": true
   },
   "outputs": [],
   "source": [
    "# Setup (copied verbatim from (ReadVolumeSurfaceAndAlveaolarNumber.py)\n",
    "TOMCATVoxelSize = 1.48\n",
    "SliceNumber = 10  # every $SliceNumber slice was exported, thus needed for scaling \n",
    "DisectorThickness = 5 # slices\n",
    "ShrinkageFactor = 0.61 # Volume-Shrinkage-Factor = 61% with STD=5, calculated by Sébastien: Volume TOMCAT / Waterdisplacement"
   ]
  },
  {
   "cell_type": "code",
   "execution_count": null,
   "metadata": {
    "collapsed": true
   },
   "outputs": [],
   "source": [
    "# Hsiah2010 p. 407:\n",
    "# Counting the number of entrance rings in paired sections by the disector\n",
    "# technique allows estimation of total number of alveoli in the lung N(a,L) (112, 113).\n",
    "# N(a,L) is the product of the number of alveolar openings per unit parenchyma\n",
    "# volume (Sn/Vp) with the volume density of parenchyma per unit lung volume VV(p,L)\n",
    "# and the absolute lung volume:\n",
    "# N(a,L,) = (Sn/Vp) * VV(p,L) * V(L) (Formula 17)"
   ]
  },
  {
   "cell_type": "code",
   "execution_count": null,
   "metadata": {
    "collapsed": true
   },
   "outputs": [],
   "source": [
    "# We need the 'Area_Vol' from the STEPanizer-Files, it's in the line where we have 'a(p)'\n",
    "# Area_Vol = double(line[1])*STEPanizerPixelSize_Vol**2\n",
    "# We need the STEPanizer pixel size, it's in the line where we have 'Pixel size'\n",
    "STEPanizerPixelSize_Vol = 3.\n",
    "print('GET CORRECT AREA_VOL')\n",
    "Area_Vol = 2. * STEPanizerPixelSize_Vol**2\n",
    "AcinusTestPoints = 15\n",
    "\n",
    "\n",
    "# Volume = AcinusTestPoints * Area_Vol * STEPanizerPixelSize_Vol * SliceNumber * TOMCATVoxelSize\t\t\n",
    "AcinarVolumeSTEPanizer = (((AcinusTestPoints *\n",
    "                            Area_Vol *\n",
    "                            STEPanizerPixelSize_Vol *\n",
    "                            SliceNumber *\n",
    "                            TOMCATVoxelSize ) /\n",
    "                           ShrinkageFactor ) / 1e12 ) # scaling volume to cm^3: http://is.gd/wbZ81O"
   ]
  },
  {
   "cell_type": "code",
   "execution_count": null,
   "metadata": {
    "collapsed": true
   },
   "outputs": [],
   "source": [
    "# We need the 'Area_Alveoli' from the STEPanizer-Files, it's in the line where we have 'a(p)'\n",
    "# We need the STEPanizer pixel size, it's in the line where we have 'Pixel size'\n",
    "STEPanizerPixelSize_Alveoli = 3.\n",
    "print('GET CORRECT AREA_VOL')\n",
    "Area_Alveoli = 2. * STEPanizerPixelSize_Alveoli**2\n",
    "Counts = 15\n",
    "# Counts. are *all* counted bridges, (from a to b and from b to a). According \n",
    "# to Stefan, we thus have to double the disector volume. This is then the \n",
    "# volume density of the counts in said acinus.\n",
    "\n",
    "# From Evelyne we get the Counts per volume, see above.\n",
    "# These values go into the 'AlveolarFraction'\n",
    "# This is then multiplied by the volume of the acinus to get the number of alveoli in each acinus.\n",
    "# The volume is taken from the 'allcounts' or 'eveline' dataframes at the beginning.\n",
    "\n",
    "# AlveolarFraction = Counts / ( ( Area_Alveoli * ( DisectorThickness / ShrinkageFactor ) ) * 2 ) * 1e12 # Counts./cm^3\n",
    "# DisectorThickness = um, Area_Alveoli = um^2 -> 10^12 um^3 = 1 cm^3: http://is.gd/Cr6kUL\n",
    "for i in range(3):\n",
    "    D04['Alveolar fraction.%s' % i] = D04['Counts.%s' % i] / ((Area_Alveoli * (DisectorThickness / ShrinkageFactor)) * 2) * 1e12 # Counts/cm^3\n",
    "    D10['Alveolar fraction.%s' % i] = D10['Counts.%s' % i] / ((Area_Alveoli * (DisectorThickness / ShrinkageFactor)) * 2) * 1e12 # Counts/cm^3\n",
    "    D21['Alveolar fraction.%s' % i] = D21['Counts.%s' % i] / ((Area_Alveoli * (DisectorThickness / ShrinkageFactor)) * 2) * 1e12 # Counts/cm^3\n",
    "    D60['Alveolar fraction.%s' % i] = D60['Counts.%s' % i] / ((Area_Alveoli * (DisectorThickness / ShrinkageFactor)) * 2) * 1e12 # Counts/cm^3\n",
    "\n",
    "# NumberOfAlveoli = AlveolarFraction * AcinarVolumeSTEPanizer\n",
    "for i in range(3):\n",
    "    D04['NumAlveoli.%s' % i] = D04.iloc[:,2*i] * D04['Alveolar fraction.%s' % i]\n",
    "    D10['NumAlveoli.%s' % i] = D10.iloc[:,2*i] * D10['Alveolar fraction.%s' % i]\n",
    "    D21['NumAlveoli.%s' % i] = D21.iloc[:,2*i] * D21['Alveolar fraction.%s' % i]\n",
    "    D60['NumAlveoli.%s' % i] = D60.iloc[:,2*i] * D60['Alveolar fraction.%s' % i]"
   ]
  },
  {
   "cell_type": "code",
   "execution_count": null,
   "metadata": {
    "collapsed": true
   },
   "outputs": [],
   "source": [
    "D04.head()"
   ]
  },
  {
   "cell_type": "code",
   "execution_count": null,
   "metadata": {
    "collapsed": true
   },
   "outputs": [],
   "source": [
    "ymax = 9e10\n",
    "plt.subplot(141)\n",
    "seaborn.boxplot(data=D04.iloc[:,-3:], color=seaborn.color_palette()[0], notch=True)\n",
    "seaborn.swarmplot(data=D04.iloc[:,-3:], color=seaborn.color_palette()[0], size=10, facecolor='k', linewidth=1, alpha=0.5)\n",
    "plt.ylim([0, ymax])\n",
    "plt.xticks(range(3), [list(D04)[0], list(D04)[2], list(D04)[4]])\n",
    "plt.title('Day 4')\n",
    "plt.subplot(142)\n",
    "seaborn.boxplot(data=D10.iloc[:,-3:], color=seaborn.color_palette()[1], notch=True)\n",
    "seaborn.swarmplot(data=D10.iloc[:,-3:], color=seaborn.color_palette()[1], size=10, facecolor='k', linewidth=1, alpha=0.5)\n",
    "plt.ylim([0, ymax])\n",
    "plt.xticks(range(3), [list(D10)[0], list(D10)[2], list(D10)[4]])\n",
    "plt.title('Day 10')\n",
    "plt.subplot(143)\n",
    "seaborn.boxplot(data=D21.iloc[:,-3:], color=seaborn.color_palette()[2], notch=True)\n",
    "seaborn.swarmplot(data=D21.iloc[:,-3:], color=seaborn.color_palette()[2], size=10, facecolor='k', linewidth=1, alpha=0.5)\n",
    "plt.ylim([0, ymax])\n",
    "plt.xticks(range(3), [list(D21)[0], list(D21)[2], list(D21)[4]])\n",
    "plt.title('Day 21')\n",
    "plt.subplot(144)\n",
    "seaborn.boxplot(data=D60.iloc[:,-3:], color=seaborn.color_palette()[4], notch=True)\n",
    "seaborn.swarmplot(data=D60.iloc[:,-3:], color=seaborn.color_palette()[4], size=10, facecolor='k', linewidth=1, alpha=0.5)\n",
    "plt.ylim([0, ymax])\n",
    "plt.xticks(range(3), [list(D60)[0], list(D60)[2], list(D60)[4]])\n",
    "plt.title('Day 60')\n",
    "plt.show()"
   ]
  },
  {
   "cell_type": "code",
   "execution_count": null,
   "metadata": {
    "collapsed": true
   },
   "outputs": [],
   "source": []
  },
  {
   "cell_type": "code",
   "execution_count": null,
   "metadata": {
    "collapsed": true
   },
   "outputs": [],
   "source": []
  },
  {
   "cell_type": "code",
   "execution_count": null,
   "metadata": {
    "collapsed": true
   },
   "outputs": [],
   "source": []
  }
 ],
 "metadata": {
  "anaconda-cloud": {},
  "kernelspec": {
   "display_name": "Python 3",
   "language": "python",
   "name": "python3"
  },
  "language_info": {
   "codemirror_mode": {
    "name": "ipython",
    "version": 3
   },
   "file_extension": ".py",
   "mimetype": "text/x-python",
   "name": "python",
   "nbconvert_exporter": "python",
   "pygments_lexer": "ipython3",
   "version": "3.6.1"
  }
 },
 "nbformat": 4,
 "nbformat_minor": 1
}
